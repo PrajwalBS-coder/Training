{
 "cells": [
  {
   "cell_type": "code",
   "execution_count": 9,
   "id": "2d5e5164",
   "metadata": {},
   "outputs": [
    {
     "data": {
      "text/plain": [
       "14"
      ]
     },
     "execution_count": 9,
     "metadata": {},
     "output_type": "execute_result"
    }
   ],
   "source": [
    "import numpy as np\n",
    "import pandas as pd\n",
    "import math\n",
    "data = pd.read_csv(\"C:/Users/Prajwal Amin/Desktop/MCA/3RD SEM/AI & ML/LAB/temp.csv\")\n",
    "outlook = data['Outlook'].tolist()\n",
    "temp = data['Temperature'].tolist()\n",
    "humidity = data['Humidity'].tolist()\n",
    "windy = data['Wind'].tolist()\n",
    "play = data['Play'].tolist()\n",
    "ycount = 0\n",
    "ncount = 0\n",
    "for i in play:\n",
    "    if i == 'yes':\n",
    "        ycount+= 1   \n",
    "    else:\n",
    "        ncount+= 1 \n",
    "        totalcount = ycount+ncount\n",
    "\n",
    "totalcount"
   ]
  },
  {
   "cell_type": "code",
   "execution_count": 11,
   "id": "5b2155e8",
   "metadata": {},
   "outputs": [
    {
     "data": {
      "text/plain": [
       "0.6428571428571429"
      ]
     },
     "execution_count": 11,
     "metadata": {},
     "output_type": "execute_result"
    }
   ],
   "source": [
    "ps=ycount/totalcount\n",
    "ps"
   ]
  },
  {
   "cell_type": "code",
   "execution_count": 12,
   "id": "3a551b5d",
   "metadata": {},
   "outputs": [
    {
     "data": {
      "text/plain": [
       "0.35714285714285715"
      ]
     },
     "execution_count": 12,
     "metadata": {},
     "output_type": "execute_result"
    }
   ],
   "source": [
    "pn=ncount/totalcount\n",
    "pn"
   ]
  },
  {
   "cell_type": "code",
   "execution_count": 18,
   "id": "0d9339a9",
   "metadata": {},
   "outputs": [
    {
     "data": {
      "text/plain": [
       "0.2222222222222222"
      ]
     },
     "execution_count": 18,
     "metadata": {},
     "output_type": "execute_result"
    }
   ],
   "source": [
    "sscount = 0\n",
    "sncount = 0\n",
    "oscount = 0\n",
    "oncount = 0\n",
    "rscount = 0\n",
    "rncount = 0\n",
    "for i, j in zip(outlook, play):\n",
    "    if i == \"sunny\" and j == \"yes\":\n",
    "        sscount+= 1\n",
    "    elif i == \"sunny\" and j == \"no\":\n",
    "        sncount+= 1\n",
    "    elif i == \"overcast\" and j == \"yes\":\n",
    "        oscount+= 1\n",
    "    elif i == \"overcast\" and j == \"no\":\n",
    "        oncount+= 1\n",
    "    elif i == \"rain\" and j == \"yes\":\n",
    "        rscount+= 1\n",
    "    else:\n",
    "        rncount+= 1\n",
    "totscount = sscount+sncount\n",
    "totocount = oscount+oncount\n",
    "totrcount = rscount+rncount\n",
    "\n",
    "oss=sscount/ycount\n",
    "oss"
   ]
  },
  {
   "cell_type": "code",
   "execution_count": 19,
   "id": "e8dea047",
   "metadata": {},
   "outputs": [
    {
     "data": {
      "text/plain": [
       "0.6"
      ]
     },
     "execution_count": 19,
     "metadata": {},
     "output_type": "execute_result"
    }
   ],
   "source": [
    "osn=sncount/ncount\n",
    "osn"
   ]
  },
  {
   "cell_type": "code",
   "execution_count": 20,
   "id": "855727c2",
   "metadata": {},
   "outputs": [
    {
     "data": {
      "text/plain": [
       "0.4444444444444444"
      ]
     },
     "execution_count": 20,
     "metadata": {},
     "output_type": "execute_result"
    }
   ],
   "source": [
    "oos=oscount/ycount\n",
    "oos"
   ]
  },
  {
   "cell_type": "code",
   "execution_count": 21,
   "id": "48b30e95",
   "metadata": {},
   "outputs": [
    {
     "data": {
      "text/plain": [
       "0.0"
      ]
     },
     "execution_count": 21,
     "metadata": {},
     "output_type": "execute_result"
    }
   ],
   "source": [
    "oon=oncount/ncount\n",
    "oon"
   ]
  },
  {
   "cell_type": "code",
   "execution_count": 22,
   "id": "91c587ac",
   "metadata": {},
   "outputs": [
    {
     "data": {
      "text/plain": [
       "0.3333333333333333"
      ]
     },
     "execution_count": 22,
     "metadata": {},
     "output_type": "execute_result"
    }
   ],
   "source": [
    "ors=rscount/ycount\n",
    "ors"
   ]
  },
  {
   "cell_type": "code",
   "execution_count": 23,
   "id": "903d9cf3",
   "metadata": {},
   "outputs": [
    {
     "data": {
      "text/plain": [
       "0.4"
      ]
     },
     "execution_count": 23,
     "metadata": {},
     "output_type": "execute_result"
    }
   ],
   "source": [
    "orn=rncount/ncount\n",
    "orn"
   ]
  },
  {
   "cell_type": "code",
   "execution_count": 24,
   "id": "b85a61c6",
   "metadata": {},
   "outputs": [
    {
     "data": {
      "text/plain": [
       "0.3333333333333333"
      ]
     },
     "execution_count": 24,
     "metadata": {},
     "output_type": "execute_result"
    }
   ],
   "source": [
    "highscount = 0\n",
    "highncount = 0\n",
    "normalscount = 0\n",
    "normalncount = 0\n",
    "for i, j in zip(humidity, play):\n",
    "    if i == \"high\" and j == \"yes\":\n",
    "        highscount+= 1\n",
    "    elif i == \"high\" and j == \"no\":\n",
    "        highncount+= 1\n",
    "    elif i == \"normal\" and j == \"yes\":\n",
    "        normalscount+= 1\n",
    "    else:\n",
    "        normalncount+= 1\n",
    "        \n",
    "hhs=highscount/ycount\n",
    "hhs        "
   ]
  },
  {
   "cell_type": "code",
   "execution_count": 25,
   "id": "351e1c18",
   "metadata": {},
   "outputs": [
    {
     "data": {
      "text/plain": [
       "0.8"
      ]
     },
     "execution_count": 25,
     "metadata": {},
     "output_type": "execute_result"
    }
   ],
   "source": [
    "hhn=highncount/ncount\n",
    "hhn"
   ]
  },
  {
   "cell_type": "code",
   "execution_count": 26,
   "id": "734e1b9b",
   "metadata": {},
   "outputs": [
    {
     "data": {
      "text/plain": [
       "0.6666666666666666"
      ]
     },
     "execution_count": 26,
     "metadata": {},
     "output_type": "execute_result"
    }
   ],
   "source": [
    "hns=normalscount/ycount\n",
    "hns"
   ]
  },
  {
   "cell_type": "code",
   "execution_count": 27,
   "id": "69dd198c",
   "metadata": {},
   "outputs": [
    {
     "data": {
      "text/plain": [
       "0.2"
      ]
     },
     "execution_count": 27,
     "metadata": {},
     "output_type": "execute_result"
    }
   ],
   "source": [
    "hnn=normalncount/ncount\n",
    "hnn"
   ]
  },
  {
   "cell_type": "code",
   "execution_count": 28,
   "id": "5ce3a215",
   "metadata": {},
   "outputs": [
    {
     "data": {
      "text/plain": [
       "0.2222222222222222"
      ]
     },
     "execution_count": 28,
     "metadata": {},
     "output_type": "execute_result"
    }
   ],
   "source": [
    "hscount = 0\n",
    "hncount = 0\n",
    "cscount = 0\n",
    "cncount = 0\n",
    "mscount = 0\n",
    "mncount = 0\n",
    "for i, j in zip(temp, play):\n",
    "    if i == \"hot\" and j == \"yes\":\n",
    "        hscount+= 1\n",
    "    elif i == \"hot\" and j == \"no\":\n",
    "        hncount+= 1\n",
    "    elif i == \"cool\" and j == \"yes\":\n",
    "        cscount+= 1\n",
    "    elif i == \"cool\" and j == \"no\":\n",
    "        cncount+= 1\n",
    "    elif i == \"mild\" and j == \"yes\":\n",
    "        mscount+= 1\n",
    "    else:\n",
    "        mncount+= 1\n",
    "        \n",
    "ths=hscount/ycount\n",
    "ths        "
   ]
  },
  {
   "cell_type": "code",
   "execution_count": 29,
   "id": "4e86a7af",
   "metadata": {},
   "outputs": [
    {
     "data": {
      "text/plain": [
       "0.4"
      ]
     },
     "execution_count": 29,
     "metadata": {},
     "output_type": "execute_result"
    }
   ],
   "source": [
    "thn=hncount/ncount\n",
    "thn"
   ]
  },
  {
   "cell_type": "code",
   "execution_count": 30,
   "id": "d50ae834",
   "metadata": {},
   "outputs": [
    {
     "data": {
      "text/plain": [
       "0.4444444444444444"
      ]
     },
     "execution_count": 30,
     "metadata": {},
     "output_type": "execute_result"
    }
   ],
   "source": [
    "tms=mscount/ycount\n",
    "tms"
   ]
  },
  {
   "cell_type": "code",
   "execution_count": 31,
   "id": "3aeb7c31",
   "metadata": {},
   "outputs": [
    {
     "data": {
      "text/plain": [
       "0.4"
      ]
     },
     "execution_count": 31,
     "metadata": {},
     "output_type": "execute_result"
    }
   ],
   "source": [
    "tmn=mncount/ncount\n",
    "tmn"
   ]
  },
  {
   "cell_type": "code",
   "execution_count": 32,
   "id": "1372ab2a",
   "metadata": {},
   "outputs": [
    {
     "data": {
      "text/plain": [
       "0.3333333333333333"
      ]
     },
     "execution_count": 32,
     "metadata": {},
     "output_type": "execute_result"
    }
   ],
   "source": [
    "tcs=cscount/ycount\n",
    "tcs"
   ]
  },
  {
   "cell_type": "code",
   "execution_count": 33,
   "id": "8577d25f",
   "metadata": {},
   "outputs": [
    {
     "data": {
      "text/plain": [
       "0.2"
      ]
     },
     "execution_count": 33,
     "metadata": {},
     "output_type": "execute_result"
    }
   ],
   "source": [
    "tcn=cncount/ncount\n",
    "tcn"
   ]
  },
  {
   "cell_type": "code",
   "execution_count": 34,
   "id": "3c484794",
   "metadata": {},
   "outputs": [
    {
     "data": {
      "text/plain": [
       "0.3333333333333333"
      ]
     },
     "execution_count": 34,
     "metadata": {},
     "output_type": "execute_result"
    }
   ],
   "source": [
    "strongscount = 0\n",
    "strongncount = 0\n",
    "weakscount = 0\n",
    "weakncount = 0\n",
    "for i, j in zip(windy, play):\n",
    "    if i == \"strong\" and j == \"yes\":\n",
    "        strongscount+= 1\n",
    "    elif i == \"strong\" and j == \"no\":\n",
    "        strongncount+= 1\n",
    "    elif i == \"weak\" and j == \"yes\":\n",
    "        weakscount+= 1\n",
    "    else:\n",
    "        weakncount+= 1\n",
    "wss= strongscount/ycount\n",
    "wss"
   ]
  },
  {
   "cell_type": "code",
   "execution_count": 35,
   "id": "c64ac6d4",
   "metadata": {},
   "outputs": [
    {
     "data": {
      "text/plain": [
       "0.6"
      ]
     },
     "execution_count": 35,
     "metadata": {},
     "output_type": "execute_result"
    }
   ],
   "source": [
    "wsn=strongncount/ncount\n",
    "wsn"
   ]
  },
  {
   "cell_type": "code",
   "execution_count": 36,
   "id": "f2264b20",
   "metadata": {},
   "outputs": [
    {
     "data": {
      "text/plain": [
       "0.6666666666666666"
      ]
     },
     "execution_count": 36,
     "metadata": {},
     "output_type": "execute_result"
    }
   ],
   "source": [
    "wws=weakscount/ycount\n",
    "wws"
   ]
  },
  {
   "cell_type": "code",
   "execution_count": 37,
   "id": "eced8ef2",
   "metadata": {},
   "outputs": [
    {
     "data": {
      "text/plain": [
       "0.4"
      ]
     },
     "execution_count": 37,
     "metadata": {},
     "output_type": "execute_result"
    }
   ],
   "source": [
    "wwn=weakncount/ncount\n",
    "wwn"
   ]
  },
  {
   "cell_type": "code",
   "execution_count": 38,
   "id": "1ec50ff4",
   "metadata": {},
   "outputs": [
    {
     "data": {
      "text/plain": [
       "0.005291005291005291"
      ]
     },
     "execution_count": 38,
     "metadata": {},
     "output_type": "execute_result"
    }
   ],
   "source": [
    "ni=ps*oss*tcs*hhs*wss\n",
    "ni"
   ]
  },
  {
   "cell_type": "code",
   "execution_count": 39,
   "id": "5baf7390",
   "metadata": {},
   "outputs": [
    {
     "data": {
      "text/plain": [
       "0.02057142857142857"
      ]
     },
     "execution_count": 39,
     "metadata": {},
     "output_type": "execute_result"
    }
   ],
   "source": [
    "nni=pn*osn*tcn*hhn*wsn\n",
    "nni"
   ]
  },
  {
   "cell_type": "code",
   "execution_count": 40,
   "id": "90f4bdf5",
   "metadata": {},
   "outputs": [
    {
     "data": {
      "text/plain": [
       "0.02057142857142857"
      ]
     },
     "execution_count": 40,
     "metadata": {},
     "output_type": "execute_result"
    }
   ],
   "source": [
    "a=max(ni,nni)\n",
    "a"
   ]
  },
  {
   "cell_type": "code",
   "execution_count": 41,
   "id": "2a4f7a9c",
   "metadata": {},
   "outputs": [
    {
     "data": {
      "text/plain": [
       "0.20458265139116202"
      ]
     },
     "execution_count": 41,
     "metadata": {},
     "output_type": "execute_result"
    }
   ],
   "source": [
    "vns=ni/(ni+nni)\n",
    "vns"
   ]
  },
  {
   "cell_type": "code",
   "execution_count": 42,
   "id": "6613d5ca",
   "metadata": {},
   "outputs": [
    {
     "data": {
      "text/plain": [
       "0.795417348608838"
      ]
     },
     "execution_count": 42,
     "metadata": {},
     "output_type": "execute_result"
    }
   ],
   "source": [
    "vnn=nni/(ni+nni)\n",
    "vnn"
   ]
  },
  {
   "cell_type": "code",
   "execution_count": 44,
   "id": "b4d5882f",
   "metadata": {},
   "outputs": [
    {
     "name": "stdout",
     "output_type": "stream",
     "text": [
      "No\n"
     ]
    }
   ],
   "source": [
    "if(vns>vnn):\n",
    "    print(\"Yes\")\n",
    "else:\n",
    "    print(\"No\")"
   ]
  },
  {
   "cell_type": "code",
   "execution_count": null,
   "id": "bfdaee19",
   "metadata": {},
   "outputs": [],
   "source": []
  }
 ],
 "metadata": {
  "kernelspec": {
   "display_name": "Python 3",
   "language": "python",
   "name": "python3"
  },
  "language_info": {
   "codemirror_mode": {
    "name": "ipython",
    "version": 3
   },
   "file_extension": ".py",
   "mimetype": "text/x-python",
   "name": "python",
   "nbconvert_exporter": "python",
   "pygments_lexer": "ipython3",
   "version": "3.8.8"
  }
 },
 "nbformat": 4,
 "nbformat_minor": 5
}
