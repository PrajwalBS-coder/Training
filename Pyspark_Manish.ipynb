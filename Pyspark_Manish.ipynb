{
  "nbformat": 4,
  "nbformat_minor": 0,
  "metadata": {
    "colab": {
      "provenance": []
    },
    "kernelspec": {
      "name": "python3",
      "display_name": "Python 3"
    },
    "language_info": {
      "name": "python"
    }
  },
  "cells": [
    {
      "cell_type": "code",
      "execution_count": null,
      "metadata": {
        "colab": {
          "base_uri": "https://localhost:8080/"
        },
        "id": "_1ChiJewh3Su",
        "outputId": "a98035a5-85a0-4ac9-dd62-2b151e625d9c"
      },
      "outputs": [
        {
          "output_type": "stream",
          "name": "stdout",
          "text": [
            "Mounted at /content/drive\n"
          ]
        }
      ],
      "source": [
        "from google.colab import drive\n",
        "drive.mount('/content/drive')"
      ]
    },
    {
      "cell_type": "code",
      "source": [
        "!apt-get install openjdk-8-jdk-headless -qq > /dev/null"
      ],
      "metadata": {
        "id": "KEWmdk67jB0e"
      },
      "execution_count": null,
      "outputs": []
    },
    {
      "cell_type": "code",
      "source": [
        "!wget -q https://dlcdn.apache.org/spark/spark-3.3.0/spark-3.3.0-bin-hadoop3.tgz\n"
      ],
      "metadata": {
        "id": "HVwqdTfNjB3o"
      },
      "execution_count": null,
      "outputs": []
    },
    {
      "cell_type": "code",
      "source": [
        "!tar xf spark-3.3.0-bin-hadoop3.tgz\n"
      ],
      "metadata": {
        "id": "L8cEp9YylTc_"
      },
      "execution_count": null,
      "outputs": []
    },
    {
      "cell_type": "code",
      "source": [
        "!pip install -q findspark"
      ],
      "metadata": {
        "id": "SzY2fLPDnvsi"
      },
      "execution_count": null,
      "outputs": []
    },
    {
      "cell_type": "code",
      "source": [
        "import os\n",
        "os.environ[\"JAVA_HOME\"] = \"/usr/lib/jvm/java-8-openjdk-amd64\"\n",
        "os.environ[\"SPARK_HOME\"] = \"/content/spark-3.3.0-bin-hadoop3\""
      ],
      "metadata": {
        "id": "VVat7PRBnwFQ"
      },
      "execution_count": null,
      "outputs": []
    },
    {
      "cell_type": "code",
      "source": [
        "import findspark\n",
        "findspark.init()"
      ],
      "metadata": {
        "id": "e3n5qOIKnwPv"
      },
      "execution_count": null,
      "outputs": []
    },
    {
      "cell_type": "code",
      "source": [
        "findspark.find()"
      ],
      "metadata": {
        "colab": {
          "base_uri": "https://localhost:8080/",
          "height": 35
        },
        "id": "1KgIJ5HAnwS3",
        "outputId": "47512838-3eee-4399-aba2-b8f97191fe57"
      },
      "execution_count": null,
      "outputs": [
        {
          "output_type": "execute_result",
          "data": {
            "text/plain": [
              "'/content/spark-3.3.0-bin-hadoop3'"
            ],
            "application/vnd.google.colaboratory.intrinsic+json": {
              "type": "string"
            }
          },
          "metadata": {},
          "execution_count": 8
        }
      ]
    },
    {
      "cell_type": "code",
      "source": [
        "from pyspark.sql import SparkSession\n",
        "\n",
        "spark = SparkSession.builder.master(\"local\").appName(\"abc\").config('spark.ui.port', '4050').getOrCreate()"
      ],
      "metadata": {
        "id": "PHOt1RrmorvV"
      },
      "execution_count": null,
      "outputs": []
    },
    {
      "cell_type": "code",
      "source": [
        "!pip install pyspark"
      ],
      "metadata": {
        "colab": {
          "base_uri": "https://localhost:8080/",
          "height": 367
        },
        "id": "hTwfjJSgYmkx",
        "outputId": "6363d543-5004-45ae-d675-58f544d7f718"
      },
      "execution_count": null,
      "outputs": [
        {
          "output_type": "stream",
          "name": "stdout",
          "text": [
            "Looking in indexes: https://pypi.org/simple, https://us-python.pkg.dev/colab-wheels/public/simple/\n",
            "Collecting pyspark\n",
            "  Downloading pyspark-3.3.0.tar.gz (281.3 MB)\n",
            "\u001b[K     |████████████████████████████████| 281.3 MB 46 kB/s \n",
            "\u001b[?25hCollecting py4j==0.10.9.5\n",
            "  Downloading py4j-0.10.9.5-py2.py3-none-any.whl (199 kB)\n",
            "\u001b[K     |████████████████████████████████| 199 kB 64.1 MB/s \n",
            "\u001b[?25hBuilding wheels for collected packages: pyspark\n",
            "  Building wheel for pyspark (setup.py) ... \u001b[?25l\u001b[?25hdone\n",
            "  Created wheel for pyspark: filename=pyspark-3.3.0-py2.py3-none-any.whl size=281764026 sha256=09fd0c9a3b939356109fbe06e43cae94985d503e6e0931c3cb5c40c04091c2ce\n",
            "  Stored in directory: /root/.cache/pip/wheels/7a/8e/1b/f73a52650d2e5f337708d9f6a1750d451a7349a867f928b885\n",
            "Successfully built pyspark\n",
            "Installing collected packages: py4j, pyspark\n",
            "Successfully installed py4j-0.10.9.5 pyspark-3.3.0\n"
          ]
        },
        {
          "output_type": "display_data",
          "data": {
            "application/vnd.colab-display-data+json": {
              "pip_warning": {
                "packages": [
                  "py4j",
                  "pyspark"
                ]
              }
            }
          },
          "metadata": {}
        }
      ]
    },
    {
      "cell_type": "code",
      "source": [
        "spark"
      ],
      "metadata": {
        "colab": {
          "base_uri": "https://localhost:8080/",
          "height": 219
        },
        "id": "9X365MD-ory5",
        "outputId": "8cdc0380-5480-485a-cc50-f3a9a1aedd81"
      },
      "execution_count": null,
      "outputs": [
        {
          "output_type": "execute_result",
          "data": {
            "text/plain": [
              "<pyspark.sql.session.SparkSession at 0x7f26567aebd0>"
            ],
            "text/html": [
              "\n",
              "            <div>\n",
              "                <p><b>SparkSession - in-memory</b></p>\n",
              "                \n",
              "        <div>\n",
              "            <p><b>SparkContext</b></p>\n",
              "\n",
              "            <p><a href=\"http://da6e35493414:4050\">Spark UI</a></p>\n",
              "\n",
              "            <dl>\n",
              "              <dt>Version</dt>\n",
              "                <dd><code>v3.3.0</code></dd>\n",
              "              <dt>Master</dt>\n",
              "                <dd><code>local</code></dd>\n",
              "              <dt>AppName</dt>\n",
              "                <dd><code>abc</code></dd>\n",
              "            </dl>\n",
              "        </div>\n",
              "        \n",
              "            </div>\n",
              "        "
            ]
          },
          "metadata": {},
          "execution_count": 11
        }
      ]
    },
    {
      "cell_type": "code",
      "source": [
        "import pandas as pd\n",
        "from pyspark.sql import SparkSession\n",
        "spark = SparkSession.builder.appName('sample').getOrCreate()\n",
        "df=spark.createDataFrame(data=[(1,2,3),(4,5,6),(3,2,1)\\\n",
        "                              ,(6,1,-4),(0,2,-2),(6,4,1)\\\n",
        "                              ,(4,5,2),(5,-3,-5),(6,4,-1)]\\\n",
        "                              ,schema=['x1','x2','x3'])\n",
        "df.printSchema()\n",
        "\n"
      ],
      "metadata": {
        "colab": {
          "base_uri": "https://localhost:8080/"
        },
        "id": "mAQ_382OVbeZ",
        "outputId": "b574b44c-a59b-4741-ac6d-5c2e33b26cfc"
      },
      "execution_count": null,
      "outputs": [
        {
          "output_type": "stream",
          "name": "stdout",
          "text": [
            "root\n",
            " |-- x1: long (nullable = true)\n",
            " |-- x2: long (nullable = true)\n",
            " |-- x3: long (nullable = true)\n",
            "\n"
          ]
        }
      ]
    },
    {
      "cell_type": "code",
      "source": [
        "df.show()"
      ],
      "metadata": {
        "colab": {
          "base_uri": "https://localhost:8080/"
        },
        "id": "nZFuoBzlEZpK",
        "outputId": "9ad7184e-e757-4bd5-cc1b-ce4c78440963"
      },
      "execution_count": null,
      "outputs": [
        {
          "output_type": "stream",
          "name": "stdout",
          "text": [
            "+---+---+---+\n",
            "| x1| x2| x3|\n",
            "+---+---+---+\n",
            "|  1|  2|  3|\n",
            "|  4|  5|  6|\n",
            "|  3|  2|  1|\n",
            "|  6|  1| -4|\n",
            "|  0|  2| -2|\n",
            "|  6|  4|  1|\n",
            "|  4|  5|  2|\n",
            "|  5| -3| -5|\n",
            "|  6|  4| -1|\n",
            "+---+---+---+\n",
            "\n"
          ]
        }
      ]
    },
    {
      "cell_type": "code",
      "source": [
        "import pandas as pd    \n",
        "data = [['Scott', 50], ['Jeff', 45], ['Thomas', 54],['Ann',34]] \n",
        "  \n",
        "# Create the pandas DataFrame \n",
        "pandasDF = pd.DataFrame(data, columns = ['Name', 'Age']) \n",
        "  \n",
        "# print dataframe. \n",
        "print(pandasDF)"
      ],
      "metadata": {
        "colab": {
          "base_uri": "https://localhost:8080/"
        },
        "id": "fyzvamIaVbhY",
        "outputId": "bdd7be1b-e915-4c71-9a03-526cde77518f"
      },
      "execution_count": null,
      "outputs": [
        {
          "output_type": "stream",
          "name": "stdout",
          "text": [
            "     Name  Age\n",
            "0   Scott   50\n",
            "1    Jeff   45\n",
            "2  Thomas   54\n",
            "3     Ann   34\n"
          ]
        }
      ]
    },
    {
      "cell_type": "code",
      "source": [
        "from pyspark.sql import SparkSession\n",
        "spark = SparkSession.builder.master(\"local[1]\").appName(\"I1\").getOrCreate()\n",
        "\n",
        "sparkDF=spark.createDataFrame(pandasDF) \n",
        "sparkDF.printSchema()\n",
        "sparkDF.show()"
      ],
      "metadata": {
        "colab": {
          "base_uri": "https://localhost:8080/"
        },
        "id": "Mc2egiVVVbkS",
        "outputId": "723c14ad-3075-4dc8-9d85-49e88b5cbc49"
      },
      "execution_count": null,
      "outputs": [
        {
          "output_type": "stream",
          "name": "stdout",
          "text": [
            "root\n",
            " |-- Name: string (nullable = true)\n",
            " |-- Age: long (nullable = true)\n",
            "\n",
            "+------+---+\n",
            "|  Name|Age|\n",
            "+------+---+\n",
            "| Scott| 50|\n",
            "|  Jeff| 45|\n",
            "|Thomas| 54|\n",
            "|   Ann| 34|\n",
            "+------+---+\n",
            "\n"
          ]
        }
      ]
    },
    {
      "cell_type": "code",
      "source": [
        "from pyspark.sql.types import StructType,StructField, StringType, IntegerType\n",
        "mySchema = StructType([ StructField(\"First Name\", StringType(), True)\\\n",
        "                       ,StructField(\"Age\", IntegerType(), True)])\n",
        "\n",
        "sparkDF2 = spark.createDataFrame(pandasDF,schema=mySchema)\n",
        "sparkDF2.printSchema()\n",
        "sparkDF2.show()"
      ],
      "metadata": {
        "colab": {
          "base_uri": "https://localhost:8080/"
        },
        "id": "vvjIJZhfVbnW",
        "outputId": "1813fb3b-faa5-42ec-935a-a70401cbdcba"
      },
      "execution_count": null,
      "outputs": [
        {
          "output_type": "stream",
          "name": "stdout",
          "text": [
            "root\n",
            " |-- First Name: string (nullable = true)\n",
            " |-- Age: integer (nullable = true)\n",
            "\n",
            "+----------+---+\n",
            "|First Name|Age|\n",
            "+----------+---+\n",
            "|     Scott| 50|\n",
            "|      Jeff| 45|\n",
            "|    Thomas| 54|\n",
            "|       Ann| 34|\n",
            "+----------+---+\n",
            "\n"
          ]
        }
      ]
    },
    {
      "cell_type": "code",
      "source": [
        "from pyspark.sql import SparkSession\n",
        "\n",
        "spark = SparkSession.builder.appName('eybangalore').getOrCreate()\n",
        "\n",
        "from pyspark.sql.functions import col,expr\n",
        "\n",
        "data=[(\"2019-01-23\",1),(\"2019-06-24\",2),(\"2019-09-20\",3)]\n",
        "\n",
        "spark.createDataFrame(data).toDF(\"date\",\"increment\").select(col(\"date\"),col(\"increment\"),expr(\"add_months(to_date(date,'yyyy-MM-dd'),cast(increment as int))\").alias(\"inc_date\")) \\\n",
        "    .show()"
      ],
      "metadata": {
        "colab": {
          "base_uri": "https://localhost:8080/"
        },
        "id": "0Sl7KFRBVbqO",
        "outputId": "f384499b-233c-43af-cfb4-3431bf252852"
      },
      "execution_count": null,
      "outputs": [
        {
          "output_type": "stream",
          "name": "stdout",
          "text": [
            "+----------+---------+----------+\n",
            "|      date|increment|  inc_date|\n",
            "+----------+---------+----------+\n",
            "|2019-01-23|        1|2019-02-23|\n",
            "|2019-06-24|        2|2019-08-24|\n",
            "|2019-09-20|        3|2019-12-20|\n",
            "+----------+---------+----------+\n",
            "\n"
          ]
        }
      ]
    },
    {
      "cell_type": "code",
      "source": [
        "from pyspark.sql import SparkSession\n",
        "\n",
        "spark = SparkSession.builder.appName('IBM3').getOrCreate()\n",
        "\n",
        "from pyspark.sql.functions import col,expr\n",
        "\n",
        "data=[(\"2019-01-23\",1),(\"2019-06-24\",2),(\"2019-09-20\",3)]\n",
        "\n",
        "spark.createDataFrame(data).toDF(\"date\",\"increment\").select(col(\"date\"),col(\"increment\"),expr(\"date_add(to_date(date,'yyyy-MM-dd'),increment)\").alias(\"inc_date\")) \\\n",
        "    .show()"
      ],
      "metadata": {
        "colab": {
          "base_uri": "https://localhost:8080/",
          "height": 522
        },
        "id": "2MgSVhDvfOGX",
        "outputId": "a3bbbf2a-33e0-406c-9540-76600e362a69"
      },
      "execution_count": null,
      "outputs": [
        {
          "output_type": "error",
          "ename": "AnalysisException",
          "evalue": "ignored",
          "traceback": [
            "\u001b[0;31m---------------------------------------------------------------------------\u001b[0m",
            "\u001b[0;31mAnalysisException\u001b[0m                         Traceback (most recent call last)",
            "\u001b[0;32m<ipython-input-22-4ea823c1533e>\u001b[0m in \u001b[0;36m<module>\u001b[0;34m\u001b[0m\n\u001b[1;32m      7\u001b[0m \u001b[0mdata\u001b[0m\u001b[0;34m=\u001b[0m\u001b[0;34m[\u001b[0m\u001b[0;34m(\u001b[0m\u001b[0;34m\"2019-01-23\"\u001b[0m\u001b[0;34m,\u001b[0m\u001b[0;36m1\u001b[0m\u001b[0;34m)\u001b[0m\u001b[0;34m,\u001b[0m\u001b[0;34m(\u001b[0m\u001b[0;34m\"2019-06-24\"\u001b[0m\u001b[0;34m,\u001b[0m\u001b[0;36m2\u001b[0m\u001b[0;34m)\u001b[0m\u001b[0;34m,\u001b[0m\u001b[0;34m(\u001b[0m\u001b[0;34m\"2019-09-20\"\u001b[0m\u001b[0;34m,\u001b[0m\u001b[0;36m3\u001b[0m\u001b[0;34m)\u001b[0m\u001b[0;34m]\u001b[0m\u001b[0;34m\u001b[0m\u001b[0;34m\u001b[0m\u001b[0m\n\u001b[1;32m      8\u001b[0m \u001b[0;34m\u001b[0m\u001b[0m\n\u001b[0;32m----> 9\u001b[0;31m \u001b[0mspark\u001b[0m\u001b[0;34m.\u001b[0m\u001b[0mcreateDataFrame\u001b[0m\u001b[0;34m(\u001b[0m\u001b[0mdata\u001b[0m\u001b[0;34m)\u001b[0m\u001b[0;34m.\u001b[0m\u001b[0mtoDF\u001b[0m\u001b[0;34m(\u001b[0m\u001b[0;34m\"date\"\u001b[0m\u001b[0;34m,\u001b[0m\u001b[0;34m\"increment\"\u001b[0m\u001b[0;34m)\u001b[0m\u001b[0;34m.\u001b[0m\u001b[0mselect\u001b[0m\u001b[0;34m(\u001b[0m\u001b[0mcol\u001b[0m\u001b[0;34m(\u001b[0m\u001b[0;34m\"date\"\u001b[0m\u001b[0;34m)\u001b[0m\u001b[0;34m,\u001b[0m\u001b[0mcol\u001b[0m\u001b[0;34m(\u001b[0m\u001b[0;34m\"increment\"\u001b[0m\u001b[0;34m)\u001b[0m\u001b[0;34m,\u001b[0m\u001b[0mexpr\u001b[0m\u001b[0;34m(\u001b[0m\u001b[0;34m\"date_add(to_date(date,'yyyy-MM-dd'),increment)\"\u001b[0m\u001b[0;34m)\u001b[0m\u001b[0;34m.\u001b[0m\u001b[0malias\u001b[0m\u001b[0;34m(\u001b[0m\u001b[0;34m\"inc_date\"\u001b[0m\u001b[0;34m)\u001b[0m\u001b[0;34m)\u001b[0m\u001b[0;31m \u001b[0m\u001b[0;31m\\\u001b[0m\u001b[0;34m\u001b[0m\u001b[0;34m\u001b[0m\u001b[0m\n\u001b[0m\u001b[1;32m     10\u001b[0m     \u001b[0;34m.\u001b[0m\u001b[0mshow\u001b[0m\u001b[0;34m(\u001b[0m\u001b[0;34m)\u001b[0m\u001b[0;34m\u001b[0m\u001b[0;34m\u001b[0m\u001b[0m\n",
            "\u001b[0;32m/content/spark-3.3.0-bin-hadoop3/python/pyspark/sql/dataframe.py\u001b[0m in \u001b[0;36mselect\u001b[0;34m(self, *cols)\u001b[0m\n\u001b[1;32m   2021\u001b[0m         \u001b[0;34m[\u001b[0m\u001b[0mRow\u001b[0m\u001b[0;34m(\u001b[0m\u001b[0mname\u001b[0m\u001b[0;34m=\u001b[0m\u001b[0;34m'Alice'\u001b[0m\u001b[0;34m,\u001b[0m \u001b[0mage\u001b[0m\u001b[0;34m=\u001b[0m\u001b[0;36m12\u001b[0m\u001b[0;34m)\u001b[0m\u001b[0;34m,\u001b[0m \u001b[0mRow\u001b[0m\u001b[0;34m(\u001b[0m\u001b[0mname\u001b[0m\u001b[0;34m=\u001b[0m\u001b[0;34m'Bob'\u001b[0m\u001b[0;34m,\u001b[0m \u001b[0mage\u001b[0m\u001b[0;34m=\u001b[0m\u001b[0;36m15\u001b[0m\u001b[0;34m)\u001b[0m\u001b[0;34m]\u001b[0m\u001b[0;34m\u001b[0m\u001b[0;34m\u001b[0m\u001b[0m\n\u001b[1;32m   2022\u001b[0m         \"\"\"\n\u001b[0;32m-> 2023\u001b[0;31m         \u001b[0mjdf\u001b[0m \u001b[0;34m=\u001b[0m \u001b[0mself\u001b[0m\u001b[0;34m.\u001b[0m\u001b[0m_jdf\u001b[0m\u001b[0;34m.\u001b[0m\u001b[0mselect\u001b[0m\u001b[0;34m(\u001b[0m\u001b[0mself\u001b[0m\u001b[0;34m.\u001b[0m\u001b[0m_jcols\u001b[0m\u001b[0;34m(\u001b[0m\u001b[0;34m*\u001b[0m\u001b[0mcols\u001b[0m\u001b[0;34m)\u001b[0m\u001b[0;34m)\u001b[0m\u001b[0;34m\u001b[0m\u001b[0;34m\u001b[0m\u001b[0m\n\u001b[0m\u001b[1;32m   2024\u001b[0m         \u001b[0;32mreturn\u001b[0m \u001b[0mDataFrame\u001b[0m\u001b[0;34m(\u001b[0m\u001b[0mjdf\u001b[0m\u001b[0;34m,\u001b[0m \u001b[0mself\u001b[0m\u001b[0;34m.\u001b[0m\u001b[0msparkSession\u001b[0m\u001b[0;34m)\u001b[0m\u001b[0;34m\u001b[0m\u001b[0;34m\u001b[0m\u001b[0m\n\u001b[1;32m   2025\u001b[0m \u001b[0;34m\u001b[0m\u001b[0m\n",
            "\u001b[0;32m/content/spark-3.3.0-bin-hadoop3/python/lib/py4j-0.10.9.5-src.zip/py4j/java_gateway.py\u001b[0m in \u001b[0;36m__call__\u001b[0;34m(self, *args)\u001b[0m\n\u001b[1;32m   1320\u001b[0m         \u001b[0manswer\u001b[0m \u001b[0;34m=\u001b[0m \u001b[0mself\u001b[0m\u001b[0;34m.\u001b[0m\u001b[0mgateway_client\u001b[0m\u001b[0;34m.\u001b[0m\u001b[0msend_command\u001b[0m\u001b[0;34m(\u001b[0m\u001b[0mcommand\u001b[0m\u001b[0;34m)\u001b[0m\u001b[0;34m\u001b[0m\u001b[0;34m\u001b[0m\u001b[0m\n\u001b[1;32m   1321\u001b[0m         return_value = get_return_value(\n\u001b[0;32m-> 1322\u001b[0;31m             answer, self.gateway_client, self.target_id, self.name)\n\u001b[0m\u001b[1;32m   1323\u001b[0m \u001b[0;34m\u001b[0m\u001b[0m\n\u001b[1;32m   1324\u001b[0m         \u001b[0;32mfor\u001b[0m \u001b[0mtemp_arg\u001b[0m \u001b[0;32min\u001b[0m \u001b[0mtemp_args\u001b[0m\u001b[0;34m:\u001b[0m\u001b[0;34m\u001b[0m\u001b[0;34m\u001b[0m\u001b[0m\n",
            "\u001b[0;32m/content/spark-3.3.0-bin-hadoop3/python/pyspark/sql/utils.py\u001b[0m in \u001b[0;36mdeco\u001b[0;34m(*a, **kw)\u001b[0m\n\u001b[1;32m    194\u001b[0m                 \u001b[0;31m# Hide where the exception came from that shows a non-Pythonic\u001b[0m\u001b[0;34m\u001b[0m\u001b[0;34m\u001b[0m\u001b[0;34m\u001b[0m\u001b[0m\n\u001b[1;32m    195\u001b[0m                 \u001b[0;31m# JVM exception message.\u001b[0m\u001b[0;34m\u001b[0m\u001b[0;34m\u001b[0m\u001b[0;34m\u001b[0m\u001b[0m\n\u001b[0;32m--> 196\u001b[0;31m                 \u001b[0;32mraise\u001b[0m \u001b[0mconverted\u001b[0m \u001b[0;32mfrom\u001b[0m \u001b[0;32mNone\u001b[0m\u001b[0;34m\u001b[0m\u001b[0;34m\u001b[0m\u001b[0m\n\u001b[0m\u001b[1;32m    197\u001b[0m             \u001b[0;32melse\u001b[0m\u001b[0;34m:\u001b[0m\u001b[0;34m\u001b[0m\u001b[0;34m\u001b[0m\u001b[0m\n\u001b[1;32m    198\u001b[0m                 \u001b[0;32mraise\u001b[0m\u001b[0;34m\u001b[0m\u001b[0;34m\u001b[0m\u001b[0m\n",
            "\u001b[0;31mAnalysisException\u001b[0m: cannot resolve 'date_add(to_date(date, 'yyyy-MM-dd'), increment)' due to data type mismatch: argument 2 requires (int or smallint or tinyint) type, however, 'increment' is of bigint type.; line 1 pos 0;\n'Project [date#97, increment#98L, date_add(to_date(date#97, Some(yyyy-MM-dd), Some(Etc/UTC)), increment#98L) AS inc_date#101]\n+- Project [_1#93 AS date#97, _2#94L AS increment#98L]\n   +- LogicalRDD [_1#93, _2#94L], false\n"
          ]
        }
      ]
    },
    {
      "cell_type": "code",
      "source": [
        "from pyspark.sql import SparkSession\n",
        "\n",
        "spark = SparkSession.builder.appName('a').getOrCreate()\n",
        "\n",
        "data = [('James','Smith','M',3000),\n",
        "  ('Anna','Rose','F',4100),\n",
        "  ('Robert','Williams','M',6200), \n",
        "]\n",
        "\n",
        "columns = [\"firstname\",\"lastname\",\"gender\",\"salary\"]\n",
        "df = spark.createDataFrame(data=data, schema = columns)\n",
        "df.show()"
      ],
      "metadata": {
        "colab": {
          "base_uri": "https://localhost:8080/"
        },
        "id": "3GC6bOTuVbtG",
        "outputId": "0a8473b3-29c1-4e32-9b40-fbe5a9162141"
      },
      "execution_count": null,
      "outputs": [
        {
          "output_type": "stream",
          "name": "stdout",
          "text": [
            "+---------+--------+------+------+\n",
            "|firstname|lastname|gender|salary|\n",
            "+---------+--------+------+------+\n",
            "|    James|   Smith|     M|  3000|\n",
            "|     Anna|    Rose|     F|  4100|\n",
            "|   Robert|Williams|     M|  6200|\n",
            "+---------+--------+------+------+\n",
            "\n"
          ]
        }
      ]
    },
    {
      "cell_type": "code",
      "source": [
        "if 'salary' not in df.columns:\n",
        "    print(\"aa\")"
      ],
      "metadata": {
        "id": "VuYzAr82Vbv-"
      },
      "execution_count": null,
      "outputs": []
    },
    {
      "cell_type": "code",
      "source": [
        "from pyspark.sql.functions import lit\n",
        "df.withColumn(\"bonus_percent\", lit(0.5)).show()"
      ],
      "metadata": {
        "colab": {
          "base_uri": "https://localhost:8080/"
        },
        "id": "sG408joBVbyz",
        "outputId": "ddd3003e-e41b-4bb1-d308-077f85a2da74"
      },
      "execution_count": null,
      "outputs": [
        {
          "output_type": "stream",
          "name": "stdout",
          "text": [
            "+---------+--------+------+------+-------------+\n",
            "|firstname|lastname|gender|salary|bonus_percent|\n",
            "+---------+--------+------+------+-------------+\n",
            "|    James|   Smith|     M|  3000|          0.5|\n",
            "|     Anna|    Rose|     F|  4100|          0.5|\n",
            "|   Robert|Williams|     M|  6200|          0.5|\n",
            "+---------+--------+------+------+-------------+\n",
            "\n"
          ]
        }
      ]
    },
    {
      "cell_type": "code",
      "source": [
        "df.withColumn(\"bonus_amount\", df.salary*10).show()"
      ],
      "metadata": {
        "colab": {
          "base_uri": "https://localhost:8080/"
        },
        "id": "Iw0sDk1wVb11",
        "outputId": "c02a1dac-868c-4193-992c-f658404cedc9"
      },
      "execution_count": null,
      "outputs": [
        {
          "output_type": "stream",
          "name": "stdout",
          "text": [
            "+---------+--------+------+------+------------+\n",
            "|firstname|lastname|gender|salary|bonus_amount|\n",
            "+---------+--------+------+------+------------+\n",
            "|    James|   Smith|     M|  3000|       30000|\n",
            "|     Anna|    Rose|     F|  4100|       41000|\n",
            "|   Robert|Williams|     M|  6200|       62000|\n",
            "+---------+--------+------+------+------------+\n",
            "\n"
          ]
        }
      ]
    },
    {
      "cell_type": "code",
      "source": [
        "from pyspark.sql.functions import concat_ws\n",
        "a1=df.withColumn(\"name\", concat_ws(\":\",\"firstname\",'lastname'))\n",
        "a1.show()\n"
      ],
      "metadata": {
        "colab": {
          "base_uri": "https://localhost:8080/"
        },
        "id": "73lSF0DrVb4d",
        "outputId": "dca38ca7-bd27-439c-f511-914430b2dc3a"
      },
      "execution_count": null,
      "outputs": [
        {
          "output_type": "stream",
          "name": "stdout",
          "text": [
            "+---------+--------+------+------+---------------+\n",
            "|firstname|lastname|gender|salary|           name|\n",
            "+---------+--------+------+------+---------------+\n",
            "|    James|   Smith|     M|  3000|    James:Smith|\n",
            "|     Anna|    Rose|     F|  4100|      Anna:Rose|\n",
            "|   Robert|Williams|     M|  6200|Robert:Williams|\n",
            "+---------+--------+------+------+---------------+\n",
            "\n"
          ]
        }
      ]
    },
    {
      "cell_type": "code",
      "source": [
        "from pyspark.sql.functions import *\n",
        "a1=df.withColumn(\"name\", concat_ws(\":\",\"firstname\",'lastname'))\n",
        "a1.show()"
      ],
      "metadata": {
        "colab": {
          "base_uri": "https://localhost:8080/"
        },
        "id": "iXKqvnTuILLr",
        "outputId": "f71bf002-2d70-4885-ae85-f4ab3275a67a"
      },
      "execution_count": null,
      "outputs": [
        {
          "output_type": "stream",
          "name": "stdout",
          "text": [
            "+---------+--------+------+------+---------------+\n",
            "|firstname|lastname|gender|salary|           name|\n",
            "+---------+--------+------+------+---------------+\n",
            "|    James|   Smith|     M|  3000|    James:Smith|\n",
            "|     Anna|    Rose|     F|  4100|      Anna:Rose|\n",
            "|   Robert|Williams|     M|  6200|Robert:Williams|\n",
            "+---------+--------+------+------+---------------+\n",
            "\n"
          ]
        }
      ]
    },
    {
      "cell_type": "code",
      "source": [
        "from pyspark.sql.functions import current_date\n",
        "df.withColumn(\"current_date\", current_date()).show()"
      ],
      "metadata": {
        "colab": {
          "base_uri": "https://localhost:8080/"
        },
        "id": "Z5s2arFzVb7W",
        "outputId": "7bf4f2ab-ba1a-4e80-d44a-4756e4b66a42"
      },
      "execution_count": null,
      "outputs": [
        {
          "output_type": "stream",
          "name": "stdout",
          "text": [
            "+---------+--------+------+------+------------+\n",
            "|firstname|lastname|gender|salary|current_date|\n",
            "+---------+--------+------+------+------------+\n",
            "|    James|   Smith|     M|  3000|  2022-09-17|\n",
            "|     Anna|    Rose|     F|  4100|  2022-09-17|\n",
            "|   Robert|Williams|     M|  6200|  2022-09-17|\n",
            "+---------+--------+------+------+------------+\n",
            "\n"
          ]
        }
      ]
    },
    {
      "cell_type": "code",
      "source": [
        "from pyspark.sql.functions import when\n",
        "df.withColumn(\"grade\", \\\n",
        "   when((df.salary < 4000), lit(\"A\")) \\\n",
        "     .when((df.salary >= 4000) & (df.salary <= 5000), lit(\"B\")) \\\n",
        "     .otherwise(lit(\"C\")) \\\n",
        "  ).show()"
      ],
      "metadata": {
        "colab": {
          "base_uri": "https://localhost:8080/"
        },
        "id": "MmJ60MG0Vb-A",
        "outputId": "3defde4a-eeb2-4b9a-8af5-882faf4f028a"
      },
      "execution_count": null,
      "outputs": [
        {
          "output_type": "stream",
          "name": "stdout",
          "text": [
            "+---------+--------+------+------+-----+\n",
            "|firstname|lastname|gender|salary|grade|\n",
            "+---------+--------+------+------+-----+\n",
            "|    James|   Smith|     M|  3000|    A|\n",
            "|     Anna|    Rose|     F|  4100|    B|\n",
            "|   Robert|Williams|     M|  6200|    C|\n",
            "+---------+--------+------+------+-----+\n",
            "\n"
          ]
        }
      ]
    },
    {
      "cell_type": "code",
      "source": [
        "df11 = df.select(col(\"*\"),expr(\"case when gender='M' then 'Male' \" + \\\n",
        "   \"when gender='F' then 'Female' \" + \"else 'NA' end\").alias(\"NewGender\"))\n",
        "\n",
        "df12 = df.withColumn(\"NewGender\",expr(\"case when gender='M' then 'Male' \" + \\\n",
        "   \"when gender='F' then 'Female' \" + \"else 'NA' end\"))\n",
        "\n",
        "df12.show()\n"
      ],
      "metadata": {
        "colab": {
          "base_uri": "https://localhost:8080/"
        },
        "id": "sFuO3_jyM3AE",
        "outputId": "c6adb78f-248f-48f3-ba4c-6f9cce5dee00"
      },
      "execution_count": null,
      "outputs": [
        {
          "output_type": "stream",
          "name": "stdout",
          "text": [
            "+---------+--------+------+------+---------+\n",
            "|firstname|lastname|gender|salary|NewGender|\n",
            "+---------+--------+------+------+---------+\n",
            "|    James|   Smith|     M|  3000|     Male|\n",
            "|     Anna|    Rose|     F|  4100|   Female|\n",
            "|   Robert|Williams|     M|  6200|     Male|\n",
            "+---------+--------+------+------+---------+\n",
            "\n"
          ]
        }
      ]
    },
    {
      "cell_type": "code",
      "source": [
        "df.select(\"firstname\",\"salary\", lit(0.3).alias(\"bonus\")).show()\n",
        "df.select(\"firstname\",\"salary\", lit(df.salary * 0.3).alias(\"bonus_amount\")).show()\n",
        "df.select(\"firstname\",\"salary\", current_date().alias(\"today_date\")).show()"
      ],
      "metadata": {
        "colab": {
          "base_uri": "https://localhost:8080/"
        },
        "id": "O9rXSTgKVcA6",
        "outputId": "da20b1fa-e88c-43f1-fe9f-854f76564a89"
      },
      "execution_count": null,
      "outputs": [
        {
          "output_type": "stream",
          "name": "stdout",
          "text": [
            "+---------+------+-----+\n",
            "|firstname|salary|bonus|\n",
            "+---------+------+-----+\n",
            "|    James|  3000|  0.3|\n",
            "|     Anna|  4100|  0.3|\n",
            "|   Robert|  6200|  0.3|\n",
            "+---------+------+-----+\n",
            "\n",
            "+---------+------+------------+\n",
            "|firstname|salary|bonus_amount|\n",
            "+---------+------+------------+\n",
            "|    James|  3000|       900.0|\n",
            "|     Anna|  4100|      1230.0|\n",
            "|   Robert|  6200|      1860.0|\n",
            "+---------+------+------------+\n",
            "\n",
            "+---------+------+----------+\n",
            "|firstname|salary|today_date|\n",
            "+---------+------+----------+\n",
            "|    James|  3000|2022-06-28|\n",
            "|     Anna|  4100|2022-06-28|\n",
            "|   Robert|  6200|2022-06-28|\n",
            "+---------+------+----------+\n",
            "\n"
          ]
        }
      ]
    },
    {
      "cell_type": "code",
      "source": [
        "df.createOrReplaceTempView(\"PER\")"
      ],
      "metadata": {
        "id": "WmbrKiHRVcDl"
      },
      "execution_count": null,
      "outputs": []
    },
    {
      "cell_type": "code",
      "source": [
        "df.show()"
      ],
      "metadata": {
        "colab": {
          "base_uri": "https://localhost:8080/"
        },
        "id": "qP9p4CWsPXuQ",
        "outputId": "9df04e4a-5ca9-420b-fa00-b03162566bd0"
      },
      "execution_count": null,
      "outputs": [
        {
          "output_type": "stream",
          "name": "stdout",
          "text": [
            "+---------+--------+------+------+\n",
            "|firstname|lastname|gender|salary|\n",
            "+---------+--------+------+------+\n",
            "|    James|   Smith|     M|  3000|\n",
            "|     Anna|    Rose|     F|  4100|\n",
            "|   Robert|Williams|     M|  6200|\n",
            "+---------+--------+------+------+\n",
            "\n"
          ]
        }
      ]
    },
    {
      "cell_type": "code",
      "source": [
        "spark.sql(\"select firstname,salary, '0.3' as bonus from PER\").show()"
      ],
      "metadata": {
        "colab": {
          "base_uri": "https://localhost:8080/"
        },
        "id": "nOeQjEmOVcGZ",
        "outputId": "20992839-bf4a-4d24-bb8f-8132e71cfe14"
      },
      "execution_count": null,
      "outputs": [
        {
          "output_type": "stream",
          "name": "stdout",
          "text": [
            "+---------+------+-----+\n",
            "|firstname|salary|bonus|\n",
            "+---------+------+-----+\n",
            "|    James|  3000|  0.3|\n",
            "|     Anna|  4100|  0.3|\n",
            "|   Robert|  6200|  0.3|\n",
            "+---------+------+-----+\n",
            "\n"
          ]
        }
      ]
    },
    {
      "cell_type": "code",
      "source": [
        "import pyspark\n",
        "from pyspark.sql import SparkSession\n",
        "from pyspark.sql.functions import approx_count_distinct,collect_list\n",
        "from pyspark.sql.functions import collect_set,sum,avg,max,countDistinct,count\n",
        "from pyspark.sql.functions import first, last, kurtosis, min, mean, skewness \n",
        "from pyspark.sql.functions import stddev, stddev_samp, stddev_pop, sumDistinct\n",
        "from pyspark.sql.functions import variance,var_samp,  var_pop\n",
        "\n",
        "spark = SparkSession.builder.appName('SparkByExamples.com').getOrCreate()\n",
        "\n",
        "simpleData = [(\"James\", \"Sales\", 3000),\n",
        "    (\"Michael\", \"Sales\", 4600),\n",
        "    (\"Robert\", \"Sales\", 4100),\n",
        "    (\"Maria\", \"Finance\", 3000),\n",
        "    (\"James\", \"Sales\", 3000),\n",
        "    (\"Scott\", \"Finance\", 3300),\n",
        "    (\"Jen\", \"Finance\", 3900),\n",
        "    (\"Jeff\", \"Marketing\", 3000),\n",
        "    (\"Kumar\", \"Marketing\", 2000),\n",
        "    (\"Saif\", \"Sales\", 4100)\n",
        "  ]\n",
        "schema = [\"employee_name\", \"department\", \"salary\"]\n",
        "  \n",
        "  \n",
        "df = spark.createDataFrame(data=simpleData, schema = schema)\n",
        "df.printSchema()\n",
        "df.show(truncate=False)"
      ],
      "metadata": {
        "colab": {
          "base_uri": "https://localhost:8080/"
        },
        "id": "Xb7J6716VcI-",
        "outputId": "732feec9-b70c-4b58-d063-e4b827d34dd1"
      },
      "execution_count": null,
      "outputs": [
        {
          "output_type": "stream",
          "name": "stdout",
          "text": [
            "root\n",
            " |-- employee_name: string (nullable = true)\n",
            " |-- department: string (nullable = true)\n",
            " |-- salary: long (nullable = true)\n",
            "\n",
            "+-------------+----------+------+\n",
            "|employee_name|department|salary|\n",
            "+-------------+----------+------+\n",
            "|James        |Sales     |3000  |\n",
            "|Michael      |Sales     |4600  |\n",
            "|Robert       |Sales     |4100  |\n",
            "|Maria        |Finance   |3000  |\n",
            "|James        |Sales     |3000  |\n",
            "|Scott        |Finance   |3300  |\n",
            "|Jen          |Finance   |3900  |\n",
            "|Jeff         |Marketing |3000  |\n",
            "|Kumar        |Marketing |2000  |\n",
            "|Saif         |Sales     |4100  |\n",
            "+-------------+----------+------+\n",
            "\n"
          ]
        }
      ]
    },
    {
      "cell_type": "code",
      "source": [
        "print(\"approx_count_distinct: \" + \\\n",
        "      str(df.select(approx_count_distinct(\"department\")).collect()[0][0]))"
      ],
      "metadata": {
        "colab": {
          "base_uri": "https://localhost:8080/"
        },
        "id": "ktzKhQj5VcL1",
        "outputId": "0e67eb65-ba52-4a66-b20e-32294d1cedbb"
      },
      "execution_count": null,
      "outputs": [
        {
          "output_type": "stream",
          "name": "stdout",
          "text": [
            "approx_count_distinct: 3\n"
          ]
        }
      ]
    },
    {
      "cell_type": "code",
      "source": [
        "print(\"avg: \" + str(df.select(avg(\"salary\")).collect()[0][0]))"
      ],
      "metadata": {
        "colab": {
          "base_uri": "https://localhost:8080/"
        },
        "id": "nWZ4PxqZVcOc",
        "outputId": "e39935a9-f83e-43ad-ebfc-7508b80b8a76"
      },
      "execution_count": null,
      "outputs": [
        {
          "output_type": "stream",
          "name": "stdout",
          "text": [
            "avg: 3400.0\n"
          ]
        }
      ]
    },
    {
      "cell_type": "code",
      "source": [
        "df.select(collect_list(\"salary\")).show(truncate=False)"
      ],
      "metadata": {
        "colab": {
          "base_uri": "https://localhost:8080/"
        },
        "id": "1v9cKIVAVcRv",
        "outputId": "aca747a8-9dee-42c7-8106-69b2af243465"
      },
      "execution_count": null,
      "outputs": [
        {
          "output_type": "stream",
          "name": "stdout",
          "text": [
            "+------------------------------------------------------------+\n",
            "|collect_list(salary)                                        |\n",
            "+------------------------------------------------------------+\n",
            "|[3000, 4600, 4100, 3000, 3000, 3300, 3900, 3000, 2000, 4100]|\n",
            "+------------------------------------------------------------+\n",
            "\n"
          ]
        }
      ]
    },
    {
      "cell_type": "code",
      "source": [
        "df.select(collect_set(\"salary\")).show(truncate=False)"
      ],
      "metadata": {
        "colab": {
          "base_uri": "https://localhost:8080/"
        },
        "id": "MsZvvRi78Ewy",
        "outputId": "34f11ded-63cd-4eea-b005-b40f28699351"
      },
      "execution_count": null,
      "outputs": [
        {
          "output_type": "stream",
          "name": "stdout",
          "text": [
            "+------------------------------------+\n",
            "|collect_set(salary)                 |\n",
            "+------------------------------------+\n",
            "|[4600, 3000, 3900, 4100, 3300, 2000]|\n",
            "+------------------------------------+\n",
            "\n"
          ]
        }
      ]
    },
    {
      "cell_type": "code",
      "source": [
        "import pyspark\n",
        "from pyspark.sql import SparkSession\n",
        "from pyspark.sql.types import StructType,StructField, StringType, IntegerType, ArrayType\n",
        "from pyspark.sql.functions import col,array_contains\n",
        "\n",
        "spark = SparkSession.builder.appName('GIT').getOrCreate()\n",
        "\n",
        "arrayStructureData = [\n",
        "        ((\"James\",\"\",\"Smith\"),[\"Java\",\"Scala\",\"C++\"],\"OH\",\"M\"),\n",
        "        ((\"Anna\",\"Rose\",\"\"),[\"Spark\",\"Java\",\"C++\"],\"NY\",\"F\"),\n",
        "        ((\"Julia\",\"\",\"Williams\"),[\"CSharp\",\"VB\"],\"OH\",\"F\"),\n",
        "        ((\"Maria\",\"Anne\",\"Jones\"),[\"CSharp\",\"VB\"],\"NY\",\"M\"),\n",
        "        ((\"Jen\",\"Mary\",\"Brown\"),[\"CSharp\",\"VB\"],\"NY\",\"M\"),\n",
        "        ((\"Mike\",\"Mary\",\"Williams\"),[\"Python\",\"VB\"],\"OH\",\"M\")\n",
        "        ]\n",
        "        \n",
        "arrayStructureSchema = StructType([\n",
        "        StructField('name', StructType([\n",
        "             StructField('firstname', StringType(), True),\n",
        "             StructField('middlename', StringType(), True),\n",
        "             StructField('lastname', StringType(), True)\n",
        "             ])),\n",
        "         StructField('languages', ArrayType(StringType()), True),\n",
        "         StructField('state', StringType(), True),\n",
        "         StructField('gender', StringType(), True)\n",
        "         ])\n",
        "\n",
        "\n",
        "df = spark.createDataFrame(data = arrayStructureData, schema = arrayStructureSchema)\n",
        "df.printSchema()\n",
        "df.show(truncate=False)"
      ],
      "metadata": {
        "colab": {
          "base_uri": "https://localhost:8080/"
        },
        "id": "Eum8V8fh8E0B",
        "outputId": "3c7a0bb7-8c8b-4f9b-c7f0-e26710c36fea"
      },
      "execution_count": null,
      "outputs": [
        {
          "output_type": "stream",
          "name": "stdout",
          "text": [
            "root\n",
            " |-- name: struct (nullable = true)\n",
            " |    |-- firstname: string (nullable = true)\n",
            " |    |-- middlename: string (nullable = true)\n",
            " |    |-- lastname: string (nullable = true)\n",
            " |-- languages: array (nullable = true)\n",
            " |    |-- element: string (containsNull = true)\n",
            " |-- state: string (nullable = true)\n",
            " |-- gender: string (nullable = true)\n",
            "\n",
            "+----------------------+------------------+-----+------+\n",
            "|name                  |languages         |state|gender|\n",
            "+----------------------+------------------+-----+------+\n",
            "|{James, , Smith}      |[Java, Scala, C++]|OH   |M     |\n",
            "|{Anna, Rose, }        |[Spark, Java, C++]|NY   |F     |\n",
            "|{Julia, , Williams}   |[CSharp, VB]      |OH   |F     |\n",
            "|{Maria, Anne, Jones}  |[CSharp, VB]      |NY   |M     |\n",
            "|{Jen, Mary, Brown}    |[CSharp, VB]      |NY   |M     |\n",
            "|{Mike, Mary, Williams}|[Python, VB]      |OH   |M     |\n",
            "+----------------------+------------------+-----+------+\n",
            "\n"
          ]
        }
      ]
    },
    {
      "cell_type": "code",
      "source": [
        "df.filter(df.state == \"OH\").show(truncate=False)"
      ],
      "metadata": {
        "colab": {
          "base_uri": "https://localhost:8080/"
        },
        "id": "4z74FG2P8E3B",
        "outputId": "f27311d1-4042-405e-f1e5-4065411c7606"
      },
      "execution_count": null,
      "outputs": [
        {
          "output_type": "stream",
          "name": "stdout",
          "text": [
            "+----------------------+------------------+-----+------+\n",
            "|name                  |languages         |state|gender|\n",
            "+----------------------+------------------+-----+------+\n",
            "|{James, , Smith}      |[Java, Scala, C++]|OH   |M     |\n",
            "|{Julia, , Williams}   |[CSharp, VB]      |OH   |F     |\n",
            "|{Mike, Mary, Williams}|[Python, VB]      |OH   |M     |\n",
            "+----------------------+------------------+-----+------+\n",
            "\n"
          ]
        }
      ]
    },
    {
      "cell_type": "code",
      "source": [
        "df.filter(df.state != \"OH\").show(truncate=False)"
      ],
      "metadata": {
        "colab": {
          "base_uri": "https://localhost:8080/"
        },
        "id": "61pBpQfU8E6B",
        "outputId": "d1e87e02-334c-4614-e241-bffc44c1c174"
      },
      "execution_count": null,
      "outputs": [
        {
          "output_type": "stream",
          "name": "stdout",
          "text": [
            "+--------------------+------------------+-----+------+\n",
            "|name                |languages         |state|gender|\n",
            "+--------------------+------------------+-----+------+\n",
            "|{Anna, Rose, }      |[Spark, Java, C++]|NY   |F     |\n",
            "|{Maria, Anne, Jones}|[CSharp, VB]      |NY   |M     |\n",
            "|{Jen, Mary, Brown}  |[CSharp, VB]      |NY   |M     |\n",
            "+--------------------+------------------+-----+------+\n",
            "\n"
          ]
        }
      ]
    },
    {
      "cell_type": "code",
      "source": [
        "df.filter(~(df.state == \"OH\")).show(truncate=False)"
      ],
      "metadata": {
        "colab": {
          "base_uri": "https://localhost:8080/"
        },
        "id": "s8kyhZTP8E86",
        "outputId": "1398b046-0bca-4729-d3da-255c9edcf687"
      },
      "execution_count": null,
      "outputs": [
        {
          "output_type": "stream",
          "name": "stdout",
          "text": [
            "+--------------------+------------------+-----+------+\n",
            "|name                |languages         |state|gender|\n",
            "+--------------------+------------------+-----+------+\n",
            "|{Anna, Rose, }      |[Spark, Java, C++]|NY   |F     |\n",
            "|{Maria, Anne, Jones}|[CSharp, VB]      |NY   |M     |\n",
            "|{Jen, Mary, Brown}  |[CSharp, VB]      |NY   |M     |\n",
            "+--------------------+------------------+-----+------+\n",
            "\n"
          ]
        }
      ]
    },
    {
      "cell_type": "code",
      "source": [
        "li=[\"OH\",\"CA\",\"DE\"]\n",
        "df.filter(df.state.isin(li)).show()"
      ],
      "metadata": {
        "colab": {
          "base_uri": "https://localhost:8080/"
        },
        "id": "JiLTj2pm8E__",
        "outputId": "5cdf9ffc-3305-42b4-b6a8-0349e2e4bd99"
      },
      "execution_count": null,
      "outputs": [
        {
          "output_type": "stream",
          "name": "stdout",
          "text": [
            "+--------------------+------------------+-----+------+\n",
            "|                name|         languages|state|gender|\n",
            "+--------------------+------------------+-----+------+\n",
            "|    {James, , Smith}|[Java, Scala, C++]|   OH|     M|\n",
            "| {Julia, , Williams}|      [CSharp, VB]|   OH|     F|\n",
            "|{Mike, Mary, Will...|      [Python, VB]|   OH|     M|\n",
            "+--------------------+------------------+-----+------+\n",
            "\n"
          ]
        }
      ]
    },
    {
      "cell_type": "code",
      "source": [
        "df.filter(~df.state.isin(li)).show()"
      ],
      "metadata": {
        "colab": {
          "base_uri": "https://localhost:8080/"
        },
        "id": "O-R59b9BXrb-",
        "outputId": "30543982-2934-4af0-a1e5-f446830931d1"
      },
      "execution_count": null,
      "outputs": [
        {
          "output_type": "stream",
          "name": "stdout",
          "text": [
            "+--------------------+------------------+-----+------+\n",
            "|                name|         languages|state|gender|\n",
            "+--------------------+------------------+-----+------+\n",
            "|      {Anna, Rose, }|[Spark, Java, C++]|   NY|     F|\n",
            "|{Maria, Anne, Jones}|      [CSharp, VB]|   NY|     M|\n",
            "|  {Jen, Mary, Brown}|      [CSharp, VB]|   NY|     M|\n",
            "+--------------------+------------------+-----+------+\n",
            "\n"
          ]
        }
      ]
    },
    {
      "cell_type": "code",
      "source": [
        "df1 = spark.read.csv(\"/content/Show-full-column-content-in-Spark-CSV_with_long_characters.csv\", header=True, inferSchema=True)"
      ],
      "metadata": {
        "id": "RWu9mg5gXrfF"
      },
      "execution_count": null,
      "outputs": []
    },
    {
      "cell_type": "code",
      "source": [
        "df1.show()"
      ],
      "metadata": {
        "colab": {
          "base_uri": "https://localhost:8080/"
        },
        "id": "imd5c7RmXriB",
        "outputId": "8b091c29-e94c-4608-af82-79ad3f13696e"
      },
      "execution_count": null,
      "outputs": [
        {
          "output_type": "stream",
          "name": "stdout",
          "text": [
            "+-----------+--------------------+\n",
            "|ProductName|               Descr|\n",
            "+-----------+--------------------+\n",
            "|       Bike|This is the descr...|\n",
            "|        Car|We deal with all ...|\n",
            "|        Bus|All luxurious bus...|\n",
            "|      Cycle|The advanced elec...|\n",
            "+-----------+--------------------+\n",
            "\n"
          ]
        }
      ]
    },
    {
      "cell_type": "code",
      "source": [
        "df1.show(truncate = False)"
      ],
      "metadata": {
        "colab": {
          "base_uri": "https://localhost:8080/"
        },
        "id": "7C54gbv9Xrkv",
        "outputId": "4c9b2051-7300-4451-e358-ff2a84200569"
      },
      "execution_count": null,
      "outputs": [
        {
          "output_type": "stream",
          "name": "stdout",
          "text": [
            "+-----------+-----------------------------------------------------------------------------------------------------------------------------------------+\n",
            "|ProductName|Descr                                                                                                                                    |\n",
            "+-----------+-----------------------------------------------------------------------------------------------------------------------------------------+\n",
            "|Bike       |This is the description of the bike product. If you like to ride sport bikes, this is your choice.                                       |\n",
            "|Car        |We deal with all the racing cars. These cars are very attractive and can be used for racing purposes.                                    |\n",
            "|Bus        |All luxurious buses are available with all modern amenities here. If you want to book a visit at the show room, please visit our website.|\n",
            "|Cycle      |The advanced electric cycles with gear and nice shockers are available.                                                                  |\n",
            "+-----------+-----------------------------------------------------------------------------------------------------------------------------------------+\n",
            "\n"
          ]
        }
      ]
    },
    {
      "cell_type": "code",
      "source": [],
      "metadata": {
        "id": "YkpMT_waXrnh"
      },
      "execution_count": null,
      "outputs": []
    },
    {
      "cell_type": "code",
      "source": [],
      "metadata": {
        "id": "W0XT4MQqXrqr"
      },
      "execution_count": null,
      "outputs": []
    },
    {
      "cell_type": "code",
      "source": [],
      "metadata": {
        "id": "0njF6H45XrtP"
      },
      "execution_count": null,
      "outputs": []
    },
    {
      "cell_type": "code",
      "source": [],
      "metadata": {
        "id": "QN5LILkvXrwA"
      },
      "execution_count": null,
      "outputs": []
    },
    {
      "cell_type": "code",
      "source": [],
      "metadata": {
        "id": "kem-J_MSXry4"
      },
      "execution_count": null,
      "outputs": []
    },
    {
      "cell_type": "code",
      "source": [
        "import pandas as pd\n",
        "df1 = pd.read_csv(\"Flipkart.csv\",encoding=\"unicode_escape\")\n",
        "df1.info()"
      ],
      "metadata": {
        "id": "U-OY1iY08FDI",
        "colab": {
          "base_uri": "https://localhost:8080/"
        },
        "outputId": "82c8bb86-e8a6-4500-feec-4846a3647067"
      },
      "execution_count": null,
      "outputs": [
        {
          "output_type": "stream",
          "name": "stdout",
          "text": [
            "<class 'pandas.core.frame.DataFrame'>\n",
            "RangeIndex: 1952 entries, 0 to 1951\n",
            "Data columns (total 25 columns):\n",
            " #   Column                Non-Null Count  Dtype  \n",
            "---  ------                --------------  -----  \n",
            " 0   Row ID                1952 non-null   int64  \n",
            " 1   Order Priority        1952 non-null   object \n",
            " 2   Discount              1952 non-null   float64\n",
            " 3   Unit Price            1952 non-null   float64\n",
            " 4   Shipping Cost         1952 non-null   float64\n",
            " 5   Customer ID           1952 non-null   int64  \n",
            " 6   Customer Name         1952 non-null   object \n",
            " 7   Ship Mode             1952 non-null   object \n",
            " 8   Customer Segment      1952 non-null   object \n",
            " 9   Product Category      1952 non-null   object \n",
            " 10  Product Sub-Category  1952 non-null   object \n",
            " 11  Product Container     1952 non-null   object \n",
            " 12  Product Name          1952 non-null   object \n",
            " 13  Product Base Margin   1936 non-null   float64\n",
            " 14  Country               1952 non-null   object \n",
            " 15  Region                1952 non-null   object \n",
            " 16  State or Province     1952 non-null   object \n",
            " 17  City                  1952 non-null   object \n",
            " 18  Postal Code           1952 non-null   int64  \n",
            " 19  Order Date            1952 non-null   object \n",
            " 20  Ship Date             1952 non-null   object \n",
            " 21  Profit                1952 non-null   float64\n",
            " 22  Quantity ordered new  1952 non-null   int64  \n",
            " 23  Sales                 1952 non-null   float64\n",
            " 24  Order ID              1952 non-null   int64  \n",
            "dtypes: float64(6), int64(5), object(14)\n",
            "memory usage: 381.4+ KB\n"
          ]
        }
      ]
    },
    {
      "cell_type": "code",
      "source": [
        "df = spark.read.csv(\"Flipkart.csv\", header=True, inferSchema=True)\n",
        "df.printSchema()"
      ],
      "metadata": {
        "colab": {
          "base_uri": "https://localhost:8080/"
        },
        "id": "o9iNpTy4kAkK",
        "outputId": "9ecd3698-90ae-45e7-8233-476f86914694"
      },
      "execution_count": null,
      "outputs": [
        {
          "output_type": "stream",
          "name": "stdout",
          "text": [
            "root\n",
            " |-- Row ID: integer (nullable = true)\n",
            " |-- Order Priority: string (nullable = true)\n",
            " |-- Discount: double (nullable = true)\n",
            " |-- Unit Price: double (nullable = true)\n",
            " |-- Shipping Cost: double (nullable = true)\n",
            " |-- Customer ID: integer (nullable = true)\n",
            " |-- Customer Name: string (nullable = true)\n",
            " |-- Ship Mode: string (nullable = true)\n",
            " |-- Customer Segment: string (nullable = true)\n",
            " |-- Product Category: string (nullable = true)\n",
            " |-- Product Sub-Category: string (nullable = true)\n",
            " |-- Product Container: string (nullable = true)\n",
            " |-- Product Name: string (nullable = true)\n",
            " |-- Product Base Margin: string (nullable = true)\n",
            " |-- Country: string (nullable = true)\n",
            " |-- Region: string (nullable = true)\n",
            " |-- State or Province: string (nullable = true)\n",
            " |-- City: string (nullable = true)\n",
            " |-- Postal Code: string (nullable = true)\n",
            " |-- Order Date: string (nullable = true)\n",
            " |-- Ship Date: string (nullable = true)\n",
            " |-- Profit: string (nullable = true)\n",
            " |-- Quantity ordered new: string (nullable = true)\n",
            " |-- Sales: string (nullable = true)\n",
            " |-- Order ID: double (nullable = true)\n",
            "\n"
          ]
        }
      ]
    },
    {
      "cell_type": "code",
      "source": [
        "df.show(5)"
      ],
      "metadata": {
        "colab": {
          "base_uri": "https://localhost:8080/"
        },
        "id": "5wf224hJkm9K",
        "outputId": "a3b55a7b-8aa4-4145-dd3c-15ba4d48b990"
      },
      "execution_count": null,
      "outputs": [
        {
          "output_type": "stream",
          "name": "stdout",
          "text": [
            "+------+--------------+--------+----------+-------------+-----------+-----------------+--------------+----------------+----------------+--------------------+-----------------+--------------------+-------------------+-------------+-------+-----------------+-----------+-----------+----------+---------+---------+--------------------+-------+--------+\n",
            "|Row ID|Order Priority|Discount|Unit Price|Shipping Cost|Customer ID|    Customer Name|     Ship Mode|Customer Segment|Product Category|Product Sub-Category|Product Container|        Product Name|Product Base Margin|      Country| Region|State or Province|       City|Postal Code|Order Date|Ship Date|   Profit|Quantity ordered new|  Sales|Order ID|\n",
            "+------+--------------+--------+----------+-------------+-----------+-----------------+--------------+----------------+----------------+--------------------+-----------------+--------------------+-------------------+-------------+-------+-----------------+-----------+-----------+----------+---------+---------+--------------------+-------+--------+\n",
            "| 20847|          High|    0.01|      2.84|         0.93|          3|    Bonnie Potter|   Express Air|       Corporate| Office Supplies| Pens & Art Supplies|         Wrap Bag|SANFORD Liquid Ac...|               0.54|United States|   West|       Washington|  Anacortes|      98221|  07-01-15| 08-01-15|     4.56|                   4|  13.01| 88522.0|\n",
            "| 20228| Not Specified|    0.02|    500.98|         26.0|          5|   Ronnie Proctor|Delivery Truck|     Home Office|       Furniture|  Chairs & Chairmats|       Jumbo Drum|Global Troy� Exec...|                0.6|United States|   West|       California|San Gabriel|      91776|  13-06-15| 15-06-15|4390.3665|                  12|6362.85| 90193.0|\n",
            "| 21776|      Critical|    0.06|      9.48|         7.29|         11|    Marcus Dunlap|   Regular Air|     Home Office|       Furniture|  Office Furnishings|       Small Pack|DAX Two-Tone Rose...|               0.45|United States|   East|       New Jersey|    Roselle|       7203|  15-02-15| 17-02-15| -53.8096|                  22| 211.15| 90192.0|\n",
            "| 24844|        Medium|    0.09|     78.69|        19.99|         14|Gwendolyn F Tyson|   Regular Air|  Small Business|       Furniture|  Office Furnishings|        Small Box|Howard Miller 12-...|               0.43|United States|Central|        Minnesota| Prior Lake|      55372|  12-05-15| 14-05-15| 803.4705|                  16|1164.45| 86838.0|\n",
            "| 24846|        Medium|    0.08|      3.28|         2.31|         14|Gwendolyn F Tyson|   Regular Air|  Small Business| Office Supplies| Pens & Art Supplies|         Wrap Bag|          Newell 321|               0.56|United States|Central|        Minnesota| Prior Lake|      55372|  12-05-15| 13-05-15|   -24.03|                   7|  22.23| 86838.0|\n",
            "+------+--------------+--------+----------+-------------+-----------+-----------------+--------------+----------------+----------------+--------------------+-----------------+--------------------+-------------------+-------------+-------+-----------------+-----------+-----------+----------+---------+---------+--------------------+-------+--------+\n",
            "only showing top 5 rows\n",
            "\n"
          ]
        }
      ]
    },
    {
      "cell_type": "code",
      "source": [
        "#Print top five customer name by sales \n",
        "\n",
        "from pyspark.sql.functions import sum,col,desc\n",
        "df.groupBy(\"Customer Name\",\"Customer ID\").agg(sum(\"Sales\").alias(\"SUMOFSALES\")).sort(desc(\"SUMOFSALES\")).show(5)"
      ],
      "metadata": {
        "colab": {
          "base_uri": "https://localhost:8080/"
        },
        "id": "D5xtk5CJi4qs",
        "outputId": "6059209c-9055-4f5f-d4a4-a2700b620789"
      },
      "execution_count": null,
      "outputs": [
        {
          "output_type": "stream",
          "name": "stdout",
          "text": [
            "+-----------------+-----------+------------------+\n",
            "|    Customer Name|Customer ID|        SUMOFSALES|\n",
            "+-----------------+-----------+------------------+\n",
            "|Kristine Connolly|        553|          50475.31|\n",
            "| Nina Horne Kelly|       1733|          48295.12|\n",
            "|     Toni Swanson|        491|          32194.12|\n",
            "| Rosemary O'Brien|       2571|          29916.01|\n",
            "|      Yvonne Mann|       2670|28779.129999999997|\n",
            "+-----------------+-----------+------------------+\n",
            "only showing top 5 rows\n",
            "\n"
          ]
        }
      ]
    },
    {
      "cell_type": "code",
      "source": [
        "#Print top five customer name by sales \n",
        "\n",
        "from pyspark.sql.functions import sum,col,desc,round\n",
        "df.groupBy(\"Customer Name\",\"Customer ID\").agg(sum(\"Discount\").alias(\"SUMOFDiscount\")).sort(desc(\"SUMOFDiscount\")).show(5)"
      ],
      "metadata": {
        "colab": {
          "base_uri": "https://localhost:8080/"
        },
        "id": "rxYd2-vHohTz",
        "outputId": "dbe0e18e-4558-4a8a-ae3a-fc27b35126be"
      },
      "execution_count": null,
      "outputs": [
        {
          "output_type": "stream",
          "name": "stdout",
          "text": [
            "+------------------+-----------+-------------------+\n",
            "|     Customer Name|Customer ID|      SUMOFDiscount|\n",
            "+------------------+-----------+-------------------+\n",
            "|        Jenny Gold|        699|               0.56|\n",
            "|Kristine Singleton|       3133|               0.55|\n",
            "|    Nelson Hensley|        698|0.39000000000000007|\n",
            "|      Edna Michael|       2684|               0.37|\n",
            "|      Sean N Boyer|       2491|0.36000000000000004|\n",
            "+------------------+-----------+-------------------+\n",
            "only showing top 5 rows\n",
            "\n"
          ]
        }
      ]
    },
    {
      "cell_type": "code",
      "source": [
        "\"\"\"Print all customer name start with “A” and ship mode is “Express Air” \n",
        "and display sales between 100 and 150.\"\"\"\n",
        "\n",
        "from pyspark.sql.functions import col\n",
        "a = df.filter(col('Customer Name').startswith(\"A\")).where(col(\"Ship Mode\") == \"Express Air\")\n",
        "a[[\"Customer Name\",\"Ship Mode\"]].show()"
      ],
      "metadata": {
        "colab": {
          "base_uri": "https://localhost:8080/"
        },
        "id": "CvZRs_tACSmE",
        "outputId": "c7490c54-7a5d-4c22-b7a9-8c70bbe46bb9"
      },
      "execution_count": null,
      "outputs": [
        {
          "output_type": "stream",
          "name": "stdout",
          "text": [
            "+--------------------+-----------+\n",
            "|       Customer Name|  Ship Mode|\n",
            "+--------------------+-----------+\n",
            "|         Angela Howe|Express Air|\n",
            "|         Aaron Riggs|Express Air|\n",
            "|Alison Peters Wooten|Express Air|\n",
            "|            Ann Katz|Express Air|\n",
            "|        Arthur Brady|Express Air|\n",
            "|      Alex Nicholson|Express Air|\n",
            "|      Alison Stewart|Express Air|\n",
            "|        Albert Tyson|Express Air|\n",
            "|          Annie Odom|Express Air|\n",
            "|          Anita Hahn|Express Air|\n",
            "|  Arnold Floyd Blair|Express Air|\n",
            "|Arlene Wiggins Da...|Express Air|\n",
            "|     Anthony Stanley|Express Air|\n",
            "|  Amy Hamrick Melvin|Express Air|\n",
            "|    Alicia Wood Shah|Express Air|\n",
            "|        Alison Jones|Express Air|\n",
            "|     Andrew Gonzalez|Express Air|\n",
            "|       Andrew Levine|Express Air|\n",
            "|       Andrew Levine|Express Air|\n",
            "|         Arthur Gold|Express Air|\n",
            "+--------------------+-----------+\n",
            "only showing top 20 rows\n",
            "\n"
          ]
        }
      ]
    },
    {
      "cell_type": "code",
      "source": [
        "from pyspark.sql.functions import col\n",
        "df.filter(col('Customer Name').startswith(\"A\")).where(col(\"Ship Mode\") == \"Express Air\").show()\n"
      ],
      "metadata": {
        "colab": {
          "base_uri": "https://localhost:8080/"
        },
        "id": "88QZIJmq0zGi",
        "outputId": "8880fa93-41d9-48eb-f606-5396a74199d4"
      },
      "execution_count": null,
      "outputs": [
        {
          "output_type": "stream",
          "name": "stdout",
          "text": [
            "+------+--------------+--------+----------+-------------+-----------+--------------------+-----------+----------------+----------------+--------------------+-----------------+--------------------+-------------------+-------------+-------+-----------------+----------------+-----------+----------+---------+----------+--------------------+--------+--------+\n",
            "|Row ID|Order Priority|Discount|Unit Price|Shipping Cost|Customer ID|       Customer Name|  Ship Mode|Customer Segment|Product Category|Product Sub-Category|Product Container|        Product Name|Product Base Margin|      Country| Region|State or Province|            City|Postal Code|Order Date|Ship Date|    Profit|Quantity ordered new|   Sales|Order ID|\n",
            "+------+--------------+--------+----------+-------------+-----------+--------------------+-----------+----------------+----------------+--------------------+-----------------+--------------------+-------------------+-------------+-------+-----------------+----------------+-----------+----------+---------+----------+--------------------+--------+--------+\n",
            "| 20919|          High|     0.1|      8.88|         6.28|        387|         Angela Howe|Express Air|       Corporate| Office Supplies|Binders and Binde...|        Small Box|GBC Instant Index...|               0.35|United States|Central|         Nebraska|    Grand Island|      68801|  12-06-15| 14-06-15| -27.28375|                  15|   126.9| 90339.0|\n",
            "| 23200|        Medium|    0.02|    150.98|        13.99|        522|         Aaron Riggs|Express Air|  Small Business|      Technology|     Office Machines|       Medium Box|Canon MP41DH Prin...|               0.38|United States|   West|           Oregon|         Redmond|      97756|  22-06-15| 24-06-15|      26.1|                   3|  480.37| 89327.0|\n",
            "| 22015|      Critical|    0.09|    154.13|         69.0|        605|Alison Peters Wooten|Express Air|       Corporate|       Furniture|              Tables|        Large Box|Laminate Occasion...|               0.68|United States|   East|         New York|      West Islip|      11795|  14-03-15| 15-03-15|-1763.7477|                  10| 1494.63| 91144.0|\n",
            "| 25055| Not Specified|     0.0|      2.78|         1.49|        653|            Ann Katz|Express Air|        Consumer| Office Supplies|Binders and Binde...|        Small Box|Wilson Jones Sued...|               0.36|United States|   West|       California|Rancho Cucamonga|      91730|  16-04-15| 17-04-15|   20.6448|                   9|   29.92| 91213.0|\n",
            "| 21354|      Critical|    0.05|     35.99|         5.99|        858|        Arthur Brady|Express Air|       Corporate|      Technology|Telephones and Co...|         Wrap Bag|         Accessory41|               0.38|United States|   East|            Maine|        Lewiston|       4240|  30-04-15| 02-05-15|-125.83296|                   2|   64.89| 88571.0|\n",
            "| 24224|      Critical|    0.09|      9.11|         2.15|       1155|      Alex Nicholson|Express Air|        Consumer| Office Supplies|               Paper|         Wrap Bag|\"Black Print Carb...|                0.4|United States|   West|       California|      Montebello|      90640|  02-01-15| 04-01-15|   20.2996|                   4|   34.41| 90853.0|\n",
            "| 21808|          High|    0.08|     20.99|          3.3|       1484|      Alison Stewart|Express Air|     Home Office|      Technology|Telephones and Co...|       Small Pack|         Accessory39|               0.81|United States|Central|         Illinois|     Des Plaines|      60016|  11-03-15| 11-03-15|   -96.338|                  11|  193.51| 91235.0|\n",
            "| 21746| Not Specified|    0.09|     77.51|          4.0|       1814|        Albert Tyson|Express Air|     Home Office|      Technology|Computer Peripherals|        Small Box|Micro Innovations...|               0.76|United States|  South|      Mississippi|    Olive Branch|      38654|  23-05-15| 25-05-15|  -986.524|                  17| 1300.54| 90524.0|\n",
            "| 21699|           Low|     0.1|      3.98|         2.97|       2089|          Annie Odom|Express Air|       Corporate| Office Supplies|               Paper|         Wrap Bag| Unpadded Memo Slips|               0.35|United States|   East|         New York|        New City|      10956|  30-06-15| 04-07-15|    -5.385|                   5|   20.54| 88348.0|\n",
            "| 19914| Not Specified|    0.08|     95.99|         35.0|       2211|          Anita Hahn|Express Air|     Home Office| Office Supplies|Storage & Organiz...|        Large Box|Safco Industrial ...|               null|United States|   East|         Maryland|           Bowie|      20715|  01-01-15| 03-01-15| -425.2084|                   2|  193.88| 88028.0|\n",
            "| 19460|        Medium|    0.02|      17.7|         9.47|       2285|  Arnold Floyd Blair|Express Air|       Corporate| Office Supplies|Storage & Organiz...|        Small Box|Portfile� Persona...|               0.59|United States|  South|   South Carolina|       Rock Hill|      29730|  13-03-15| 15-03-15|   -85.022|                  21|   374.6| 90148.0|\n",
            "| 19817|        Medium|    0.09|      3.89|         7.01|       2422|Arlene Wiggins Da...|Express Air|     Home Office| Office Supplies|Binders and Binde...|        Small Box| Avery Binder Labels|               0.37|United States|Central|            Texas|      Huntsville|      77340|  22-01-15| 24-01-15|  -154.307|                  10|   42.56| 89055.0|\n",
            "| 19971|           Low|    0.02|     50.98|        13.66|       2613|     Anthony Stanley|Express Air|       Corporate| Office Supplies|          Appliances|        Small Box|Eureka The Boss� ...|               0.58|United States|   East|       New Jersey|           Fords|       8863|  24-01-15| 24-01-15|    -25.76|                   1|   68.45| 86119.0|\n",
            "|  4788|          High|    0.05|      4.84|         0.71|       2618|  Amy Hamrick Melvin|Express Air|       Corporate| Office Supplies| Pens & Art Supplies|         Wrap Bag|*Staples* Highlig...|               0.52|United States|   East|         New York|   New York City|      10004|  23-03-15| 23-03-15|     29.17|                  20|  103.39| 34017.0|\n",
            "| 25594|           Low|    0.05|    100.97|         7.18|       2638|    Alicia Wood Shah|Express Air|        Consumer|      Technology|Computer Peripherals|        Small Box|Gyration Ultra Co...|               0.46|United States|   West|            Idaho|           Boise|      83704|  08-06-15| 08-06-15|  881.4681|                  13| 1277.49| 90951.0|\n",
            "| 20097|          High|    0.05|    205.99|         8.99|       2778|        Alison Jones|Express Air|        Consumer|      Technology|Telephones and Co...|        Small Box|     Talkabout T8097|               0.58|United States|  South|   North Carolina|      Wilmington|      28403|  11-02-15| 12-02-15|  111.0525|                  12| 2118.99| 87160.0|\n",
            "|  5689|           Low|    0.05|     63.94|        14.48|       2882|     Andrew Gonzalez|Express Air|        Consumer|       Furniture|  Office Furnishings|        Small Box|\"Howard Miller 16...|               0.46|United States|  South|   North Carolina|       Charlotte|      28206|  30-06-15| 07-07-15|  270.8743|                  21| 1336.35| 40224.0|\n",
            "|  7492| Not Specified|    0.01|    193.17|        19.99|       3079|       Andrew Levine|Express Air|  Small Business| Office Supplies|Storage & Organiz...|        Small Box|Fellowes Staxonst...|               0.71|United States|   East|     Pennsylvania|    Philadelphia|      19112|  11-06-15| 11-06-15|   1141.07|                  63|12190.98| 53476.0|\n",
            "|  6807|      Critical|     0.0|      2.21|          1.0|       3079|       Andrew Levine|Express Air|  Small Business| Office Supplies| Pens & Art Supplies|         Wrap Bag|Quartet Alpha� Wh...|               0.38|United States|   East|     Pennsylvania|    Philadelphia|      19112|  10-06-15| 11-06-15|     10.01|                  33|   87.18| 48483.0|\n",
            "| 22293| Not Specified|    0.01|      9.48|         7.29|       3226|         Arthur Gold|Express Air|  Small Business|       Furniture|  Office Furnishings|       Small Pack|DAX Two-Tone Rose...|               0.45|United States|  South|        Tennessee|  Hendersonville|      37075|  14-01-15| 16-01-15|  238.9338|                   1|    12.9| 86507.0|\n",
            "+------+--------------+--------+----------+-------------+-----------+--------------------+-----------+----------------+----------------+--------------------+-----------------+--------------------+-------------------+-------------+-------+-----------------+----------------+-----------+----------+---------+----------+--------------------+--------+--------+\n",
            "only showing top 20 rows\n",
            "\n"
          ]
        }
      ]
    },
    {
      "cell_type": "code",
      "source": [
        "\"\"\"Print all customer name start with “A” and ship mode is “Express Air” \n",
        "and display sales between 100 and 150.\"\"\"\n",
        "\n",
        "from pyspark.sql.functions import col\n",
        "a = df.filter(col('Customer Name').startswith(\"A\")).where(col(\"Ship Mode\") == \"Express Air\").toPandas()\n",
        "a[[\"Customer Name\",\"Ship Mode\"]]"
      ],
      "metadata": {
        "colab": {
          "base_uri": "https://localhost:8080/",
          "height": 771
        },
        "id": "O9yiaeMIC-JM",
        "outputId": "a3f09e5d-d850-4dff-b33a-b166b5655ffe"
      },
      "execution_count": null,
      "outputs": [
        {
          "output_type": "execute_result",
          "data": {
            "text/plain": [
              "            Customer Name    Ship Mode\n",
              "0             Angela Howe  Express Air\n",
              "1             Aaron Riggs  Express Air\n",
              "2    Alison Peters Wooten  Express Air\n",
              "3                Ann Katz  Express Air\n",
              "4            Arthur Brady  Express Air\n",
              "5          Alex Nicholson  Express Air\n",
              "6          Alison Stewart  Express Air\n",
              "7            Albert Tyson  Express Air\n",
              "8              Annie Odom  Express Air\n",
              "9              Anita Hahn  Express Air\n",
              "10     Arnold Floyd Blair  Express Air\n",
              "11  Arlene Wiggins Dalton  Express Air\n",
              "12        Anthony Stanley  Express Air\n",
              "13     Amy Hamrick Melvin  Express Air\n",
              "14       Alicia Wood Shah  Express Air\n",
              "15           Alison Jones  Express Air\n",
              "16        Andrew Gonzalez  Express Air\n",
              "17          Andrew Levine  Express Air\n",
              "18          Andrew Levine  Express Air\n",
              "19            Arthur Gold  Express Air\n",
              "20         Alicia Maynard  Express Air\n",
              "21       Annette McIntyre  Express Air\n",
              "22       Annette McIntyre  Express Air"
            ],
            "text/html": [
              "\n",
              "  <div id=\"df-c35eb6f9-5179-43cb-bd4e-d006c5be5e2d\">\n",
              "    <div class=\"colab-df-container\">\n",
              "      <div>\n",
              "<style scoped>\n",
              "    .dataframe tbody tr th:only-of-type {\n",
              "        vertical-align: middle;\n",
              "    }\n",
              "\n",
              "    .dataframe tbody tr th {\n",
              "        vertical-align: top;\n",
              "    }\n",
              "\n",
              "    .dataframe thead th {\n",
              "        text-align: right;\n",
              "    }\n",
              "</style>\n",
              "<table border=\"1\" class=\"dataframe\">\n",
              "  <thead>\n",
              "    <tr style=\"text-align: right;\">\n",
              "      <th></th>\n",
              "      <th>Customer Name</th>\n",
              "      <th>Ship Mode</th>\n",
              "    </tr>\n",
              "  </thead>\n",
              "  <tbody>\n",
              "    <tr>\n",
              "      <th>0</th>\n",
              "      <td>Angela Howe</td>\n",
              "      <td>Express Air</td>\n",
              "    </tr>\n",
              "    <tr>\n",
              "      <th>1</th>\n",
              "      <td>Aaron Riggs</td>\n",
              "      <td>Express Air</td>\n",
              "    </tr>\n",
              "    <tr>\n",
              "      <th>2</th>\n",
              "      <td>Alison Peters Wooten</td>\n",
              "      <td>Express Air</td>\n",
              "    </tr>\n",
              "    <tr>\n",
              "      <th>3</th>\n",
              "      <td>Ann Katz</td>\n",
              "      <td>Express Air</td>\n",
              "    </tr>\n",
              "    <tr>\n",
              "      <th>4</th>\n",
              "      <td>Arthur Brady</td>\n",
              "      <td>Express Air</td>\n",
              "    </tr>\n",
              "    <tr>\n",
              "      <th>5</th>\n",
              "      <td>Alex Nicholson</td>\n",
              "      <td>Express Air</td>\n",
              "    </tr>\n",
              "    <tr>\n",
              "      <th>6</th>\n",
              "      <td>Alison Stewart</td>\n",
              "      <td>Express Air</td>\n",
              "    </tr>\n",
              "    <tr>\n",
              "      <th>7</th>\n",
              "      <td>Albert Tyson</td>\n",
              "      <td>Express Air</td>\n",
              "    </tr>\n",
              "    <tr>\n",
              "      <th>8</th>\n",
              "      <td>Annie Odom</td>\n",
              "      <td>Express Air</td>\n",
              "    </tr>\n",
              "    <tr>\n",
              "      <th>9</th>\n",
              "      <td>Anita Hahn</td>\n",
              "      <td>Express Air</td>\n",
              "    </tr>\n",
              "    <tr>\n",
              "      <th>10</th>\n",
              "      <td>Arnold Floyd Blair</td>\n",
              "      <td>Express Air</td>\n",
              "    </tr>\n",
              "    <tr>\n",
              "      <th>11</th>\n",
              "      <td>Arlene Wiggins Dalton</td>\n",
              "      <td>Express Air</td>\n",
              "    </tr>\n",
              "    <tr>\n",
              "      <th>12</th>\n",
              "      <td>Anthony Stanley</td>\n",
              "      <td>Express Air</td>\n",
              "    </tr>\n",
              "    <tr>\n",
              "      <th>13</th>\n",
              "      <td>Amy Hamrick Melvin</td>\n",
              "      <td>Express Air</td>\n",
              "    </tr>\n",
              "    <tr>\n",
              "      <th>14</th>\n",
              "      <td>Alicia Wood Shah</td>\n",
              "      <td>Express Air</td>\n",
              "    </tr>\n",
              "    <tr>\n",
              "      <th>15</th>\n",
              "      <td>Alison Jones</td>\n",
              "      <td>Express Air</td>\n",
              "    </tr>\n",
              "    <tr>\n",
              "      <th>16</th>\n",
              "      <td>Andrew Gonzalez</td>\n",
              "      <td>Express Air</td>\n",
              "    </tr>\n",
              "    <tr>\n",
              "      <th>17</th>\n",
              "      <td>Andrew Levine</td>\n",
              "      <td>Express Air</td>\n",
              "    </tr>\n",
              "    <tr>\n",
              "      <th>18</th>\n",
              "      <td>Andrew Levine</td>\n",
              "      <td>Express Air</td>\n",
              "    </tr>\n",
              "    <tr>\n",
              "      <th>19</th>\n",
              "      <td>Arthur Gold</td>\n",
              "      <td>Express Air</td>\n",
              "    </tr>\n",
              "    <tr>\n",
              "      <th>20</th>\n",
              "      <td>Alicia Maynard</td>\n",
              "      <td>Express Air</td>\n",
              "    </tr>\n",
              "    <tr>\n",
              "      <th>21</th>\n",
              "      <td>Annette McIntyre</td>\n",
              "      <td>Express Air</td>\n",
              "    </tr>\n",
              "    <tr>\n",
              "      <th>22</th>\n",
              "      <td>Annette McIntyre</td>\n",
              "      <td>Express Air</td>\n",
              "    </tr>\n",
              "  </tbody>\n",
              "</table>\n",
              "</div>\n",
              "      <button class=\"colab-df-convert\" onclick=\"convertToInteractive('df-c35eb6f9-5179-43cb-bd4e-d006c5be5e2d')\"\n",
              "              title=\"Convert this dataframe to an interactive table.\"\n",
              "              style=\"display:none;\">\n",
              "        \n",
              "  <svg xmlns=\"http://www.w3.org/2000/svg\" height=\"24px\"viewBox=\"0 0 24 24\"\n",
              "       width=\"24px\">\n",
              "    <path d=\"M0 0h24v24H0V0z\" fill=\"none\"/>\n",
              "    <path d=\"M18.56 5.44l.94 2.06.94-2.06 2.06-.94-2.06-.94-.94-2.06-.94 2.06-2.06.94zm-11 1L8.5 8.5l.94-2.06 2.06-.94-2.06-.94L8.5 2.5l-.94 2.06-2.06.94zm10 10l.94 2.06.94-2.06 2.06-.94-2.06-.94-.94-2.06-.94 2.06-2.06.94z\"/><path d=\"M17.41 7.96l-1.37-1.37c-.4-.4-.92-.59-1.43-.59-.52 0-1.04.2-1.43.59L10.3 9.45l-7.72 7.72c-.78.78-.78 2.05 0 2.83L4 21.41c.39.39.9.59 1.41.59.51 0 1.02-.2 1.41-.59l7.78-7.78 2.81-2.81c.8-.78.8-2.07 0-2.86zM5.41 20L4 18.59l7.72-7.72 1.47 1.35L5.41 20z\"/>\n",
              "  </svg>\n",
              "      </button>\n",
              "      \n",
              "  <style>\n",
              "    .colab-df-container {\n",
              "      display:flex;\n",
              "      flex-wrap:wrap;\n",
              "      gap: 12px;\n",
              "    }\n",
              "\n",
              "    .colab-df-convert {\n",
              "      background-color: #E8F0FE;\n",
              "      border: none;\n",
              "      border-radius: 50%;\n",
              "      cursor: pointer;\n",
              "      display: none;\n",
              "      fill: #1967D2;\n",
              "      height: 32px;\n",
              "      padding: 0 0 0 0;\n",
              "      width: 32px;\n",
              "    }\n",
              "\n",
              "    .colab-df-convert:hover {\n",
              "      background-color: #E2EBFA;\n",
              "      box-shadow: 0px 1px 2px rgba(60, 64, 67, 0.3), 0px 1px 3px 1px rgba(60, 64, 67, 0.15);\n",
              "      fill: #174EA6;\n",
              "    }\n",
              "\n",
              "    [theme=dark] .colab-df-convert {\n",
              "      background-color: #3B4455;\n",
              "      fill: #D2E3FC;\n",
              "    }\n",
              "\n",
              "    [theme=dark] .colab-df-convert:hover {\n",
              "      background-color: #434B5C;\n",
              "      box-shadow: 0px 1px 3px 1px rgba(0, 0, 0, 0.15);\n",
              "      filter: drop-shadow(0px 1px 2px rgba(0, 0, 0, 0.3));\n",
              "      fill: #FFFFFF;\n",
              "    }\n",
              "  </style>\n",
              "\n",
              "      <script>\n",
              "        const buttonEl =\n",
              "          document.querySelector('#df-c35eb6f9-5179-43cb-bd4e-d006c5be5e2d button.colab-df-convert');\n",
              "        buttonEl.style.display =\n",
              "          google.colab.kernel.accessAllowed ? 'block' : 'none';\n",
              "\n",
              "        async function convertToInteractive(key) {\n",
              "          const element = document.querySelector('#df-c35eb6f9-5179-43cb-bd4e-d006c5be5e2d');\n",
              "          const dataTable =\n",
              "            await google.colab.kernel.invokeFunction('convertToInteractive',\n",
              "                                                     [key], {});\n",
              "          if (!dataTable) return;\n",
              "\n",
              "          const docLinkHtml = 'Like what you see? Visit the ' +\n",
              "            '<a target=\"_blank\" href=https://colab.research.google.com/notebooks/data_table.ipynb>data table notebook</a>'\n",
              "            + ' to learn more about interactive tables.';\n",
              "          element.innerHTML = '';\n",
              "          dataTable['output_type'] = 'display_data';\n",
              "          await google.colab.output.renderOutput(dataTable, element);\n",
              "          const docLink = document.createElement('div');\n",
              "          docLink.innerHTML = docLinkHtml;\n",
              "          element.appendChild(docLink);\n",
              "        }\n",
              "      </script>\n",
              "    </div>\n",
              "  </div>\n",
              "  "
            ]
          },
          "metadata": {},
          "execution_count": 19
        }
      ]
    },
    {
      "cell_type": "code",
      "source": [
        "df.groupBy('Customer Name','Customer ID').agg(round(sum('Discount'),4).alias('sumDiscount')).sort(desc('sumDiscount')).show(5)"
      ],
      "metadata": {
        "colab": {
          "base_uri": "https://localhost:8080/"
        },
        "id": "ygSWJykJs-Ax",
        "outputId": "b49ba87d-d431-4745-8f78-9c961c530670"
      },
      "execution_count": null,
      "outputs": [
        {
          "output_type": "stream",
          "name": "stdout",
          "text": [
            "+------------------+-----------+-----------+\n",
            "|     Customer Name|Customer ID|sumDiscount|\n",
            "+------------------+-----------+-----------+\n",
            "|        Jenny Gold|        699|       0.56|\n",
            "|Kristine Singleton|       3133|       0.55|\n",
            "|    Nelson Hensley|        698|       0.39|\n",
            "|      Edna Michael|       2684|       0.37|\n",
            "|Amy Hamrick Melvin|       2618|       0.36|\n",
            "+------------------+-----------+-----------+\n",
            "only showing top 5 rows\n",
            "\n"
          ]
        }
      ]
    },
    {
      "cell_type": "code",
      "source": [
        "df11 = pd.read_csv(\"Flipkart.csv\" , encoding=\"unicode_escape\")\n",
        "df11.head()"
      ],
      "metadata": {
        "colab": {
          "base_uri": "https://localhost:8080/",
          "height": 476
        },
        "id": "YCUTgE3Celzs",
        "outputId": "20dac767-2bf3-4ead-d01f-2d73960acfc8"
      },
      "execution_count": null,
      "outputs": [
        {
          "output_type": "execute_result",
          "data": {
            "text/plain": [
              "   Row ID Order Priority  Discount  Unit Price  Shipping Cost  Customer ID  \\\n",
              "0   20847           High      0.01        2.84           0.93            3   \n",
              "1   20228  Not Specified      0.02      500.98          26.00            5   \n",
              "2   21776       Critical      0.06        9.48           7.29           11   \n",
              "3   24844         Medium      0.09       78.69          19.99           14   \n",
              "4   24846         Medium      0.08        3.28           2.31           14   \n",
              "\n",
              "       Customer Name       Ship Mode Customer Segment Product Category  ...  \\\n",
              "0      Bonnie Potter     Express Air        Corporate  Office Supplies  ...   \n",
              "1     Ronnie Proctor  Delivery Truck      Home Office        Furniture  ...   \n",
              "2      Marcus Dunlap     Regular Air      Home Office        Furniture  ...   \n",
              "3  Gwendolyn F Tyson     Regular Air   Small Business        Furniture  ...   \n",
              "4  Gwendolyn F Tyson     Regular Air   Small Business  Office Supplies  ...   \n",
              "\n",
              "    Region State or Province         City  Postal Code Order Date Ship Date  \\\n",
              "0     West        Washington    Anacortes        98221   07-01-15  08-01-15   \n",
              "1     West        California  San Gabriel        91776   13-06-15  15-06-15   \n",
              "2     East        New Jersey      Roselle         7203   15-02-15  17-02-15   \n",
              "3  Central         Minnesota   Prior Lake        55372   12-05-15  14-05-15   \n",
              "4  Central         Minnesota   Prior Lake        55372   12-05-15  13-05-15   \n",
              "\n",
              "      Profit Quantity ordered new    Sales Order ID  \n",
              "0     4.5600                    4    13.01    88522  \n",
              "1  4390.3665                   12  6362.85    90193  \n",
              "2   -53.8096                   22   211.15    90192  \n",
              "3   803.4705                   16  1164.45    86838  \n",
              "4   -24.0300                    7    22.23    86838  \n",
              "\n",
              "[5 rows x 25 columns]"
            ],
            "text/html": [
              "\n",
              "  <div id=\"df-0af4eb30-6f99-4874-a642-5df4965233b6\">\n",
              "    <div class=\"colab-df-container\">\n",
              "      <div>\n",
              "<style scoped>\n",
              "    .dataframe tbody tr th:only-of-type {\n",
              "        vertical-align: middle;\n",
              "    }\n",
              "\n",
              "    .dataframe tbody tr th {\n",
              "        vertical-align: top;\n",
              "    }\n",
              "\n",
              "    .dataframe thead th {\n",
              "        text-align: right;\n",
              "    }\n",
              "</style>\n",
              "<table border=\"1\" class=\"dataframe\">\n",
              "  <thead>\n",
              "    <tr style=\"text-align: right;\">\n",
              "      <th></th>\n",
              "      <th>Row ID</th>\n",
              "      <th>Order Priority</th>\n",
              "      <th>Discount</th>\n",
              "      <th>Unit Price</th>\n",
              "      <th>Shipping Cost</th>\n",
              "      <th>Customer ID</th>\n",
              "      <th>Customer Name</th>\n",
              "      <th>Ship Mode</th>\n",
              "      <th>Customer Segment</th>\n",
              "      <th>Product Category</th>\n",
              "      <th>...</th>\n",
              "      <th>Region</th>\n",
              "      <th>State or Province</th>\n",
              "      <th>City</th>\n",
              "      <th>Postal Code</th>\n",
              "      <th>Order Date</th>\n",
              "      <th>Ship Date</th>\n",
              "      <th>Profit</th>\n",
              "      <th>Quantity ordered new</th>\n",
              "      <th>Sales</th>\n",
              "      <th>Order ID</th>\n",
              "    </tr>\n",
              "  </thead>\n",
              "  <tbody>\n",
              "    <tr>\n",
              "      <th>0</th>\n",
              "      <td>20847</td>\n",
              "      <td>High</td>\n",
              "      <td>0.01</td>\n",
              "      <td>2.84</td>\n",
              "      <td>0.93</td>\n",
              "      <td>3</td>\n",
              "      <td>Bonnie Potter</td>\n",
              "      <td>Express Air</td>\n",
              "      <td>Corporate</td>\n",
              "      <td>Office Supplies</td>\n",
              "      <td>...</td>\n",
              "      <td>West</td>\n",
              "      <td>Washington</td>\n",
              "      <td>Anacortes</td>\n",
              "      <td>98221</td>\n",
              "      <td>07-01-15</td>\n",
              "      <td>08-01-15</td>\n",
              "      <td>4.5600</td>\n",
              "      <td>4</td>\n",
              "      <td>13.01</td>\n",
              "      <td>88522</td>\n",
              "    </tr>\n",
              "    <tr>\n",
              "      <th>1</th>\n",
              "      <td>20228</td>\n",
              "      <td>Not Specified</td>\n",
              "      <td>0.02</td>\n",
              "      <td>500.98</td>\n",
              "      <td>26.00</td>\n",
              "      <td>5</td>\n",
              "      <td>Ronnie Proctor</td>\n",
              "      <td>Delivery Truck</td>\n",
              "      <td>Home Office</td>\n",
              "      <td>Furniture</td>\n",
              "      <td>...</td>\n",
              "      <td>West</td>\n",
              "      <td>California</td>\n",
              "      <td>San Gabriel</td>\n",
              "      <td>91776</td>\n",
              "      <td>13-06-15</td>\n",
              "      <td>15-06-15</td>\n",
              "      <td>4390.3665</td>\n",
              "      <td>12</td>\n",
              "      <td>6362.85</td>\n",
              "      <td>90193</td>\n",
              "    </tr>\n",
              "    <tr>\n",
              "      <th>2</th>\n",
              "      <td>21776</td>\n",
              "      <td>Critical</td>\n",
              "      <td>0.06</td>\n",
              "      <td>9.48</td>\n",
              "      <td>7.29</td>\n",
              "      <td>11</td>\n",
              "      <td>Marcus Dunlap</td>\n",
              "      <td>Regular Air</td>\n",
              "      <td>Home Office</td>\n",
              "      <td>Furniture</td>\n",
              "      <td>...</td>\n",
              "      <td>East</td>\n",
              "      <td>New Jersey</td>\n",
              "      <td>Roselle</td>\n",
              "      <td>7203</td>\n",
              "      <td>15-02-15</td>\n",
              "      <td>17-02-15</td>\n",
              "      <td>-53.8096</td>\n",
              "      <td>22</td>\n",
              "      <td>211.15</td>\n",
              "      <td>90192</td>\n",
              "    </tr>\n",
              "    <tr>\n",
              "      <th>3</th>\n",
              "      <td>24844</td>\n",
              "      <td>Medium</td>\n",
              "      <td>0.09</td>\n",
              "      <td>78.69</td>\n",
              "      <td>19.99</td>\n",
              "      <td>14</td>\n",
              "      <td>Gwendolyn F Tyson</td>\n",
              "      <td>Regular Air</td>\n",
              "      <td>Small Business</td>\n",
              "      <td>Furniture</td>\n",
              "      <td>...</td>\n",
              "      <td>Central</td>\n",
              "      <td>Minnesota</td>\n",
              "      <td>Prior Lake</td>\n",
              "      <td>55372</td>\n",
              "      <td>12-05-15</td>\n",
              "      <td>14-05-15</td>\n",
              "      <td>803.4705</td>\n",
              "      <td>16</td>\n",
              "      <td>1164.45</td>\n",
              "      <td>86838</td>\n",
              "    </tr>\n",
              "    <tr>\n",
              "      <th>4</th>\n",
              "      <td>24846</td>\n",
              "      <td>Medium</td>\n",
              "      <td>0.08</td>\n",
              "      <td>3.28</td>\n",
              "      <td>2.31</td>\n",
              "      <td>14</td>\n",
              "      <td>Gwendolyn F Tyson</td>\n",
              "      <td>Regular Air</td>\n",
              "      <td>Small Business</td>\n",
              "      <td>Office Supplies</td>\n",
              "      <td>...</td>\n",
              "      <td>Central</td>\n",
              "      <td>Minnesota</td>\n",
              "      <td>Prior Lake</td>\n",
              "      <td>55372</td>\n",
              "      <td>12-05-15</td>\n",
              "      <td>13-05-15</td>\n",
              "      <td>-24.0300</td>\n",
              "      <td>7</td>\n",
              "      <td>22.23</td>\n",
              "      <td>86838</td>\n",
              "    </tr>\n",
              "  </tbody>\n",
              "</table>\n",
              "<p>5 rows × 25 columns</p>\n",
              "</div>\n",
              "      <button class=\"colab-df-convert\" onclick=\"convertToInteractive('df-0af4eb30-6f99-4874-a642-5df4965233b6')\"\n",
              "              title=\"Convert this dataframe to an interactive table.\"\n",
              "              style=\"display:none;\">\n",
              "        \n",
              "  <svg xmlns=\"http://www.w3.org/2000/svg\" height=\"24px\"viewBox=\"0 0 24 24\"\n",
              "       width=\"24px\">\n",
              "    <path d=\"M0 0h24v24H0V0z\" fill=\"none\"/>\n",
              "    <path d=\"M18.56 5.44l.94 2.06.94-2.06 2.06-.94-2.06-.94-.94-2.06-.94 2.06-2.06.94zm-11 1L8.5 8.5l.94-2.06 2.06-.94-2.06-.94L8.5 2.5l-.94 2.06-2.06.94zm10 10l.94 2.06.94-2.06 2.06-.94-2.06-.94-.94-2.06-.94 2.06-2.06.94z\"/><path d=\"M17.41 7.96l-1.37-1.37c-.4-.4-.92-.59-1.43-.59-.52 0-1.04.2-1.43.59L10.3 9.45l-7.72 7.72c-.78.78-.78 2.05 0 2.83L4 21.41c.39.39.9.59 1.41.59.51 0 1.02-.2 1.41-.59l7.78-7.78 2.81-2.81c.8-.78.8-2.07 0-2.86zM5.41 20L4 18.59l7.72-7.72 1.47 1.35L5.41 20z\"/>\n",
              "  </svg>\n",
              "      </button>\n",
              "      \n",
              "  <style>\n",
              "    .colab-df-container {\n",
              "      display:flex;\n",
              "      flex-wrap:wrap;\n",
              "      gap: 12px;\n",
              "    }\n",
              "\n",
              "    .colab-df-convert {\n",
              "      background-color: #E8F0FE;\n",
              "      border: none;\n",
              "      border-radius: 50%;\n",
              "      cursor: pointer;\n",
              "      display: none;\n",
              "      fill: #1967D2;\n",
              "      height: 32px;\n",
              "      padding: 0 0 0 0;\n",
              "      width: 32px;\n",
              "    }\n",
              "\n",
              "    .colab-df-convert:hover {\n",
              "      background-color: #E2EBFA;\n",
              "      box-shadow: 0px 1px 2px rgba(60, 64, 67, 0.3), 0px 1px 3px 1px rgba(60, 64, 67, 0.15);\n",
              "      fill: #174EA6;\n",
              "    }\n",
              "\n",
              "    [theme=dark] .colab-df-convert {\n",
              "      background-color: #3B4455;\n",
              "      fill: #D2E3FC;\n",
              "    }\n",
              "\n",
              "    [theme=dark] .colab-df-convert:hover {\n",
              "      background-color: #434B5C;\n",
              "      box-shadow: 0px 1px 3px 1px rgba(0, 0, 0, 0.15);\n",
              "      filter: drop-shadow(0px 1px 2px rgba(0, 0, 0, 0.3));\n",
              "      fill: #FFFFFF;\n",
              "    }\n",
              "  </style>\n",
              "\n",
              "      <script>\n",
              "        const buttonEl =\n",
              "          document.querySelector('#df-0af4eb30-6f99-4874-a642-5df4965233b6 button.colab-df-convert');\n",
              "        buttonEl.style.display =\n",
              "          google.colab.kernel.accessAllowed ? 'block' : 'none';\n",
              "\n",
              "        async function convertToInteractive(key) {\n",
              "          const element = document.querySelector('#df-0af4eb30-6f99-4874-a642-5df4965233b6');\n",
              "          const dataTable =\n",
              "            await google.colab.kernel.invokeFunction('convertToInteractive',\n",
              "                                                     [key], {});\n",
              "          if (!dataTable) return;\n",
              "\n",
              "          const docLinkHtml = 'Like what you see? Visit the ' +\n",
              "            '<a target=\"_blank\" href=https://colab.research.google.com/notebooks/data_table.ipynb>data table notebook</a>'\n",
              "            + ' to learn more about interactive tables.';\n",
              "          element.innerHTML = '';\n",
              "          dataTable['output_type'] = 'display_data';\n",
              "          await google.colab.output.renderOutput(dataTable, element);\n",
              "          const docLink = document.createElement('div');\n",
              "          docLink.innerHTML = docLinkHtml;\n",
              "          element.appendChild(docLink);\n",
              "        }\n",
              "      </script>\n",
              "    </div>\n",
              "  </div>\n",
              "  "
            ]
          },
          "metadata": {},
          "execution_count": 51
        },
        {
          "output_type": "stream",
          "name": "stdout",
          "text": [
            "Warning: Total number of columns (25) exceeds max_columns (20) limiting to first (20) columns.\n"
          ]
        }
      ]
    },
    {
      "cell_type": "code",
      "source": [
        "from pyspark.sql.functions import col,asc,desc\n",
        "df.orderBy(col(\"Sales\").desc()).limit(5).show()"
      ],
      "metadata": {
        "colab": {
          "base_uri": "https://localhost:8080/"
        },
        "id": "RTRbcxK2el2v",
        "outputId": "7561659f-aa2d-4e5d-ace0-a2f3b326f8c1"
      },
      "execution_count": null,
      "outputs": [
        {
          "output_type": "stream",
          "name": "stdout",
          "text": [
            "+------+--------------+--------+----------+-------------+-----------+--------------+-----------+----------------+----------------+--------------------+-----------------+--------------------+-------------------+-------------+-------+-----------------+-----------+-----------+----------+---------+--------+--------------------+------+--------+\n",
            "|Row ID|Order Priority|Discount|Unit Price|Shipping Cost|Customer ID| Customer Name|  Ship Mode|Customer Segment|Product Category|Product Sub-Category|Product Container|        Product Name|Product Base Margin|      Country| Region|State or Province|       City|Postal Code|Order Date|Ship Date|  Profit|Quantity ordered new| Sales|Order ID|\n",
            "+------+--------------+--------+----------+-------------+-----------+--------------+-----------+----------------+----------------+--------------------+-----------------+--------------------+-------------------+-------------+-------+-----------------+-----------+-----------+----------+---------+--------+--------------------+------+--------+\n",
            "| 20357|      Critical|    0.09|    207.48|         0.99|       3095|Milton Lindsay|Regular Air|        Consumer| Office Supplies|          Appliances|        Small Box|Kensington 7 Outl...|               0.55|United States|   East|             Ohio|   Hamilton|      45011|  19-01-15| 21-01-15|683.9556|                   5|991.24| 86220.0|\n",
            "| 24756|          High|    0.09|    199.99|        24.49|       2212|   Stacy Chang|Express Air|     Home Office|      Technology|     Copiers and Fax|        Large Box|Canon PC-428 Pers...|               0.46|United States|   East|         Maryland|Catonsville|      21228|  19-04-15| 21-04-15|  631.33|                   5|990.25| 88029.0|\n",
            "|  8241|           Low|    0.07|      2.12|         1.99|        117|   Linda Weiss|Regular Air|     Home Office|      Technology|Computer Peripherals|       Small Pack|Fuji Slim Jewel C...|               0.55|United States|   West|       Washington|    Seattle|      98103|  09-04-15| 11-04-15|  -55.84|                  46| 99.94| 58914.0|\n",
            "| 24629| Not Specified|    0.09|      6.48|         9.68|        792|    Holly Pate|Regular Air|       Corporate| Office Supplies|               Paper|        Small Box|          Xerox 1993|               0.36|United States|Central|         Oklahoma|    Mustang|      73064|  21-06-15| 22-06-15| -204.16|                  16| 99.92| 88753.0|\n",
            "| 18166|        Medium|     0.0|      6.37|         5.19|       2923|Lynne Griffith|Regular Air|        Consumer| Office Supplies|Binders and Binde...|        Small Box|C-Line Peel & Sti...|               0.38|United States|   East|         Maryland| Hagerstown|      21740|  28-02-15| 02-03-15|-27.1492|                  15| 99.75| 86592.0|\n",
            "+------+--------------+--------+----------+-------------+-----------+--------------+-----------+----------------+----------------+--------------------+-----------------+--------------------+-------------------+-------------+-------+-----------------+-----------+-----------+----------+---------+--------+--------------------+------+--------+\n",
            "\n"
          ]
        }
      ]
    },
    {
      "cell_type": "code",
      "source": [
        "from pyspark.sql.functions import col,asc,desc\n",
        "df.orderBy(col(\"Sales\").desc()).limit(5).toPandas()"
      ],
      "metadata": {
        "colab": {
          "base_uri": "https://localhost:8080/",
          "height": 508
        },
        "id": "BMNAExFnel5m",
        "outputId": "274ad553-cb98-444e-a05e-79f01095564a"
      },
      "execution_count": null,
      "outputs": [
        {
          "output_type": "execute_result",
          "data": {
            "text/plain": [
              "   Row ID Order Priority  Discount  Unit Price  Shipping Cost  Customer ID  \\\n",
              "0   20357       Critical      0.09      207.48           0.99         3095   \n",
              "1   24756           High      0.09      199.99          24.49         2212   \n",
              "2    8241            Low      0.07        2.12           1.99          117   \n",
              "3   24629  Not Specified      0.09        6.48           9.68          792   \n",
              "4   18166         Medium      0.00        6.37           5.19         2923   \n",
              "\n",
              "    Customer Name    Ship Mode Customer Segment Product Category  ...  \\\n",
              "0  Milton Lindsay  Regular Air         Consumer  Office Supplies  ...   \n",
              "1     Stacy Chang  Express Air      Home Office       Technology  ...   \n",
              "2     Linda Weiss  Regular Air      Home Office       Technology  ...   \n",
              "3      Holly Pate  Regular Air        Corporate  Office Supplies  ...   \n",
              "4  Lynne Griffith  Regular Air         Consumer  Office Supplies  ...   \n",
              "\n",
              "    Region State or Province         City Postal Code Order Date Ship Date  \\\n",
              "0     East              Ohio     Hamilton       45011   19-01-15  21-01-15   \n",
              "1     East          Maryland  Catonsville       21228   19-04-15  21-04-15   \n",
              "2     West        Washington      Seattle       98103   09-04-15  11-04-15   \n",
              "3  Central          Oklahoma      Mustang       73064   21-06-15  22-06-15   \n",
              "4     East          Maryland   Hagerstown       21740   28-02-15  02-03-15   \n",
              "\n",
              "     Profit Quantity ordered new   Sales Order ID  \n",
              "0  683.9556                    5  991.24  86220.0  \n",
              "1    631.33                    5  990.25  88029.0  \n",
              "2    -55.84                   46   99.94  58914.0  \n",
              "3   -204.16                   16   99.92  88753.0  \n",
              "4  -27.1492                   15   99.75  86592.0  \n",
              "\n",
              "[5 rows x 25 columns]"
            ],
            "text/html": [
              "\n",
              "  <div id=\"df-88247271-6c1d-4114-b22b-57c8466b8cce\">\n",
              "    <div class=\"colab-df-container\">\n",
              "      <div>\n",
              "<style scoped>\n",
              "    .dataframe tbody tr th:only-of-type {\n",
              "        vertical-align: middle;\n",
              "    }\n",
              "\n",
              "    .dataframe tbody tr th {\n",
              "        vertical-align: top;\n",
              "    }\n",
              "\n",
              "    .dataframe thead th {\n",
              "        text-align: right;\n",
              "    }\n",
              "</style>\n",
              "<table border=\"1\" class=\"dataframe\">\n",
              "  <thead>\n",
              "    <tr style=\"text-align: right;\">\n",
              "      <th></th>\n",
              "      <th>Row ID</th>\n",
              "      <th>Order Priority</th>\n",
              "      <th>Discount</th>\n",
              "      <th>Unit Price</th>\n",
              "      <th>Shipping Cost</th>\n",
              "      <th>Customer ID</th>\n",
              "      <th>Customer Name</th>\n",
              "      <th>Ship Mode</th>\n",
              "      <th>Customer Segment</th>\n",
              "      <th>Product Category</th>\n",
              "      <th>...</th>\n",
              "      <th>Region</th>\n",
              "      <th>State or Province</th>\n",
              "      <th>City</th>\n",
              "      <th>Postal Code</th>\n",
              "      <th>Order Date</th>\n",
              "      <th>Ship Date</th>\n",
              "      <th>Profit</th>\n",
              "      <th>Quantity ordered new</th>\n",
              "      <th>Sales</th>\n",
              "      <th>Order ID</th>\n",
              "    </tr>\n",
              "  </thead>\n",
              "  <tbody>\n",
              "    <tr>\n",
              "      <th>0</th>\n",
              "      <td>20357</td>\n",
              "      <td>Critical</td>\n",
              "      <td>0.09</td>\n",
              "      <td>207.48</td>\n",
              "      <td>0.99</td>\n",
              "      <td>3095</td>\n",
              "      <td>Milton Lindsay</td>\n",
              "      <td>Regular Air</td>\n",
              "      <td>Consumer</td>\n",
              "      <td>Office Supplies</td>\n",
              "      <td>...</td>\n",
              "      <td>East</td>\n",
              "      <td>Ohio</td>\n",
              "      <td>Hamilton</td>\n",
              "      <td>45011</td>\n",
              "      <td>19-01-15</td>\n",
              "      <td>21-01-15</td>\n",
              "      <td>683.9556</td>\n",
              "      <td>5</td>\n",
              "      <td>991.24</td>\n",
              "      <td>86220.0</td>\n",
              "    </tr>\n",
              "    <tr>\n",
              "      <th>1</th>\n",
              "      <td>24756</td>\n",
              "      <td>High</td>\n",
              "      <td>0.09</td>\n",
              "      <td>199.99</td>\n",
              "      <td>24.49</td>\n",
              "      <td>2212</td>\n",
              "      <td>Stacy Chang</td>\n",
              "      <td>Express Air</td>\n",
              "      <td>Home Office</td>\n",
              "      <td>Technology</td>\n",
              "      <td>...</td>\n",
              "      <td>East</td>\n",
              "      <td>Maryland</td>\n",
              "      <td>Catonsville</td>\n",
              "      <td>21228</td>\n",
              "      <td>19-04-15</td>\n",
              "      <td>21-04-15</td>\n",
              "      <td>631.33</td>\n",
              "      <td>5</td>\n",
              "      <td>990.25</td>\n",
              "      <td>88029.0</td>\n",
              "    </tr>\n",
              "    <tr>\n",
              "      <th>2</th>\n",
              "      <td>8241</td>\n",
              "      <td>Low</td>\n",
              "      <td>0.07</td>\n",
              "      <td>2.12</td>\n",
              "      <td>1.99</td>\n",
              "      <td>117</td>\n",
              "      <td>Linda Weiss</td>\n",
              "      <td>Regular Air</td>\n",
              "      <td>Home Office</td>\n",
              "      <td>Technology</td>\n",
              "      <td>...</td>\n",
              "      <td>West</td>\n",
              "      <td>Washington</td>\n",
              "      <td>Seattle</td>\n",
              "      <td>98103</td>\n",
              "      <td>09-04-15</td>\n",
              "      <td>11-04-15</td>\n",
              "      <td>-55.84</td>\n",
              "      <td>46</td>\n",
              "      <td>99.94</td>\n",
              "      <td>58914.0</td>\n",
              "    </tr>\n",
              "    <tr>\n",
              "      <th>3</th>\n",
              "      <td>24629</td>\n",
              "      <td>Not Specified</td>\n",
              "      <td>0.09</td>\n",
              "      <td>6.48</td>\n",
              "      <td>9.68</td>\n",
              "      <td>792</td>\n",
              "      <td>Holly Pate</td>\n",
              "      <td>Regular Air</td>\n",
              "      <td>Corporate</td>\n",
              "      <td>Office Supplies</td>\n",
              "      <td>...</td>\n",
              "      <td>Central</td>\n",
              "      <td>Oklahoma</td>\n",
              "      <td>Mustang</td>\n",
              "      <td>73064</td>\n",
              "      <td>21-06-15</td>\n",
              "      <td>22-06-15</td>\n",
              "      <td>-204.16</td>\n",
              "      <td>16</td>\n",
              "      <td>99.92</td>\n",
              "      <td>88753.0</td>\n",
              "    </tr>\n",
              "    <tr>\n",
              "      <th>4</th>\n",
              "      <td>18166</td>\n",
              "      <td>Medium</td>\n",
              "      <td>0.00</td>\n",
              "      <td>6.37</td>\n",
              "      <td>5.19</td>\n",
              "      <td>2923</td>\n",
              "      <td>Lynne Griffith</td>\n",
              "      <td>Regular Air</td>\n",
              "      <td>Consumer</td>\n",
              "      <td>Office Supplies</td>\n",
              "      <td>...</td>\n",
              "      <td>East</td>\n",
              "      <td>Maryland</td>\n",
              "      <td>Hagerstown</td>\n",
              "      <td>21740</td>\n",
              "      <td>28-02-15</td>\n",
              "      <td>02-03-15</td>\n",
              "      <td>-27.1492</td>\n",
              "      <td>15</td>\n",
              "      <td>99.75</td>\n",
              "      <td>86592.0</td>\n",
              "    </tr>\n",
              "  </tbody>\n",
              "</table>\n",
              "<p>5 rows × 25 columns</p>\n",
              "</div>\n",
              "      <button class=\"colab-df-convert\" onclick=\"convertToInteractive('df-88247271-6c1d-4114-b22b-57c8466b8cce')\"\n",
              "              title=\"Convert this dataframe to an interactive table.\"\n",
              "              style=\"display:none;\">\n",
              "        \n",
              "  <svg xmlns=\"http://www.w3.org/2000/svg\" height=\"24px\"viewBox=\"0 0 24 24\"\n",
              "       width=\"24px\">\n",
              "    <path d=\"M0 0h24v24H0V0z\" fill=\"none\"/>\n",
              "    <path d=\"M18.56 5.44l.94 2.06.94-2.06 2.06-.94-2.06-.94-.94-2.06-.94 2.06-2.06.94zm-11 1L8.5 8.5l.94-2.06 2.06-.94-2.06-.94L8.5 2.5l-.94 2.06-2.06.94zm10 10l.94 2.06.94-2.06 2.06-.94-2.06-.94-.94-2.06-.94 2.06-2.06.94z\"/><path d=\"M17.41 7.96l-1.37-1.37c-.4-.4-.92-.59-1.43-.59-.52 0-1.04.2-1.43.59L10.3 9.45l-7.72 7.72c-.78.78-.78 2.05 0 2.83L4 21.41c.39.39.9.59 1.41.59.51 0 1.02-.2 1.41-.59l7.78-7.78 2.81-2.81c.8-.78.8-2.07 0-2.86zM5.41 20L4 18.59l7.72-7.72 1.47 1.35L5.41 20z\"/>\n",
              "  </svg>\n",
              "      </button>\n",
              "      \n",
              "  <style>\n",
              "    .colab-df-container {\n",
              "      display:flex;\n",
              "      flex-wrap:wrap;\n",
              "      gap: 12px;\n",
              "    }\n",
              "\n",
              "    .colab-df-convert {\n",
              "      background-color: #E8F0FE;\n",
              "      border: none;\n",
              "      border-radius: 50%;\n",
              "      cursor: pointer;\n",
              "      display: none;\n",
              "      fill: #1967D2;\n",
              "      height: 32px;\n",
              "      padding: 0 0 0 0;\n",
              "      width: 32px;\n",
              "    }\n",
              "\n",
              "    .colab-df-convert:hover {\n",
              "      background-color: #E2EBFA;\n",
              "      box-shadow: 0px 1px 2px rgba(60, 64, 67, 0.3), 0px 1px 3px 1px rgba(60, 64, 67, 0.15);\n",
              "      fill: #174EA6;\n",
              "    }\n",
              "\n",
              "    [theme=dark] .colab-df-convert {\n",
              "      background-color: #3B4455;\n",
              "      fill: #D2E3FC;\n",
              "    }\n",
              "\n",
              "    [theme=dark] .colab-df-convert:hover {\n",
              "      background-color: #434B5C;\n",
              "      box-shadow: 0px 1px 3px 1px rgba(0, 0, 0, 0.15);\n",
              "      filter: drop-shadow(0px 1px 2px rgba(0, 0, 0, 0.3));\n",
              "      fill: #FFFFFF;\n",
              "    }\n",
              "  </style>\n",
              "\n",
              "      <script>\n",
              "        const buttonEl =\n",
              "          document.querySelector('#df-88247271-6c1d-4114-b22b-57c8466b8cce button.colab-df-convert');\n",
              "        buttonEl.style.display =\n",
              "          google.colab.kernel.accessAllowed ? 'block' : 'none';\n",
              "\n",
              "        async function convertToInteractive(key) {\n",
              "          const element = document.querySelector('#df-88247271-6c1d-4114-b22b-57c8466b8cce');\n",
              "          const dataTable =\n",
              "            await google.colab.kernel.invokeFunction('convertToInteractive',\n",
              "                                                     [key], {});\n",
              "          if (!dataTable) return;\n",
              "\n",
              "          const docLinkHtml = 'Like what you see? Visit the ' +\n",
              "            '<a target=\"_blank\" href=https://colab.research.google.com/notebooks/data_table.ipynb>data table notebook</a>'\n",
              "            + ' to learn more about interactive tables.';\n",
              "          element.innerHTML = '';\n",
              "          dataTable['output_type'] = 'display_data';\n",
              "          await google.colab.output.renderOutput(dataTable, element);\n",
              "          const docLink = document.createElement('div');\n",
              "          docLink.innerHTML = docLinkHtml;\n",
              "          element.appendChild(docLink);\n",
              "        }\n",
              "      </script>\n",
              "    </div>\n",
              "  </div>\n",
              "  "
            ]
          },
          "metadata": {},
          "execution_count": 30
        }
      ]
    },
    {
      "cell_type": "code",
      "source": [
        "from pyspark.sql.functions import col,asc,desc\n",
        "df.orderBy(col(\"Discount\").desc()).limit(1).toPandas()"
      ],
      "metadata": {
        "colab": {
          "base_uri": "https://localhost:8080/",
          "height": 244
        },
        "id": "Wd2_S3KJel8d",
        "outputId": "b90cc87c-fe95-4154-c51d-f26d58ad0d9f"
      },
      "execution_count": null,
      "outputs": [
        {
          "output_type": "execute_result",
          "data": {
            "text/plain": [
              "   Row ID Order Priority  Discount  Unit Price  Shipping Cost  Customer ID  \\\n",
              "0   21721       Critical      0.21       14.98           8.99         3133   \n",
              "\n",
              "        Customer Name    Ship Mode Customer Segment Product Category  ...  \\\n",
              "0  Kristine Singleton  Regular Air        Corporate        Furniture  ...   \n",
              "\n",
              "    Region State or Province        City Postal Code Order Date Ship Date  \\\n",
              "0  Central          Illinois  Naperville       60540   04-03-15  05-03-15   \n",
              "\n",
              "   Profit Quantity ordered new   Sales Order ID  \n",
              "0  -17.75                   10  153.87  86792.0  \n",
              "\n",
              "[1 rows x 25 columns]"
            ],
            "text/html": [
              "\n",
              "  <div id=\"df-65fcfefb-69aa-4c3d-a1f1-bb162d90623b\">\n",
              "    <div class=\"colab-df-container\">\n",
              "      <div>\n",
              "<style scoped>\n",
              "    .dataframe tbody tr th:only-of-type {\n",
              "        vertical-align: middle;\n",
              "    }\n",
              "\n",
              "    .dataframe tbody tr th {\n",
              "        vertical-align: top;\n",
              "    }\n",
              "\n",
              "    .dataframe thead th {\n",
              "        text-align: right;\n",
              "    }\n",
              "</style>\n",
              "<table border=\"1\" class=\"dataframe\">\n",
              "  <thead>\n",
              "    <tr style=\"text-align: right;\">\n",
              "      <th></th>\n",
              "      <th>Row ID</th>\n",
              "      <th>Order Priority</th>\n",
              "      <th>Discount</th>\n",
              "      <th>Unit Price</th>\n",
              "      <th>Shipping Cost</th>\n",
              "      <th>Customer ID</th>\n",
              "      <th>Customer Name</th>\n",
              "      <th>Ship Mode</th>\n",
              "      <th>Customer Segment</th>\n",
              "      <th>Product Category</th>\n",
              "      <th>...</th>\n",
              "      <th>Region</th>\n",
              "      <th>State or Province</th>\n",
              "      <th>City</th>\n",
              "      <th>Postal Code</th>\n",
              "      <th>Order Date</th>\n",
              "      <th>Ship Date</th>\n",
              "      <th>Profit</th>\n",
              "      <th>Quantity ordered new</th>\n",
              "      <th>Sales</th>\n",
              "      <th>Order ID</th>\n",
              "    </tr>\n",
              "  </thead>\n",
              "  <tbody>\n",
              "    <tr>\n",
              "      <th>0</th>\n",
              "      <td>21721</td>\n",
              "      <td>Critical</td>\n",
              "      <td>0.21</td>\n",
              "      <td>14.98</td>\n",
              "      <td>8.99</td>\n",
              "      <td>3133</td>\n",
              "      <td>Kristine Singleton</td>\n",
              "      <td>Regular Air</td>\n",
              "      <td>Corporate</td>\n",
              "      <td>Furniture</td>\n",
              "      <td>...</td>\n",
              "      <td>Central</td>\n",
              "      <td>Illinois</td>\n",
              "      <td>Naperville</td>\n",
              "      <td>60540</td>\n",
              "      <td>04-03-15</td>\n",
              "      <td>05-03-15</td>\n",
              "      <td>-17.75</td>\n",
              "      <td>10</td>\n",
              "      <td>153.87</td>\n",
              "      <td>86792.0</td>\n",
              "    </tr>\n",
              "  </tbody>\n",
              "</table>\n",
              "<p>1 rows × 25 columns</p>\n",
              "</div>\n",
              "      <button class=\"colab-df-convert\" onclick=\"convertToInteractive('df-65fcfefb-69aa-4c3d-a1f1-bb162d90623b')\"\n",
              "              title=\"Convert this dataframe to an interactive table.\"\n",
              "              style=\"display:none;\">\n",
              "        \n",
              "  <svg xmlns=\"http://www.w3.org/2000/svg\" height=\"24px\"viewBox=\"0 0 24 24\"\n",
              "       width=\"24px\">\n",
              "    <path d=\"M0 0h24v24H0V0z\" fill=\"none\"/>\n",
              "    <path d=\"M18.56 5.44l.94 2.06.94-2.06 2.06-.94-2.06-.94-.94-2.06-.94 2.06-2.06.94zm-11 1L8.5 8.5l.94-2.06 2.06-.94-2.06-.94L8.5 2.5l-.94 2.06-2.06.94zm10 10l.94 2.06.94-2.06 2.06-.94-2.06-.94-.94-2.06-.94 2.06-2.06.94z\"/><path d=\"M17.41 7.96l-1.37-1.37c-.4-.4-.92-.59-1.43-.59-.52 0-1.04.2-1.43.59L10.3 9.45l-7.72 7.72c-.78.78-.78 2.05 0 2.83L4 21.41c.39.39.9.59 1.41.59.51 0 1.02-.2 1.41-.59l7.78-7.78 2.81-2.81c.8-.78.8-2.07 0-2.86zM5.41 20L4 18.59l7.72-7.72 1.47 1.35L5.41 20z\"/>\n",
              "  </svg>\n",
              "      </button>\n",
              "      \n",
              "  <style>\n",
              "    .colab-df-container {\n",
              "      display:flex;\n",
              "      flex-wrap:wrap;\n",
              "      gap: 12px;\n",
              "    }\n",
              "\n",
              "    .colab-df-convert {\n",
              "      background-color: #E8F0FE;\n",
              "      border: none;\n",
              "      border-radius: 50%;\n",
              "      cursor: pointer;\n",
              "      display: none;\n",
              "      fill: #1967D2;\n",
              "      height: 32px;\n",
              "      padding: 0 0 0 0;\n",
              "      width: 32px;\n",
              "    }\n",
              "\n",
              "    .colab-df-convert:hover {\n",
              "      background-color: #E2EBFA;\n",
              "      box-shadow: 0px 1px 2px rgba(60, 64, 67, 0.3), 0px 1px 3px 1px rgba(60, 64, 67, 0.15);\n",
              "      fill: #174EA6;\n",
              "    }\n",
              "\n",
              "    [theme=dark] .colab-df-convert {\n",
              "      background-color: #3B4455;\n",
              "      fill: #D2E3FC;\n",
              "    }\n",
              "\n",
              "    [theme=dark] .colab-df-convert:hover {\n",
              "      background-color: #434B5C;\n",
              "      box-shadow: 0px 1px 3px 1px rgba(0, 0, 0, 0.15);\n",
              "      filter: drop-shadow(0px 1px 2px rgba(0, 0, 0, 0.3));\n",
              "      fill: #FFFFFF;\n",
              "    }\n",
              "  </style>\n",
              "\n",
              "      <script>\n",
              "        const buttonEl =\n",
              "          document.querySelector('#df-65fcfefb-69aa-4c3d-a1f1-bb162d90623b button.colab-df-convert');\n",
              "        buttonEl.style.display =\n",
              "          google.colab.kernel.accessAllowed ? 'block' : 'none';\n",
              "\n",
              "        async function convertToInteractive(key) {\n",
              "          const element = document.querySelector('#df-65fcfefb-69aa-4c3d-a1f1-bb162d90623b');\n",
              "          const dataTable =\n",
              "            await google.colab.kernel.invokeFunction('convertToInteractive',\n",
              "                                                     [key], {});\n",
              "          if (!dataTable) return;\n",
              "\n",
              "          const docLinkHtml = 'Like what you see? Visit the ' +\n",
              "            '<a target=\"_blank\" href=https://colab.research.google.com/notebooks/data_table.ipynb>data table notebook</a>'\n",
              "            + ' to learn more about interactive tables.';\n",
              "          element.innerHTML = '';\n",
              "          dataTable['output_type'] = 'display_data';\n",
              "          await google.colab.output.renderOutput(dataTable, element);\n",
              "          const docLink = document.createElement('div');\n",
              "          docLink.innerHTML = docLinkHtml;\n",
              "          element.appendChild(docLink);\n",
              "        }\n",
              "      </script>\n",
              "    </div>\n",
              "  </div>\n",
              "  "
            ]
          },
          "metadata": {},
          "execution_count": 54
        }
      ]
    },
    {
      "cell_type": "code",
      "source": [
        "from pyspark.sql.functions import sum, col, desc\n",
        "df.groupBy(\"Customer ID\",\"Customer Name\") \\\n",
        "  .agg(sum(\"Discount\").alias(\"sum_discount\")) \\\n",
        "  .sort(desc(\"Sum_discount\")) \\\n",
        "  .show(1)"
      ],
      "metadata": {
        "colab": {
          "base_uri": "https://localhost:8080/"
        },
        "id": "LaEuhUUHel_Q",
        "outputId": "d1a45899-7fe3-4c44-cf9a-99556ece5bba"
      },
      "execution_count": null,
      "outputs": [
        {
          "output_type": "stream",
          "name": "stdout",
          "text": [
            "+-----------+-------------+------------+\n",
            "|Customer ID|Customer Name|sum_discount|\n",
            "+-----------+-------------+------------+\n",
            "|        699|   Jenny Gold|        0.56|\n",
            "+-----------+-------------+------------+\n",
            "only showing top 1 row\n",
            "\n"
          ]
        }
      ]
    },
    {
      "cell_type": "code",
      "source": [],
      "metadata": {
        "id": "ehJWfPJcemDo"
      },
      "execution_count": null,
      "outputs": []
    },
    {
      "cell_type": "code",
      "source": [],
      "metadata": {
        "id": "C99rD6zEemFU"
      },
      "execution_count": null,
      "outputs": []
    },
    {
      "cell_type": "code",
      "source": [],
      "metadata": {
        "id": "-ppqmgD-emIW"
      },
      "execution_count": null,
      "outputs": []
    },
    {
      "cell_type": "code",
      "source": [],
      "metadata": {
        "id": "LdEUqolIemLJ"
      },
      "execution_count": null,
      "outputs": []
    },
    {
      "cell_type": "code",
      "source": [],
      "metadata": {
        "id": "WTH-g7bdemN7"
      },
      "execution_count": null,
      "outputs": []
    },
    {
      "cell_type": "code",
      "source": [],
      "metadata": {
        "id": "XykUeRyEemQ7"
      },
      "execution_count": null,
      "outputs": []
    },
    {
      "cell_type": "code",
      "source": [],
      "metadata": {
        "id": "gjYsIgMiemT1"
      },
      "execution_count": null,
      "outputs": []
    },
    {
      "cell_type": "code",
      "source": [],
      "metadata": {
        "id": "t50nIQ3kemWy"
      },
      "execution_count": null,
      "outputs": []
    },
    {
      "cell_type": "code",
      "source": [],
      "metadata": {
        "id": "tWtWNwfpemZ0"
      },
      "execution_count": null,
      "outputs": []
    },
    {
      "cell_type": "code",
      "source": [],
      "metadata": {
        "id": "u3T8Bt8gemco"
      },
      "execution_count": null,
      "outputs": []
    },
    {
      "cell_type": "code",
      "source": [],
      "metadata": {
        "id": "GRSJDeG4emfp"
      },
      "execution_count": null,
      "outputs": []
    },
    {
      "cell_type": "code",
      "source": [],
      "metadata": {
        "id": "NwztaDwwemin"
      },
      "execution_count": null,
      "outputs": []
    },
    {
      "cell_type": "code",
      "source": [],
      "metadata": {
        "id": "Rgl_zMqDemlV"
      },
      "execution_count": null,
      "outputs": []
    },
    {
      "cell_type": "code",
      "source": [],
      "metadata": {
        "id": "jjhWqnBbemoH"
      },
      "execution_count": null,
      "outputs": []
    },
    {
      "cell_type": "code",
      "source": [],
      "metadata": {
        "id": "J5sQ25CCemq_"
      },
      "execution_count": null,
      "outputs": []
    },
    {
      "cell_type": "code",
      "source": [],
      "metadata": {
        "id": "ZHb7ONQCemt0"
      },
      "execution_count": null,
      "outputs": []
    },
    {
      "cell_type": "code",
      "source": [],
      "metadata": {
        "id": "Mb8xNlXlemwq"
      },
      "execution_count": null,
      "outputs": []
    },
    {
      "cell_type": "code",
      "source": [],
      "metadata": {
        "id": "FhqXfHf0emzk"
      },
      "execution_count": null,
      "outputs": []
    },
    {
      "cell_type": "code",
      "source": [],
      "metadata": {
        "id": "iUNBMuS1em2h"
      },
      "execution_count": null,
      "outputs": []
    },
    {
      "cell_type": "code",
      "source": [],
      "metadata": {
        "id": "wYTYyzG6em5g"
      },
      "execution_count": null,
      "outputs": []
    },
    {
      "cell_type": "code",
      "source": [],
      "metadata": {
        "id": "Popf1tjyem8Y"
      },
      "execution_count": null,
      "outputs": []
    },
    {
      "cell_type": "code",
      "source": [],
      "metadata": {
        "id": "RE-5QvbGem_X"
      },
      "execution_count": null,
      "outputs": []
    },
    {
      "cell_type": "code",
      "source": [],
      "metadata": {
        "id": "zU-YweHqenCQ"
      },
      "execution_count": null,
      "outputs": []
    },
    {
      "cell_type": "code",
      "source": [],
      "metadata": {
        "id": "KhY9aH_YenE2"
      },
      "execution_count": null,
      "outputs": []
    },
    {
      "cell_type": "code",
      "source": [],
      "metadata": {
        "id": "aWzlFASfenH-"
      },
      "execution_count": null,
      "outputs": []
    },
    {
      "cell_type": "code",
      "source": [
        "from pyspark.ml.regression import LinearRegression\n",
        "\n",
        "# Load training data\n",
        "training = spark.read.format(\"libsvm\")\\\n",
        "    .load(\"data/mllib/sample_linear_regression_data.txt\")\n",
        "\n",
        "lr = LinearRegression(maxIter=10, regParam=0.3, elasticNetParam=0.8)\n",
        "\n",
        "# Fit the model\n",
        "lrModel = lr.fit(training)\n",
        "\n",
        "# Print the coefficients and intercept for linear regression\n",
        "print(\"Coefficients: %s\" % str(lrModel.coefficients))\n",
        "print(\"Intercept: %s\" % str(lrModel.intercept))\n",
        "\n",
        "# Summarize the model over the training set and print out some metrics\n",
        "trainingSummary = lrModel.summary\n",
        "print(\"numIterations: %d\" % trainingSummary.totalIterations)\n",
        "print(\"objectiveHistory: %s\" % str(trainingSummary.objectiveHistory))\n",
        "trainingSummary.residuals.show()\n",
        "print(\"RMSE: %f\" % trainingSummary.rootMeanSquaredError)\n",
        "print(\"r2: %f\" % trainingSummary.r2)"
      ],
      "metadata": {
        "colab": {
          "base_uri": "https://localhost:8080/",
          "height": 432
        },
        "id": "E_GUBFXW-4p9",
        "outputId": "1a623f70-5aba-4113-d280-c5949f23bf03"
      },
      "execution_count": null,
      "outputs": [
        {
          "output_type": "error",
          "ename": "AnalysisException",
          "evalue": "ignored",
          "traceback": [
            "\u001b[0;31m---------------------------------------------------------------------------\u001b[0m",
            "\u001b[0;31mAnalysisException\u001b[0m                         Traceback (most recent call last)",
            "\u001b[0;32m<ipython-input-12-438f4495b740>\u001b[0m in \u001b[0;36m<module>\u001b[0;34m()\u001b[0m\n\u001b[1;32m      2\u001b[0m \u001b[0;34m\u001b[0m\u001b[0m\n\u001b[1;32m      3\u001b[0m \u001b[0;31m# Load training data\u001b[0m\u001b[0;34m\u001b[0m\u001b[0;34m\u001b[0m\u001b[0;34m\u001b[0m\u001b[0m\n\u001b[0;32m----> 4\u001b[0;31m \u001b[0mtraining\u001b[0m \u001b[0;34m=\u001b[0m \u001b[0mspark\u001b[0m\u001b[0;34m.\u001b[0m\u001b[0mread\u001b[0m\u001b[0;34m.\u001b[0m\u001b[0mformat\u001b[0m\u001b[0;34m(\u001b[0m\u001b[0;34m\"libsvm\"\u001b[0m\u001b[0;34m)\u001b[0m    \u001b[0;34m.\u001b[0m\u001b[0mload\u001b[0m\u001b[0;34m(\u001b[0m\u001b[0;34m\"data/mllib/sample_linear_regression_data.txt\"\u001b[0m\u001b[0;34m)\u001b[0m\u001b[0;34m\u001b[0m\u001b[0;34m\u001b[0m\u001b[0m\n\u001b[0m\u001b[1;32m      5\u001b[0m \u001b[0;34m\u001b[0m\u001b[0m\n\u001b[1;32m      6\u001b[0m \u001b[0mlr\u001b[0m \u001b[0;34m=\u001b[0m \u001b[0mLinearRegression\u001b[0m\u001b[0;34m(\u001b[0m\u001b[0mmaxIter\u001b[0m\u001b[0;34m=\u001b[0m\u001b[0;36m10\u001b[0m\u001b[0;34m,\u001b[0m \u001b[0mregParam\u001b[0m\u001b[0;34m=\u001b[0m\u001b[0;36m0.3\u001b[0m\u001b[0;34m,\u001b[0m \u001b[0melasticNetParam\u001b[0m\u001b[0;34m=\u001b[0m\u001b[0;36m0.8\u001b[0m\u001b[0;34m)\u001b[0m\u001b[0;34m\u001b[0m\u001b[0;34m\u001b[0m\u001b[0m\n",
            "\u001b[0;32m/content/spark-3.2.1-bin-hadoop3.2/python/pyspark/sql/readwriter.py\u001b[0m in \u001b[0;36mload\u001b[0;34m(self, path, format, schema, **options)\u001b[0m\n\u001b[1;32m    156\u001b[0m         \u001b[0mself\u001b[0m\u001b[0;34m.\u001b[0m\u001b[0moptions\u001b[0m\u001b[0;34m(\u001b[0m\u001b[0;34m**\u001b[0m\u001b[0moptions\u001b[0m\u001b[0;34m)\u001b[0m\u001b[0;34m\u001b[0m\u001b[0;34m\u001b[0m\u001b[0m\n\u001b[1;32m    157\u001b[0m         \u001b[0;32mif\u001b[0m \u001b[0misinstance\u001b[0m\u001b[0;34m(\u001b[0m\u001b[0mpath\u001b[0m\u001b[0;34m,\u001b[0m \u001b[0mstr\u001b[0m\u001b[0;34m)\u001b[0m\u001b[0;34m:\u001b[0m\u001b[0;34m\u001b[0m\u001b[0;34m\u001b[0m\u001b[0m\n\u001b[0;32m--> 158\u001b[0;31m             \u001b[0;32mreturn\u001b[0m \u001b[0mself\u001b[0m\u001b[0;34m.\u001b[0m\u001b[0m_df\u001b[0m\u001b[0;34m(\u001b[0m\u001b[0mself\u001b[0m\u001b[0;34m.\u001b[0m\u001b[0m_jreader\u001b[0m\u001b[0;34m.\u001b[0m\u001b[0mload\u001b[0m\u001b[0;34m(\u001b[0m\u001b[0mpath\u001b[0m\u001b[0;34m)\u001b[0m\u001b[0;34m)\u001b[0m\u001b[0;34m\u001b[0m\u001b[0;34m\u001b[0m\u001b[0m\n\u001b[0m\u001b[1;32m    159\u001b[0m         \u001b[0;32melif\u001b[0m \u001b[0mpath\u001b[0m \u001b[0;32mis\u001b[0m \u001b[0;32mnot\u001b[0m \u001b[0;32mNone\u001b[0m\u001b[0;34m:\u001b[0m\u001b[0;34m\u001b[0m\u001b[0;34m\u001b[0m\u001b[0m\n\u001b[1;32m    160\u001b[0m             \u001b[0;32mif\u001b[0m \u001b[0mtype\u001b[0m\u001b[0;34m(\u001b[0m\u001b[0mpath\u001b[0m\u001b[0;34m)\u001b[0m \u001b[0;34m!=\u001b[0m \u001b[0mlist\u001b[0m\u001b[0;34m:\u001b[0m\u001b[0;34m\u001b[0m\u001b[0;34m\u001b[0m\u001b[0m\n",
            "\u001b[0;32m/content/spark-3.2.1-bin-hadoop3.2/python/lib/py4j-0.10.9.3-src.zip/py4j/java_gateway.py\u001b[0m in \u001b[0;36m__call__\u001b[0;34m(self, *args)\u001b[0m\n\u001b[1;32m   1320\u001b[0m         \u001b[0manswer\u001b[0m \u001b[0;34m=\u001b[0m \u001b[0mself\u001b[0m\u001b[0;34m.\u001b[0m\u001b[0mgateway_client\u001b[0m\u001b[0;34m.\u001b[0m\u001b[0msend_command\u001b[0m\u001b[0;34m(\u001b[0m\u001b[0mcommand\u001b[0m\u001b[0;34m)\u001b[0m\u001b[0;34m\u001b[0m\u001b[0;34m\u001b[0m\u001b[0m\n\u001b[1;32m   1321\u001b[0m         return_value = get_return_value(\n\u001b[0;32m-> 1322\u001b[0;31m             answer, self.gateway_client, self.target_id, self.name)\n\u001b[0m\u001b[1;32m   1323\u001b[0m \u001b[0;34m\u001b[0m\u001b[0m\n\u001b[1;32m   1324\u001b[0m         \u001b[0;32mfor\u001b[0m \u001b[0mtemp_arg\u001b[0m \u001b[0;32min\u001b[0m \u001b[0mtemp_args\u001b[0m\u001b[0;34m:\u001b[0m\u001b[0;34m\u001b[0m\u001b[0;34m\u001b[0m\u001b[0m\n",
            "\u001b[0;32m/content/spark-3.2.1-bin-hadoop3.2/python/pyspark/sql/utils.py\u001b[0m in \u001b[0;36mdeco\u001b[0;34m(*a, **kw)\u001b[0m\n\u001b[1;32m    115\u001b[0m                 \u001b[0;31m# Hide where the exception came from that shows a non-Pythonic\u001b[0m\u001b[0;34m\u001b[0m\u001b[0;34m\u001b[0m\u001b[0;34m\u001b[0m\u001b[0m\n\u001b[1;32m    116\u001b[0m                 \u001b[0;31m# JVM exception message.\u001b[0m\u001b[0;34m\u001b[0m\u001b[0;34m\u001b[0m\u001b[0;34m\u001b[0m\u001b[0m\n\u001b[0;32m--> 117\u001b[0;31m                 \u001b[0;32mraise\u001b[0m \u001b[0mconverted\u001b[0m \u001b[0;32mfrom\u001b[0m \u001b[0;32mNone\u001b[0m\u001b[0;34m\u001b[0m\u001b[0;34m\u001b[0m\u001b[0m\n\u001b[0m\u001b[1;32m    118\u001b[0m             \u001b[0;32melse\u001b[0m\u001b[0;34m:\u001b[0m\u001b[0;34m\u001b[0m\u001b[0;34m\u001b[0m\u001b[0m\n\u001b[1;32m    119\u001b[0m                 \u001b[0;32mraise\u001b[0m\u001b[0;34m\u001b[0m\u001b[0;34m\u001b[0m\u001b[0m\n",
            "\u001b[0;31mAnalysisException\u001b[0m: Path does not exist: file:/content/data/mllib/sample_linear_regression_data.txt"
          ]
        }
      ]
    },
    {
      "cell_type": "code",
      "source": [
        "from pyspark.sql import SparkSession\n",
        "spark = SparkSession.builder.appName('tree').getOrCreate()"
      ],
      "metadata": {
        "id": "sxX1JRJO-4tF"
      },
      "execution_count": null,
      "outputs": []
    },
    {
      "cell_type": "code",
      "source": [
        "data = spark.read.csv('College.csv', inferSchema=True, header=True)"
      ],
      "metadata": {
        "id": "jPtKwVLl-4wX"
      },
      "execution_count": null,
      "outputs": []
    },
    {
      "cell_type": "code",
      "source": [
        "from pyspark.ml.feature import VectorAssembler"
      ],
      "metadata": {
        "id": "yY2bYyb6-4zf"
      },
      "execution_count": null,
      "outputs": []
    },
    {
      "cell_type": "code",
      "source": [
        "assembler = VectorAssembler(inputCols=['Apps',\n",
        " 'Accept',\n",
        " 'Enroll',\n",
        " 'Top10perc',\n",
        " 'Top25perc',\n",
        " 'F_Undergrad',\n",
        " 'P_Undergrad',\n",
        " 'Outstate',\n",
        " 'Room_Board',\n",
        " 'Books',\n",
        " 'Personal',\n",
        " 'PhD',\n",
        " 'Terminal',\n",
        " 'S_F_Ratio',\n",
        " 'perc_alumni',\n",
        " 'Expend',\n",
        " 'Grad_Rate'], outputCol='features')"
      ],
      "metadata": {
        "id": "6sIBJnj2-42j"
      },
      "execution_count": null,
      "outputs": []
    },
    {
      "cell_type": "code",
      "source": [
        "output = assembler.transform(data)"
      ],
      "metadata": {
        "id": "KOI2VNua-46g"
      },
      "execution_count": null,
      "outputs": []
    },
    {
      "cell_type": "code",
      "source": [
        "from pyspark.ml.feature import StringIndexer"
      ],
      "metadata": {
        "id": "kj6qbYLh-481"
      },
      "execution_count": null,
      "outputs": []
    },
    {
      "cell_type": "code",
      "source": [
        "indexer = StringIndexer(inputCol='Private', outputCol='PrivateIndex')"
      ],
      "metadata": {
        "id": "_yM4iLLL-5A6"
      },
      "execution_count": null,
      "outputs": []
    },
    {
      "cell_type": "code",
      "source": [
        "output_fixed = indexer.fit(output).transform(output)"
      ],
      "metadata": {
        "id": "pZ_1CIQP-5C2"
      },
      "execution_count": null,
      "outputs": []
    },
    {
      "cell_type": "code",
      "source": [
        "final_data = output_fixed.select('features', 'PrivateIndex')"
      ],
      "metadata": {
        "id": "Fop0M7Ex-5Gp"
      },
      "execution_count": null,
      "outputs": []
    },
    {
      "cell_type": "code",
      "source": [
        "train_data, test_data = final_data.randomSplit([0.7,0.3])"
      ],
      "metadata": {
        "id": "yjGHEc0d-5KL"
      },
      "execution_count": null,
      "outputs": []
    },
    {
      "cell_type": "code",
      "source": [
        "train_data.describe().show()"
      ],
      "metadata": {
        "colab": {
          "base_uri": "https://localhost:8080/"
        },
        "id": "1jXwdsWE-5MQ",
        "outputId": "df520b5e-28b7-4b6e-a5fc-fa0cf8d0dbcb"
      },
      "execution_count": null,
      "outputs": [
        {
          "output_type": "stream",
          "name": "stdout",
          "text": [
            "+-------+-------------------+\n",
            "|summary|       PrivateIndex|\n",
            "+-------+-------------------+\n",
            "|  count|                526|\n",
            "|   mean|0.27566539923954375|\n",
            "| stddev|0.44727432108860093|\n",
            "|    min|                0.0|\n",
            "|    max|                1.0|\n",
            "+-------+-------------------+\n",
            "\n"
          ]
        }
      ]
    },
    {
      "cell_type": "code",
      "source": [
        "from pyspark.ml.classification import (DecisionTreeClassifier, \n",
        "                                       GBTClassifier, \n",
        "                                       RandomForestClassifier)"
      ],
      "metadata": {
        "id": "TAj1wyHE-5PW"
      },
      "execution_count": null,
      "outputs": []
    },
    {
      "cell_type": "code",
      "source": [
        "from pyspark.ml import Pipeline"
      ],
      "metadata": {
        "id": "Y0WWZuxV-5R6"
      },
      "execution_count": null,
      "outputs": []
    },
    {
      "cell_type": "code",
      "source": [
        "dtc = DecisionTreeClassifier(labelCol='PrivateIndex', featuresCol='features')\n",
        "rfc = RandomForestClassifier(labelCol='PrivateIndex', featuresCol='features', numTrees=150)\n",
        "gbt = GBTClassifier(labelCol='PrivateIndex', featuresCol='features')"
      ],
      "metadata": {
        "id": "KfSRWQWD-5VA"
      },
      "execution_count": null,
      "outputs": []
    },
    {
      "cell_type": "code",
      "source": [],
      "metadata": {
        "id": "D15bUarD-5YK"
      },
      "execution_count": null,
      "outputs": []
    },
    {
      "cell_type": "code",
      "source": [],
      "metadata": {
        "id": "lDi_MwUc3rGM"
      },
      "execution_count": null,
      "outputs": []
    },
    {
      "cell_type": "code",
      "source": [],
      "metadata": {
        "id": "CK3_rHbY3rJv"
      },
      "execution_count": null,
      "outputs": []
    },
    {
      "cell_type": "code",
      "source": [],
      "metadata": {
        "id": "2Ocgnf9o3rND"
      },
      "execution_count": null,
      "outputs": []
    },
    {
      "cell_type": "code",
      "source": [],
      "metadata": {
        "id": "kXzwKxsx3rQa"
      },
      "execution_count": null,
      "outputs": []
    },
    {
      "cell_type": "code",
      "source": [],
      "metadata": {
        "id": "iOV3UxHU3rSi"
      },
      "execution_count": null,
      "outputs": []
    },
    {
      "cell_type": "markdown",
      "source": [
        "**PySpark Examples![what-is-pyspark3.png](data:image/png;base64,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)**"
      ],
      "metadata": {
        "id": "TToGokRqszlf"
      }
    },
    {
      "cell_type": "code",
      "source": [
        "from pyspark.sql import SparkSession\n",
        "spark = SparkSession.builder.master(\"local[1]\") \\\n",
        "                    .appName('SparkByExamples.com') \\\n",
        "                    .getOrCreate()\n",
        "\n",
        "data = [(\"James\",\"Smith\",\"USA\",\"CA\"),(\"Michael\",\"Rose\",\"USA\",\"NY\"), \\\n",
        "    (\"Robert\",\"Williams\",\"USA\",\"CA\"),(\"Maria\",\"Jones\",\"USA\",\"FL\") \\\n",
        "  ]\n",
        "columns=[\"firstname\",\"lastname\",\"country\",\"state\"]\n",
        "df=spark.createDataFrame(data=data,schema=columns)\n",
        "df.show()\n",
        "print(df.collect())\n",
        "\n",
        "states1=df.rdd.map(lambda x: x[3]).collect()\n",
        "print(states1)\n",
        "#['CA', 'NY', 'CA', 'FL']\n",
        "from collections import OrderedDict \n",
        "res = list(OrderedDict.fromkeys(states1)) \n",
        "print(res)\n",
        "#['CA', 'NY', 'FL']\n",
        "\n",
        "\n",
        "#Example 2\n",
        "states2=df.rdd.map(lambda x: x.state).collect()\n",
        "print(states2)\n",
        "#['CA', 'NY', 'CA', 'FL']\n",
        "\n",
        "states3=df.select(df.state).collect()\n",
        "print(states3)\n",
        "#[Row(state='CA'), Row(state='NY'), Row(state='CA'), Row(state='FL')]\n",
        "\n",
        "states4=df.select(df.state).rdd.flatMap(lambda x: x).collect()\n",
        "print(states4)\n",
        "#['CA', 'NY', 'CA', 'FL']\n",
        "\n",
        "states5=df.select(df.state).toPandas()['state']\n",
        "states6=list(states5)\n",
        "print(states6)\n",
        "#['CA', 'NY', 'CA', 'FL']\n",
        "\n",
        "pandDF=df.select(df.state,df.firstname).toPandas()\n",
        "print(list(pandDF['state']))\n",
        "print(list(pandDF['firstname']))\n",
        "print(type(pandDF))\n",
        "print(type(states4))"
      ],
      "metadata": {
        "colab": {
          "base_uri": "https://localhost:8080/"
        },
        "id": "yYIUM_exs7d0",
        "outputId": "41dc132f-e2e9-4e02-cd6e-41312da6d425"
      },
      "execution_count": null,
      "outputs": [
        {
          "output_type": "stream",
          "name": "stdout",
          "text": [
            "+---------+--------+-------+-----+\n",
            "|firstname|lastname|country|state|\n",
            "+---------+--------+-------+-----+\n",
            "|    James|   Smith|    USA|   CA|\n",
            "|  Michael|    Rose|    USA|   NY|\n",
            "|   Robert|Williams|    USA|   CA|\n",
            "|    Maria|   Jones|    USA|   FL|\n",
            "+---------+--------+-------+-----+\n",
            "\n",
            "[Row(firstname='James', lastname='Smith', country='USA', state='CA'), Row(firstname='Michael', lastname='Rose', country='USA', state='NY'), Row(firstname='Robert', lastname='Williams', country='USA', state='CA'), Row(firstname='Maria', lastname='Jones', country='USA', state='FL')]\n",
            "['CA', 'NY', 'CA', 'FL']\n",
            "['CA', 'NY', 'FL']\n",
            "['CA', 'NY', 'CA', 'FL']\n",
            "[Row(state='CA'), Row(state='NY'), Row(state='CA'), Row(state='FL')]\n",
            "['CA', 'NY', 'CA', 'FL']\n",
            "['CA', 'NY', 'CA', 'FL']\n",
            "['CA', 'NY', 'CA', 'FL']\n",
            "['James', 'Michael', 'Robert', 'Maria']\n",
            "<class 'pandas.core.frame.DataFrame'>\n",
            "<class 'list'>\n"
          ]
        }
      ]
    },
    {
      "cell_type": "code",
      "source": [
        "59 % 10 + 59 // 10"
      ],
      "metadata": {
        "colab": {
          "base_uri": "https://localhost:8080/"
        },
        "id": "gtNr8fS9s83J",
        "outputId": "3de6dd6c-35bb-45d9-8431-9e3d7854fabc"
      },
      "execution_count": null,
      "outputs": [
        {
          "output_type": "execute_result",
          "data": {
            "text/plain": [
              "14"
            ]
          },
          "metadata": {},
          "execution_count": 16
        }
      ]
    },
    {
      "cell_type": "code",
      "source": [
        "df = spark.read.csv(\"sampledb.csv\", header=True, inferSchema=True)\n",
        "df = df.select(df.columns[:2]).take(5)\n",
        "df = spark.createDataFrame(df)\n",
        "df.show()\n",
        "df.printSchema()\n"
      ],
      "metadata": {
        "colab": {
          "base_uri": "https://localhost:8080/"
        },
        "id": "IsnU1jMHs8-T",
        "outputId": "268f5839-d1fc-4078-b322-1138db2657e3"
      },
      "execution_count": null,
      "outputs": [
        {
          "output_type": "stream",
          "name": "stdout",
          "text": [
            "+---+---+\n",
            "|  X|  Y|\n",
            "+---+---+\n",
            "| 12| 44|\n",
            "| 45| 23|\n",
            "| 67| 78|\n",
            "|  3|  0|\n",
            "|  5| 78|\n",
            "+---+---+\n",
            "\n",
            "root\n",
            " |-- X: long (nullable = true)\n",
            " |-- Y: long (nullable = true)\n",
            "\n"
          ]
        }
      ]
    },
    {
      "cell_type": "code",
      "source": [
        "from pyspark.sql.functions import lit,floor\n",
        "df.withColumn(\"Sum of digits\",floor((df.X%10)+(floor(df.X/10)%10)+(df.Y%10)+(df.Y/10)%10)).show()"
      ],
      "metadata": {
        "colab": {
          "base_uri": "https://localhost:8080/"
        },
        "id": "aS6s5kW4s9BP",
        "outputId": "f6fb1ceb-22b9-4c5a-e52e-ffbc3ec41328"
      },
      "execution_count": null,
      "outputs": [
        {
          "output_type": "stream",
          "name": "stdout",
          "text": [
            "+---+---+-------------+\n",
            "|  X|  Y|Sum of digits|\n",
            "+---+---+-------------+\n",
            "| 12| 44|           11|\n",
            "| 45| 23|           14|\n",
            "| 67| 78|           28|\n",
            "|  3|  0|            3|\n",
            "|  5| 78|           20|\n",
            "+---+---+-------------+\n",
            "\n"
          ]
        }
      ]
    },
    {
      "cell_type": "code",
      "source": [
        "import pandas as pd    \n",
        "data = [['Scott', 50], ['Jeff', 45], ['Thomas', 54],['Ann',34]] \n",
        "  \n",
        "# Create the pandas DataFrame \n",
        "pandasDF = pd.DataFrame(data, columns = ['Name', 'Age']) \n",
        "  \n",
        "# print dataframe. \n",
        "print(pandasDF)\n",
        "\n",
        "from pyspark.sql import SparkSession\n",
        "\n",
        "spark = SparkSession.builder \\\n",
        "    .master(\"local[1]\") \\\n",
        "    .appName(\"SparkByExamples.com\") \\\n",
        "    .getOrCreate()\n",
        "\n",
        "sparkDF=spark.createDataFrame(pandasDF) \n",
        "sparkDF.printSchema()\n",
        "sparkDF.show()"
      ],
      "metadata": {
        "colab": {
          "base_uri": "https://localhost:8080/"
        },
        "id": "egxz872bs9ER",
        "outputId": "8bb85f6f-43ce-41a1-fc96-dbbc334643a4"
      },
      "execution_count": null,
      "outputs": [
        {
          "output_type": "stream",
          "name": "stdout",
          "text": [
            "     Name  Age\n",
            "0   Scott   50\n",
            "1    Jeff   45\n",
            "2  Thomas   54\n",
            "3     Ann   34\n",
            "root\n",
            " |-- Name: string (nullable = true)\n",
            " |-- Age: long (nullable = true)\n",
            "\n",
            "+------+---+\n",
            "|  Name|Age|\n",
            "+------+---+\n",
            "| Scott| 50|\n",
            "|  Jeff| 45|\n",
            "|Thomas| 54|\n",
            "|   Ann| 34|\n",
            "+------+---+\n",
            "\n"
          ]
        }
      ]
    },
    {
      "cell_type": "code",
      "source": [
        "from pyspark.sql.types import StructType,StructField, StringType, IntegerType\n",
        "mySchema = StructType([ StructField(\"First Name\", StringType(), True)\\\n",
        "                       ,StructField(\"Age\", IntegerType(), True)])\n",
        "\n",
        "sparkDF2 = spark.createDataFrame(pandasDF,schema=mySchema)\n",
        "sparkDF2.printSchema()\n",
        "sparkDF2.show()\n"
      ],
      "metadata": {
        "colab": {
          "base_uri": "https://localhost:8080/"
        },
        "id": "vpcTa1Cts9HL",
        "outputId": "84940c06-50a3-41ef-f19a-3c110859a8d0"
      },
      "execution_count": null,
      "outputs": [
        {
          "output_type": "stream",
          "name": "stdout",
          "text": [
            "root\n",
            " |-- First Name: string (nullable = true)\n",
            " |-- Age: integer (nullable = true)\n",
            "\n",
            "+----------+---+\n",
            "|First Name|Age|\n",
            "+----------+---+\n",
            "|     Scott| 50|\n",
            "|      Jeff| 45|\n",
            "|    Thomas| 54|\n",
            "|       Ann| 34|\n",
            "+----------+---+\n",
            "\n"
          ]
        }
      ]
    },
    {
      "cell_type": "code",
      "source": [
        "spark.conf.set(\"spark.sql.execution.arrow.enabled\",\"true\")\n",
        "spark.conf.set(\"spark.sql.execution.arrow.pyspark.fallback.enabled\",\"true\")\n",
        "\n",
        "pandasDF2=sparkDF2.select(\"*\").toPandas\n",
        "print(pandasDF2)"
      ],
      "metadata": {
        "colab": {
          "base_uri": "https://localhost:8080/"
        },
        "id": "cJLyqD5Ys9KF",
        "outputId": "8bcd2ecf-38c7-4f19-c994-2183edab1582"
      },
      "execution_count": null,
      "outputs": [
        {
          "output_type": "stream",
          "name": "stdout",
          "text": [
            "<bound method PandasConversionMixin.toPandas of DataFrame[First Name: string, Age: int]>\n"
          ]
        }
      ]
    },
    {
      "cell_type": "code",
      "source": [
        "from pyspark.sql import SparkSession\n",
        "spark = SparkSession.builder.appName('SparkByExamples.com').getOrCreate()\n",
        "\n",
        "from pyspark.sql.functions import col,expr\n",
        "data=[(\"2019-01-23\",1),(\"2019-06-24\",2),(\"2019-09-20\",3)]\n",
        "spark.createDataFrame(data).toDF(\"date\",\"increment\") \\\n",
        "    .select(col(\"date\"),col(\"increment\"), \\\n",
        "      expr(\"add_months(to_date(date,'yyyy-MM-dd'),cast(increment as int))\").alias(\"inc_date\")) \\\n",
        "    .show()"
      ],
      "metadata": {
        "colab": {
          "base_uri": "https://localhost:8080/"
        },
        "id": "z45Q9k3js9NL",
        "outputId": "bdcc8fe9-9912-45c1-c5d3-9f167109139c"
      },
      "execution_count": null,
      "outputs": [
        {
          "output_type": "stream",
          "name": "stdout",
          "text": [
            "+----------+---------+----------+\n",
            "|      date|increment|  inc_date|\n",
            "+----------+---------+----------+\n",
            "|2019-01-23|        1|2019-02-23|\n",
            "|2019-06-24|        2|2019-08-24|\n",
            "|2019-09-20|        3|2019-12-20|\n",
            "+----------+---------+----------+\n",
            "\n"
          ]
        }
      ]
    },
    {
      "cell_type": "code",
      "source": [
        "from pyspark.sql import SparkSession\n",
        "\n",
        "spark = SparkSession.builder \\\n",
        "                    .appName('SparkByExamples.com') \\\n",
        "                    .getOrCreate()\n",
        "\n",
        "data = [('James','Smith','M',3000),\n",
        "  ('Anna','Rose','F',4100),\n",
        "  ('Robert','Williams','M',6200), \n",
        "]\n",
        "\n",
        "columns = [\"firstname\",\"lastname\",\"gender\",\"salary\"]\n",
        "df = spark.createDataFrame(data=data, schema = columns)\n",
        "df.show()\n",
        "\n",
        "\n",
        "if 'salary1' not in df.columns:\n",
        "    print(\"aa\")"
      ],
      "metadata": {
        "colab": {
          "base_uri": "https://localhost:8080/"
        },
        "id": "EjfySyk_s9QQ",
        "outputId": "d9ee01bf-85b2-41cb-f352-23f3e0b82d88"
      },
      "execution_count": null,
      "outputs": [
        {
          "output_type": "stream",
          "name": "stdout",
          "text": [
            "+---------+--------+------+------+\n",
            "|firstname|lastname|gender|salary|\n",
            "+---------+--------+------+------+\n",
            "|    James|   Smith|     M|  3000|\n",
            "|     Anna|    Rose|     F|  4100|\n",
            "|   Robert|Williams|     M|  6200|\n",
            "+---------+--------+------+------+\n",
            "\n",
            "aa\n"
          ]
        }
      ]
    },
    {
      "cell_type": "code",
      "source": [
        "# Add new constanct column\n",
        "from pyspark.sql.functions import lit\n",
        "df.withColumn(\"bonus_percent\", lit(0.3)).show()"
      ],
      "metadata": {
        "colab": {
          "base_uri": "https://localhost:8080/"
        },
        "id": "NaHZoiQTs9Tl",
        "outputId": "e304aa25-4582-4371-f5de-bbde10cd5866"
      },
      "execution_count": null,
      "outputs": [
        {
          "output_type": "stream",
          "name": "stdout",
          "text": [
            "+---------+--------+------+------+-------------+\n",
            "|firstname|lastname|gender|salary|bonus_percent|\n",
            "+---------+--------+------+------+-------------+\n",
            "|    James|   Smith|     M|  3000|          0.3|\n",
            "|     Anna|    Rose|     F|  4100|          0.3|\n",
            "|   Robert|Williams|     M|  6200|          0.3|\n",
            "+---------+--------+------+------+-------------+\n",
            "\n"
          ]
        }
      ]
    },
    {
      "cell_type": "code",
      "source": [
        "#Add column from existing column\n",
        "df.withColumn(\"bonus_amount\", df.salary*0.3).show()"
      ],
      "metadata": {
        "colab": {
          "base_uri": "https://localhost:8080/"
        },
        "id": "k5rOtwm0s9Wu",
        "outputId": "62c0a3bd-d0a8-4757-fb7a-b74b6cdbecea"
      },
      "execution_count": null,
      "outputs": [
        {
          "output_type": "stream",
          "name": "stdout",
          "text": [
            "+---------+--------+------+------+------------+\n",
            "|firstname|lastname|gender|salary|bonus_amount|\n",
            "+---------+--------+------+------+------------+\n",
            "|    James|   Smith|     M|  3000|       900.0|\n",
            "|     Anna|    Rose|     F|  4100|      1230.0|\n",
            "|   Robert|Williams|     M|  6200|      1860.0|\n",
            "+---------+--------+------+------+------------+\n",
            "\n"
          ]
        }
      ]
    },
    {
      "cell_type": "code",
      "source": [
        "#Add column by concatinating existing columns\n",
        "from pyspark.sql.functions import concat_ws\n",
        "df.withColumn(\"name\", concat_ws(\",\",\"firstname\",'lastname')) \\\n",
        "  .show()\n",
        "\n",
        "#Add current date\n",
        "from pyspark.sql.functions import current_date\n",
        "df.withColumn(\"current_date\", current_date()) \\\n",
        "  .show()\n",
        "\n",
        "\n",
        "from pyspark.sql.functions import when\n",
        "df.withColumn(\"grade\", \\\n",
        "   when((df.salary < 4000), lit(\"A\")) \\\n",
        "     .when((df.salary >= 4000) & (df.salary <= 5000), lit(\"B\")) \\\n",
        "     .otherwise(lit(\"C\")) \\\n",
        "  ).show()\n",
        "    \n",
        "# Add column using select\n",
        "df.select(\"firstname\",\"salary\", lit(0.3).alias(\"bonus\")).show()\n",
        "df.select(\"firstname\",\"salary\", lit(df.salary * 0.3).alias(\"bonus_amount\")).show()\n",
        "df.select(\"firstname\",\"salary\", current_date().alias(\"today_date\")).show()\n",
        "\n",
        "#Add columns using SQL\n",
        "df.createOrReplaceTempView(\"PER\")\n",
        "spark.sql(\"select firstname,salary, '0.3' as bonus from PER\").show()\n",
        "spark.sql(\"select firstname,salary, salary * 0.3 as bonus_amount from PER\").show()\n",
        "spark.sql(\"select firstname,salary, current_date() as today_date from PER\").show()\n",
        "spark.sql(\"select firstname,salary, \" +\n",
        "          \"case salary when salary < 4000 then 'A' \"+\n",
        "          \"else 'B' END as grade from PER\").show()"
      ],
      "metadata": {
        "colab": {
          "base_uri": "https://localhost:8080/"
        },
        "id": "sJreDzuks9Zl",
        "outputId": "9e1e3f08-a39c-431a-9200-d329e67c1b41"
      },
      "execution_count": null,
      "outputs": [
        {
          "output_type": "stream",
          "name": "stdout",
          "text": [
            "+---------+--------+------+------+---------------+\n",
            "|firstname|lastname|gender|salary|           name|\n",
            "+---------+--------+------+------+---------------+\n",
            "|    James|   Smith|     M|  3000|    James,Smith|\n",
            "|     Anna|    Rose|     F|  4100|      Anna,Rose|\n",
            "|   Robert|Williams|     M|  6200|Robert,Williams|\n",
            "+---------+--------+------+------+---------------+\n",
            "\n",
            "+---------+--------+------+------+------------+\n",
            "|firstname|lastname|gender|salary|current_date|\n",
            "+---------+--------+------+------+------------+\n",
            "|    James|   Smith|     M|  3000|  2022-03-08|\n",
            "|     Anna|    Rose|     F|  4100|  2022-03-08|\n",
            "|   Robert|Williams|     M|  6200|  2022-03-08|\n",
            "+---------+--------+------+------+------------+\n",
            "\n",
            "+---------+--------+------+------+-----+\n",
            "|firstname|lastname|gender|salary|grade|\n",
            "+---------+--------+------+------+-----+\n",
            "|    James|   Smith|     M|  3000|    A|\n",
            "|     Anna|    Rose|     F|  4100|    B|\n",
            "|   Robert|Williams|     M|  6200|    C|\n",
            "+---------+--------+------+------+-----+\n",
            "\n",
            "+---------+------+-----+\n",
            "|firstname|salary|bonus|\n",
            "+---------+------+-----+\n",
            "|    James|  3000|  0.3|\n",
            "|     Anna|  4100|  0.3|\n",
            "|   Robert|  6200|  0.3|\n",
            "+---------+------+-----+\n",
            "\n",
            "+---------+------+------------+\n",
            "|firstname|salary|bonus_amount|\n",
            "+---------+------+------------+\n",
            "|    James|  3000|       900.0|\n",
            "|     Anna|  4100|      1230.0|\n",
            "|   Robert|  6200|      1860.0|\n",
            "+---------+------+------------+\n",
            "\n",
            "+---------+------+----------+\n",
            "|firstname|salary|today_date|\n",
            "+---------+------+----------+\n",
            "|    James|  3000|2022-03-08|\n",
            "|     Anna|  4100|2022-03-08|\n",
            "|   Robert|  6200|2022-03-08|\n",
            "+---------+------+----------+\n",
            "\n",
            "+---------+------+-----+\n",
            "|firstname|salary|bonus|\n",
            "+---------+------+-----+\n",
            "|    James|  3000|  0.3|\n",
            "|     Anna|  4100|  0.3|\n",
            "|   Robert|  6200|  0.3|\n",
            "+---------+------+-----+\n",
            "\n",
            "+---------+------+------------+\n",
            "|firstname|salary|bonus_amount|\n",
            "+---------+------+------------+\n",
            "|    James|  3000|       900.0|\n",
            "|     Anna|  4100|      1230.0|\n",
            "|   Robert|  6200|      1860.0|\n",
            "+---------+------+------------+\n",
            "\n",
            "+---------+------+----------+\n",
            "|firstname|salary|today_date|\n",
            "+---------+------+----------+\n",
            "|    James|  3000|2022-03-08|\n",
            "|     Anna|  4100|2022-03-08|\n",
            "|   Robert|  6200|2022-03-08|\n",
            "+---------+------+----------+\n",
            "\n",
            "+---------+------+-----+\n",
            "|firstname|salary|grade|\n",
            "+---------+------+-----+\n",
            "|    James|  3000|    B|\n",
            "|     Anna|  4100|    B|\n",
            "|   Robert|  6200|    B|\n",
            "+---------+------+-----+\n",
            "\n"
          ]
        }
      ]
    },
    {
      "cell_type": "code",
      "source": [
        "import pyspark\n",
        "from pyspark.sql import SparkSession\n",
        "from pyspark.sql.functions import approx_count_distinct,collect_list\n",
        "from pyspark.sql.functions import collect_set,sum,avg,max,countDistinct,count\n",
        "from pyspark.sql.functions import first, last, kurtosis, min, mean, skewness \n",
        "from pyspark.sql.functions import stddev, stddev_samp, stddev_pop, sumDistinct\n",
        "from pyspark.sql.functions import variance,var_samp,  var_pop\n",
        "\n",
        "spark = SparkSession.builder.appName('SparkByExamples.com').getOrCreate()\n",
        "\n",
        "simpleData = [(\"James\", \"Sales\", 3000),\n",
        "    (\"Michael\", \"Sales\", 4600),\n",
        "    (\"Robert\", \"Sales\", 4100),\n",
        "    (\"Maria\", \"Finance\", 3000),\n",
        "    (\"James\", \"Sales\", 3000),\n",
        "    (\"Scott\", \"Finance\", 3300),\n",
        "    (\"Jen\", \"Finance\", 3900),\n",
        "    (\"Jeff\", \"Marketing\", 3000),\n",
        "    (\"Kumar\", \"Marketing\", 2000),\n",
        "    (\"Saif\", \"Sales\", 4100)\n",
        "  ]\n",
        "schema = [\"employee_name\", \"department\", \"salary\"]\n",
        "  \n",
        "  \n",
        "df = spark.createDataFrame(data=simpleData, schema = schema)\n",
        "df.printSchema()\n",
        "df.show(truncate=False)\n",
        "\n",
        "print(\"approx_count_distinct: \" + \\\n",
        "      str(df.select(approx_count_distinct(\"salary\")).collect()[0][0]))\n",
        "\n",
        "print(\"avg: \" + str(df.select(avg(\"salary\")).collect()[0][0]))\n",
        "\n",
        "df.select(collect_list(\"salary\")).show(truncate=False)\n",
        "\n",
        "df.select(collect_set(\"salary\")).show(truncate=False)\n",
        "\n",
        "df2 = df.select(countDistinct(\"department\", \"salary\"))\n",
        "df2.show(truncate=False)\n",
        "print(\"Distinct Count of Department &amp; Salary: \"+str(df2.collect()[0][0]))\n",
        "\n",
        "print(\"count: \"+str(df.select(count(\"salary\")).collect()[0]))\n",
        "df.select(first(\"salary\")).show(truncate=False)\n",
        "df.select(last(\"salary\")).show(truncate=False)\n",
        "df.select(kurtosis(\"salary\")).show(truncate=False)\n",
        "df.select(max(\"salary\")).show(truncate=False)\n",
        "df.select(min(\"salary\")).show(truncate=False)\n",
        "df.select(mean(\"salary\")).show(truncate=False)\n",
        "df.select(skewness(\"salary\")).show(truncate=False)\n",
        "df.select(stddev(\"salary\"), stddev_samp(\"salary\"), \\\n",
        "    stddev_pop(\"salary\")).show(truncate=False)\n",
        "df.select(sum(\"salary\")).show(truncate=False)\n",
        "df.select(sumDistinct(\"salary\")).show(truncate=False)\n",
        "df.select(variance(\"salary\"),var_samp(\"salary\"),var_pop(\"salary\")) \\\n",
        "  .show(truncate=False)\n"
      ],
      "metadata": {
        "colab": {
          "base_uri": "https://localhost:8080/"
        },
        "id": "xAMROcYBs9cl",
        "outputId": "ab68da11-15fb-4adf-81bd-5bfb526f632b"
      },
      "execution_count": null,
      "outputs": [
        {
          "output_type": "stream",
          "name": "stdout",
          "text": [
            "root\n",
            " |-- employee_name: string (nullable = true)\n",
            " |-- department: string (nullable = true)\n",
            " |-- salary: long (nullable = true)\n",
            "\n",
            "+-------------+----------+------+\n",
            "|employee_name|department|salary|\n",
            "+-------------+----------+------+\n",
            "|James        |Sales     |3000  |\n",
            "|Michael      |Sales     |4600  |\n",
            "|Robert       |Sales     |4100  |\n",
            "|Maria        |Finance   |3000  |\n",
            "|James        |Sales     |3000  |\n",
            "|Scott        |Finance   |3300  |\n",
            "|Jen          |Finance   |3900  |\n",
            "|Jeff         |Marketing |3000  |\n",
            "|Kumar        |Marketing |2000  |\n",
            "|Saif         |Sales     |4100  |\n",
            "+-------------+----------+------+\n",
            "\n",
            "approx_count_distinct: 6\n",
            "avg: 3400.0\n",
            "+------------------------------------------------------------+\n",
            "|collect_list(salary)                                        |\n",
            "+------------------------------------------------------------+\n",
            "|[3000, 4600, 4100, 3000, 3000, 3300, 3900, 3000, 2000, 4100]|\n",
            "+------------------------------------------------------------+\n",
            "\n",
            "+------------------------------------+\n",
            "|collect_set(salary)                 |\n",
            "+------------------------------------+\n",
            "|[4600, 3000, 3900, 4100, 3300, 2000]|\n",
            "+------------------------------------+\n",
            "\n",
            "+----------------------------------+\n",
            "|count(DISTINCT department, salary)|\n",
            "+----------------------------------+\n",
            "|8                                 |\n",
            "+----------------------------------+\n",
            "\n",
            "Distinct Count of Department &amp; Salary: 8\n",
            "count: Row(count(salary)=10)\n",
            "+-------------+\n",
            "|first(salary)|\n",
            "+-------------+\n",
            "|3000         |\n",
            "+-------------+\n",
            "\n",
            "+------------+\n",
            "|last(salary)|\n",
            "+------------+\n",
            "|4100        |\n",
            "+------------+\n",
            "\n",
            "+-------------------+\n",
            "|kurtosis(salary)   |\n",
            "+-------------------+\n",
            "|-0.6467803030303032|\n",
            "+-------------------+\n",
            "\n",
            "+-----------+\n",
            "|max(salary)|\n",
            "+-----------+\n",
            "|4600       |\n",
            "+-----------+\n",
            "\n",
            "+-----------+\n",
            "|min(salary)|\n",
            "+-----------+\n",
            "|2000       |\n",
            "+-----------+\n",
            "\n",
            "+-----------+\n",
            "|avg(salary)|\n",
            "+-----------+\n",
            "|3400.0     |\n",
            "+-----------+\n",
            "\n",
            "+--------------------+\n",
            "|skewness(salary)    |\n",
            "+--------------------+\n",
            "|-0.12041791181069571|\n",
            "+--------------------+\n",
            "\n",
            "+-------------------+-------------------+------------------+\n",
            "|stddev_samp(salary)|stddev_samp(salary)|stddev_pop(salary)|\n",
            "+-------------------+-------------------+------------------+\n",
            "|765.9416862050705  |765.9416862050705  |726.636084983398  |\n",
            "+-------------------+-------------------+------------------+\n",
            "\n",
            "+-----------+\n",
            "|sum(salary)|\n",
            "+-----------+\n",
            "|34000      |\n",
            "+-----------+\n",
            "\n"
          ]
        },
        {
          "output_type": "stream",
          "name": "stderr",
          "text": [
            "/content/spark-3.2.1-bin-hadoop3.2/python/pyspark/sql/functions.py:214: FutureWarning: Deprecated in 3.2, use sum_distinct instead.\n",
            "  warnings.warn(\"Deprecated in 3.2, use sum_distinct instead.\", FutureWarning)\n"
          ]
        },
        {
          "output_type": "stream",
          "name": "stdout",
          "text": [
            "+--------------------+\n",
            "|sum(DISTINCT salary)|\n",
            "+--------------------+\n",
            "|20900               |\n",
            "+--------------------+\n",
            "\n",
            "+-----------------+-----------------+---------------+\n",
            "|var_samp(salary) |var_samp(salary) |var_pop(salary)|\n",
            "+-----------------+-----------------+---------------+\n",
            "|586666.6666666666|586666.6666666666|528000.0       |\n",
            "+-----------------+-----------------+---------------+\n",
            "\n"
          ]
        }
      ]
    },
    {
      "cell_type": "code",
      "source": [
        "# -*- coding: utf-8 -*-\n",
        "\"\"\"\n",
        "author SparkByExamples.com\n",
        "\"\"\"\n",
        "\n",
        "import pyspark\n",
        "from pyspark.sql import SparkSession\n",
        "spark = SparkSession.builder.master(\"local[1]\") \\\n",
        "                    .appName('SparkByExamples.com') \\\n",
        "                    .getOrCreate()\n",
        "\n",
        "columns = [\"name\",\"languagesAtSchool\",\"currentState\"]\n",
        "data = [(\"James,,Smith\",[\"Java\",\"Scala\",\"C++\"],\"CA\"), \\\n",
        "    (\"Michael,Rose,\",[\"Spark\",\"Java\",\"C++\"],\"NJ\"), \\\n",
        "    (\"Robert,,Williams\",[\"CSharp\",\"VB\"],\"NV\")]\n",
        "\n",
        "df = spark.createDataFrame(data=data,schema=columns)\n",
        "df.printSchema()\n",
        "df.show(truncate=False)\n",
        "\n",
        "from pyspark.sql.functions import col, concat_ws\n",
        "df2 = df.withColumn(\"languagesAtSchool\",\n",
        "   concat_ws(\",\",col(\"languagesAtSchool\")))\n",
        "df2.printSchema()\n",
        "df2.show(truncate=False)\n",
        "\n",
        "\n",
        "df.createOrReplaceTempView(\"ARRAY_STRING\")\n",
        "spark.sql(\"select name, concat_ws(',',languagesAtSchool) as languagesAtSchool,\" + \\\n",
        "    \" currentState from ARRAY_STRING\") \\\n",
        "    .show(truncate=False)"
      ],
      "metadata": {
        "colab": {
          "base_uri": "https://localhost:8080/"
        },
        "id": "lF1mUCqYs9fq",
        "outputId": "94561ff9-1b97-47ce-d490-963facaa0000"
      },
      "execution_count": null,
      "outputs": [
        {
          "output_type": "stream",
          "name": "stdout",
          "text": [
            "root\n",
            " |-- name: string (nullable = true)\n",
            " |-- languagesAtSchool: array (nullable = true)\n",
            " |    |-- element: string (containsNull = true)\n",
            " |-- currentState: string (nullable = true)\n",
            "\n",
            "+----------------+------------------+------------+\n",
            "|name            |languagesAtSchool |currentState|\n",
            "+----------------+------------------+------------+\n",
            "|James,,Smith    |[Java, Scala, C++]|CA          |\n",
            "|Michael,Rose,   |[Spark, Java, C++]|NJ          |\n",
            "|Robert,,Williams|[CSharp, VB]      |NV          |\n",
            "+----------------+------------------+------------+\n",
            "\n",
            "root\n",
            " |-- name: string (nullable = true)\n",
            " |-- languagesAtSchool: string (nullable = false)\n",
            " |-- currentState: string (nullable = true)\n",
            "\n",
            "+----------------+-----------------+------------+\n",
            "|name            |languagesAtSchool|currentState|\n",
            "+----------------+-----------------+------------+\n",
            "|James,,Smith    |Java,Scala,C++   |CA          |\n",
            "|Michael,Rose,   |Spark,Java,C++   |NJ          |\n",
            "|Robert,,Williams|CSharp,VB        |NV          |\n",
            "+----------------+-----------------+------------+\n",
            "\n",
            "+----------------+-----------------+------------+\n",
            "|name            |languagesAtSchool|currentState|\n",
            "+----------------+-----------------+------------+\n",
            "|James,,Smith    |Java,Scala,C++   |CA          |\n",
            "|Michael,Rose,   |Spark,Java,C++   |NJ          |\n",
            "|Robert,,Williams|CSharp,VB        |NV          |\n",
            "+----------------+-----------------+------------+\n",
            "\n"
          ]
        }
      ]
    },
    {
      "cell_type": "code",
      "source": [
        "from pyspark.sql import SparkSession\n",
        "from pyspark.sql.types import StringType, ArrayType,StructType,StructField\n",
        "spark = SparkSession.builder \\\n",
        "                    .appName('SparkByExamples.com') \\\n",
        "                    .getOrCreate()\n",
        "\n",
        "\n",
        "arrayCol = ArrayType(StringType(),False)\n",
        "\n",
        "data = [\n",
        " (\"James,,Smith\",[\"Java\",\"Scala\",\"C++\"],[\"Spark\",\"Java\"],\"OH\",\"CA\"),\n",
        " (\"Michael,Rose,\",[\"Spark\",\"Java\",\"C++\"],[\"Spark\",\"Java\"],\"NY\",\"NJ\"),\n",
        " (\"Robert,,Williams\",[\"CSharp\",\"VB\"],[\"Spark\",\"Python\"],\"UT\",\"NV\")\n",
        "]\n",
        "\n",
        "schema = StructType([ \n",
        "    StructField(\"name\",StringType(),True), \n",
        "    StructField(\"languagesAtSchool\",ArrayType(StringType()),True), \n",
        "    StructField(\"languagesAtWork\",ArrayType(StringType()),True), \n",
        "    StructField(\"currentState\", StringType(), True), \n",
        "    StructField(\"previousState\", StringType(), True) \n",
        "  ])\n",
        "\n",
        "df = spark.createDataFrame(data=data,schema=schema)\n",
        "df.printSchema()\n",
        "df.show()\n",
        "\n",
        "from pyspark.sql.functions import explode\n",
        "df.select(df.name,explode(df.languagesAtSchool)).show()\n",
        "\n",
        "from pyspark.sql.functions import split\n",
        "df.select(split(df.name,\",\").alias(\"nameAsArray\")).show()\n",
        "\n",
        "from pyspark.sql.functions import array\n",
        "df.select(df.name,array(df.currentState,df.previousState).alias(\"States\")).show()\n",
        "\n",
        "from pyspark.sql.functions import array_contains\n",
        "df.select(df.name,array_contains(df.languagesAtSchool,\"Java\")\n",
        "    .alias(\"array_contains\")).show()"
      ],
      "metadata": {
        "colab": {
          "base_uri": "https://localhost:8080/"
        },
        "id": "VjfsoE4Os9ix",
        "outputId": "50cd8983-944f-4830-a9dd-b7ff0dc4b894"
      },
      "execution_count": null,
      "outputs": [
        {
          "output_type": "stream",
          "name": "stdout",
          "text": [
            "root\n",
            " |-- name: string (nullable = true)\n",
            " |-- languagesAtSchool: array (nullable = true)\n",
            " |    |-- element: string (containsNull = true)\n",
            " |-- languagesAtWork: array (nullable = true)\n",
            " |    |-- element: string (containsNull = true)\n",
            " |-- currentState: string (nullable = true)\n",
            " |-- previousState: string (nullable = true)\n",
            "\n",
            "+----------------+------------------+---------------+------------+-------------+\n",
            "|            name| languagesAtSchool|languagesAtWork|currentState|previousState|\n",
            "+----------------+------------------+---------------+------------+-------------+\n",
            "|    James,,Smith|[Java, Scala, C++]|  [Spark, Java]|          OH|           CA|\n",
            "|   Michael,Rose,|[Spark, Java, C++]|  [Spark, Java]|          NY|           NJ|\n",
            "|Robert,,Williams|      [CSharp, VB]|[Spark, Python]|          UT|           NV|\n",
            "+----------------+------------------+---------------+------------+-------------+\n",
            "\n",
            "+----------------+------+\n",
            "|            name|   col|\n",
            "+----------------+------+\n",
            "|    James,,Smith|  Java|\n",
            "|    James,,Smith| Scala|\n",
            "|    James,,Smith|   C++|\n",
            "|   Michael,Rose,| Spark|\n",
            "|   Michael,Rose,|  Java|\n",
            "|   Michael,Rose,|   C++|\n",
            "|Robert,,Williams|CSharp|\n",
            "|Robert,,Williams|    VB|\n",
            "+----------------+------+\n",
            "\n",
            "+--------------------+\n",
            "|         nameAsArray|\n",
            "+--------------------+\n",
            "|    [James, , Smith]|\n",
            "|   [Michael, Rose, ]|\n",
            "|[Robert, , Williams]|\n",
            "+--------------------+\n",
            "\n",
            "+----------------+--------+\n",
            "|            name|  States|\n",
            "+----------------+--------+\n",
            "|    James,,Smith|[OH, CA]|\n",
            "|   Michael,Rose,|[NY, NJ]|\n",
            "|Robert,,Williams|[UT, NV]|\n",
            "+----------------+--------+\n",
            "\n",
            "+----------------+--------------+\n",
            "|            name|array_contains|\n",
            "+----------------+--------------+\n",
            "|    James,,Smith|          true|\n",
            "|   Michael,Rose,|          true|\n",
            "|Robert,,Williams|         false|\n",
            "+----------------+--------------+\n",
            "\n"
          ]
        }
      ]
    },
    {
      "cell_type": "code",
      "source": [],
      "metadata": {
        "id": "k_Je3-oOs9lw"
      },
      "execution_count": null,
      "outputs": []
    },
    {
      "cell_type": "code",
      "source": [],
      "metadata": {
        "id": "3lq1uXYas9ok"
      },
      "execution_count": null,
      "outputs": []
    },
    {
      "cell_type": "code",
      "source": [],
      "metadata": {
        "id": "IAt9wNfAs9rc"
      },
      "execution_count": null,
      "outputs": []
    },
    {
      "cell_type": "code",
      "source": [
        "import pyspark\n",
        "from pyspark.sql import SparkSession\n",
        "spark = SparkSession.builder.appName('SparkByExamples.com').getOrCreate()\n",
        "\n",
        "a1 = [(\"James\",\"Smith\",\"USA\",\"CA\"),\n",
        "    (\"Michael\",\"Rose\",\"USA\",\"NY\"),\n",
        "    (\"Robert\",\"Williams\",\"USA\",\"CA\"),\n",
        "    (\"Maria\",\"Jones\",\"USA\",\"FL\")\n",
        "  ]\n",
        "a = spark.sparkContext.broadcast(a1)\n",
        "data = a.value\n",
        "print(data)\n",
        "b = a.value[2]\n",
        "print(b)"
      ],
      "metadata": {
        "colab": {
          "base_uri": "https://localhost:8080/"
        },
        "id": "64Yax71Zs9uU",
        "outputId": "22ae210b-19f6-40a0-ba18-73edc39bc811"
      },
      "execution_count": null,
      "outputs": [
        {
          "output_type": "stream",
          "name": "stdout",
          "text": [
            "[('James', 'Smith', 'USA', 'CA'), ('Michael', 'Rose', 'USA', 'NY'), ('Robert', 'Williams', 'USA', 'CA'), ('Maria', 'Jones', 'USA', 'FL')]\n",
            "('Robert', 'Williams', 'USA', 'CA')\n"
          ]
        }
      ]
    },
    {
      "cell_type": "code",
      "source": [
        "#Hash Table\n",
        "\n",
        "import pyspark\n",
        "from pyspark.sql import SparkSession\n",
        "\n",
        "spark = SparkSession.builder.appName('SparkByExamples.com').getOrCreate()\n",
        "\n",
        "data = [(\"James\", \"Sales\", 3000),\n",
        "    (\"Michael\", \"Sales\", 4600),\n",
        "    (\"Robert\", \"Sales\", 4100),\n",
        "    (\"Maria\", \"Finance\", 3000),\n",
        "    (\"James\", \"Sales\", 3000),\n",
        "    (\"Scott\", \"Finance\", 3300),\n",
        "    (\"Jen\", \"Finance\", 3900),\n",
        "    (\"Jeff\", \"Marketing\", 3000),\n",
        "    (\"Kumar\", \"Marketing\", 2000),\n",
        "    (\"Saif\", \"Sales\", 4100)\n",
        "  ]\n",
        "columns = [\"employee_name\", \"department\", \"salary\"]\n",
        "rdd = spark.sparkContext.parallelize(data)\n",
        "df = rdd.toDF(columns)\n",
        "df.show()"
      ],
      "metadata": {
        "colab": {
          "base_uri": "https://localhost:8080/"
        },
        "id": "fDZgIZ_8s9xW",
        "outputId": "55563ebf-5b3c-4c5a-85dd-efef73553795"
      },
      "execution_count": null,
      "outputs": [
        {
          "output_type": "stream",
          "name": "stdout",
          "text": [
            "+-------------+----------+------+\n",
            "|employee_name|department|salary|\n",
            "+-------------+----------+------+\n",
            "|        James|     Sales|  3000|\n",
            "|      Michael|     Sales|  4600|\n",
            "|       Robert|     Sales|  4100|\n",
            "|        Maria|   Finance|  3000|\n",
            "|        James|     Sales|  3000|\n",
            "|        Scott|   Finance|  3300|\n",
            "|          Jen|   Finance|  3900|\n",
            "|         Jeff| Marketing|  3000|\n",
            "|        Kumar| Marketing|  2000|\n",
            "|         Saif|     Sales|  4100|\n",
            "+-------------+----------+------+\n",
            "\n"
          ]
        }
      ]
    },
    {
      "cell_type": "code",
      "source": [
        "col_list=[]\n",
        "for i in df.columns:\n",
        "  col_list.append(i)\n",
        "\n",
        "print(col_list)"
      ],
      "metadata": {
        "colab": {
          "base_uri": "https://localhost:8080/"
        },
        "id": "BjJsq5Ths90a",
        "outputId": "e39fa9b7-f992-4d5e-e041-80729e5651be"
      },
      "execution_count": null,
      "outputs": [
        {
          "output_type": "stream",
          "name": "stdout",
          "text": [
            "['employee_name', 'department', 'salary']\n"
          ]
        }
      ]
    },
    {
      "cell_type": "code",
      "source": [
        "from pyspark.sql.functions import md5,concat_ws\n",
        "df = df.withColumn(\"md5\",md5(concat_ws(\"\",*col_list)))\n",
        "df.show(truncate = False)"
      ],
      "metadata": {
        "colab": {
          "base_uri": "https://localhost:8080/"
        },
        "id": "nHPkIJ3as93r",
        "outputId": "4e57bf5f-3fa1-4baf-9e23-b77216a64651"
      },
      "execution_count": null,
      "outputs": [
        {
          "output_type": "stream",
          "name": "stdout",
          "text": [
            "+-------------+----------+------+--------------------------------+\n",
            "|employee_name|department|salary|md5                             |\n",
            "+-------------+----------+------+--------------------------------+\n",
            "|James        |Sales     |3000  |23515f7cc6a48556981e949575171aa9|\n",
            "|Michael      |Sales     |4600  |24dc8d90a84bf29d04cab2232f12482a|\n",
            "|Robert       |Sales     |4100  |d1369e389260cf72227c6d0521055fa9|\n",
            "|Maria        |Finance   |3000  |af56daeeff3eee0b02890ab41159d3c2|\n",
            "|James        |Sales     |3000  |23515f7cc6a48556981e949575171aa9|\n",
            "|Scott        |Finance   |3300  |302347237977e6c5f2dfcb268d268a41|\n",
            "|Jen          |Finance   |3900  |e3d453b29823937c9466151a24fbe68d|\n",
            "|Jeff         |Marketing |3000  |260e9b781688a954fc344dbff85b59b6|\n",
            "|Kumar        |Marketing |2000  |29184fa340c122f6b123b37613139f80|\n",
            "|Saif         |Sales     |4100  |3305e345d2ca4298188eacd6aa80e8f6|\n",
            "+-------------+----------+------+--------------------------------+\n",
            "\n"
          ]
        }
      ]
    },
    {
      "cell_type": "code",
      "source": [
        "from tkinter import *\n",
        "root = Tk()\n",
        "root.wm_title(\"Your program\")\n",
        "mylist1 = []\n",
        "mylist2 = []\n",
        "mylist3 = []\n",
        "mylist4 = []\n",
        "def get_data(l,m,n,o):\n",
        "    l.append(box1.get())\n",
        "    l.append(box2.get())\n",
        "    m.append(box1.get())\n",
        "    m.append(box2.get())\n",
        "    n.append(box1.get())\n",
        "    n.append(box2.get())\n",
        "    o.append(box1.get())\n",
        "    o.append(box2.get())\n",
        "    print(l)\n",
        "    print(m)\n",
        "    print(n)\n",
        "    print(o)\n",
        "var1 = StringVar()\n",
        "var1.set(\"Name:\")\n",
        "var2 = StringVar()\n",
        "var2.set(\"Mobile:\")\n",
        "label1 = Label(root,textvariable=var1,height = 2)\n",
        "label1.grid(row=0,column=0)\n",
        "label2 = Label(root,textvariable=var2,height = 2)\n",
        "label2.grid(row=1,column=0)\n",
        "Name=StringVar()\n",
        "Mobile=StringVar()\n",
        "box1=Entry(root,bd=4,textvariable=Name)\n",
        "box1.grid(row=0,column=1)\n",
        "box2=Entry(root,bd=4,textvariable=Mobile)\n",
        "box2.grid(row=1,column=1)\n",
        "botonA= Button(root, text = \"Submit\",command=lambda: get_data(mylist1,mylist2,mylist3,mylist4), width=5)\n",
        "botonA.grid(row=3,column=1)\n",
        "root.mainloop()\n"
      ],
      "metadata": {
        "colab": {
          "base_uri": "https://localhost:8080/",
          "height": 374
        },
        "id": "d2KpwO8fs96v",
        "outputId": "2e662f85-df94-4940-9f63-bb3737f9885d"
      },
      "execution_count": null,
      "outputs": [
        {
          "output_type": "error",
          "ename": "TclError",
          "evalue": "ignored",
          "traceback": [
            "\u001b[0;31m---------------------------------------------------------------------------\u001b[0m",
            "\u001b[0;31mTclError\u001b[0m                                  Traceback (most recent call last)",
            "\u001b[0;32m<ipython-input-50-f62cab8202cb>\u001b[0m in \u001b[0;36m<module>\u001b[0;34m()\u001b[0m\n\u001b[1;32m      1\u001b[0m \u001b[0;32mfrom\u001b[0m \u001b[0mtkinter\u001b[0m \u001b[0;32mimport\u001b[0m \u001b[0;34m*\u001b[0m\u001b[0;34m\u001b[0m\u001b[0;34m\u001b[0m\u001b[0m\n\u001b[0;32m----> 2\u001b[0;31m \u001b[0mroot\u001b[0m \u001b[0;34m=\u001b[0m \u001b[0mTk\u001b[0m\u001b[0;34m(\u001b[0m\u001b[0;34m)\u001b[0m\u001b[0;34m\u001b[0m\u001b[0;34m\u001b[0m\u001b[0m\n\u001b[0m\u001b[1;32m      3\u001b[0m \u001b[0mroot\u001b[0m\u001b[0;34m.\u001b[0m\u001b[0mwm_title\u001b[0m\u001b[0;34m(\u001b[0m\u001b[0;34m\"Your program\"\u001b[0m\u001b[0;34m)\u001b[0m\u001b[0;34m\u001b[0m\u001b[0;34m\u001b[0m\u001b[0m\n\u001b[1;32m      4\u001b[0m \u001b[0mmylist1\u001b[0m \u001b[0;34m=\u001b[0m \u001b[0;34m[\u001b[0m\u001b[0;34m]\u001b[0m\u001b[0;34m\u001b[0m\u001b[0;34m\u001b[0m\u001b[0m\n\u001b[1;32m      5\u001b[0m \u001b[0mmylist2\u001b[0m \u001b[0;34m=\u001b[0m \u001b[0;34m[\u001b[0m\u001b[0;34m]\u001b[0m\u001b[0;34m\u001b[0m\u001b[0;34m\u001b[0m\u001b[0m\n",
            "\u001b[0;32m/usr/lib/python3.7/tkinter/__init__.py\u001b[0m in \u001b[0;36m__init__\u001b[0;34m(self, screenName, baseName, className, useTk, sync, use)\u001b[0m\n\u001b[1;32m   2021\u001b[0m                 \u001b[0mbaseName\u001b[0m \u001b[0;34m=\u001b[0m \u001b[0mbaseName\u001b[0m \u001b[0;34m+\u001b[0m \u001b[0mext\u001b[0m\u001b[0;34m\u001b[0m\u001b[0;34m\u001b[0m\u001b[0m\n\u001b[1;32m   2022\u001b[0m         \u001b[0minteractive\u001b[0m \u001b[0;34m=\u001b[0m \u001b[0;36m0\u001b[0m\u001b[0;34m\u001b[0m\u001b[0;34m\u001b[0m\u001b[0m\n\u001b[0;32m-> 2023\u001b[0;31m         \u001b[0mself\u001b[0m\u001b[0;34m.\u001b[0m\u001b[0mtk\u001b[0m \u001b[0;34m=\u001b[0m \u001b[0m_tkinter\u001b[0m\u001b[0;34m.\u001b[0m\u001b[0mcreate\u001b[0m\u001b[0;34m(\u001b[0m\u001b[0mscreenName\u001b[0m\u001b[0;34m,\u001b[0m \u001b[0mbaseName\u001b[0m\u001b[0;34m,\u001b[0m \u001b[0mclassName\u001b[0m\u001b[0;34m,\u001b[0m \u001b[0minteractive\u001b[0m\u001b[0;34m,\u001b[0m \u001b[0mwantobjects\u001b[0m\u001b[0;34m,\u001b[0m \u001b[0museTk\u001b[0m\u001b[0;34m,\u001b[0m \u001b[0msync\u001b[0m\u001b[0;34m,\u001b[0m \u001b[0muse\u001b[0m\u001b[0;34m)\u001b[0m\u001b[0;34m\u001b[0m\u001b[0;34m\u001b[0m\u001b[0m\n\u001b[0m\u001b[1;32m   2024\u001b[0m         \u001b[0;32mif\u001b[0m \u001b[0museTk\u001b[0m\u001b[0;34m:\u001b[0m\u001b[0;34m\u001b[0m\u001b[0;34m\u001b[0m\u001b[0m\n\u001b[1;32m   2025\u001b[0m             \u001b[0mself\u001b[0m\u001b[0;34m.\u001b[0m\u001b[0m_loadtk\u001b[0m\u001b[0;34m(\u001b[0m\u001b[0;34m)\u001b[0m\u001b[0;34m\u001b[0m\u001b[0;34m\u001b[0m\u001b[0m\n",
            "\u001b[0;31mTclError\u001b[0m: no display name and no $DISPLAY environment variable"
          ]
        }
      ]
    },
    {
      "cell_type": "code",
      "source": [
        "\n",
        "from pyspark.sql import SparkSession\n",
        "spark = SparkSession.builder.appName('ey').getOrCreate()\n",
        "\n",
        "from pyspark.sql.functions import expr\n",
        "#Concatenate columns\n",
        "data=[(\"James\",\"Bond\"),(\"Scott\",\"Varsa\")] \n",
        "df=spark.createDataFrame(data).toDF(\"col1\",\"col2\") \n",
        "df.withColumn(\"Name\",expr(\" col1 ||','|| col2\")).show()\n",
        "\n",
        "#Using CASE WHEN sql expression\n",
        "data = [(\"James\",\"M\"),(\"Michael\",\"F\"),(\"Jen\",\"\")]\n",
        "columns = [\"name\",\"gender\"]\n",
        "df = spark.createDataFrame(data = data, schema = columns)\n",
        "df2 = df.withColumn(\"gender\", expr(\"CASE WHEN gender = 'M' THEN 'Male' \" +\n",
        "           \"WHEN gender = 'F' THEN 'Female' ELSE 'unknown' END\"))\n",
        "df2.show()\n",
        "\n",
        "#Add months from a value of another column\n",
        "data=[(\"2019-01-23\",1),(\"2019-06-24\",2),(\"2019-09-20\",3)] \n",
        "df=spark.createDataFrame(data).toDF(\"date\",\"increment\") \n",
        "df.select(df.date,df.increment,\n",
        "     expr(\"add_months(date,increment)\")\n",
        "  .alias(\"inc_date\")).show()\n",
        "\n",
        "# Providing alias using 'as'\n",
        "df.select(df.date,df.increment,\n",
        "     expr(\"\"\"add_months(date,increment) as inc_date\"\"\")\n",
        "  ).show()\n",
        "\n",
        "# Add\n",
        "df.select(df.date,df.increment,\n",
        "     expr(\"increment + 5 as new_increment\")\n",
        "  ).show()\n",
        "\n",
        "df.select(\"increment\",expr(\"cast(increment as string) as str_increment\")) \\\n",
        "  .printSchema()\n",
        "#Use expr()  to filter the rows\n",
        "data=[(100,2),(200,3000),(500,500)] \n",
        "df=spark.createDataFrame(data).toDF(\"col1\",\"col2\") \n",
        "df.filter(expr(\"col1 == col2\")).show()"
      ],
      "metadata": {
        "colab": {
          "base_uri": "https://localhost:8080/"
        },
        "id": "Pl0qu_-4s9-Z",
        "outputId": "53067a8b-adc9-4b5b-eebf-3b422fdb4f1a"
      },
      "execution_count": null,
      "outputs": [
        {
          "output_type": "stream",
          "name": "stdout",
          "text": [
            "+-----+-----+-----------+\n",
            "| col1| col2|       Name|\n",
            "+-----+-----+-----------+\n",
            "|James| Bond| James,Bond|\n",
            "|Scott|Varsa|Scott,Varsa|\n",
            "+-----+-----+-----------+\n",
            "\n",
            "+-------+-------+\n",
            "|   name| gender|\n",
            "+-------+-------+\n",
            "|  James|   Male|\n",
            "|Michael| Female|\n",
            "|    Jen|unknown|\n",
            "+-------+-------+\n",
            "\n",
            "+----------+---------+----------+\n",
            "|      date|increment|  inc_date|\n",
            "+----------+---------+----------+\n",
            "|2019-01-23|        1|2019-02-23|\n",
            "|2019-06-24|        2|2019-08-24|\n",
            "|2019-09-20|        3|2019-12-20|\n",
            "+----------+---------+----------+\n",
            "\n",
            "+----------+---------+----------+\n",
            "|      date|increment|  inc_date|\n",
            "+----------+---------+----------+\n",
            "|2019-01-23|        1|2019-02-23|\n",
            "|2019-06-24|        2|2019-08-24|\n",
            "|2019-09-20|        3|2019-12-20|\n",
            "+----------+---------+----------+\n",
            "\n",
            "+----------+---------+-------------+\n",
            "|      date|increment|new_increment|\n",
            "+----------+---------+-------------+\n",
            "|2019-01-23|        1|            6|\n",
            "|2019-06-24|        2|            7|\n",
            "|2019-09-20|        3|            8|\n",
            "+----------+---------+-------------+\n",
            "\n",
            "root\n",
            " |-- increment: long (nullable = true)\n",
            " |-- str_increment: string (nullable = true)\n",
            "\n",
            "+----+----+\n",
            "|col1|col2|\n",
            "+----+----+\n",
            "| 500| 500|\n",
            "+----+----+\n",
            "\n"
          ]
        }
      ]
    },
    {
      "cell_type": "code",
      "source": [
        "import pyspark\n",
        "from pyspark.sql import SparkSession\n",
        "from pyspark.sql.types import StructType,StructField, StringType, IntegerType, ArrayType\n",
        "from pyspark.sql.functions import col,array_contains\n",
        "\n",
        "spark = SparkSession.builder.appName('SparkByExamples.com').getOrCreate()\n",
        "\n",
        "arrayStructureData = [\n",
        "        ((\"James\",\"\",\"Smith\"),[\"Java\",\"Scala\",\"C++\"],\"OH\",\"M\"),\n",
        "        ((\"Anna\",\"Rose\",\"\"),[\"Spark\",\"Java\",\"C++\"],\"NY\",\"F\"),\n",
        "        ((\"Julia\",\"\",\"Williams\"),[\"CSharp\",\"VB\"],\"OH\",\"F\"),\n",
        "        ((\"Maria\",\"Anne\",\"Jones\"),[\"CSharp\",\"VB\"],\"NY\",\"M\"),\n",
        "        ((\"Jen\",\"Mary\",\"Brown\"),[\"CSharp\",\"VB\"],\"NY\",\"M\"),\n",
        "        ((\"Mike\",\"Mary\",\"Williams\"),[\"Python\",\"VB\"],\"OH\",\"M\")\n",
        "        ]\n",
        "        \n",
        "arrayStructureSchema = StructType([\n",
        "        StructField('name', StructType([\n",
        "             StructField('firstname', StringType(), True),\n",
        "             StructField('middlename', StringType(), True),\n",
        "             StructField('lastname', StringType(), True)\n",
        "             ])),\n",
        "         StructField('languages', ArrayType(StringType()), True),\n",
        "         StructField('state', StringType(), True),\n",
        "         StructField('gender', StringType(), True)\n",
        "         ])\n",
        "\n",
        "\n",
        "df = spark.createDataFrame(data = arrayStructureData, schema = arrayStructureSchema)\n",
        "df.printSchema()\n",
        "df.show(truncate=False)\n",
        "\n",
        "#Equals\n",
        "df.filter(df.state == \"OH\") \\\n",
        "    .show(truncate=False)\n",
        "\n",
        "#Not equals\n",
        "df.filter(~(df.state == \"OH\")) \\\n",
        "    .show(truncate=False)\n",
        "df.filter(df.state != \"OH\") \\\n",
        "    .show(truncate=False)    \n",
        "    \n",
        "df.filter(col(\"state\") == \"OH\") \\\n",
        "    .show(truncate=False)    \n",
        "    \n",
        "df.filter(\"gender  == 'M'\") \\\n",
        "    .show(truncate=False)    \n",
        "\n",
        "df.filter(\"gender  <> 'M'\") \\\n",
        "    .show(truncate=False)    \n",
        "\n",
        "#IS IN\n",
        "li=[\"OH\",\"CA\",\"DE\"]\n",
        "df.filter(df.state.isin(li)).show()\n",
        "#IS NOT IN\n",
        "df.filter(~df.state.isin(li)).show()\n",
        "\n",
        "df.filter( (df.state  == \"OH\") & (df.gender  == \"M\") ) \\\n",
        "    .show(truncate=False)        \n",
        "\n",
        "df.filter(array_contains(df.languages,\"Java\")) \\\n",
        "    .show(truncate=False)        \n",
        "\n",
        "df.filter(df.name.lastname == \"Williams\") \\\n",
        "    .show(truncate=False) \n",
        "\n",
        "df.filter(df.state.startswith(\"N\")).show()\n",
        "df.filter(df.state.endswith(\"H\")).show()\n",
        "df.filter(df.state.like(\"N%\")).show()\n",
        "    "
      ],
      "metadata": {
        "colab": {
          "base_uri": "https://localhost:8080/"
        },
        "id": "RAXyGe26s-O6",
        "outputId": "2543833e-b527-4e68-fe55-8eb4a6367506"
      },
      "execution_count": null,
      "outputs": [
        {
          "output_type": "stream",
          "name": "stdout",
          "text": [
            "root\n",
            " |-- name: struct (nullable = true)\n",
            " |    |-- firstname: string (nullable = true)\n",
            " |    |-- middlename: string (nullable = true)\n",
            " |    |-- lastname: string (nullable = true)\n",
            " |-- languages: array (nullable = true)\n",
            " |    |-- element: string (containsNull = true)\n",
            " |-- state: string (nullable = true)\n",
            " |-- gender: string (nullable = true)\n",
            "\n",
            "+----------------------+------------------+-----+------+\n",
            "|name                  |languages         |state|gender|\n",
            "+----------------------+------------------+-----+------+\n",
            "|{James, , Smith}      |[Java, Scala, C++]|OH   |M     |\n",
            "|{Anna, Rose, }        |[Spark, Java, C++]|NY   |F     |\n",
            "|{Julia, , Williams}   |[CSharp, VB]      |OH   |F     |\n",
            "|{Maria, Anne, Jones}  |[CSharp, VB]      |NY   |M     |\n",
            "|{Jen, Mary, Brown}    |[CSharp, VB]      |NY   |M     |\n",
            "|{Mike, Mary, Williams}|[Python, VB]      |OH   |M     |\n",
            "+----------------------+------------------+-----+------+\n",
            "\n",
            "+----------------------+------------------+-----+------+\n",
            "|name                  |languages         |state|gender|\n",
            "+----------------------+------------------+-----+------+\n",
            "|{James, , Smith}      |[Java, Scala, C++]|OH   |M     |\n",
            "|{Julia, , Williams}   |[CSharp, VB]      |OH   |F     |\n",
            "|{Mike, Mary, Williams}|[Python, VB]      |OH   |M     |\n",
            "+----------------------+------------------+-----+------+\n",
            "\n",
            "+--------------------+------------------+-----+------+\n",
            "|name                |languages         |state|gender|\n",
            "+--------------------+------------------+-----+------+\n",
            "|{Anna, Rose, }      |[Spark, Java, C++]|NY   |F     |\n",
            "|{Maria, Anne, Jones}|[CSharp, VB]      |NY   |M     |\n",
            "|{Jen, Mary, Brown}  |[CSharp, VB]      |NY   |M     |\n",
            "+--------------------+------------------+-----+------+\n",
            "\n",
            "+--------------------+------------------+-----+------+\n",
            "|name                |languages         |state|gender|\n",
            "+--------------------+------------------+-----+------+\n",
            "|{Anna, Rose, }      |[Spark, Java, C++]|NY   |F     |\n",
            "|{Maria, Anne, Jones}|[CSharp, VB]      |NY   |M     |\n",
            "|{Jen, Mary, Brown}  |[CSharp, VB]      |NY   |M     |\n",
            "+--------------------+------------------+-----+------+\n",
            "\n",
            "+----------------------+------------------+-----+------+\n",
            "|name                  |languages         |state|gender|\n",
            "+----------------------+------------------+-----+------+\n",
            "|{James, , Smith}      |[Java, Scala, C++]|OH   |M     |\n",
            "|{Julia, , Williams}   |[CSharp, VB]      |OH   |F     |\n",
            "|{Mike, Mary, Williams}|[Python, VB]      |OH   |M     |\n",
            "+----------------------+------------------+-----+------+\n",
            "\n",
            "+----------------------+------------------+-----+------+\n",
            "|name                  |languages         |state|gender|\n",
            "+----------------------+------------------+-----+------+\n",
            "|{James, , Smith}      |[Java, Scala, C++]|OH   |M     |\n",
            "|{Maria, Anne, Jones}  |[CSharp, VB]      |NY   |M     |\n",
            "|{Jen, Mary, Brown}    |[CSharp, VB]      |NY   |M     |\n",
            "|{Mike, Mary, Williams}|[Python, VB]      |OH   |M     |\n",
            "+----------------------+------------------+-----+------+\n",
            "\n",
            "+-------------------+------------------+-----+------+\n",
            "|name               |languages         |state|gender|\n",
            "+-------------------+------------------+-----+------+\n",
            "|{Anna, Rose, }     |[Spark, Java, C++]|NY   |F     |\n",
            "|{Julia, , Williams}|[CSharp, VB]      |OH   |F     |\n",
            "+-------------------+------------------+-----+------+\n",
            "\n",
            "+--------------------+------------------+-----+------+\n",
            "|                name|         languages|state|gender|\n",
            "+--------------------+------------------+-----+------+\n",
            "|    {James, , Smith}|[Java, Scala, C++]|   OH|     M|\n",
            "| {Julia, , Williams}|      [CSharp, VB]|   OH|     F|\n",
            "|{Mike, Mary, Will...|      [Python, VB]|   OH|     M|\n",
            "+--------------------+------------------+-----+------+\n",
            "\n",
            "+--------------------+------------------+-----+------+\n",
            "|                name|         languages|state|gender|\n",
            "+--------------------+------------------+-----+------+\n",
            "|      {Anna, Rose, }|[Spark, Java, C++]|   NY|     F|\n",
            "|{Maria, Anne, Jones}|      [CSharp, VB]|   NY|     M|\n",
            "|  {Jen, Mary, Brown}|      [CSharp, VB]|   NY|     M|\n",
            "+--------------------+------------------+-----+------+\n",
            "\n",
            "+----------------------+------------------+-----+------+\n",
            "|name                  |languages         |state|gender|\n",
            "+----------------------+------------------+-----+------+\n",
            "|{James, , Smith}      |[Java, Scala, C++]|OH   |M     |\n",
            "|{Mike, Mary, Williams}|[Python, VB]      |OH   |M     |\n",
            "+----------------------+------------------+-----+------+\n",
            "\n",
            "+----------------+------------------+-----+------+\n",
            "|name            |languages         |state|gender|\n",
            "+----------------+------------------+-----+------+\n",
            "|{James, , Smith}|[Java, Scala, C++]|OH   |M     |\n",
            "|{Anna, Rose, }  |[Spark, Java, C++]|NY   |F     |\n",
            "+----------------+------------------+-----+------+\n",
            "\n",
            "+----------------------+------------+-----+------+\n",
            "|name                  |languages   |state|gender|\n",
            "+----------------------+------------+-----+------+\n",
            "|{Julia, , Williams}   |[CSharp, VB]|OH   |F     |\n",
            "|{Mike, Mary, Williams}|[Python, VB]|OH   |M     |\n",
            "+----------------------+------------+-----+------+\n",
            "\n",
            "+--------------------+------------------+-----+------+\n",
            "|                name|         languages|state|gender|\n",
            "+--------------------+------------------+-----+------+\n",
            "|      {Anna, Rose, }|[Spark, Java, C++]|   NY|     F|\n",
            "|{Maria, Anne, Jones}|      [CSharp, VB]|   NY|     M|\n",
            "|  {Jen, Mary, Brown}|      [CSharp, VB]|   NY|     M|\n",
            "+--------------------+------------------+-----+------+\n",
            "\n",
            "+--------------------+------------------+-----+------+\n",
            "|                name|         languages|state|gender|\n",
            "+--------------------+------------------+-----+------+\n",
            "|    {James, , Smith}|[Java, Scala, C++]|   OH|     M|\n",
            "| {Julia, , Williams}|      [CSharp, VB]|   OH|     F|\n",
            "|{Mike, Mary, Will...|      [Python, VB]|   OH|     M|\n",
            "+--------------------+------------------+-----+------+\n",
            "\n",
            "+--------------------+------------------+-----+------+\n",
            "|                name|         languages|state|gender|\n",
            "+--------------------+------------------+-----+------+\n",
            "|      {Anna, Rose, }|[Spark, Java, C++]|   NY|     F|\n",
            "|{Maria, Anne, Jones}|      [CSharp, VB]|   NY|     M|\n",
            "|  {Jen, Mary, Brown}|      [CSharp, VB]|   NY|     M|\n",
            "+--------------------+------------------+-----+------+\n",
            "\n"
          ]
        }
      ]
    },
    {
      "cell_type": "code",
      "source": [],
      "metadata": {
        "id": "e2U4hUMvs-So"
      },
      "execution_count": null,
      "outputs": []
    },
    {
      "cell_type": "code",
      "source": [],
      "metadata": {
        "id": "k102qHKFs-Vt"
      },
      "execution_count": null,
      "outputs": []
    },
    {
      "cell_type": "code",
      "source": [],
      "metadata": {
        "id": "r1Tcs8Jvs-Yn"
      },
      "execution_count": null,
      "outputs": []
    },
    {
      "cell_type": "code",
      "source": [],
      "metadata": {
        "id": "X8iIeFpps-cN"
      },
      "execution_count": null,
      "outputs": []
    },
    {
      "cell_type": "code",
      "source": [],
      "metadata": {
        "id": "JrWOPzPVs-fN"
      },
      "execution_count": null,
      "outputs": []
    },
    {
      "cell_type": "code",
      "source": [],
      "metadata": {
        "id": "atl5fWgSs-hx"
      },
      "execution_count": null,
      "outputs": []
    },
    {
      "cell_type": "code",
      "source": [],
      "metadata": {
        "id": "8Z3cdQZZs-kt"
      },
      "execution_count": null,
      "outputs": []
    },
    {
      "cell_type": "code",
      "source": [],
      "metadata": {
        "id": "L3a7LSWfs-nt"
      },
      "execution_count": null,
      "outputs": []
    },
    {
      "cell_type": "code",
      "source": [],
      "metadata": {
        "id": "imxMa0nCs-qZ"
      },
      "execution_count": null,
      "outputs": []
    },
    {
      "cell_type": "code",
      "source": [],
      "metadata": {
        "id": "pyBE1q0is-tl"
      },
      "execution_count": null,
      "outputs": []
    },
    {
      "cell_type": "code",
      "source": [],
      "metadata": {
        "id": "u06AdLocs-we"
      },
      "execution_count": null,
      "outputs": []
    },
    {
      "cell_type": "code",
      "source": [],
      "metadata": {
        "id": "h5W80cLes-zc"
      },
      "execution_count": null,
      "outputs": []
    },
    {
      "cell_type": "code",
      "source": [
        "!wget https://bin.equinox.io/c/4VmDzA7iaHb/ngrok-stable-linux-amd64.zip\n",
        "!unzip ngrok-stable-linux-amd64.zip\n",
        "get_ipython().system_raw('./ngrok http 4050 &')\n",
        "!curl -s http://localhost:4040/api/tunnels"
      ],
      "metadata": {
        "colab": {
          "base_uri": "https://localhost:8080/"
        },
        "id": "C0aT0qJEosSo",
        "outputId": "b3665932-3a26-4acb-d036-a048f0f7a70c"
      },
      "execution_count": null,
      "outputs": [
        {
          "output_type": "stream",
          "name": "stdout",
          "text": [
            "--2021-12-18 05:06:21--  https://bin.equinox.io/c/4VmDzA7iaHb/ngrok-stable-linux-amd64.zip\n",
            "Resolving bin.equinox.io (bin.equinox.io)... 52.202.168.65, 18.205.222.128, 54.161.241.46, ...\n",
            "Connecting to bin.equinox.io (bin.equinox.io)|52.202.168.65|:443... connected.\n",
            "HTTP request sent, awaiting response... 200 OK\n",
            "Length: 13832437 (13M) [application/octet-stream]\n",
            "Saving to: ‘ngrok-stable-linux-amd64.zip’\n",
            "\n",
            "ngrok-stable-linux- 100%[===================>]  13.19M  5.57MB/s    in 2.4s    \n",
            "\n",
            "2021-12-18 05:06:24 (5.57 MB/s) - ‘ngrok-stable-linux-amd64.zip’ saved [13832437/13832437]\n",
            "\n",
            "Archive:  ngrok-stable-linux-amd64.zip\n",
            "  inflating: ngrok                   \n",
            "{\"tunnels\":[],\"uri\":\"/api/tunnels\"}\n"
          ]
        }
      ]
    },
    {
      "cell_type": "code",
      "source": [
        "df = spark.read.csv(\"Flipkart.csv\", header=True, inferSchema=True)"
      ],
      "metadata": {
        "id": "6Upl5hPjosVn"
      },
      "execution_count": null,
      "outputs": []
    },
    {
      "cell_type": "code",
      "source": [
        "df.show(5)"
      ],
      "metadata": {
        "colab": {
          "base_uri": "https://localhost:8080/"
        },
        "id": "OBFa-RYmqwY7",
        "outputId": "cfcca4a9-e4b2-4ed7-9a33-4b38eb7abcbb"
      },
      "execution_count": null,
      "outputs": [
        {
          "output_type": "stream",
          "name": "stdout",
          "text": [
            "+------+--------------+--------+----------+-------------+-----------+-----------------+--------------+----------------+----------------+--------------------+-----------------+--------------------+-------------------+-------------+-------+-----------------+-----------+-----------+----------+---------+---------+--------------------+-------+--------+\n",
            "|Row ID|Order Priority|Discount|Unit Price|Shipping Cost|Customer ID|    Customer Name|     Ship Mode|Customer Segment|Product Category|Product Sub-Category|Product Container|        Product Name|Product Base Margin|      Country| Region|State or Province|       City|Postal Code|Order Date|Ship Date|   Profit|Quantity ordered new|  Sales|Order ID|\n",
            "+------+--------------+--------+----------+-------------+-----------+-----------------+--------------+----------------+----------------+--------------------+-----------------+--------------------+-------------------+-------------+-------+-----------------+-----------+-----------+----------+---------+---------+--------------------+-------+--------+\n",
            "| 20847|          High|    0.01|      2.84|         0.93|          3|    Bonnie Potter|   Express Air|       Corporate| Office Supplies| Pens & Art Supplies|         Wrap Bag|SANFORD Liquid Ac...|               0.54|United States|   West|       Washington|  Anacortes|      98221|  07-01-15| 08-01-15|     4.56|                   4|  13.01| 88522.0|\n",
            "| 20228| Not Specified|    0.02|    500.98|         26.0|          5|   Ronnie Proctor|Delivery Truck|     Home Office|       Furniture|  Chairs & Chairmats|       Jumbo Drum|Global Troy� Exec...|                0.6|United States|   West|       California|San Gabriel|      91776|  13-06-15| 15-06-15|4390.3665|                  12|6362.85| 90193.0|\n",
            "| 21776|      Critical|    0.06|      9.48|         7.29|         11|    Marcus Dunlap|   Regular Air|     Home Office|       Furniture|  Office Furnishings|       Small Pack|DAX Two-Tone Rose...|               0.45|United States|   East|       New Jersey|    Roselle|       7203|  15-02-15| 17-02-15| -53.8096|                  22| 211.15| 90192.0|\n",
            "| 24844|        Medium|    0.09|     78.69|        19.99|         14|Gwendolyn F Tyson|   Regular Air|  Small Business|       Furniture|  Office Furnishings|        Small Box|Howard Miller 12-...|               0.43|United States|Central|        Minnesota| Prior Lake|      55372|  12-05-15| 14-05-15| 803.4705|                  16|1164.45| 86838.0|\n",
            "| 24846|        Medium|    0.08|      3.28|         2.31|         14|Gwendolyn F Tyson|   Regular Air|  Small Business| Office Supplies| Pens & Art Supplies|         Wrap Bag|          Newell 321|               0.56|United States|Central|        Minnesota| Prior Lake|      55372|  12-05-15| 13-05-15|   -24.03|                   7|  22.23| 86838.0|\n",
            "+------+--------------+--------+----------+-------------+-----------+-----------------+--------------+----------------+----------------+--------------------+-----------------+--------------------+-------------------+-------------+-------+-----------------+-----------+-----------+----------+---------+---------+--------------------+-------+--------+\n",
            "only showing top 5 rows\n",
            "\n"
          ]
        }
      ]
    },
    {
      "cell_type": "code",
      "source": [
        "df1 = spark.read.csv(\"Flipkart.csv\", header=True, inferSchema=True)\n",
        "df1.show(10)"
      ],
      "metadata": {
        "colab": {
          "base_uri": "https://localhost:8080/"
        },
        "id": "GjXFHU6JqwkK",
        "outputId": "4f60fced-b019-4c56-b5a9-e9459b3a3b76"
      },
      "execution_count": null,
      "outputs": [
        {
          "output_type": "stream",
          "name": "stdout",
          "text": [
            "+------+--------------+--------+----------+-------------+-----------+-----------------+--------------+----------------+----------------+--------------------+-----------------+--------------------+-------------------+-------------+-------+-----------------+-----------+-----------+----------+---------+---------+--------------------+-------+--------+\n",
            "|Row ID|Order Priority|Discount|Unit Price|Shipping Cost|Customer ID|    Customer Name|     Ship Mode|Customer Segment|Product Category|Product Sub-Category|Product Container|        Product Name|Product Base Margin|      Country| Region|State or Province|       City|Postal Code|Order Date|Ship Date|   Profit|Quantity ordered new|  Sales|Order ID|\n",
            "+------+--------------+--------+----------+-------------+-----------+-----------------+--------------+----------------+----------------+--------------------+-----------------+--------------------+-------------------+-------------+-------+-----------------+-----------+-----------+----------+---------+---------+--------------------+-------+--------+\n",
            "| 20847|          High|    0.01|      2.84|         0.93|          3|    Bonnie Potter|   Express Air|       Corporate| Office Supplies| Pens & Art Supplies|         Wrap Bag|SANFORD Liquid Ac...|               0.54|United States|   West|       Washington|  Anacortes|      98221|  07-01-15| 08-01-15|     4.56|                   4|  13.01| 88522.0|\n",
            "| 20228| Not Specified|    0.02|    500.98|         26.0|          5|   Ronnie Proctor|Delivery Truck|     Home Office|       Furniture|  Chairs & Chairmats|       Jumbo Drum|Global Troy� Exec...|                0.6|United States|   West|       California|San Gabriel|      91776|  13-06-15| 15-06-15|4390.3665|                  12|6362.85| 90193.0|\n",
            "| 21776|      Critical|    0.06|      9.48|         7.29|         11|    Marcus Dunlap|   Regular Air|     Home Office|       Furniture|  Office Furnishings|       Small Pack|DAX Two-Tone Rose...|               0.45|United States|   East|       New Jersey|    Roselle|       7203|  15-02-15| 17-02-15| -53.8096|                  22| 211.15| 90192.0|\n",
            "| 24844|        Medium|    0.09|     78.69|        19.99|         14|Gwendolyn F Tyson|   Regular Air|  Small Business|       Furniture|  Office Furnishings|        Small Box|Howard Miller 12-...|               0.43|United States|Central|        Minnesota| Prior Lake|      55372|  12-05-15| 14-05-15| 803.4705|                  16|1164.45| 86838.0|\n",
            "| 24846|        Medium|    0.08|      3.28|         2.31|         14|Gwendolyn F Tyson|   Regular Air|  Small Business| Office Supplies| Pens & Art Supplies|         Wrap Bag|          Newell 321|               0.56|United States|Central|        Minnesota| Prior Lake|      55372|  12-05-15| 13-05-15|   -24.03|                   7|  22.23| 86838.0|\n",
            "| 24847|        Medium|    0.05|      3.28|          4.2|         14|Gwendolyn F Tyson|   Regular Air|  Small Business| Office Supplies| Pens & Art Supplies|         Wrap Bag|          Newell 351|               0.56|United States|Central|        Minnesota| Prior Lake|      55372|  12-05-15| 13-05-15|   -37.03|                   4|  13.99| 86838.0|\n",
            "| 24848|        Medium|    0.05|      3.58|         1.63|         14|Gwendolyn F Tyson|   Regular Air|  Small Business| Office Supplies|        Rubber Bands|         Wrap Bag|OIC Colored Binde...|               0.36|United States|Central|        Minnesota| Prior Lake|      55372|  12-05-15| 13-05-15|    -0.71|                   4|  14.26| 86838.0|\n",
            "| 18181|      Critical|     0.0|      4.42|         4.99|         15|    Timothy Reese|   Regular Air|  Small Business| Office Supplies|           Envelopes|        Small Box| Grip Seal Envelopes|               0.38|United States|   East|         New York|  Smithtown|      11787|  08-04-15| 09-04-15|   -59.82|                   7|  33.47| 86837.0|\n",
            "| 20925|        Medium|    0.01|     35.94|         6.66|         15|    Timothy Reese|   Regular Air|  Small Business| Office Supplies|           Envelopes|        Small Box|Tyvek � Top-Openi...|                0.4|United States|   East|         New York|  Smithtown|      11787|  28-05-15| 28-05-15| 261.8757|                  10| 379.53| 86839.0|\n",
            "| 26267|          High|    0.04|      2.98|         1.58|         16|     Sarah Ramsey|   Regular Air|  Small Business| Office Supplies|        Rubber Bands|         Wrap Bag|Staples Gold Pape...|               0.39|United States|   East|         New York|   Syracuse|      13210|  12-02-15| 15-02-15|     2.63|                   6|   18.8| 86836.0|\n",
            "+------+--------------+--------+----------+-------------+-----------+-----------------+--------------+----------------+----------------+--------------------+-----------------+--------------------+-------------------+-------------+-------+-----------------+-----------+-----------+----------+---------+---------+--------------------+-------+--------+\n",
            "only showing top 10 rows\n",
            "\n"
          ]
        }
      ]
    },
    {
      "cell_type": "code",
      "source": [
        "#Q1. Print top five customers as per sales values.\n",
        "\n",
        "from pyspark.sql.functions import sum, col, desc\n",
        "df1.groupBy(\"Customer ID\",\"Customer Name\").agg(sum(\"Sales\").alias(\"sum_sales\")).sort(desc(\"Sum_sales\")).show(5)\n",
        "\n",
        "\n"
      ],
      "metadata": {
        "colab": {
          "base_uri": "https://localhost:8080/"
        },
        "id": "X0Fg-UaDqwmM",
        "outputId": "b64f687b-fe7f-444c-c5eb-c90d3abc44f3"
      },
      "execution_count": null,
      "outputs": [
        {
          "output_type": "stream",
          "name": "stdout",
          "text": [
            "+-----------+-----------------+------------------+\n",
            "|Customer ID|    Customer Name|         sum_sales|\n",
            "+-----------+-----------------+------------------+\n",
            "|        553|Kristine Connolly|          50475.31|\n",
            "|       1733| Nina Horne Kelly|          48295.12|\n",
            "|        491|     Toni Swanson|          32194.12|\n",
            "|       2571| Rosemary O'Brien|          29916.01|\n",
            "|       2670|      Yvonne Mann|28779.129999999997|\n",
            "+-----------+-----------------+------------------+\n",
            "only showing top 5 rows\n",
            "\n"
          ]
        }
      ]
    },
    {
      "cell_type": "code",
      "source": [
        "#Q2. Print  customer name who took maximum discounts\n",
        "\n",
        "from pyspark.sql.functions import sum, col, desc\n",
        "df1.groupBy(\"Customer ID\",\"Customer Name\") \\\n",
        "  .agg(sum(\"Discount\").alias(\"sum_discount\")) \\\n",
        "  .sort(desc(\"Sum_discount\")) \\\n",
        "  .show(1)"
      ],
      "metadata": {
        "id": "jwWnJa9Bqwoa",
        "colab": {
          "base_uri": "https://localhost:8080/"
        },
        "outputId": "9baeb385-2a6b-4a20-ba77-036bc9a65948"
      },
      "execution_count": null,
      "outputs": [
        {
          "output_type": "stream",
          "name": "stdout",
          "text": [
            "+-----------+-------------+------------+\n",
            "|Customer ID|Customer Name|sum_discount|\n",
            "+-----------+-------------+------------+\n",
            "|        699|   Jenny Gold|        0.56|\n",
            "+-----------+-------------+------------+\n",
            "only showing top 1 row\n",
            "\n"
          ]
        }
      ]
    },
    {
      "cell_type": "code",
      "source": [
        "#Q3. Print all customers starting from “A” where ship mode is “Express Air”\n",
        "from pyspark.sql.functions import col\n",
        "df2 =df1.filter(col(\"Customer Name\").startswith(\"A\")).where(col(\"Ship Mode\") == \"Express Air\")\n",
        "df2.show()"
      ],
      "metadata": {
        "colab": {
          "base_uri": "https://localhost:8080/"
        },
        "id": "H63UXA2Xqw7j",
        "outputId": "bf3f80cc-3c98-4889-f428-406761b953f1"
      },
      "execution_count": null,
      "outputs": [
        {
          "output_type": "stream",
          "name": "stdout",
          "text": [
            "+------+--------------+--------+----------+-------------+-----------+--------------------+-----------+----------------+----------------+--------------------+-----------------+--------------------+-------------------+-------------+-------+-----------------+----------------+-----------+----------+---------+----------+--------------------+--------+--------+\n",
            "|Row ID|Order Priority|Discount|Unit Price|Shipping Cost|Customer ID|       Customer Name|  Ship Mode|Customer Segment|Product Category|Product Sub-Category|Product Container|        Product Name|Product Base Margin|      Country| Region|State or Province|            City|Postal Code|Order Date|Ship Date|    Profit|Quantity ordered new|   Sales|Order ID|\n",
            "+------+--------------+--------+----------+-------------+-----------+--------------------+-----------+----------------+----------------+--------------------+-----------------+--------------------+-------------------+-------------+-------+-----------------+----------------+-----------+----------+---------+----------+--------------------+--------+--------+\n",
            "| 20919|          High|     0.1|      8.88|         6.28|        387|         Angela Howe|Express Air|       Corporate| Office Supplies|Binders and Binde...|        Small Box|GBC Instant Index...|               0.35|United States|Central|         Nebraska|    Grand Island|      68801|  12-06-15| 14-06-15| -27.28375|                  15|   126.9| 90339.0|\n",
            "| 23200|        Medium|    0.02|    150.98|        13.99|        522|         Aaron Riggs|Express Air|  Small Business|      Technology|     Office Machines|       Medium Box|Canon MP41DH Prin...|               0.38|United States|   West|           Oregon|         Redmond|      97756|  22-06-15| 24-06-15|      26.1|                   3|  480.37| 89327.0|\n",
            "| 22015|      Critical|    0.09|    154.13|         69.0|        605|Alison Peters Wooten|Express Air|       Corporate|       Furniture|              Tables|        Large Box|Laminate Occasion...|               0.68|United States|   East|         New York|      West Islip|      11795|  14-03-15| 15-03-15|-1763.7477|                  10| 1494.63| 91144.0|\n",
            "| 25055| Not Specified|     0.0|      2.78|         1.49|        653|            Ann Katz|Express Air|        Consumer| Office Supplies|Binders and Binde...|        Small Box|Wilson Jones Sued...|               0.36|United States|   West|       California|Rancho Cucamonga|      91730|  16-04-15| 17-04-15|   20.6448|                   9|   29.92| 91213.0|\n",
            "| 21354|      Critical|    0.05|     35.99|         5.99|        858|        Arthur Brady|Express Air|       Corporate|      Technology|Telephones and Co...|         Wrap Bag|         Accessory41|               0.38|United States|   East|            Maine|        Lewiston|       4240|  30-04-15| 02-05-15|-125.83296|                   2|   64.89| 88571.0|\n",
            "| 24224|      Critical|    0.09|      9.11|         2.15|       1155|      Alex Nicholson|Express Air|        Consumer| Office Supplies|               Paper|         Wrap Bag|\"Black Print Carb...|                0.4|United States|   West|       California|      Montebello|      90640|  02-01-15| 04-01-15|   20.2996|                   4|   34.41| 90853.0|\n",
            "| 21808|          High|    0.08|     20.99|          3.3|       1484|      Alison Stewart|Express Air|     Home Office|      Technology|Telephones and Co...|       Small Pack|         Accessory39|               0.81|United States|Central|         Illinois|     Des Plaines|      60016|  11-03-15| 11-03-15|   -96.338|                  11|  193.51| 91235.0|\n",
            "| 21746| Not Specified|    0.09|     77.51|          4.0|       1814|        Albert Tyson|Express Air|     Home Office|      Technology|Computer Peripherals|        Small Box|Micro Innovations...|               0.76|United States|  South|      Mississippi|    Olive Branch|      38654|  23-05-15| 25-05-15|  -986.524|                  17| 1300.54| 90524.0|\n",
            "| 21699|           Low|     0.1|      3.98|         2.97|       2089|          Annie Odom|Express Air|       Corporate| Office Supplies|               Paper|         Wrap Bag| Unpadded Memo Slips|               0.35|United States|   East|         New York|        New City|      10956|  30-06-15| 04-07-15|    -5.385|                   5|   20.54| 88348.0|\n",
            "| 19914| Not Specified|    0.08|     95.99|         35.0|       2211|          Anita Hahn|Express Air|     Home Office| Office Supplies|Storage & Organiz...|        Large Box|Safco Industrial ...|               null|United States|   East|         Maryland|           Bowie|      20715|  01-01-15| 03-01-15| -425.2084|                   2|  193.88| 88028.0|\n",
            "| 19460|        Medium|    0.02|      17.7|         9.47|       2285|  Arnold Floyd Blair|Express Air|       Corporate| Office Supplies|Storage & Organiz...|        Small Box|Portfile� Persona...|               0.59|United States|  South|   South Carolina|       Rock Hill|      29730|  13-03-15| 15-03-15|   -85.022|                  21|   374.6| 90148.0|\n",
            "| 19817|        Medium|    0.09|      3.89|         7.01|       2422|Arlene Wiggins Da...|Express Air|     Home Office| Office Supplies|Binders and Binde...|        Small Box| Avery Binder Labels|               0.37|United States|Central|            Texas|      Huntsville|      77340|  22-01-15| 24-01-15|  -154.307|                  10|   42.56| 89055.0|\n",
            "| 19971|           Low|    0.02|     50.98|        13.66|       2613|     Anthony Stanley|Express Air|       Corporate| Office Supplies|          Appliances|        Small Box|Eureka The Boss� ...|               0.58|United States|   East|       New Jersey|           Fords|       8863|  24-01-15| 24-01-15|    -25.76|                   1|   68.45| 86119.0|\n",
            "|  4788|          High|    0.05|      4.84|         0.71|       2618|  Amy Hamrick Melvin|Express Air|       Corporate| Office Supplies| Pens & Art Supplies|         Wrap Bag|*Staples* Highlig...|               0.52|United States|   East|         New York|   New York City|      10004|  23-03-15| 23-03-15|     29.17|                  20|  103.39| 34017.0|\n",
            "| 25594|           Low|    0.05|    100.97|         7.18|       2638|    Alicia Wood Shah|Express Air|        Consumer|      Technology|Computer Peripherals|        Small Box|Gyration Ultra Co...|               0.46|United States|   West|            Idaho|           Boise|      83704|  08-06-15| 08-06-15|  881.4681|                  13| 1277.49| 90951.0|\n",
            "| 20097|          High|    0.05|    205.99|         8.99|       2778|        Alison Jones|Express Air|        Consumer|      Technology|Telephones and Co...|        Small Box|     Talkabout T8097|               0.58|United States|  South|   North Carolina|      Wilmington|      28403|  11-02-15| 12-02-15|  111.0525|                  12| 2118.99| 87160.0|\n",
            "|  5689|           Low|    0.05|     63.94|        14.48|       2882|     Andrew Gonzalez|Express Air|        Consumer|       Furniture|  Office Furnishings|        Small Box|\"Howard Miller 16...|               0.46|United States|  South|   North Carolina|       Charlotte|      28206|  30-06-15| 07-07-15|  270.8743|                  21| 1336.35| 40224.0|\n",
            "|  7492| Not Specified|    0.01|    193.17|        19.99|       3079|       Andrew Levine|Express Air|  Small Business| Office Supplies|Storage & Organiz...|        Small Box|Fellowes Staxonst...|               0.71|United States|   East|     Pennsylvania|    Philadelphia|      19112|  11-06-15| 11-06-15|   1141.07|                  63|12190.98| 53476.0|\n",
            "|  6807|      Critical|     0.0|      2.21|          1.0|       3079|       Andrew Levine|Express Air|  Small Business| Office Supplies| Pens & Art Supplies|         Wrap Bag|Quartet Alpha� Wh...|               0.38|United States|   East|     Pennsylvania|    Philadelphia|      19112|  10-06-15| 11-06-15|     10.01|                  33|   87.18| 48483.0|\n",
            "| 22293| Not Specified|    0.01|      9.48|         7.29|       3226|         Arthur Gold|Express Air|  Small Business|       Furniture|  Office Furnishings|       Small Pack|DAX Two-Tone Rose...|               0.45|United States|  South|        Tennessee|  Hendersonville|      37075|  14-01-15| 16-01-15|  238.9338|                   1|    12.9| 86507.0|\n",
            "+------+--------------+--------+----------+-------------+-----------+--------------------+-----------+----------------+----------------+--------------------+-----------------+--------------------+-------------------+-------------+-------+-----------------+----------------+-----------+----------+---------+----------+--------------------+--------+--------+\n",
            "only showing top 20 rows\n",
            "\n"
          ]
        }
      ]
    },
    {
      "cell_type": "code",
      "source": [
        "#Q4. Find the relation between shipping cost and ship mode\n",
        "\n",
        "from pyspark.sql.functions import sum, col, desc, asc\n",
        "df1.groupBy(\"Ship Mode\") \\\n",
        "  .agg(sum(\"Shipping Cost\").alias(\"sum_Shipping Cost\")) \\\n",
        "  .sort(desc(\"sum_Shipping Cost\")).show()"
      ],
      "metadata": {
        "id": "zsMmrSNcyVv8",
        "colab": {
          "base_uri": "https://localhost:8080/"
        },
        "outputId": "1ba274a6-82f4-4c58-a766-ac29e8661d03"
      },
      "execution_count": null,
      "outputs": [
        {
          "output_type": "stream",
          "name": "stdout",
          "text": [
            "+--------------+------------------+\n",
            "|     Ship Mode| sum_Shipping Cost|\n",
            "+--------------+------------------+\n",
            "|Delivery Truck|12137.800000000007|\n",
            "|   Regular Air|10984.569999999962|\n",
            "|   Express Air| 2191.459999999999|\n",
            "+--------------+------------------+\n",
            "\n"
          ]
        }
      ]
    },
    {
      "cell_type": "code",
      "source": [
        "#Q5. Find product category where shipping cost is very high and very low.\n",
        "from pyspark.sql.functions import sum, col, desc, asc\n",
        "df1.groupBy(\"Product Category\") \\\n",
        "  .agg(sum(\"Shipping Cost\").alias(\"sum_Shipping Cost\")) \\\n",
        "  .sort(desc(\"sum_Shipping Cost\")).show(1)\n",
        "df1.groupBy(\"Product Category\") \\\n",
        "  .agg(sum(\"Shipping Cost\").alias(\"sum_Shipping Cost\")) \\\n",
        "  .sort(asc(\"sum_Shipping Cost\")) \\\n",
        "  .show(1)"
      ],
      "metadata": {
        "id": "My95PMuGyvjF",
        "colab": {
          "base_uri": "https://localhost:8080/"
        },
        "outputId": "8aca28de-9e06-4c15-c29c-7f7839aca0c4"
      },
      "execution_count": null,
      "outputs": [
        {
          "output_type": "stream",
          "name": "stdout",
          "text": [
            "+----------------+------------------+\n",
            "|Product Category| sum_Shipping Cost|\n",
            "+----------------+------------------+\n",
            "|       Furniture|12318.240000000003|\n",
            "+----------------+------------------+\n",
            "only showing top 1 row\n",
            "\n",
            "+----------------+-----------------+\n",
            "|Product Category|sum_Shipping Cost|\n",
            "+----------------+-----------------+\n",
            "|      Technology|4545.139999999976|\n",
            "+----------------+-----------------+\n",
            "only showing top 1 row\n",
            "\n"
          ]
        }
      ]
    },
    {
      "cell_type": "code",
      "source": [
        "from pyspark.sql import SparkSession\n",
        "spark = SparkSession.builder.master(\"local[1]\") \\\n",
        "                    .appName('IBM') \\\n",
        "                    .getOrCreate()\n",
        "\n",
        "data = [(\"James\",\"Smith\",\"USA\",\"CA\"),(\"Michael\",\"Rose\",\"USA\",\"NY\"), \\\n",
        "    (\"Robert\",\"Williams\",\"India\",\"CA\"),(\"Maria\",\"Jones\",\"UAE\",\"FL\") \\\n",
        "  ]\n",
        "columns=[\"firstname\",\"lastname\",\"country\",\"state\"]\n",
        "df=spark.createDataFrame(data=data,schema=columns)\n",
        "df.show()\n",
        "print(df.collect())"
      ],
      "metadata": {
        "colab": {
          "base_uri": "https://localhost:8080/"
        },
        "id": "P3ev8S1CX0uX",
        "outputId": "8424a34f-b6ba-41a0-f415-a1648c94f362"
      },
      "execution_count": null,
      "outputs": [
        {
          "output_type": "stream",
          "name": "stdout",
          "text": [
            "+---------+--------+-------+-----+\n",
            "|firstname|lastname|country|state|\n",
            "+---------+--------+-------+-----+\n",
            "|    James|   Smith|    USA|   CA|\n",
            "|  Michael|    Rose|    USA|   NY|\n",
            "|   Robert|Williams|  India|   CA|\n",
            "|    Maria|   Jones|    UAE|   FL|\n",
            "+---------+--------+-------+-----+\n",
            "\n",
            "[Row(firstname='James', lastname='Smith', country='USA', state='CA'), Row(firstname='Michael', lastname='Rose', country='USA', state='NY'), Row(firstname='Robert', lastname='Williams', country='India', state='CA'), Row(firstname='Maria', lastname='Jones', country='UAE', state='FL')]\n"
          ]
        }
      ]
    },
    {
      "cell_type": "code",
      "source": [
        "states1=df.rdd.map(lambda x: x[2]).collect()\n",
        "print(states1)"
      ],
      "metadata": {
        "colab": {
          "base_uri": "https://localhost:8080/"
        },
        "id": "anPIXZX6X0xX",
        "outputId": "54260925-e451-44b1-c51e-9398d66ad4dd"
      },
      "execution_count": null,
      "outputs": [
        {
          "output_type": "stream",
          "name": "stdout",
          "text": [
            "['USA', 'USA', 'India', 'UAE']\n"
          ]
        }
      ]
    },
    {
      "cell_type": "code",
      "source": [
        "from collections import OrderedDict \n",
        "res = list(OrderedDict.fromkeys(states1)) \n",
        "print(res)"
      ],
      "metadata": {
        "colab": {
          "base_uri": "https://localhost:8080/"
        },
        "id": "gjLpiTJBX001",
        "outputId": "7172f14b-b591-4c55-a6ad-67be6b0bcdad"
      },
      "execution_count": null,
      "outputs": [
        {
          "output_type": "stream",
          "name": "stdout",
          "text": [
            "['USA', 'India', 'UAE']\n"
          ]
        }
      ]
    },
    {
      "cell_type": "code",
      "source": [
        "states5=df.select(df.state).toPandas()['state']\n",
        "states6=list(states5)\n",
        "print(states6)"
      ],
      "metadata": {
        "colab": {
          "base_uri": "https://localhost:8080/"
        },
        "id": "s5JpUzDvX03o",
        "outputId": "255a777d-b45c-4944-d4c5-eea94337fec6"
      },
      "execution_count": null,
      "outputs": [
        {
          "output_type": "stream",
          "name": "stdout",
          "text": [
            "['CA', 'NY', 'CA', 'FL']\n"
          ]
        }
      ]
    },
    {
      "cell_type": "code",
      "source": [
        "import pyspark\n",
        "from pyspark.sql import SparkSession\n",
        "from pyspark.sql.functions import col\n",
        "from pyspark.sql.functions import to_timestamp, current_timestamp\n",
        "from pyspark.sql.types import StructType, StructField, StringType, IntegerType, LongType\n",
        "\n",
        "spark = SparkSession.builder.appName('SparkByExamples.com').getOrCreate()\n",
        "\n",
        "schema = StructType([\n",
        "            StructField(\"seq\", StringType(), True)])\n",
        "\n",
        "dates = [['1']]\n",
        "\n",
        "df = spark.createDataFrame(dates, schema=schema)\n",
        "df.withColumn(withColumn(\"CTS\",current_timestamp().show()))"
      ],
      "metadata": {
        "colab": {
          "base_uri": "https://localhost:8080/",
          "height": 200
        },
        "id": "ReqdH3X_X06b",
        "outputId": "8079f67b-43ac-4fbd-e6d1-e36ba10b3951"
      },
      "execution_count": null,
      "outputs": [
        {
          "output_type": "error",
          "ename": "NameError",
          "evalue": "ignored",
          "traceback": [
            "\u001b[0;31m---------------------------------------------------------------------------\u001b[0m",
            "\u001b[0;31mNameError\u001b[0m                                 Traceback (most recent call last)",
            "\u001b[0;32m<ipython-input-38-9dcddd8d59e3>\u001b[0m in \u001b[0;36m<module>\u001b[0;34m()\u001b[0m\n\u001b[1;32m     13\u001b[0m \u001b[0;34m\u001b[0m\u001b[0m\n\u001b[1;32m     14\u001b[0m \u001b[0mdf\u001b[0m \u001b[0;34m=\u001b[0m \u001b[0mspark\u001b[0m\u001b[0;34m.\u001b[0m\u001b[0mcreateDataFrame\u001b[0m\u001b[0;34m(\u001b[0m\u001b[0mdates\u001b[0m\u001b[0;34m,\u001b[0m \u001b[0mschema\u001b[0m\u001b[0;34m=\u001b[0m\u001b[0mschema\u001b[0m\u001b[0;34m)\u001b[0m\u001b[0;34m\u001b[0m\u001b[0;34m\u001b[0m\u001b[0m\n\u001b[0;32m---> 15\u001b[0;31m \u001b[0mdf\u001b[0m\u001b[0;34m.\u001b[0m\u001b[0mwithColumn\u001b[0m\u001b[0;34m(\u001b[0m\u001b[0mwithColumn\u001b[0m\u001b[0;34m(\u001b[0m\u001b[0;34m\"CTS\"\u001b[0m\u001b[0;34m,\u001b[0m\u001b[0mcurrent_timestamp\u001b[0m\u001b[0;34m(\u001b[0m\u001b[0;34m)\u001b[0m\u001b[0;34m.\u001b[0m\u001b[0mshow\u001b[0m\u001b[0;34m(\u001b[0m\u001b[0;34m)\u001b[0m\u001b[0;34m)\u001b[0m\u001b[0;34m)\u001b[0m\u001b[0;34m\u001b[0m\u001b[0;34m\u001b[0m\u001b[0m\n\u001b[0m",
            "\u001b[0;31mNameError\u001b[0m: name 'withColumn' is not defined"
          ]
        }
      ]
    },
    {
      "cell_type": "code",
      "source": [
        "from pyspark.sql import SparkSession\n",
        "# Create SparkSession\n",
        "spark = SparkSession.builder \\\n",
        "               .appName('SparkByExamples.com') \\\n",
        "               .getOrCreate()\n",
        "data=[[\"1\"]]\n",
        "df=spark.createDataFrame(data,[\"id\"])\n",
        "from pyspark.sql.functions import *\n",
        "df.withColumn(\"current_date\",current_date()) \\\n",
        "  .withColumn(\"current_timestamp\",current_timestamp()) \\\n",
        "  .show(truncate=False)"
      ],
      "metadata": {
        "colab": {
          "base_uri": "https://localhost:8080/"
        },
        "id": "-tidm54aX09d",
        "outputId": "af3222f7-3608-45db-ea86-2f6d34f11bf1"
      },
      "execution_count": null,
      "outputs": [
        {
          "output_type": "stream",
          "name": "stdout",
          "text": [
            "+---+------------+-----------------------+\n",
            "|id |current_date|current_timestamp      |\n",
            "+---+------------+-----------------------+\n",
            "|1  |2021-12-09  |2021-12-09 04:48:08.525|\n",
            "+---+------------+-----------------------+\n",
            "\n"
          ]
        }
      ]
    },
    {
      "cell_type": "code",
      "source": [
        "\n",
        "from pyspark.sql import SparkSession\n",
        "spark = SparkSession.builder.appName('SparkByExamples.com').getOrCreate()\n",
        "\n",
        "from pyspark.sql.functions import col,expr\n",
        "\n",
        "data=[(\"2019-01-23\",1),(\"2019-06-24\",2),(\"2019-09-20\",3)]\n",
        "\n",
        "spark.createDataFrame(data).toDF(\"date\",\"increment\") \\\n",
        "    .select(col(\"date\"),col(\"increment\"), \\\n",
        "      expr(\"add_months(to_date(date,'yyyy-MM-dd'),cast(increment as int))\").alias(\"inc_date\")) \\\n",
        "    .show()"
      ],
      "metadata": {
        "colab": {
          "base_uri": "https://localhost:8080/"
        },
        "id": "grYu9TyGX1Ay",
        "outputId": "7e88f537-234f-4050-e94b-14ca41fc2ed5"
      },
      "execution_count": null,
      "outputs": [
        {
          "output_type": "stream",
          "name": "stdout",
          "text": [
            "+----------+---------+----------+\n",
            "|      date|increment|  inc_date|\n",
            "+----------+---------+----------+\n",
            "|2019-01-23|        1|2019-02-23|\n",
            "|2019-06-24|        2|2019-08-24|\n",
            "|2019-09-20|        3|2019-12-20|\n",
            "+----------+---------+----------+\n",
            "\n"
          ]
        }
      ]
    },
    {
      "cell_type": "code",
      "source": [
        "spark.sql(\"select current_Date() , add_months(current_Date(),-1) as last_month\").show()"
      ],
      "metadata": {
        "colab": {
          "base_uri": "https://localhost:8080/"
        },
        "id": "GeZ9qRHZX1DY",
        "outputId": "1240e024-4407-466e-a6c9-e95149af5b6d"
      },
      "execution_count": null,
      "outputs": [
        {
          "output_type": "stream",
          "name": "stdout",
          "text": [
            "+--------------+----------+\n",
            "|current_date()|last_month|\n",
            "+--------------+----------+\n",
            "|    2022-03-07|2022-02-07|\n",
            "+--------------+----------+\n",
            "\n"
          ]
        }
      ]
    },
    {
      "cell_type": "code",
      "source": [
        "spark.sql(\"select current_Date() , add_months(current_Date(),1) as last_month\").show()"
      ],
      "metadata": {
        "colab": {
          "base_uri": "https://localhost:8080/"
        },
        "id": "Gxv-uvSFmn5N",
        "outputId": "37fab497-f1ea-4117-e812-a389e25cabd4"
      },
      "execution_count": null,
      "outputs": [
        {
          "output_type": "stream",
          "name": "stdout",
          "text": [
            "+--------------+----------+\n",
            "|current_date()|last_month|\n",
            "+--------------+----------+\n",
            "|    2021-12-09|2022-01-09|\n",
            "+--------------+----------+\n",
            "\n"
          ]
        }
      ]
    },
    {
      "cell_type": "code",
      "source": [
        "from pyspark.sql import SparkSession\n",
        "\n",
        "spark = SparkSession.builder \\\n",
        "                    .appName('SparkByExamples.com') \\\n",
        "                    .getOrCreate()\n",
        "\n",
        "data = [('James','Smith','M',3000),\n",
        "  ('Anna','Rose','F',4100),\n",
        "  ('Robert','Williams','M',6200), \n",
        "]\n",
        "\n",
        "columns = [\"firstname\",\"lastname\",\"gender\",\"salary\"]\n",
        "df = spark.createDataFrame(data=data, schema = columns)\n",
        "df.show()"
      ],
      "metadata": {
        "colab": {
          "base_uri": "https://localhost:8080/"
        },
        "id": "ITpn0xxAmn8y",
        "outputId": "7661f124-9eee-49b1-c562-9fa70ad02afe"
      },
      "execution_count": null,
      "outputs": [
        {
          "output_type": "stream",
          "name": "stdout",
          "text": [
            "+---------+--------+------+------+\n",
            "|firstname|lastname|gender|salary|\n",
            "+---------+--------+------+------+\n",
            "|    James|   Smith|     M|  3000|\n",
            "|     Anna|    Rose|     F|  4100|\n",
            "|   Robert|Williams|     M|  6200|\n",
            "+---------+--------+------+------+\n",
            "\n"
          ]
        }
      ]
    },
    {
      "cell_type": "code",
      "source": [
        "from pyspark.sql.functions import when , lit\n",
        "df.withColumn(\"grade\",when((df.salary < 4000), lit(\"A\")).when((df.salary >= 4000) & (df.salary <= 5000), lit(\"B\")).otherwise(lit(\"C\"))).show()"
      ],
      "metadata": {
        "colab": {
          "base_uri": "https://localhost:8080/"
        },
        "id": "-oSWFScYnlx_",
        "outputId": "c55efdbe-900a-455b-d84d-6bbd83f612c0"
      },
      "execution_count": null,
      "outputs": [
        {
          "output_type": "stream",
          "name": "stdout",
          "text": [
            "+---------+--------+------+------+-----+\n",
            "|firstname|lastname|gender|salary|grade|\n",
            "+---------+--------+------+------+-----+\n",
            "|    James|   Smith|     M|  3000|    A|\n",
            "|     Anna|    Rose|     F|  4100|    B|\n",
            "|   Robert|Williams|     M|  6200|    C|\n",
            "+---------+--------+------+------+-----+\n",
            "\n"
          ]
        }
      ]
    },
    {
      "cell_type": "code",
      "source": [
        "import pyspark\n",
        "from pyspark.sql import SparkSession\n",
        "from pyspark.sql.functions import approx_count_distinct,collect_list\n",
        "from pyspark.sql.functions import collect_set,sum,avg,max,countDistinct,count\n",
        "from pyspark.sql.functions import first, last, kurtosis, min, mean, skewness \n",
        "from pyspark.sql.functions import stddev, stddev_samp, stddev_pop, sumDistinct\n",
        "from pyspark.sql.functions import variance,var_samp,  var_pop\n",
        "\n",
        "spark = SparkSession.builder.appName('SparkByExamples.com').getOrCreate()\n",
        "\n",
        "simpleData = [(\"James\", \"Sales\", 3000),\n",
        "    (\"Michael\", \"Sales\", 4600),\n",
        "    (\"Robert\", \"Sales\", 4100),\n",
        "    (\"Maria\", \"Finance\", 3000),\n",
        "    (\"James\", \"Sales\", 3000),\n",
        "    (\"Scott\", \"Finance\", 3300),\n",
        "    (\"Jen\", \"Finance\", 3900),\n",
        "    (\"Jeff\", \"Marketing\", 3000),\n",
        "    (\"Kumar\", \"Marketing\", 2000),\n",
        "    (\"Saif\", \"Sales\", 4100)\n",
        "  ]\n",
        "schema = [\"employee_name\", \"department\", \"salary\"]\n",
        "  \n",
        "  \n",
        "df = spark.createDataFrame(data=simpleData, schema = schema)\n",
        "df.printSchema()\n",
        "df.show(truncate=False)\n",
        "\n",
        "print(\"approx_count_distinct: \" + \\\n",
        "      str(df.select(approx_count_distinct(\"salary\")).collect()[0][0]))"
      ],
      "metadata": {
        "colab": {
          "base_uri": "https://localhost:8080/"
        },
        "id": "ALPDlkxsnl10",
        "outputId": "b9dfffee-bf9d-478f-eb00-5ad78e799c4e"
      },
      "execution_count": null,
      "outputs": [
        {
          "output_type": "stream",
          "name": "stdout",
          "text": [
            "root\n",
            " |-- employee_name: string (nullable = true)\n",
            " |-- department: string (nullable = true)\n",
            " |-- salary: long (nullable = true)\n",
            "\n",
            "+-------------+----------+------+\n",
            "|employee_name|department|salary|\n",
            "+-------------+----------+------+\n",
            "|James        |Sales     |3000  |\n",
            "|Michael      |Sales     |4600  |\n",
            "|Robert       |Sales     |4100  |\n",
            "|Maria        |Finance   |3000  |\n",
            "|James        |Sales     |3000  |\n",
            "|Scott        |Finance   |3300  |\n",
            "|Jen          |Finance   |3900  |\n",
            "|Jeff         |Marketing |3000  |\n",
            "|Kumar        |Marketing |2000  |\n",
            "|Saif         |Sales     |4100  |\n",
            "+-------------+----------+------+\n",
            "\n",
            "approx_count_distinct: 6\n"
          ]
        }
      ]
    },
    {
      "cell_type": "code",
      "source": [
        "from pyspark.sql.functions import collect_set,sum,avg,max,countDistinct,count\n",
        "print(\"avg: \" + str(df.select(avg(\"salary\")).collect()[0][0]))"
      ],
      "metadata": {
        "colab": {
          "base_uri": "https://localhost:8080/"
        },
        "id": "pvIjcnHjIwUv",
        "outputId": "05348faa-0c6f-4b3c-b70c-dfdaf34f4e57"
      },
      "execution_count": null,
      "outputs": [
        {
          "output_type": "stream",
          "name": "stdout",
          "text": [
            "avg: 4433.333333333333\n"
          ]
        }
      ]
    },
    {
      "cell_type": "code",
      "source": [
        "print(\"avg: \" + str(df.select(avg(\"salary\")).collect()[0][0]))"
      ],
      "metadata": {
        "colab": {
          "base_uri": "https://localhost:8080/"
        },
        "id": "17N9qj9omn_o",
        "outputId": "8ae374e6-6283-4c58-c580-fc84a229717b"
      },
      "execution_count": null,
      "outputs": [
        {
          "output_type": "stream",
          "name": "stdout",
          "text": [
            "avg: 3400.0\n"
          ]
        }
      ]
    },
    {
      "cell_type": "code",
      "source": [
        "df.select(collect_list(\"salary\")).show(truncate=False)"
      ],
      "metadata": {
        "colab": {
          "base_uri": "https://localhost:8080/"
        },
        "id": "Yhrr44-HyYYr",
        "outputId": "172f6fa0-0d96-413b-e45b-e0c66adf7f33"
      },
      "execution_count": null,
      "outputs": [
        {
          "output_type": "stream",
          "name": "stdout",
          "text": [
            "+------------------------------------------------------------+\n",
            "|collect_list(salary)                                        |\n",
            "+------------------------------------------------------------+\n",
            "|[3000, 4600, 4100, 3000, 3000, 3300, 3900, 3000, 2000, 4100]|\n",
            "+------------------------------------------------------------+\n",
            "\n"
          ]
        }
      ]
    },
    {
      "cell_type": "code",
      "source": [
        "df.select(collect_set(\"salary\")).show(truncate=False)"
      ],
      "metadata": {
        "colab": {
          "base_uri": "https://localhost:8080/"
        },
        "id": "vUIq697wyYcN",
        "outputId": "d5c0de54-c91c-4e78-c8bc-de08f01d3708"
      },
      "execution_count": null,
      "outputs": [
        {
          "output_type": "stream",
          "name": "stdout",
          "text": [
            "+------------------------------------+\n",
            "|collect_set(salary)                 |\n",
            "+------------------------------------+\n",
            "|[4600, 3000, 3900, 4100, 3300, 2000]|\n",
            "+------------------------------------+\n",
            "\n"
          ]
        }
      ]
    },
    {
      "cell_type": "code",
      "source": [
        "a = [1,2,3]\n",
        "type(a)"
      ],
      "metadata": {
        "colab": {
          "base_uri": "https://localhost:8080/"
        },
        "id": "a82AL5CzyYg6",
        "outputId": "883be813-a863-4d6c-a3e9-b5132e5146a7"
      },
      "execution_count": null,
      "outputs": [
        {
          "output_type": "execute_result",
          "data": {
            "text/plain": [
              "list"
            ]
          },
          "metadata": {},
          "execution_count": 51
        }
      ]
    },
    {
      "cell_type": "code",
      "source": [
        "\n",
        "type(df)"
      ],
      "metadata": {
        "colab": {
          "base_uri": "https://localhost:8080/"
        },
        "id": "-Znwhn1vyYqJ",
        "outputId": "8d372320-c143-43b6-9355-6f63de8a869c"
      },
      "execution_count": null,
      "outputs": [
        {
          "output_type": "execute_result",
          "data": {
            "text/plain": [
              "pyspark.sql.dataframe.DataFrame"
            ]
          },
          "metadata": {},
          "execution_count": 53
        }
      ]
    },
    {
      "cell_type": "code",
      "source": [
        "from pyspark.sql import SparkSession\n",
        "spark = SparkSession.builder.appName('Manish').getOrCreate()\n",
        "df=spark.createDataFrame(data=[(1,2,3),(4,5,6),(3,2,1)\\\n",
        "                              ,(6,1,-4),(0,2,-2),(6,4,1)\\\n",
        "                              ,(4,5,2),(5,-3,-5),(6,4,-1)]\\\n",
        "                              ,schema=['x1','x2','x3'])\n",
        "df.show()\n"
      ],
      "metadata": {
        "id": "bbcBVALOyYw1",
        "colab": {
          "base_uri": "https://localhost:8080/"
        },
        "outputId": "d4cd09ac-e658-40f8-e9b3-c68c667037c0"
      },
      "execution_count": null,
      "outputs": [
        {
          "output_type": "stream",
          "name": "stdout",
          "text": [
            "+---+---+---+\n",
            "| x1| x2| x3|\n",
            "+---+---+---+\n",
            "|  1|  2|  3|\n",
            "|  4|  5|  6|\n",
            "|  3|  2|  1|\n",
            "|  6|  1| -4|\n",
            "|  0|  2| -2|\n",
            "|  6|  4|  1|\n",
            "|  4|  5|  2|\n",
            "|  5| -3| -5|\n",
            "|  6|  4| -1|\n",
            "+---+---+---+\n",
            "\n"
          ]
        }
      ]
    },
    {
      "cell_type": "code",
      "source": [
        "data = [('James','','Smith','1991-04-01','M',3000),\n",
        "  ('Michael','Rose','','2000-05-19','M',4000),\n",
        "  ('Robert','','Williams','1978-09-05','M',4000),\n",
        "  ('Maria','Anne','Jones','1967-12-01','F',4000),\n",
        "  ('Jen','Mary','Brown','1980-02-17','F',-1)\n",
        "]\n",
        "columns = [\"firstname\",\"middlename\",\"lastname\",\"dob\",\"gender\",\"salary\"]\n",
        "df = spark.createDataFrame(data=data, schema = columns)\n",
        "df.show()\n"
      ],
      "metadata": {
        "id": "3YDrdu3VyYzx",
        "colab": {
          "base_uri": "https://localhost:8080/"
        },
        "outputId": "40a78c76-2719-4450-f1a2-2c99b7f2d6dc"
      },
      "execution_count": null,
      "outputs": [
        {
          "output_type": "stream",
          "name": "stdout",
          "text": [
            "+---------+----------+--------+----------+------+------+\n",
            "|firstname|middlename|lastname|       dob|gender|salary|\n",
            "+---------+----------+--------+----------+------+------+\n",
            "|    James|          |   Smith|1991-04-01|     M|  3000|\n",
            "|  Michael|      Rose|        |2000-05-19|     M|  4000|\n",
            "|   Robert|          |Williams|1978-09-05|     M|  4000|\n",
            "|    Maria|      Anne|   Jones|1967-12-01|     F|  4000|\n",
            "|      Jen|      Mary|   Brown|1980-02-17|     F|    -1|\n",
            "+---------+----------+--------+----------+------+------+\n",
            "\n"
          ]
        }
      ]
    },
    {
      "cell_type": "code",
      "source": [
        "import pandas as pd\n",
        "import numpy as np;\n",
        "import string;\n",
        "z= [];\n",
        "letters = [];\n",
        "\n",
        "for num in range(1, 20):\n",
        "        if num % 2 != 0:\n",
        "          z.append(num)\n",
        "       \n",
        "for c in range(97, 107):\n",
        "        letters.append(chr(c))\n",
        "\n",
        "numbers = np.random.randint(100,200,10)\n",
        "df=pd.DataFrame({\"a\":z,\"b\":letters,\"c\":numbers})\n",
        "df\n"
      ],
      "metadata": {
        "colab": {
          "base_uri": "https://localhost:8080/",
          "height": 363
        },
        "id": "MhcdKXLzuOFb",
        "outputId": "b8236b50-8dc1-417c-9afc-11a7a80272f4"
      },
      "execution_count": null,
      "outputs": [
        {
          "output_type": "execute_result",
          "data": {
            "text/html": [
              "\n",
              "  <div id=\"df-51383810-87aa-4c48-a073-c206a7359b02\">\n",
              "    <div class=\"colab-df-container\">\n",
              "      <div>\n",
              "<style scoped>\n",
              "    .dataframe tbody tr th:only-of-type {\n",
              "        vertical-align: middle;\n",
              "    }\n",
              "\n",
              "    .dataframe tbody tr th {\n",
              "        vertical-align: top;\n",
              "    }\n",
              "\n",
              "    .dataframe thead th {\n",
              "        text-align: right;\n",
              "    }\n",
              "</style>\n",
              "<table border=\"1\" class=\"dataframe\">\n",
              "  <thead>\n",
              "    <tr style=\"text-align: right;\">\n",
              "      <th></th>\n",
              "      <th>a</th>\n",
              "      <th>b</th>\n",
              "      <th>c</th>\n",
              "    </tr>\n",
              "  </thead>\n",
              "  <tbody>\n",
              "    <tr>\n",
              "      <th>0</th>\n",
              "      <td>1</td>\n",
              "      <td>a</td>\n",
              "      <td>124</td>\n",
              "    </tr>\n",
              "    <tr>\n",
              "      <th>1</th>\n",
              "      <td>3</td>\n",
              "      <td>b</td>\n",
              "      <td>125</td>\n",
              "    </tr>\n",
              "    <tr>\n",
              "      <th>2</th>\n",
              "      <td>5</td>\n",
              "      <td>c</td>\n",
              "      <td>136</td>\n",
              "    </tr>\n",
              "    <tr>\n",
              "      <th>3</th>\n",
              "      <td>7</td>\n",
              "      <td>d</td>\n",
              "      <td>151</td>\n",
              "    </tr>\n",
              "    <tr>\n",
              "      <th>4</th>\n",
              "      <td>9</td>\n",
              "      <td>e</td>\n",
              "      <td>188</td>\n",
              "    </tr>\n",
              "    <tr>\n",
              "      <th>5</th>\n",
              "      <td>11</td>\n",
              "      <td>f</td>\n",
              "      <td>154</td>\n",
              "    </tr>\n",
              "    <tr>\n",
              "      <th>6</th>\n",
              "      <td>13</td>\n",
              "      <td>g</td>\n",
              "      <td>115</td>\n",
              "    </tr>\n",
              "    <tr>\n",
              "      <th>7</th>\n",
              "      <td>15</td>\n",
              "      <td>h</td>\n",
              "      <td>151</td>\n",
              "    </tr>\n",
              "    <tr>\n",
              "      <th>8</th>\n",
              "      <td>17</td>\n",
              "      <td>i</td>\n",
              "      <td>139</td>\n",
              "    </tr>\n",
              "    <tr>\n",
              "      <th>9</th>\n",
              "      <td>19</td>\n",
              "      <td>j</td>\n",
              "      <td>160</td>\n",
              "    </tr>\n",
              "  </tbody>\n",
              "</table>\n",
              "</div>\n",
              "      <button class=\"colab-df-convert\" onclick=\"convertToInteractive('df-51383810-87aa-4c48-a073-c206a7359b02')\"\n",
              "              title=\"Convert this dataframe to an interactive table.\"\n",
              "              style=\"display:none;\">\n",
              "        \n",
              "  <svg xmlns=\"http://www.w3.org/2000/svg\" height=\"24px\"viewBox=\"0 0 24 24\"\n",
              "       width=\"24px\">\n",
              "    <path d=\"M0 0h24v24H0V0z\" fill=\"none\"/>\n",
              "    <path d=\"M18.56 5.44l.94 2.06.94-2.06 2.06-.94-2.06-.94-.94-2.06-.94 2.06-2.06.94zm-11 1L8.5 8.5l.94-2.06 2.06-.94-2.06-.94L8.5 2.5l-.94 2.06-2.06.94zm10 10l.94 2.06.94-2.06 2.06-.94-2.06-.94-.94-2.06-.94 2.06-2.06.94z\"/><path d=\"M17.41 7.96l-1.37-1.37c-.4-.4-.92-.59-1.43-.59-.52 0-1.04.2-1.43.59L10.3 9.45l-7.72 7.72c-.78.78-.78 2.05 0 2.83L4 21.41c.39.39.9.59 1.41.59.51 0 1.02-.2 1.41-.59l7.78-7.78 2.81-2.81c.8-.78.8-2.07 0-2.86zM5.41 20L4 18.59l7.72-7.72 1.47 1.35L5.41 20z\"/>\n",
              "  </svg>\n",
              "      </button>\n",
              "      \n",
              "  <style>\n",
              "    .colab-df-container {\n",
              "      display:flex;\n",
              "      flex-wrap:wrap;\n",
              "      gap: 12px;\n",
              "    }\n",
              "\n",
              "    .colab-df-convert {\n",
              "      background-color: #E8F0FE;\n",
              "      border: none;\n",
              "      border-radius: 50%;\n",
              "      cursor: pointer;\n",
              "      display: none;\n",
              "      fill: #1967D2;\n",
              "      height: 32px;\n",
              "      padding: 0 0 0 0;\n",
              "      width: 32px;\n",
              "    }\n",
              "\n",
              "    .colab-df-convert:hover {\n",
              "      background-color: #E2EBFA;\n",
              "      box-shadow: 0px 1px 2px rgba(60, 64, 67, 0.3), 0px 1px 3px 1px rgba(60, 64, 67, 0.15);\n",
              "      fill: #174EA6;\n",
              "    }\n",
              "\n",
              "    [theme=dark] .colab-df-convert {\n",
              "      background-color: #3B4455;\n",
              "      fill: #D2E3FC;\n",
              "    }\n",
              "\n",
              "    [theme=dark] .colab-df-convert:hover {\n",
              "      background-color: #434B5C;\n",
              "      box-shadow: 0px 1px 3px 1px rgba(0, 0, 0, 0.15);\n",
              "      filter: drop-shadow(0px 1px 2px rgba(0, 0, 0, 0.3));\n",
              "      fill: #FFFFFF;\n",
              "    }\n",
              "  </style>\n",
              "\n",
              "      <script>\n",
              "        const buttonEl =\n",
              "          document.querySelector('#df-51383810-87aa-4c48-a073-c206a7359b02 button.colab-df-convert');\n",
              "        buttonEl.style.display =\n",
              "          google.colab.kernel.accessAllowed ? 'block' : 'none';\n",
              "\n",
              "        async function convertToInteractive(key) {\n",
              "          const element = document.querySelector('#df-51383810-87aa-4c48-a073-c206a7359b02');\n",
              "          const dataTable =\n",
              "            await google.colab.kernel.invokeFunction('convertToInteractive',\n",
              "                                                     [key], {});\n",
              "          if (!dataTable) return;\n",
              "\n",
              "          const docLinkHtml = 'Like what you see? Visit the ' +\n",
              "            '<a target=\"_blank\" href=https://colab.research.google.com/notebooks/data_table.ipynb>data table notebook</a>'\n",
              "            + ' to learn more about interactive tables.';\n",
              "          element.innerHTML = '';\n",
              "          dataTable['output_type'] = 'display_data';\n",
              "          await google.colab.output.renderOutput(dataTable, element);\n",
              "          const docLink = document.createElement('div');\n",
              "          docLink.innerHTML = docLinkHtml;\n",
              "          element.appendChild(docLink);\n",
              "        }\n",
              "      </script>\n",
              "    </div>\n",
              "  </div>\n",
              "  "
            ],
            "text/plain": [
              "    a  b    c\n",
              "0   1  a  124\n",
              "1   3  b  125\n",
              "2   5  c  136\n",
              "3   7  d  151\n",
              "4   9  e  188\n",
              "5  11  f  154\n",
              "6  13  g  115\n",
              "7  15  h  151\n",
              "8  17  i  139\n",
              "9  19  j  160"
            ]
          },
          "metadata": {},
          "execution_count": 28
        }
      ]
    },
    {
      "cell_type": "code",
      "source": [
        "\n",
        "from datetime import date\n",
        "a=[i for i in range(20) if i%2!=0]\n",
        "a= tuple(a)\n",
        "b= ('a', 'b', 'c', 'd', 'e' ,'f', 'g', 'h', 'i', 'j')\n",
        "import random\n",
        "c=[]\n",
        "for i in range(10):\n",
        "  c.append(random.randint(100,200))\n",
        "c= tuple(c)\n",
        "c\n",
        "from datetime import date\n",
        "d=[]\n",
        "for i in range(10):\n",
        "  d.append(date.today())\n",
        "d= tuple(d)\n",
        "f=[]\n",
        "for i in range(10):\n",
        "  e=[]\n",
        "  e.append(a[i])\n",
        "  e.append(b[i])\n",
        "  e.append(c[i])\n",
        "  e.append(d[i])\n",
        "  f.append(tuple(e))\n",
        "df2=spark.createDataFrame(data=f, schema=['x1','x2','x3', 'x4'])\n",
        "df2.show()\n"
      ],
      "metadata": {
        "colab": {
          "base_uri": "https://localhost:8080/"
        },
        "id": "1IR9o5wcuOIE",
        "outputId": "ac838d80-fd56-4e72-ff18-c209dfa1adb1"
      },
      "execution_count": null,
      "outputs": [
        {
          "output_type": "stream",
          "name": "stdout",
          "text": [
            "+---+---+---+----------+\n",
            "| x1| x2| x3|        x4|\n",
            "+---+---+---+----------+\n",
            "|  1|  a|168|2022-02-12|\n",
            "|  3|  b|154|2022-02-12|\n",
            "|  5|  c|194|2022-02-12|\n",
            "|  7|  d|112|2022-02-12|\n",
            "|  9|  e|134|2022-02-12|\n",
            "| 11|  f|180|2022-02-12|\n",
            "| 13|  g|151|2022-02-12|\n",
            "| 15|  h|175|2022-02-12|\n",
            "| 17|  i|175|2022-02-12|\n",
            "| 19|  j|197|2022-02-12|\n",
            "+---+---+---+----------+\n",
            "\n"
          ]
        }
      ]
    },
    {
      "cell_type": "code",
      "source": [
        "columns = [\"language\",\"users_count\"]\n",
        "data = [(\"Java\", \"20000\"), (\"Python\", \"100000\"), (\"Scala\", \"3000\")]\n",
        "spark = SparkSession.builder.appName('SparkRDD.com').getOrCreate()\n",
        "rdd = spark.sparkContext.parallelize(data)\n",
        "dfFromRDD1 = rdd.toDF(columns)\n",
        "dfFromRDD1\n"
      ],
      "metadata": {
        "colab": {
          "base_uri": "https://localhost:8080/"
        },
        "id": "Z96QTLUtuOLg",
        "outputId": "20697bb1-b613-4ab5-f1d8-574fdf366d67"
      },
      "execution_count": null,
      "outputs": [
        {
          "output_type": "execute_result",
          "data": {
            "text/plain": [
              "DataFrame[language: string, users_count: string]"
            ]
          },
          "metadata": {},
          "execution_count": 36
        }
      ]
    },
    {
      "cell_type": "code",
      "source": [
        "import random\n",
        "print(random.randint(0,500))"
      ],
      "metadata": {
        "colab": {
          "base_uri": "https://localhost:8080/"
        },
        "id": "lsqiba1oqqgk",
        "outputId": "108c46a8-8a26-4a05-95ce-97a282618324"
      },
      "execution_count": null,
      "outputs": [
        {
          "output_type": "stream",
          "name": "stdout",
          "text": [
            "391\n"
          ]
        }
      ]
    },
    {
      "cell_type": "code",
      "source": [
        "data2 = [(1,\"James Smith\"), (2,\"Michael Rose\"),\n",
        "    (3,\"Robert Williams\"), (4,\"Rames Rose\"),(5,\"Rames rose\")\n",
        "  ]\n",
        "df2 = spark.createDataFrame(data = data2, schema = [\"id\",\"name\"])\n",
        "\n",
        "df2.filter(df2.name.like(\"%rose%\")).show()\n",
        "df2.filter(df2.name.rlike(\"(?i)^*rose$\")).show()\n",
        "df2.filter(df2.name.rlike(\"(?i)^*Rose$\")).show()"
      ],
      "metadata": {
        "id": "gUaOvUbtqqjk",
        "colab": {
          "base_uri": "https://localhost:8080/"
        },
        "outputId": "214fdec9-ce69-422f-f927-92b75a5afb2f"
      },
      "execution_count": null,
      "outputs": [
        {
          "output_type": "stream",
          "name": "stdout",
          "text": [
            "+---+----------+\n",
            "| id|      name|\n",
            "+---+----------+\n",
            "|  5|Rames rose|\n",
            "+---+----------+\n",
            "\n",
            "+---+------------+\n",
            "| id|        name|\n",
            "+---+------------+\n",
            "|  2|Michael Rose|\n",
            "|  4|  Rames Rose|\n",
            "|  5|  Rames rose|\n",
            "+---+------------+\n",
            "\n",
            "+---+------------+\n",
            "| id|        name|\n",
            "+---+------------+\n",
            "|  2|Michael Rose|\n",
            "|  4|  Rames Rose|\n",
            "|  5|  Rames rose|\n",
            "+---+------------+\n",
            "\n"
          ]
        }
      ]
    },
    {
      "cell_type": "code",
      "source": [
        "from pyspark.sql.functions import col\n",
        "data = [\n",
        "    (\"James\",None,\"M\"),\n",
        "    (\"Anna\",\"NY\",\"F\"),\n",
        "    (\"Julia\",None,None)\n",
        "  ]\n",
        "\n",
        "columns = [\"name\",\"state\",\"gender\"]\n",
        "df = spark.createDataFrame(data,columns)\n",
        "df.show()\n",
        "\n",
        "df.filter(\"state is NULL\").show()\n",
        "df.filter(df.state.isNull()).show()\n",
        "df.filter(col(\"state\").isNull()).show() \n",
        "\n",
        "df.na.drop(\"state\").show()"
      ],
      "metadata": {
        "colab": {
          "base_uri": "https://localhost:8080/"
        },
        "id": "-7HeSzZfafu2",
        "outputId": "65dc0b9d-9db7-4b8a-cbca-9d2df15ec073"
      },
      "execution_count": null,
      "outputs": [
        {
          "output_type": "stream",
          "name": "stdout",
          "text": [
            "+-----+-----+------+\n",
            "| name|state|gender|\n",
            "+-----+-----+------+\n",
            "|James| null|     M|\n",
            "| Anna|   NY|     F|\n",
            "|Julia| null|  null|\n",
            "+-----+-----+------+\n",
            "\n",
            "+-----+-----+------+\n",
            "| name|state|gender|\n",
            "+-----+-----+------+\n",
            "|James| null|     M|\n",
            "|Julia| null|  null|\n",
            "+-----+-----+------+\n",
            "\n",
            "+-----+-----+------+\n",
            "| name|state|gender|\n",
            "+-----+-----+------+\n",
            "|James| null|     M|\n",
            "|Julia| null|  null|\n",
            "+-----+-----+------+\n",
            "\n",
            "+-----+-----+------+\n",
            "| name|state|gender|\n",
            "+-----+-----+------+\n",
            "|James| null|     M|\n",
            "|Julia| null|  null|\n",
            "+-----+-----+------+\n",
            "\n"
          ]
        }
      ]
    },
    {
      "cell_type": "code",
      "source": [
        "import pyspark\n",
        "from pyspark.sql import SparkSession\n",
        "from pyspark.sql.functions import col,sum,avg,max\n",
        "\n",
        "spark = SparkSession.builder.appName('SparkByExamples.com').getOrCreate()\n",
        "\n",
        "simpleData = [(\"James\",\"Sales\",\"NY\",90000,34,10000),\n",
        "    (\"Michael\",\"Sales\",\"NY\",86000,56,20000),\n",
        "    (\"Robert\",\"Sales\",\"CA\",81000,30,23000),\n",
        "    (\"Maria\",\"Finance\",\"CA\",90000,24,23000),\n",
        "    (\"Raman\",\"Finance\",\"CA\",99000,40,24000),\n",
        "    (\"Scott\",\"Finance\",\"NY\",83000,36,19000),\n",
        "    (\"Jen\",\"Finance\",\"NY\",79000,53,15000),\n",
        "    (\"Jeff\",\"Marketing\",\"CA\",80000,25,18000),\n",
        "    (\"Kumar\",\"Marketing\",\"NY\",91000,50,21000)\n",
        "  ]\n",
        "\n",
        "schema = [\"employee_name\",\"department\",\"state\",\"salary\",\"age\",\"bonus\"]\n",
        "df = spark.createDataFrame(data=simpleData, schema = schema)\n",
        "df.printSchema()\n",
        "df.show(truncate=False)"
      ],
      "metadata": {
        "colab": {
          "base_uri": "https://localhost:8080/"
        },
        "id": "pfdWYocjafyF",
        "outputId": "e15bbb31-7fc9-471b-8b12-9e6d86766c15"
      },
      "execution_count": null,
      "outputs": [
        {
          "output_type": "stream",
          "name": "stdout",
          "text": [
            "root\n",
            " |-- employee_name: string (nullable = true)\n",
            " |-- department: string (nullable = true)\n",
            " |-- state: string (nullable = true)\n",
            " |-- salary: long (nullable = true)\n",
            " |-- age: long (nullable = true)\n",
            " |-- bonus: long (nullable = true)\n",
            "\n",
            "+-------------+----------+-----+------+---+-----+\n",
            "|employee_name|department|state|salary|age|bonus|\n",
            "+-------------+----------+-----+------+---+-----+\n",
            "|James        |Sales     |NY   |90000 |34 |10000|\n",
            "|Michael      |Sales     |NY   |86000 |56 |20000|\n",
            "|Robert       |Sales     |CA   |81000 |30 |23000|\n",
            "|Maria        |Finance   |CA   |90000 |24 |23000|\n",
            "|Raman        |Finance   |CA   |99000 |40 |24000|\n",
            "|Scott        |Finance   |NY   |83000 |36 |19000|\n",
            "|Jen          |Finance   |NY   |79000 |53 |15000|\n",
            "|Jeff         |Marketing |CA   |80000 |25 |18000|\n",
            "|Kumar        |Marketing |NY   |91000 |50 |21000|\n",
            "+-------------+----------+-----+------+---+-----+\n",
            "\n"
          ]
        }
      ]
    },
    {
      "cell_type": "code",
      "source": [
        "df.groupBy(\"department\").avg(\"age\").show()"
      ],
      "metadata": {
        "colab": {
          "base_uri": "https://localhost:8080/"
        },
        "id": "wQ5lHm3zaf09",
        "outputId": "88efdf42-d04c-4ab5-b1f8-a97a36b83347"
      },
      "execution_count": null,
      "outputs": [
        {
          "output_type": "stream",
          "name": "stdout",
          "text": [
            "+----------+--------+\n",
            "|department|avg(age)|\n",
            "+----------+--------+\n",
            "|     Sales|    40.0|\n",
            "|   Finance|   38.25|\n",
            "| Marketing|    37.5|\n",
            "+----------+--------+\n",
            "\n"
          ]
        }
      ]
    },
    {
      "cell_type": "code",
      "source": [
        "data = [\n",
        "    (\"James\",None,\"M\"),\n",
        "    (\"Anna\",\"NY\",\"F\"),\n",
        "    (\"Julia\",None,None)\n",
        "  ]\n",
        "\n",
        "columns = [\"name\",\"state\",\"gender\"]\n",
        "df = spark.createDataFrame(data,columns)\n",
        "df.show()"
      ],
      "metadata": {
        "colab": {
          "base_uri": "https://localhost:8080/"
        },
        "id": "OastFiTNaf33",
        "outputId": "1e95b30a-cd91-4cc1-e5da-6df42a9fcc28"
      },
      "execution_count": null,
      "outputs": [
        {
          "output_type": "stream",
          "name": "stdout",
          "text": [
            "+-----+-----+------+\n",
            "| name|state|gender|\n",
            "+-----+-----+------+\n",
            "|James| null|     M|\n",
            "| Anna|   NY|     F|\n",
            "|Julia| null|  null|\n",
            "+-----+-----+------+\n",
            "\n"
          ]
        }
      ]
    },
    {
      "cell_type": "code",
      "source": [
        "df = df.na.drop(subset=[\"state\"])\n",
        "df.show()"
      ],
      "metadata": {
        "colab": {
          "base_uri": "https://localhost:8080/"
        },
        "id": "MH3QFAwBir-_",
        "outputId": "f8378373-9215-4340-bdea-8a41dc600e00"
      },
      "execution_count": null,
      "outputs": [
        {
          "output_type": "stream",
          "name": "stdout",
          "text": [
            "+----+-----+------+\n",
            "|name|state|gender|\n",
            "+----+-----+------+\n",
            "|Anna|   NY|     F|\n",
            "+----+-----+------+\n",
            "\n"
          ]
        }
      ]
    },
    {
      "cell_type": "code",
      "source": [
        "df.na.drop(subset=[\"state\"])"
      ],
      "metadata": {
        "colab": {
          "base_uri": "https://localhost:8080/"
        },
        "id": "sDy77Xnkaf6z",
        "outputId": "324abe67-3115-4c1e-b842-81d296f962f8"
      },
      "execution_count": null,
      "outputs": [
        {
          "output_type": "execute_result",
          "data": {
            "text/plain": [
              "DataFrame[name: string, state: string, gender: string]"
            ]
          },
          "metadata": {},
          "execution_count": 31
        }
      ]
    },
    {
      "cell_type": "code",
      "source": [
        "df.show()"
      ],
      "metadata": {
        "colab": {
          "base_uri": "https://localhost:8080/"
        },
        "id": "8XoQc7NKaf9n",
        "outputId": "0b8a8523-947f-48d0-8cef-135738cbd85c"
      },
      "execution_count": null,
      "outputs": [
        {
          "output_type": "stream",
          "name": "stdout",
          "text": [
            "+-----+-----+------+\n",
            "| name|state|gender|\n",
            "+-----+-----+------+\n",
            "|James| null|     M|\n",
            "| Anna|   NY|     F|\n",
            "|Julia| null|  null|\n",
            "+-----+-----+------+\n",
            "\n"
          ]
        }
      ]
    },
    {
      "cell_type": "code",
      "source": [
        "df = df.na.fill(value = \"ABC\",subset=[\"state\"])\n",
        "df.show()"
      ],
      "metadata": {
        "colab": {
          "base_uri": "https://localhost:8080/"
        },
        "id": "3YiDx_o6agAP",
        "outputId": "ba73617b-a4a6-43dd-983b-602fb62d790e"
      },
      "execution_count": null,
      "outputs": [
        {
          "output_type": "stream",
          "name": "stdout",
          "text": [
            "+-----+-----+------+\n",
            "| name|state|gender|\n",
            "+-----+-----+------+\n",
            "|James|  ABC|     M|\n",
            "| Anna|   NY|     F|\n",
            "|Julia|  ABC|  null|\n",
            "+-----+-----+------+\n",
            "\n"
          ]
        }
      ]
    },
    {
      "cell_type": "code",
      "source": [
        "df = df.drop(\"state\")\n",
        "df.show()"
      ],
      "metadata": {
        "id": "njL3Ii4KqqmL",
        "colab": {
          "base_uri": "https://localhost:8080/"
        },
        "outputId": "bed58a13-148c-42b8-93bc-eb68d7384d67"
      },
      "execution_count": null,
      "outputs": [
        {
          "output_type": "stream",
          "name": "stdout",
          "text": [
            "+-----+------+\n",
            "| name|gender|\n",
            "+-----+------+\n",
            "|James|     M|\n",
            "| Anna|     F|\n",
            "|Julia|  null|\n",
            "+-----+------+\n",
            "\n"
          ]
        }
      ]
    },
    {
      "cell_type": "code",
      "source": [
        "df.show()"
      ],
      "metadata": {
        "id": "igXF1Y6Qqqrb",
        "colab": {
          "base_uri": "https://localhost:8080/"
        },
        "outputId": "a1d5b1af-59f6-4646-a77c-6511f9bb1f2c"
      },
      "execution_count": null,
      "outputs": [
        {
          "output_type": "stream",
          "name": "stdout",
          "text": [
            "+-----+------+\n",
            "| name|gender|\n",
            "+-----+------+\n",
            "|James|     M|\n",
            "| Anna|     F|\n",
            "|Julia|  null|\n",
            "+-----+------+\n",
            "\n"
          ]
        }
      ]
    },
    {
      "cell_type": "code",
      "source": [
        "from pyspark.sql import SparkSession\n",
        "from pyspark.sql.functions import col,sum,avg,max\n",
        "\n",
        "spark = SparkSession.builder \\\n",
        "                    .appName('SparkByExamples.com') \\\n",
        "                    .getOrCreate()\n",
        "\n",
        "simpleData = [(\"James\",\"Sales\",\"NY\",90000,34,10000),\n",
        "    (\"Michael\",\"Sales\",\"NV\",86000,56,20000),\n",
        "    (\"Robert\",\"Sales\",\"CA\",81000,30,23000),\n",
        "    (\"Maria\",\"Finance\",\"CA\",90000,24,23000),\n",
        "    (\"Raman\",\"Finance\",\"DE\",99000,40,24000),\n",
        "    (\"Scott\",\"Finance\",\"NY\",83000,36,19000),\n",
        "    (\"Jen\",\"Finance\",\"NY\",79000,53,15000),\n",
        "    (\"Jeff\",\"Marketing\",\"NV\",80000,25,18000),\n",
        "    (\"Kumar\",\"Marketing\",\"NJ\",91000,50,21000)\n",
        "  ]\n",
        "\n",
        "schema = [\"employee_name\",\"department\",\"state\",\"salary\",\"age\",\"bonus\"]\n",
        "df = spark.createDataFrame(data=simpleData, schema = schema)\n",
        "df.printSchema()\n",
        "df.show(truncate=False)"
      ],
      "metadata": {
        "id": "wjs1YhdBqquG",
        "colab": {
          "base_uri": "https://localhost:8080/"
        },
        "outputId": "3bdeded3-596d-4455-94cc-397d179ee186"
      },
      "execution_count": null,
      "outputs": [
        {
          "output_type": "stream",
          "name": "stdout",
          "text": [
            "root\n",
            " |-- employee_name: string (nullable = true)\n",
            " |-- department: string (nullable = true)\n",
            " |-- state: string (nullable = true)\n",
            " |-- salary: long (nullable = true)\n",
            " |-- age: long (nullable = true)\n",
            " |-- bonus: long (nullable = true)\n",
            "\n",
            "+-------------+----------+-----+------+---+-----+\n",
            "|employee_name|department|state|salary|age|bonus|\n",
            "+-------------+----------+-----+------+---+-----+\n",
            "|James        |Sales     |NY   |90000 |34 |10000|\n",
            "|Michael      |Sales     |NV   |86000 |56 |20000|\n",
            "|Robert       |Sales     |CA   |81000 |30 |23000|\n",
            "|Maria        |Finance   |CA   |90000 |24 |23000|\n",
            "|Raman        |Finance   |DE   |99000 |40 |24000|\n",
            "|Scott        |Finance   |NY   |83000 |36 |19000|\n",
            "|Jen          |Finance   |NY   |79000 |53 |15000|\n",
            "|Jeff         |Marketing |NV   |80000 |25 |18000|\n",
            "|Kumar        |Marketing |NJ   |91000 |50 |21000|\n",
            "+-------------+----------+-----+------+---+-----+\n",
            "\n"
          ]
        }
      ]
    },
    {
      "cell_type": "code",
      "source": [
        "df.groupBy(\"state\").sum(\"salary\").show()"
      ],
      "metadata": {
        "id": "Z5PcbWr2qqw3",
        "colab": {
          "base_uri": "https://localhost:8080/"
        },
        "outputId": "532e8f06-6b4b-439a-87de-44d351e02115"
      },
      "execution_count": null,
      "outputs": [
        {
          "output_type": "stream",
          "name": "stdout",
          "text": [
            "+-----+-----------+\n",
            "|state|sum(salary)|\n",
            "+-----+-----------+\n",
            "|   NJ|      91000|\n",
            "|   NV|     166000|\n",
            "|   CA|     171000|\n",
            "|   DE|      99000|\n",
            "|   NY|     252000|\n",
            "+-----+-----------+\n",
            "\n"
          ]
        }
      ]
    },
    {
      "cell_type": "code",
      "source": [
        "df.groupBy(\"state\") \\\n",
        "          .agg(sum(\"salary\").alias(\"sum_salary\")).show()"
      ],
      "metadata": {
        "colab": {
          "base_uri": "https://localhost:8080/"
        },
        "id": "so6Gipa9xn0X",
        "outputId": "48aa6956-f356-416d-96fe-d16a00403682"
      },
      "execution_count": null,
      "outputs": [
        {
          "output_type": "stream",
          "name": "stdout",
          "text": [
            "+-----+----------+\n",
            "|state|sum_salary|\n",
            "+-----+----------+\n",
            "|   NJ|     91000|\n",
            "|   NV|    166000|\n",
            "|   CA|    171000|\n",
            "|   DE|     99000|\n",
            "|   NY|    252000|\n",
            "+-----+----------+\n",
            "\n"
          ]
        }
      ]
    },
    {
      "cell_type": "code",
      "source": [
        "dfFilter=dfGroup.filter(dfGroup.sum_salary > 100000)\n",
        "dfFilter.show()"
      ],
      "metadata": {
        "colab": {
          "base_uri": "https://localhost:8080/"
        },
        "id": "pnjEbKXNxxvm",
        "outputId": "765b1eac-70bf-4543-cc90-4c07cd056ce1"
      },
      "execution_count": null,
      "outputs": [
        {
          "output_type": "stream",
          "name": "stdout",
          "text": [
            "+-----+----------+\n",
            "|state|sum_salary|\n",
            "+-----+----------+\n",
            "|   NV|    166000|\n",
            "|   CA|    171000|\n",
            "|   NY|    252000|\n",
            "+-----+----------+\n",
            "\n"
          ]
        }
      ]
    },
    {
      "cell_type": "code",
      "source": [
        "dfFilter.sort(\"sum_salary\").show()"
      ],
      "metadata": {
        "colab": {
          "base_uri": "https://localhost:8080/"
        },
        "id": "KF8YJxTSxxyX",
        "outputId": "8e61cdb1-f7b3-4bbf-b40f-70c0b0be7758"
      },
      "execution_count": null,
      "outputs": [
        {
          "output_type": "stream",
          "name": "stdout",
          "text": [
            "+-----+----------+\n",
            "|state|sum_salary|\n",
            "+-----+----------+\n",
            "|   NV|    166000|\n",
            "|   CA|    171000|\n",
            "|   NY|    252000|\n",
            "+-----+----------+\n",
            "\n"
          ]
        }
      ]
    },
    {
      "cell_type": "code",
      "source": [
        "from pyspark.sql.functions import desc\n",
        "dfFilter.sort(desc(\"sum_salary\")).show()"
      ],
      "metadata": {
        "colab": {
          "base_uri": "https://localhost:8080/"
        },
        "id": "4qgSMCkJxx1D",
        "outputId": "433d75ff-1912-49fc-bf94-ac7f9d8491b1"
      },
      "execution_count": null,
      "outputs": [
        {
          "output_type": "stream",
          "name": "stdout",
          "text": [
            "+-----+----------+\n",
            "|state|sum_salary|\n",
            "+-----+----------+\n",
            "|   NY|    252000|\n",
            "|   CA|    171000|\n",
            "|   NV|    166000|\n",
            "+-----+----------+\n",
            "\n"
          ]
        }
      ]
    },
    {
      "cell_type": "code",
      "source": [
        "df.groupBy(\"state\") \\\n",
        "  .agg(sum(\"salary\").alias(\"sum_salary\")) \\\n",
        "  .filter(col(\"sum_salary\") > 100000)  \\\n",
        "  .sort(desc(\"sum_salary\")) \\\n",
        "  .show()\n"
      ],
      "metadata": {
        "colab": {
          "base_uri": "https://localhost:8080/"
        },
        "id": "vY3_IUt4xx4G",
        "outputId": "929d3001-bc55-42ab-8fbf-35fc5d63a659"
      },
      "execution_count": null,
      "outputs": [
        {
          "output_type": "stream",
          "name": "stdout",
          "text": [
            "+-----+----------+\n",
            "|state|sum_salary|\n",
            "+-----+----------+\n",
            "|   NY|    252000|\n",
            "|   CA|    171000|\n",
            "|   NV|    166000|\n",
            "+-----+----------+\n",
            "\n"
          ]
        }
      ]
    },
    {
      "cell_type": "code",
      "source": [
        "df.createOrReplaceTempView(\"EMP\")\n",
        "spark.sql(\"select state, sum(salary) as sum_salary from EMP \" +\n",
        "          \"group by state having sum_salary > 100000 \" + \n",
        "          \"order by sum_salary desc\").show()"
      ],
      "metadata": {
        "colab": {
          "base_uri": "https://localhost:8080/"
        },
        "id": "RqP4gk4WyQn2",
        "outputId": "d4a11422-18e4-433f-d597-0f2753f56f86"
      },
      "execution_count": null,
      "outputs": [
        {
          "output_type": "stream",
          "name": "stdout",
          "text": [
            "+-----+----------+\n",
            "|state|sum_salary|\n",
            "+-----+----------+\n",
            "|   NY|    252000|\n",
            "|   CA|    171000|\n",
            "|   NV|    166000|\n",
            "+-----+----------+\n",
            "\n"
          ]
        }
      ]
    },
    {
      "cell_type": "code",
      "source": [
        "import pyspark\n",
        "from pyspark.sql import SparkSession\n",
        "from pyspark.sql.functions import col\n",
        "\n",
        "spark = SparkSession.builder.appName('SparkByExamples.com').getOrCreate()\n",
        "\n",
        "emp = [(1,\"Smith\",-1,\"2018\",\"10\",\"M\",3000), \\\n",
        "    (2,\"Rose\",1,\"2010\",\"20\",\"M\",4000), \\\n",
        "    (3,\"Williams\",1,\"2010\",\"10\",\"M\",1000), \\\n",
        "    (4,\"Jones\",2,\"2005\",\"10\",\"F\",2000), \\\n",
        "    (5,\"Brown\",2,\"2010\",\"40\",\"\",-1), \\\n",
        "      (6,\"Brown\",2,\"2010\",\"50\",\"\",-1) \\\n",
        "  ]\n",
        "empColumns = [\"emp_id\",\"name\",\"superior_emp_id\",\"year_joined\", \\\n",
        "       \"emp_dept_id\",\"gender\",\"salary\"]\n",
        "\n",
        "empDF = spark.createDataFrame(data=emp, schema = empColumns)\n",
        "empDF.printSchema()\n",
        "empDF.show(truncate=False)\n"
      ],
      "metadata": {
        "colab": {
          "base_uri": "https://localhost:8080/"
        },
        "id": "TsX6EA7OyQrG",
        "outputId": "c1098ee9-13d7-4be3-e3e3-65f2747f0a04"
      },
      "execution_count": null,
      "outputs": [
        {
          "output_type": "stream",
          "name": "stdout",
          "text": [
            "root\n",
            " |-- emp_id: long (nullable = true)\n",
            " |-- name: string (nullable = true)\n",
            " |-- superior_emp_id: long (nullable = true)\n",
            " |-- year_joined: string (nullable = true)\n",
            " |-- emp_dept_id: string (nullable = true)\n",
            " |-- gender: string (nullable = true)\n",
            " |-- salary: long (nullable = true)\n",
            "\n",
            "+------+--------+---------------+-----------+-----------+------+------+\n",
            "|emp_id|name    |superior_emp_id|year_joined|emp_dept_id|gender|salary|\n",
            "+------+--------+---------------+-----------+-----------+------+------+\n",
            "|1     |Smith   |-1             |2018       |10         |M     |3000  |\n",
            "|2     |Rose    |1              |2010       |20         |M     |4000  |\n",
            "|3     |Williams|1              |2010       |10         |M     |1000  |\n",
            "|4     |Jones   |2              |2005       |10         |F     |2000  |\n",
            "|5     |Brown   |2              |2010       |40         |      |-1    |\n",
            "|6     |Brown   |2              |2010       |50         |      |-1    |\n",
            "+------+--------+---------------+-----------+-----------+------+------+\n",
            "\n"
          ]
        }
      ]
    },
    {
      "cell_type": "code",
      "source": [
        "dept = [(\"Finance\",10), \\\n",
        "    (\"Marketing\",20), \\\n",
        "    (\"Sales\",30), \\\n",
        "    (\"IT\",40) \\\n",
        "  ]\n",
        "deptColumns = [\"dept_name\",\"dept_id\"]\n",
        "deptDF = spark.createDataFrame(data=dept, schema = deptColumns)\n",
        "deptDF.printSchema()\n",
        "deptDF.show(truncate=False)"
      ],
      "metadata": {
        "colab": {
          "base_uri": "https://localhost:8080/"
        },
        "id": "wSl_rYBtyQuK",
        "outputId": "020b0cf5-2678-4ee8-8077-b7b345dc76cc"
      },
      "execution_count": null,
      "outputs": [
        {
          "output_type": "stream",
          "name": "stdout",
          "text": [
            "root\n",
            " |-- dept_name: string (nullable = true)\n",
            " |-- dept_id: long (nullable = true)\n",
            "\n",
            "+---------+-------+\n",
            "|dept_name|dept_id|\n",
            "+---------+-------+\n",
            "|Finance  |10     |\n",
            "|Marketing|20     |\n",
            "|Sales    |30     |\n",
            "|IT       |40     |\n",
            "+---------+-------+\n",
            "\n"
          ]
        }
      ]
    },
    {
      "cell_type": "code",
      "source": [
        "empDF.join(deptDF,empDF.emp_dept_id ==  deptDF.dept_id,\"outer\") \\\n",
        "    .show(truncate=False)"
      ],
      "metadata": {
        "colab": {
          "base_uri": "https://localhost:8080/"
        },
        "id": "Bi5ze2KqyQw3",
        "outputId": "4e3d04be-fcc7-451c-d8cd-f85fd9c66fda"
      },
      "execution_count": null,
      "outputs": [
        {
          "output_type": "stream",
          "name": "stdout",
          "text": [
            "+------+--------+---------------+-----------+-----------+------+------+---------+-------+\n",
            "|emp_id|name    |superior_emp_id|year_joined|emp_dept_id|gender|salary|dept_name|dept_id|\n",
            "+------+--------+---------------+-----------+-----------+------+------+---------+-------+\n",
            "|1     |Smith   |-1             |2018       |10         |M     |3000  |Finance  |10     |\n",
            "|3     |Williams|1              |2010       |10         |M     |1000  |Finance  |10     |\n",
            "|4     |Jones   |2              |2005       |10         |F     |2000  |Finance  |10     |\n",
            "|2     |Rose    |1              |2010       |20         |M     |4000  |Marketing|20     |\n",
            "|null  |null    |null           |null       |null       |null  |null  |Sales    |30     |\n",
            "|5     |Brown   |2              |2010       |40         |      |-1    |IT       |40     |\n",
            "|6     |Brown   |2              |2010       |50         |      |-1    |null     |null   |\n",
            "+------+--------+---------------+-----------+-----------+------+------+---------+-------+\n",
            "\n"
          ]
        }
      ]
    },
    {
      "cell_type": "code",
      "source": [
        "empDF.join(deptDF,empDF.emp_dept_id ==  deptDF.dept_id,\"fullouter\") \\\n",
        "    .show(truncate=False)"
      ],
      "metadata": {
        "colab": {
          "base_uri": "https://localhost:8080/"
        },
        "id": "3526Ekxu2jin",
        "outputId": "d2b4de29-ded1-4c3b-e639-6b212c36fd5b"
      },
      "execution_count": null,
      "outputs": [
        {
          "output_type": "stream",
          "name": "stdout",
          "text": [
            "+------+--------+---------------+-----------+-----------+------+------+---------+-------+\n",
            "|emp_id|name    |superior_emp_id|year_joined|emp_dept_id|gender|salary|dept_name|dept_id|\n",
            "+------+--------+---------------+-----------+-----------+------+------+---------+-------+\n",
            "|1     |Smith   |-1             |2018       |10         |M     |3000  |Finance  |10     |\n",
            "|3     |Williams|1              |2010       |10         |M     |1000  |Finance  |10     |\n",
            "|4     |Jones   |2              |2005       |10         |F     |2000  |Finance  |10     |\n",
            "|2     |Rose    |1              |2010       |20         |M     |4000  |Marketing|20     |\n",
            "|null  |null    |null           |null       |null       |null  |null  |Sales    |30     |\n",
            "|5     |Brown   |2              |2010       |40         |      |-1    |IT       |40     |\n",
            "|6     |Brown   |2              |2010       |50         |      |-1    |null     |null   |\n",
            "+------+--------+---------------+-----------+-----------+------+------+---------+-------+\n",
            "\n"
          ]
        }
      ]
    },
    {
      "cell_type": "code",
      "source": [
        "from pyspark.sql import SparkSession\n",
        "spark = SparkSession.builder \\\n",
        "                    .appName('SparkByExamples.com') \\\n",
        "                    .getOrCreate()\n",
        "\n",
        "data = [('James','Smith','M',30),\n",
        "  ('Anna','Rose','F',41),\n",
        "  ('Robert','Williams','M',62), \n",
        "]\n",
        "\n",
        "columns = [\"firstname\",\"lastname\",\"gender\",\"salary\"]\n",
        "df = spark.createDataFrame(data=data, schema = columns)\n",
        "df.show()\n"
      ],
      "metadata": {
        "colab": {
          "base_uri": "https://localhost:8080/"
        },
        "id": "3LqR9fnW-086",
        "outputId": "f0556a99-86e7-430b-a5cc-d448ec33fd96"
      },
      "execution_count": null,
      "outputs": [
        {
          "output_type": "stream",
          "name": "stdout",
          "text": [
            "+---------+--------+------+------+\n",
            "|firstname|lastname|gender|salary|\n",
            "+---------+--------+------+------+\n",
            "|    James|   Smith|     M|    30|\n",
            "|     Anna|    Rose|     F|    41|\n",
            "|   Robert|Williams|     M|    62|\n",
            "+---------+--------+------+------+\n",
            "\n"
          ]
        }
      ]
    },
    {
      "cell_type": "code",
      "source": [
        "from pyspark.sql.functions import concat_ws,col,lit\n",
        "df.select(concat_ws(\",\",df.firstname,df.lastname).alias(\"name\"), \\\n",
        "          df.gender,df.salary,lit(df.salary*2).alias(\"new_salary\")).show()"
      ],
      "metadata": {
        "colab": {
          "base_uri": "https://localhost:8080/"
        },
        "id": "x63ErRsl-1AD",
        "outputId": "ea1721e3-d0bd-4fc1-8d6a-549d56ba776b"
      },
      "execution_count": null,
      "outputs": [
        {
          "output_type": "stream",
          "name": "stdout",
          "text": [
            "+---------------+------+------+----------+\n",
            "|           name|gender|salary|new_salary|\n",
            "+---------------+------+------+----------+\n",
            "|    James,Smith|     M|    30|        60|\n",
            "|      Anna,Rose|     F|    41|        82|\n",
            "|Robert,Williams|     M|    62|       124|\n",
            "+---------------+------+------+----------+\n",
            "\n"
          ]
        }
      ]
    },
    {
      "cell_type": "code",
      "source": [
        "print(df.collect())"
      ],
      "metadata": {
        "colab": {
          "base_uri": "https://localhost:8080/"
        },
        "id": "sTaByi_k-1DK",
        "outputId": "868d4842-8a8e-4b80-f2c2-d20eebe63654"
      },
      "execution_count": null,
      "outputs": [
        {
          "output_type": "stream",
          "name": "stdout",
          "text": [
            "[Row(firstname='James', lastname='Smith', gender='M', salary=30), Row(firstname='Anna', lastname='Rose', gender='F', salary=41), Row(firstname='Robert', lastname='Williams', gender='M', salary=62)]\n"
          ]
        }
      ]
    },
    {
      "cell_type": "code",
      "source": [
        "rdd=df.rdd.map(lambda x: (x[0]+\"IBM\"+x[1],x[2],x[3]*2))  \n",
        "\n",
        "df2=rdd.toDF([\"name\",\"gender\",\"new_salary\"]   )\n",
        "df2.show()"
      ],
      "metadata": {
        "colab": {
          "base_uri": "https://localhost:8080/"
        },
        "id": "viWuWC0P-1F6",
        "outputId": "c1ace058-15fc-493c-a983-436e4597bc2b"
      },
      "execution_count": null,
      "outputs": [
        {
          "output_type": "stream",
          "name": "stdout",
          "text": [
            "+-----------------+------+----------+\n",
            "|             name|gender|new_salary|\n",
            "+-----------------+------+----------+\n",
            "|    JamesIBMSmith|     M|        60|\n",
            "|      AnnaIBMRose|     F|        82|\n",
            "|RobertIBMWilliams|     M|       124|\n",
            "+-----------------+------+----------+\n",
            "\n"
          ]
        }
      ]
    },
    {
      "cell_type": "code",
      "source": [
        "df = spark.read.csv(\"movies_data.csv\", header=True, inferSchema=True)\n",
        "df.show()"
      ],
      "metadata": {
        "colab": {
          "base_uri": "https://localhost:8080/"
        },
        "id": "UAR6qwu4-1Ix",
        "outputId": "fd86a5de-1db9-4cea-fce7-59d66fd7fd9d"
      },
      "execution_count": null,
      "outputs": [
        {
          "output_type": "stream",
          "name": "stdout",
          "text": [
            "+-----+--------------------+----+------+--------+\n",
            "|Sr.No|                Name|Year|Rating|duration|\n",
            "+-----+--------------------+----+------+--------+\n",
            "|    1|The Nightmare Bef...|1993|   3.9|    4568|\n",
            "|    2|           The Mummy|1932|   3.5|    4388|\n",
            "|    3|Orphans of the Storm|1921|   3.2|    9062|\n",
            "|    4|The Object of Beauty|1991|   2.8|    6150|\n",
            "|    5|          Night Tide|1963|   2.8|    5126|\n",
            "|    6| One Magic Christmas|1985|   3.8|    5333|\n",
            "|    7|    Muriel's Wedding|1994|   3.5|    6323|\n",
            "|    8|       Mother's Boys|1994|   3.4|    5733|\n",
            "|    9|Nosferatu: Origin...|1929|   3.5|    5651|\n",
            "|   10|        Nick of Time|1995|   3.4|    5333|\n",
            "|   11|     Broken Blossoms|1919|   3.3|    5367|\n",
            "|   12|           Big Night|1996|   3.6|    6561|\n",
            "|   13|The Birth of a Na...|1915|   2.9|   12118|\n",
            "|   14|The Boys from Brazil|1978|   3.6|    7417|\n",
            "|   15|      Big Doll House|1971|   2.9|    5696|\n",
            "|   16|  The Breakfast Club|1985|   4.0|    5823|\n",
            "|   17|The Bride of Fran...|1935|   3.7|    4485|\n",
            "|   18|     Beautiful Girls|1996|   3.5|    6755|\n",
            "|   19|       Bustin' Loose|1981|   3.7|    5598|\n",
            "|   20|        The Beguiled|1971|   3.4|    6307|\n",
            "+-----+--------------------+----+------+--------+\n",
            "only showing top 20 rows\n",
            "\n"
          ]
        }
      ]
    },
    {
      "cell_type": "code",
      "source": [
        "# Linear regression with python code\n",
        "\n",
        "import numpy as np\n",
        "from sklearn.linear_model import LinearRegression\n",
        "\n",
        "Height = np.array([171,165,145,162,156,220,156,178])\n",
        "Weight = np.array([80,60,80,62,65,55,99,45])\n",
        "\n",
        "clf = LinearRegression()\n",
        "clf.fit(Height.reshape(-1,1),Weight)\n",
        "\n"
      ],
      "metadata": {
        "id": "FljVTRrt-1LY",
        "colab": {
          "base_uri": "https://localhost:8080/"
        },
        "outputId": "6316d341-2ed0-4da1-cda2-7012b26e864c"
      },
      "execution_count": null,
      "outputs": [
        {
          "output_type": "execute_result",
          "data": {
            "text/plain": [
              "LinearRegression()"
            ]
          },
          "metadata": {},
          "execution_count": 1
        }
      ]
    },
    {
      "cell_type": "code",
      "source": [
        "a=clf.predict([[200]])\n",
        "print(a)\n"
      ],
      "metadata": {
        "id": "KkFL2xlo-1OR",
        "colab": {
          "base_uri": "https://localhost:8080/"
        },
        "outputId": "e5212aa2-740a-410a-958f-e6535157dfbc"
      },
      "execution_count": null,
      "outputs": [
        {
          "output_type": "stream",
          "name": "stdout",
          "text": [
            "[56.25130461]\n"
          ]
        }
      ]
    },
    {
      "cell_type": "code",
      "source": [
        "# Load libraries\n",
        "import pandas as pd\n",
        "from sklearn.tree import DecisionTreeClassifier # Import Decision Tree Classifier\n",
        "from sklearn.model_selection import train_test_split # Import train_test_split function\n",
        "from sklearn import metrics #Import scikit-learn metrics module for accuracy calculation\n",
        "\n",
        "import warnings\n",
        "warnings.filterwarnings('ignore')\n",
        "\n",
        "col_names = ['pregnant', 'glucose', 'bp', 'skin', 'insulin', 'bmi', 'pedigree', 'age', 'label']\n",
        "# load dataset\n",
        "pima = pd.read_csv(\"Diabetes.csv\", header=1, names=col_names)\n",
        "pima.head()\n",
        "\n",
        "#split dataset in features and target variable\n",
        "feature_cols = ['pregnant', 'insulin', 'bmi', 'age','glucose','bp','pedigree']\n",
        "X = pima[feature_cols] # Features\n",
        "y = pima.label # Target variable\n",
        "\n",
        "# Split dataset into training set and test set\n",
        "X_train, X_test, y_train, y_test = train_test_split(X, y, test_size=0.3, random_state=1) # 70% training and 30% test\n",
        "\n",
        "# Create Decision Tree classifer object\n",
        "clf = DecisionTreeClassifier()\n",
        "\n",
        "# Train Decision Tree Classifer\n",
        "clf = clf.fit(X_train,y_train)\n",
        "\n",
        "#Predict the response for test dataset\n",
        "y_pred = clf.predict(X_test)\n",
        "\n",
        "# Model Accuracy, how often is the classifier correct?\n",
        "print(\"Accuracy:\",metrics.accuracy_score(y_test, y_pred))\n",
        "\n",
        "y_pred1 = clf.predict([[1,22,33,4,5,6,77]])\n",
        "print(y_pred1)\n",
        "\n",
        "\n",
        "\n",
        "\n",
        "      \n",
        "\n",
        "                                         \n",
        "\n"
      ],
      "metadata": {
        "colab": {
          "base_uri": "https://localhost:8080/"
        },
        "id": "RONcSu86NDjd",
        "outputId": "8099c8bd-ea4c-4e1e-8a6d-808e16a2f431"
      },
      "execution_count": null,
      "outputs": [
        {
          "output_type": "stream",
          "name": "stdout",
          "text": [
            "Accuracy: 0.7056277056277056\n",
            "[0]\n"
          ]
        }
      ]
    },
    {
      "cell_type": "markdown",
      "source": [],
      "metadata": {
        "id": "Tk6mNJ1qPS_8"
      }
    },
    {
      "cell_type": "markdown",
      "source": [],
      "metadata": {
        "id": "vhGzRAghPS0M"
      }
    },
    {
      "cell_type": "code",
      "source": [],
      "metadata": {
        "id": "wMMKzqPPN2yE"
      },
      "execution_count": null,
      "outputs": []
    },
    {
      "cell_type": "markdown",
      "source": [
        "**Movies** Data Analysis"
      ],
      "metadata": {
        "id": "UXHbzti93O--"
      }
    },
    {
      "cell_type": "code",
      "source": [
        "import pyspark.sql.functions as F\n",
        "from pyspark.sql.types import TimestampType, DateType, IntegerType\n",
        "from pyspark.ml.recommendation import ALS\n",
        "\n",
        "from IPython.display import display, Markdown"
      ],
      "metadata": {
        "id": "cL905AtFN2GG"
      },
      "execution_count": null,
      "outputs": []
    },
    {
      "cell_type": "code",
      "source": [
        "moviesDF = spark.read\\\n",
        "                 .option(\"header\", \"true\")\\\n",
        "                 .option(\"inferSchema\", \"true\")\\\n",
        "                 .csv(\"movies.csv\")\n",
        "\n",
        "ratingsDF = spark.read\\\n",
        "                 .option(\"header\", \"true\")\\\n",
        "                 .option(\"inferSchema\", \"true\")\\\n",
        "                 .csv(\"ratings.csv\")\n",
        "\n",
        "tagsDF = spark.read\\\n",
        "              .option(\"header\", \"true\")\\\n",
        "              .option(\"inferSchema\", \"true\")\\\n",
        "              .csv(\"tags.csv\")"
      ],
      "metadata": {
        "id": "sV8W2Cgf3ZAN"
      },
      "execution_count": null,
      "outputs": []
    },
    {
      "cell_type": "code",
      "source": [
        "moviesDF.cache()\n",
        "ratingsDF.cache()\n",
        "tagsDF.cache()"
      ],
      "metadata": {
        "colab": {
          "base_uri": "https://localhost:8080/"
        },
        "id": "kuTaiWNF3ZDU",
        "outputId": "3d95cdfc-68bd-4da1-dcb0-13a5f98cc2c1"
      },
      "execution_count": null,
      "outputs": [
        {
          "output_type": "execute_result",
          "data": {
            "text/plain": [
              "DataFrame[userId: int, movieId: int, tag: string, timestamp: int]"
            ]
          },
          "metadata": {},
          "execution_count": 14
        }
      ]
    },
    {
      "cell_type": "code",
      "source": [
        "moviesDF.show(5,False)\n",
        "print(\"moviesDF has {} rows\".format(moviesDF.count()))\n",
        "moviesDF.printSchema()"
      ],
      "metadata": {
        "colab": {
          "base_uri": "https://localhost:8080/"
        },
        "id": "v16Nn9bt3ZGl",
        "outputId": "cf450586-0e5f-4bce-a518-21fab0c93482"
      },
      "execution_count": null,
      "outputs": [
        {
          "output_type": "stream",
          "name": "stdout",
          "text": [
            "+-------+----------------------------------+-------------------------------------------+\n",
            "|movieId|title                             |genres                                     |\n",
            "+-------+----------------------------------+-------------------------------------------+\n",
            "|1      |Toy Story (1995)                  |Adventure|Animation|Children|Comedy|Fantasy|\n",
            "|2      |Jumanji (1995)                    |Adventure|Children|Fantasy                 |\n",
            "|3      |Grumpier Old Men (1995)           |Comedy|Romance                             |\n",
            "|4      |Waiting to Exhale (1995)          |Comedy|Drama|Romance                       |\n",
            "|5      |Father of the Bride Part II (1995)|Comedy                                     |\n",
            "+-------+----------------------------------+-------------------------------------------+\n",
            "only showing top 5 rows\n",
            "\n",
            "moviesDF has 9742 rows\n",
            "root\n",
            " |-- movieId: integer (nullable = true)\n",
            " |-- title: string (nullable = true)\n",
            " |-- genres: string (nullable = true)\n",
            "\n"
          ]
        }
      ]
    },
    {
      "cell_type": "code",
      "source": [
        "ratingsDF.show(5)\n",
        "print(\"ratingsDF has {} rows\".format(ratingsDF.count()))\n",
        "ratingsDF.printSchema()"
      ],
      "metadata": {
        "colab": {
          "base_uri": "https://localhost:8080/"
        },
        "id": "UP4HvHah3ZJn",
        "outputId": "e053bb58-a817-4875-815e-60503826a490"
      },
      "execution_count": null,
      "outputs": [
        {
          "output_type": "stream",
          "name": "stdout",
          "text": [
            "+------+-------+------+---------+\n",
            "|userId|movieId|rating|timestamp|\n",
            "+------+-------+------+---------+\n",
            "|     1|      1|   4.0|964982703|\n",
            "|     1|      3|   4.0|964981247|\n",
            "|     1|      6|   4.0|964982224|\n",
            "|     1|     47|   5.0|964983815|\n",
            "|     1|     50|   5.0|964982931|\n",
            "+------+-------+------+---------+\n",
            "only showing top 5 rows\n",
            "\n",
            "ratingsDF has 100836 rows\n",
            "root\n",
            " |-- userId: integer (nullable = true)\n",
            " |-- movieId: integer (nullable = true)\n",
            " |-- rating: double (nullable = true)\n",
            " |-- timestamp: integer (nullable = true)\n",
            "\n"
          ]
        }
      ]
    },
    {
      "cell_type": "code",
      "source": [
        "tagsDF.show(5)\n",
        "print(\"tagsDF has {} rows\".format(tagsDF.count()))\n",
        "tagsDF.printSchema()"
      ],
      "metadata": {
        "colab": {
          "base_uri": "https://localhost:8080/"
        },
        "id": "JcLNwR9_3s7v",
        "outputId": "1e1122f8-07c4-4b22-f6af-494075cd5e21"
      },
      "execution_count": null,
      "outputs": [
        {
          "output_type": "stream",
          "name": "stdout",
          "text": [
            "+------+-------+---------------+----------+\n",
            "|userId|movieId|            tag| timestamp|\n",
            "+------+-------+---------------+----------+\n",
            "|     2|  60756|          funny|1445714994|\n",
            "|     2|  60756|Highly quotable|1445714996|\n",
            "|     2|  60756|   will ferrell|1445714992|\n",
            "|     2|  89774|   Boxing story|1445715207|\n",
            "|     2|  89774|            MMA|1445715200|\n",
            "+------+-------+---------------+----------+\n",
            "only showing top 5 rows\n",
            "\n",
            "tagsDF has 3683 rows\n",
            "root\n",
            " |-- userId: integer (nullable = true)\n",
            " |-- movieId: integer (nullable = true)\n",
            " |-- tag: string (nullable = true)\n",
            " |-- timestamp: integer (nullable = true)\n",
            "\n"
          ]
        }
      ]
    },
    {
      "cell_type": "code",
      "source": [
        "ratingsDF.select(\"rating\").summary().show()"
      ],
      "metadata": {
        "colab": {
          "base_uri": "https://localhost:8080/"
        },
        "id": "mMDABh0H3s-n",
        "outputId": "027b12d9-1147-4fca-eb71-7550237c02b7"
      },
      "execution_count": null,
      "outputs": [
        {
          "output_type": "stream",
          "name": "stdout",
          "text": [
            "+-------+------------------+\n",
            "|summary|            rating|\n",
            "+-------+------------------+\n",
            "|  count|            100836|\n",
            "|   mean| 3.501556983616962|\n",
            "| stddev|1.0425292390606342|\n",
            "|    min|               0.5|\n",
            "|    25%|               3.0|\n",
            "|    50%|               3.5|\n",
            "|    75%|               4.0|\n",
            "|    max|               5.0|\n",
            "+-------+------------------+\n",
            "\n"
          ]
        }
      ]
    },
    {
      "cell_type": "code",
      "source": [
        "print(\"Checking for nulls on columns of moviesDF:\")\n",
        "moviesDF.select([F.count(F.when(F.col(c).isNull(), c)).alias(c) for c in moviesDF.columns]).show()"
      ],
      "metadata": {
        "colab": {
          "base_uri": "https://localhost:8080/"
        },
        "id": "FU5yHiX33tBm",
        "outputId": "7c1bd533-99f0-480c-d51b-d5821d714cdf"
      },
      "execution_count": null,
      "outputs": [
        {
          "output_type": "stream",
          "name": "stdout",
          "text": [
            "Checking for nulls on columns of moviesDF:\n",
            "+-------+-----+------+\n",
            "|movieId|title|genres|\n",
            "+-------+-----+------+\n",
            "|      0|    0|     0|\n",
            "+-------+-----+------+\n",
            "\n"
          ]
        }
      ]
    },
    {
      "cell_type": "code",
      "source": [
        "ratingsDF.select(\"rating\").summary().show()"
      ],
      "metadata": {
        "colab": {
          "base_uri": "https://localhost:8080/"
        },
        "id": "BX-dK3rB7lmW",
        "outputId": "453fe778-e268-43fb-f8fd-b987c92aced4"
      },
      "execution_count": null,
      "outputs": [
        {
          "output_type": "stream",
          "name": "stdout",
          "text": [
            "+-------+------------------+\n",
            "|summary|            rating|\n",
            "+-------+------------------+\n",
            "|  count|            100836|\n",
            "|   mean| 3.501556983616962|\n",
            "| stddev|1.0425292390606342|\n",
            "|    min|               0.5|\n",
            "|    25%|               3.0|\n",
            "|    50%|               3.5|\n",
            "|    75%|               4.0|\n",
            "|    max|               5.0|\n",
            "+-------+------------------+\n",
            "\n"
          ]
        }
      ]
    },
    {
      "cell_type": "code",
      "source": [
        "moviesDF.show()"
      ],
      "metadata": {
        "colab": {
          "base_uri": "https://localhost:8080/"
        },
        "id": "6qOQ9Ui77lpZ",
        "outputId": "478c8ce1-159f-4709-a47e-945cbf598ca8"
      },
      "execution_count": null,
      "outputs": [
        {
          "output_type": "stream",
          "name": "stdout",
          "text": [
            "+-------+--------------------+--------------------+\n",
            "|movieId|               title|              genres|\n",
            "+-------+--------------------+--------------------+\n",
            "|      1|    Toy Story (1995)|Adventure|Animati...|\n",
            "|      2|      Jumanji (1995)|Adventure|Childre...|\n",
            "|      3|Grumpier Old Men ...|      Comedy|Romance|\n",
            "|      4|Waiting to Exhale...|Comedy|Drama|Romance|\n",
            "|      5|Father of the Bri...|              Comedy|\n",
            "|      6|         Heat (1995)|Action|Crime|Thri...|\n",
            "|      7|      Sabrina (1995)|      Comedy|Romance|\n",
            "|      8| Tom and Huck (1995)|  Adventure|Children|\n",
            "|      9| Sudden Death (1995)|              Action|\n",
            "|     10|    GoldenEye (1995)|Action|Adventure|...|\n",
            "|     11|American Presiden...|Comedy|Drama|Romance|\n",
            "|     12|Dracula: Dead and...|       Comedy|Horror|\n",
            "|     13|        Balto (1995)|Adventure|Animati...|\n",
            "|     14|        Nixon (1995)|               Drama|\n",
            "|     15|Cutthroat Island ...|Action|Adventure|...|\n",
            "|     16|       Casino (1995)|         Crime|Drama|\n",
            "|     17|Sense and Sensibi...|       Drama|Romance|\n",
            "|     18|   Four Rooms (1995)|              Comedy|\n",
            "|     19|Ace Ventura: When...|              Comedy|\n",
            "|     20|  Money Train (1995)|Action|Comedy|Cri...|\n",
            "+-------+--------------------+--------------------+\n",
            "only showing top 20 rows\n",
            "\n"
          ]
        }
      ]
    },
    {
      "cell_type": "markdown",
      "source": [
        "All codes from Pyspark file"
      ],
      "metadata": {
        "id": "9qY7S4rJRVbO"
      }
    },
    {
      "cell_type": "code",
      "source": [
        "from pyspark.sql import SparkSession\n",
        "spark = SparkSession.builder.master(\"local[1]\") \\\n",
        "                    .appName('SparkByExamples.com') \\\n",
        "                    .getOrCreate()\n",
        "\n",
        "data = [(\"James\",\"Smith\",\"USA\",\"CA\"),(\"Michael\",\"Rose\",\"USA\",\"NY\"), \\\n",
        "    (\"Robert\",\"Williams\",\"USA\",\"CA\"),(\"Maria\",\"Jones\",\"USA\",\"FL\") \\\n",
        "  ]\n",
        "\n",
        "columns=[\"firstname\",\"lastname\",\"country\",\"state\"]\n",
        "df=spark.createDataFrame(data=data,schema=columns)\n",
        "df.show()\n",
        "print(df.collect())\n",
        "\n",
        "#######################################################################\n",
        "\n",
        "\n",
        "\n",
        "states1=df.rdd.map(lambda x: x[3]).collect()\n",
        "print(states1)\n",
        "\n",
        "#['CA', 'NY', 'CA', 'FL']\n",
        "\n",
        "from collections import OrderedDict \n",
        "res = list(OrderedDict.fromkeys(states1)) \n",
        "print(res)\n",
        "#['CA', 'NY', 'FL']\n",
        "\n",
        "\n",
        "#Example 2\n",
        "states2=df.rdd.map(lambda x: x.state).collect()\n",
        "print(states2)\n",
        "#['CA', 'NY', 'CA', 'FL']\n",
        "\n",
        "states3=df.select(df.state).collect()\n",
        "print(states3)\n",
        "#[Row(state='CA'), Row(state='NY'), Row(state='CA'), Row(state='FL')]\n",
        "\n",
        "states4=df.select(df.state).rdd.flatMap(lambda x: x).collect()\n",
        "print(states4)\n",
        "#['CA', 'NY', 'CA', 'FL']\n",
        "\n",
        "states5=df.select(df.state).toPandas()['state']\n",
        "states6=list(states5)\n",
        "print(states6)\n",
        "#['CA', 'NY', 'CA', 'FL']\n",
        "\n",
        "pandDF=df.select(df.state,df.firstname).toPandas()\n",
        "print(list(pandDF['state']))\n",
        "print(list(pandDF['firstname']))"
      ],
      "metadata": {
        "colab": {
          "base_uri": "https://localhost:8080/"
        },
        "id": "8b9IHp-aRbt7",
        "outputId": "be40ea64-c012-43dc-bd5a-d1b052b46944"
      },
      "execution_count": null,
      "outputs": [
        {
          "output_type": "stream",
          "name": "stdout",
          "text": [
            "+---------+--------+-------+-----+\n",
            "|firstname|lastname|country|state|\n",
            "+---------+--------+-------+-----+\n",
            "|    James|   Smith|    USA|   CA|\n",
            "|  Michael|    Rose|    USA|   NY|\n",
            "|   Robert|Williams|    USA|   CA|\n",
            "|    Maria|   Jones|    USA|   FL|\n",
            "+---------+--------+-------+-----+\n",
            "\n",
            "[Row(firstname='James', lastname='Smith', country='USA', state='CA'), Row(firstname='Michael', lastname='Rose', country='USA', state='NY'), Row(firstname='Robert', lastname='Williams', country='USA', state='CA'), Row(firstname='Maria', lastname='Jones', country='USA', state='FL')]\n",
            "['CA', 'NY', 'CA', 'FL']\n",
            "['CA', 'NY', 'FL']\n",
            "['CA', 'NY', 'CA', 'FL']\n",
            "[Row(state='CA'), Row(state='NY'), Row(state='CA'), Row(state='FL')]\n",
            "['CA', 'NY', 'CA', 'FL']\n",
            "['CA', 'NY', 'CA', 'FL']\n",
            "['CA', 'NY', 'CA', 'FL']\n",
            "['James', 'Michael', 'Robert', 'Maria']\n"
          ]
        }
      ]
    },
    {
      "cell_type": "code",
      "source": [
        "\n",
        "from pyspark.sql import SparkSession\n",
        "from pyspark.sql.functions import to_timestamp, current_timestamp\n",
        "from pyspark.sql.functions import *\n",
        "\n",
        "spark = SparkSession.builder.appName('SparkByExamples.com').getOrCreate()\n",
        "\n",
        "data = [['1']]\n",
        "\n",
        "df = spark.createDataFrame(data,[\"id\"])\n",
        "df.withColumn(\"CurrentDate\",current_date()).withColumn(\"Currenttime\",current_timestamp()).show()"
      ],
      "metadata": {
        "colab": {
          "base_uri": "https://localhost:8080/"
        },
        "id": "mavPtjKLRb2S",
        "outputId": "9a6cc241-aba6-4210-fe65-c09835bff966"
      },
      "execution_count": null,
      "outputs": [
        {
          "output_type": "stream",
          "name": "stdout",
          "text": [
            "+---+-----------+--------------------+\n",
            "| id|CurrentDate|         Currenttime|\n",
            "+---+-----------+--------------------+\n",
            "|  1| 2022-08-25|2022-08-25 04:48:...|\n",
            "+---+-----------+--------------------+\n",
            "\n"
          ]
        }
      ]
    },
    {
      "cell_type": "code",
      "source": [
        "import pandas as pd    \n",
        "data = [['Scott', 50], ['Jeff', 45], ['Thomas', 54],['Ann',34]] \n",
        "  \n",
        "# Create the pandas DataFrame \n",
        "pandasDF = pd.DataFrame(data, columns = ['Name', 'Age']) \n",
        "  \n",
        "# print dataframe. \n",
        "print(pandasDF)\n",
        "\n",
        "from pyspark.sql import SparkSession\n",
        "\n",
        "spark = SparkSession.builder \\\n",
        "    .master(\"local[1]\") \\\n",
        "    .appName(\"SparkByExamples.com\") \\\n",
        "    .getOrCreate()\n",
        "\n",
        "sparkDF=spark.createDataFrame(pandasDF) \n",
        "sparkDF.printSchema()\n",
        "sparkDF.show()\n",
        "\n",
        "#sparkDF=spark.createDataFrame(pandasDF.astype(str)) \n",
        "from pyspark.sql.types import StructType,StructField, StringType, IntegerType\n",
        "mySchema = StructType([ StructField(\"First Name\", StringType(), True)\\\n",
        "                       ,StructField(\"Age\", IntegerType(), True)])\n",
        "\n",
        "sparkDF2 = spark.createDataFrame(pandasDF,schema=mySchema)\n",
        "sparkDF2.printSchema()\n",
        "sparkDF2.show()\n",
        "\n",
        "\n",
        "spark.conf.set(\"spark.sql.execution.arrow.enabled\",\"true\")\n",
        "spark.conf.set(\"spark.sql.execution.arrow.pyspark.fallback.enabled\",\"true\")\n",
        "\n",
        "pandasDF2=sparkDF2.select(\"*\").toPandas\n",
        "print(pandasDF2)\n",
        "\n",
        "\n",
        "test=spark.conf.get(\"spark.sql.execution.arrow.enabled\")\n",
        "print(test)\n",
        "\n",
        "test123=spark.conf.get(\"spark.sql.execution.arrow.pyspark.fallback.enabled\")\n",
        "print(test123)"
      ],
      "metadata": {
        "colab": {
          "base_uri": "https://localhost:8080/"
        },
        "id": "cFtDjPKmRb5S",
        "outputId": "e294e0ce-47a7-4bdd-e253-6a810b935e70"
      },
      "execution_count": null,
      "outputs": [
        {
          "output_type": "stream",
          "name": "stdout",
          "text": [
            "     Name  Age\n",
            "0   Scott   50\n",
            "1    Jeff   45\n",
            "2  Thomas   54\n",
            "3     Ann   34\n",
            "root\n",
            " |-- Name: string (nullable = true)\n",
            " |-- Age: long (nullable = true)\n",
            "\n",
            "+------+---+\n",
            "|  Name|Age|\n",
            "+------+---+\n",
            "| Scott| 50|\n",
            "|  Jeff| 45|\n",
            "|Thomas| 54|\n",
            "|   Ann| 34|\n",
            "+------+---+\n",
            "\n",
            "root\n",
            " |-- First Name: string (nullable = true)\n",
            " |-- Age: integer (nullable = true)\n",
            "\n",
            "+----------+---+\n",
            "|First Name|Age|\n",
            "+----------+---+\n",
            "|     Scott| 50|\n",
            "|      Jeff| 45|\n",
            "|    Thomas| 54|\n",
            "|       Ann| 34|\n",
            "+----------+---+\n",
            "\n",
            "<bound method PandasConversionMixin.toPandas of DataFrame[First Name: string, Age: int]>\n",
            "true\n",
            "true\n"
          ]
        }
      ]
    },
    {
      "cell_type": "code",
      "source": [
        "from pyspark.sql import SparkSession\n",
        "spark = SparkSession.builder.appName('SparkByExamples.com').getOrCreate()\n",
        "\n",
        "from pyspark.sql.functions import col,expr\n",
        "data=[(\"2019-01-23\",1),(\"2019-06-24\",2),(\"2019-09-20\",3)]\n",
        "spark.createDataFrame(data).toDF(\"date\",\"increment\") \\\n",
        "    .select(col(\"date\"),col(\"increment\"), \\\n",
        "      expr(\"add_months(to_date(date,'yyyy-MM-dd'),cast(increment as int))\").alias(\"inc_date\")) \\\n",
        "    .show()"
      ],
      "metadata": {
        "colab": {
          "base_uri": "https://localhost:8080/"
        },
        "id": "0L9GBvkDRb8B",
        "outputId": "06bb5244-2b5c-4a17-8e6e-656a5c83940b"
      },
      "execution_count": null,
      "outputs": [
        {
          "output_type": "stream",
          "name": "stdout",
          "text": [
            "+----------+---------+----------+\n",
            "|      date|increment|  inc_date|\n",
            "+----------+---------+----------+\n",
            "|2019-01-23|        1|2019-02-23|\n",
            "|2019-06-24|        2|2019-08-24|\n",
            "|2019-09-20|        3|2019-12-20|\n",
            "+----------+---------+----------+\n",
            "\n"
          ]
        }
      ]
    },
    {
      "cell_type": "code",
      "source": [
        "# -*- coding: utf-8 -*-\n",
        "\"\"\"\n",
        "author SparkByExamples.com\n",
        "\"\"\"\n",
        "\n",
        "from pyspark.sql import SparkSession\n",
        "\n",
        "spark = SparkSession.builder \\\n",
        "                    .appName('SparkByExamples.com') \\\n",
        "                    .getOrCreate()\n",
        "\n",
        "data = [('James','Smith','M',3000),\n",
        "  ('Anna','Rose','F',4100),\n",
        "  ('Robert','Williams','M',6200), \n",
        "]\n",
        "\n",
        "columns = [\"firstname\",\"lastname\",\"gender\",\"salary\"]\n",
        "df = spark.createDataFrame(data=data, schema = columns)\n",
        "df.show()\n",
        "\n",
        "\n",
        "if 'salary1' not in df.columns:\n",
        "    print(\"aa\")\n",
        "    \n",
        "# Add new constanct column\n",
        "from pyspark.sql.functions import lit\n",
        "df.withColumn(\"bonus_percent\", lit(0.3)) \\\n",
        "  .show()\n",
        "  \n",
        "#Add column from existing column\n",
        "df.withColumn(\"bonus_amount\", df.salary*0.3) \\\n",
        "  .show()\n",
        "\n",
        "#Add column by concatinating existing columns\n",
        "from pyspark.sql.functions import concat_ws\n",
        "df.withColumn(\"name\", concat_ws(\",\",\"firstname\",'lastname')) \\\n",
        "  .show()\n",
        "\n",
        "#Add current date\n",
        "from pyspark.sql.functions import current_date\n",
        "df.withColumn(\"current_date\", current_date()) \\\n",
        "  .show()\n",
        "\n",
        "\n",
        "from pyspark.sql.functions import when\n",
        "df.withColumn(\"grade\", \\\n",
        "   when((df.salary < 4000), lit(\"A\")) \\\n",
        "     .when((df.salary >= 4000) & (df.salary <= 5000), lit(\"B\")) \\\n",
        "     .otherwise(lit(\"C\")) \\\n",
        "  ).show()\n",
        "    \n",
        "# Add column using select\n",
        "df.select(\"firstname\",\"salary\", lit(0.3).alias(\"bonus\")).show()\n",
        "df.select(\"firstname\",\"salary\", lit(df.salary * 0.3).alias(\"bonus_amount\")).show()\n",
        "df.select(\"firstname\",\"salary\", current_date().alias(\"today_date\")).show()\n",
        "\n",
        "#Add columns using SQL\n",
        "df.createOrReplaceTempView(\"PER\")\n",
        "spark.sql(\"select firstname,salary, '0.3' as bonus from PER\").show()\n",
        "spark.sql(\"select firstname,salary, salary * 0.3 as bonus_amount from PER\").show()\n",
        "spark.sql(\"select firstname,salary, current_date() as today_date from PER\").show()\n",
        "spark.sql(\"select firstname,salary, \" +\n",
        "          \"case salary when salary < 4000 then 'A' \"+\n",
        "          \"else 'B' END as grade from PER\").show()\n",
        "\n",
        "\n",
        "\n",
        "\n",
        "\n"
      ],
      "metadata": {
        "colab": {
          "base_uri": "https://localhost:8080/"
        },
        "id": "4Qz6Pe6xRb-5",
        "outputId": "85a3e522-fc66-4015-c743-6550c6d4318b"
      },
      "execution_count": null,
      "outputs": [
        {
          "output_type": "stream",
          "name": "stdout",
          "text": [
            "+---------+--------+------+------+\n",
            "|firstname|lastname|gender|salary|\n",
            "+---------+--------+------+------+\n",
            "|    James|   Smith|     M|  3000|\n",
            "|     Anna|    Rose|     F|  4100|\n",
            "|   Robert|Williams|     M|  6200|\n",
            "+---------+--------+------+------+\n",
            "\n",
            "aa\n",
            "+---------+--------+------+------+-------------+\n",
            "|firstname|lastname|gender|salary|bonus_percent|\n",
            "+---------+--------+------+------+-------------+\n",
            "|    James|   Smith|     M|  3000|          0.3|\n",
            "|     Anna|    Rose|     F|  4100|          0.3|\n",
            "|   Robert|Williams|     M|  6200|          0.3|\n",
            "+---------+--------+------+------+-------------+\n",
            "\n",
            "+---------+--------+------+------+------------+\n",
            "|firstname|lastname|gender|salary|bonus_amount|\n",
            "+---------+--------+------+------+------------+\n",
            "|    James|   Smith|     M|  3000|       900.0|\n",
            "|     Anna|    Rose|     F|  4100|      1230.0|\n",
            "|   Robert|Williams|     M|  6200|      1860.0|\n",
            "+---------+--------+------+------+------------+\n",
            "\n",
            "+---------+--------+------+------+---------------+\n",
            "|firstname|lastname|gender|salary|           name|\n",
            "+---------+--------+------+------+---------------+\n",
            "|    James|   Smith|     M|  3000|    James,Smith|\n",
            "|     Anna|    Rose|     F|  4100|      Anna,Rose|\n",
            "|   Robert|Williams|     M|  6200|Robert,Williams|\n",
            "+---------+--------+------+------+---------------+\n",
            "\n",
            "+---------+--------+------+------+------------+\n",
            "|firstname|lastname|gender|salary|current_date|\n",
            "+---------+--------+------+------+------------+\n",
            "|    James|   Smith|     M|  3000|  2022-08-25|\n",
            "|     Anna|    Rose|     F|  4100|  2022-08-25|\n",
            "|   Robert|Williams|     M|  6200|  2022-08-25|\n",
            "+---------+--------+------+------+------------+\n",
            "\n",
            "+---------+--------+------+------+-----+\n",
            "|firstname|lastname|gender|salary|grade|\n",
            "+---------+--------+------+------+-----+\n",
            "|    James|   Smith|     M|  3000|    A|\n",
            "|     Anna|    Rose|     F|  4100|    B|\n",
            "|   Robert|Williams|     M|  6200|    C|\n",
            "+---------+--------+------+------+-----+\n",
            "\n",
            "+---------+------+-----+\n",
            "|firstname|salary|bonus|\n",
            "+---------+------+-----+\n",
            "|    James|  3000|  0.3|\n",
            "|     Anna|  4100|  0.3|\n",
            "|   Robert|  6200|  0.3|\n",
            "+---------+------+-----+\n",
            "\n",
            "+---------+------+------------+\n",
            "|firstname|salary|bonus_amount|\n",
            "+---------+------+------------+\n",
            "|    James|  3000|       900.0|\n",
            "|     Anna|  4100|      1230.0|\n",
            "|   Robert|  6200|      1860.0|\n",
            "+---------+------+------------+\n",
            "\n",
            "+---------+------+----------+\n",
            "|firstname|salary|today_date|\n",
            "+---------+------+----------+\n",
            "|    James|  3000|2022-08-25|\n",
            "|     Anna|  4100|2022-08-25|\n",
            "|   Robert|  6200|2022-08-25|\n",
            "+---------+------+----------+\n",
            "\n",
            "+---------+------+-----+\n",
            "|firstname|salary|bonus|\n",
            "+---------+------+-----+\n",
            "|    James|  3000|  0.3|\n",
            "|     Anna|  4100|  0.3|\n",
            "|   Robert|  6200|  0.3|\n",
            "+---------+------+-----+\n",
            "\n",
            "+---------+------+------------+\n",
            "|firstname|salary|bonus_amount|\n",
            "+---------+------+------------+\n",
            "|    James|  3000|       900.0|\n",
            "|     Anna|  4100|      1230.0|\n",
            "|   Robert|  6200|      1860.0|\n",
            "+---------+------+------------+\n",
            "\n",
            "+---------+------+----------+\n",
            "|firstname|salary|today_date|\n",
            "+---------+------+----------+\n",
            "|    James|  3000|2022-08-25|\n",
            "|     Anna|  4100|2022-08-25|\n",
            "|   Robert|  6200|2022-08-25|\n",
            "+---------+------+----------+\n",
            "\n",
            "+---------+------+-----+\n",
            "|firstname|salary|grade|\n",
            "+---------+------+-----+\n",
            "|    James|  3000|    B|\n",
            "|     Anna|  4100|    B|\n",
            "|   Robert|  6200|    B|\n",
            "+---------+------+-----+\n",
            "\n"
          ]
        }
      ]
    },
    {
      "cell_type": "code",
      "source": [
        "import pyspark\n",
        "from pyspark.sql import SparkSession\n",
        "from pyspark.sql.functions import approx_count_distinct,collect_list\n",
        "from pyspark.sql.functions import collect_set,sum,avg,max,countDistinct,count\n",
        "from pyspark.sql.functions import first, last, kurtosis, min, mean, skewness \n",
        "from pyspark.sql.functions import stddev, stddev_samp, stddev_pop, sumDistinct\n",
        "from pyspark.sql.functions import variance,var_samp,  var_pop\n",
        "\n",
        "spark = SparkSession.builder.appName('SparkByExamples.com').getOrCreate()\n",
        "\n",
        "simpleData = [(\"James\", \"Sales\", 3000),\n",
        "    (\"Michael\", \"Sales\", 4600),\n",
        "    (\"Robert\", \"Sales\", 4100),\n",
        "    (\"Maria\", \"Finance\", 3000),\n",
        "    (\"James\", \"Sales\", 3000),\n",
        "    (\"Scott\", \"Finance\", 3300),\n",
        "    (\"Jen\", \"Finance\", 3900),\n",
        "    (\"Jeff\", \"Marketing\", 3000),\n",
        "    (\"Kumar\", \"Marketing\", 2000),\n",
        "    (\"Saif\", \"Sales\", 4100)\n",
        "  ]\n",
        "schema = [\"employee_name\", \"department\", \"salary\"]\n",
        "  \n",
        "  \n",
        "df = spark.createDataFrame(data=simpleData, schema = schema)\n",
        "df.printSchema()\n",
        "df.show(truncate=False)\n",
        "\n",
        "print(\"approx_count_distinct: \" + \\\n",
        "      str(df.select(approx_count_distinct(\"salary\")).collect()[0][0]))\n",
        "\n",
        "print(\"avg: \" + str(df.select(avg(\"salary\")).collect()[0][0]))\n",
        "\n",
        "df.select(collect_list(\"salary\")).show(truncate=False)\n",
        "\n",
        "df.select(collect_set(\"salary\")).show(truncate=False)\n",
        "\n",
        "df2 = df.select(countDistinct(\"department\", \"salary\"))\n",
        "df2.show(truncate=False)\n",
        "print(\"Distinct Count of Department &amp; Salary: \"+str(df2.collect()[0][0]))\n",
        "\n",
        "print(\"count: \"+str(df.select(count(\"salary\")).collect()[0]))\n",
        "df.select(first(\"salary\")).show(truncate=False)\n",
        "df.select(last(\"salary\")).show(truncate=False)\n",
        "df.select(max(\"salary\")).show(truncate=False)\n",
        "df.select(min(\"salary\")).show(truncate=False)\n",
        "df.select(mean(\"salary\")).show(truncate=False)\n",
        "df.select(sum(\"salary\")).show(truncate=False)\n",
        "df.select(sumDistinct(\"salary\")).show(truncate=False)\n"
      ],
      "metadata": {
        "colab": {
          "base_uri": "https://localhost:8080/"
        },
        "id": "KzyEijaiRcBr",
        "outputId": "233a4a8a-13ca-49a3-f113-4a994dcaf84e"
      },
      "execution_count": null,
      "outputs": [
        {
          "output_type": "stream",
          "name": "stdout",
          "text": [
            "root\n",
            " |-- employee_name: string (nullable = true)\n",
            " |-- department: string (nullable = true)\n",
            " |-- salary: long (nullable = true)\n",
            "\n",
            "+-------------+----------+------+\n",
            "|employee_name|department|salary|\n",
            "+-------------+----------+------+\n",
            "|James        |Sales     |3000  |\n",
            "|Michael      |Sales     |4600  |\n",
            "|Robert       |Sales     |4100  |\n",
            "|Maria        |Finance   |3000  |\n",
            "|James        |Sales     |3000  |\n",
            "|Scott        |Finance   |3300  |\n",
            "|Jen          |Finance   |3900  |\n",
            "|Jeff         |Marketing |3000  |\n",
            "|Kumar        |Marketing |2000  |\n",
            "|Saif         |Sales     |4100  |\n",
            "+-------------+----------+------+\n",
            "\n",
            "approx_count_distinct: 6\n",
            "avg: 3400.0\n",
            "+------------------------------------------------------------+\n",
            "|collect_list(salary)                                        |\n",
            "+------------------------------------------------------------+\n",
            "|[3000, 4600, 4100, 3000, 3000, 3300, 3900, 3000, 2000, 4100]|\n",
            "+------------------------------------------------------------+\n",
            "\n",
            "+------------------------------------+\n",
            "|collect_set(salary)                 |\n",
            "+------------------------------------+\n",
            "|[4600, 3000, 3900, 4100, 3300, 2000]|\n",
            "+------------------------------------+\n",
            "\n",
            "+----------------------------------+\n",
            "|count(DISTINCT department, salary)|\n",
            "+----------------------------------+\n",
            "|8                                 |\n",
            "+----------------------------------+\n",
            "\n",
            "Distinct Count of Department &amp; Salary: 8\n",
            "count: Row(count(salary)=10)\n",
            "+-------------+\n",
            "|first(salary)|\n",
            "+-------------+\n",
            "|3000         |\n",
            "+-------------+\n",
            "\n",
            "+------------+\n",
            "|last(salary)|\n",
            "+------------+\n",
            "|4100        |\n",
            "+------------+\n",
            "\n",
            "+-----------+\n",
            "|max(salary)|\n",
            "+-----------+\n",
            "|4600       |\n",
            "+-----------+\n",
            "\n",
            "+-----------+\n",
            "|min(salary)|\n",
            "+-----------+\n",
            "|2000       |\n",
            "+-----------+\n",
            "\n",
            "+-----------+\n",
            "|avg(salary)|\n",
            "+-----------+\n",
            "|3400.0     |\n",
            "+-----------+\n",
            "\n",
            "+-----------+\n",
            "|sum(salary)|\n",
            "+-----------+\n",
            "|34000      |\n",
            "+-----------+\n",
            "\n"
          ]
        },
        {
          "output_type": "stream",
          "name": "stderr",
          "text": [
            "/content/spark-3.3.0-bin-hadoop3/python/pyspark/sql/functions.py:315: FutureWarning: Deprecated in 3.2, use sum_distinct instead.\n",
            "  warnings.warn(\"Deprecated in 3.2, use sum_distinct instead.\", FutureWarning)\n"
          ]
        },
        {
          "output_type": "stream",
          "name": "stdout",
          "text": [
            "+--------------------+\n",
            "|sum(DISTINCT salary)|\n",
            "+--------------------+\n",
            "|20900               |\n",
            "+--------------------+\n",
            "\n"
          ]
        }
      ]
    },
    {
      "cell_type": "code",
      "source": [
        "import pyspark\n",
        "from pyspark.sql import SparkSession\n",
        "spark = SparkSession.builder.master(\"local[1]\") \\\n",
        "                    .appName('SparkByExamples.com') \\\n",
        "                    .getOrCreate()\n",
        "\n",
        "columns = [\"name\",\"languagesAtSchool\",\"currentState\"]\n",
        "data = [(\"James,,Smith\",[\"Java\",\"Scala\",\"C++\"],\"CA\"), \\\n",
        "    (\"Michael,Rose,\",[\"Spark\",\"Java\",\"C++\"],\"NJ\"), \\\n",
        "    (\"Robert,,Williams\",[\"CSharp\",\"VB\"],\"NV\")]\n",
        "\n",
        "df = spark.createDataFrame(data=data,schema=columns)\n",
        "df.printSchema()\n",
        "df.show(truncate=False)\n",
        "\n",
        "from pyspark.sql.functions import col, concat_ws\n",
        "df2 = df.withColumn(\"languagesAtSchool\",\n",
        "   concat_ws(\",\",col(\"languagesAtSchool\")))\n",
        "df2.printSchema()\n",
        "df2.show(truncate=False)\n",
        "\n",
        "\n",
        "df.createOrReplaceTempView(\"ARRAY_STRING\")\n",
        "spark.sql(\"select name, concat_ws(',',languagesAtSchool) as languagesAtSchool,\" + \\\n",
        "    \" currentState from ARRAY_STRING\") \\\n",
        "    .show(truncate=False)"
      ],
      "metadata": {
        "colab": {
          "base_uri": "https://localhost:8080/"
        },
        "id": "yEMvGzVnRcEw",
        "outputId": "ce37f490-efff-4c8c-9ad4-4c447a79ca5f"
      },
      "execution_count": null,
      "outputs": [
        {
          "output_type": "stream",
          "name": "stdout",
          "text": [
            "root\n",
            " |-- name: string (nullable = true)\n",
            " |-- languagesAtSchool: array (nullable = true)\n",
            " |    |-- element: string (containsNull = true)\n",
            " |-- currentState: string (nullable = true)\n",
            "\n",
            "+----------------+------------------+------------+\n",
            "|name            |languagesAtSchool |currentState|\n",
            "+----------------+------------------+------------+\n",
            "|James,,Smith    |[Java, Scala, C++]|CA          |\n",
            "|Michael,Rose,   |[Spark, Java, C++]|NJ          |\n",
            "|Robert,,Williams|[CSharp, VB]      |NV          |\n",
            "+----------------+------------------+------------+\n",
            "\n",
            "root\n",
            " |-- name: string (nullable = true)\n",
            " |-- languagesAtSchool: string (nullable = false)\n",
            " |-- currentState: string (nullable = true)\n",
            "\n",
            "+----------------+-----------------+------------+\n",
            "|name            |languagesAtSchool|currentState|\n",
            "+----------------+-----------------+------------+\n",
            "|James,,Smith    |Java,Scala,C++   |CA          |\n",
            "|Michael,Rose,   |Spark,Java,C++   |NJ          |\n",
            "|Robert,,Williams|CSharp,VB        |NV          |\n",
            "+----------------+-----------------+------------+\n",
            "\n",
            "+----------------+-----------------+------------+\n",
            "|name            |languagesAtSchool|currentState|\n",
            "+----------------+-----------------+------------+\n",
            "|James,,Smith    |Java,Scala,C++   |CA          |\n",
            "|Michael,Rose,   |Spark,Java,C++   |NJ          |\n",
            "|Robert,,Williams|CSharp,VB        |NV          |\n",
            "+----------------+-----------------+------------+\n",
            "\n"
          ]
        }
      ]
    },
    {
      "cell_type": "code",
      "source": [
        "from pyspark.sql import SparkSession\n",
        "from pyspark.sql.types import StringType, ArrayType,StructType,StructField\n",
        "spark = SparkSession.builder \\\n",
        "                    .appName('SparkByExamples.com') \\\n",
        "                    .getOrCreate()\n",
        "\n",
        "\n",
        "arrayCol = ArrayType(StringType(),False)\n",
        "\n",
        "data = [\n",
        " (\"James,,Smith\",[\"Java\",\"Scala\",\"C++\"],[\"Spark\",\"Java\"],\"OH\",\"CA\"),\n",
        " (\"Michael,Rose,\",[\"Spark\",\"Java\",\"C++\"],[\"Spark\",\"Java\"],\"NY\",\"NJ\"),\n",
        " (\"Robert,,Williams\",[\"CSharp\",\"VB\"],[\"Spark\",\"Python\"],\"UT\",\"NV\")\n",
        "]\n",
        "\n",
        "schema = StructType([ \n",
        "    StructField(\"name\",StringType(),True), \n",
        "    StructField(\"languagesAtSchool\",ArrayType(StringType()),True), \n",
        "    StructField(\"languagesAtWork\",ArrayType(StringType()),True), \n",
        "    StructField(\"currentState\", StringType(), True), \n",
        "    StructField(\"previousState\", StringType(), True) \n",
        "  ])\n",
        "\n",
        "df = spark.createDataFrame(data=data,schema=schema)\n",
        "df.printSchema()\n",
        "df.show()\n",
        "\n",
        "from pyspark.sql.functions import explode\n",
        "df.select(df.name,explode(df.languagesAtSchool)).show()\n",
        "\n",
        "from pyspark.sql.functions import split\n",
        "df.select(split(df.name,\",\").alias(\"nameAsArray\")).show()\n",
        "\n",
        "from pyspark.sql.functions import array\n",
        "df.select(df.name,array(df.currentState,df.previousState).alias(\"States\")).show()\n",
        "\n",
        "from pyspark.sql.functions import array_contains\n",
        "df.select(df.name,array_contains(df.languagesAtSchool,\"Java\")\n",
        "    .alias(\"array_contains\")).show()"
      ],
      "metadata": {
        "colab": {
          "base_uri": "https://localhost:8080/"
        },
        "id": "a_gDjk1ORcH5",
        "outputId": "14b2fe45-2c36-45a3-8ddb-616d525163f9"
      },
      "execution_count": null,
      "outputs": [
        {
          "output_type": "stream",
          "name": "stdout",
          "text": [
            "root\n",
            " |-- name: string (nullable = true)\n",
            " |-- languagesAtSchool: array (nullable = true)\n",
            " |    |-- element: string (containsNull = true)\n",
            " |-- languagesAtWork: array (nullable = true)\n",
            " |    |-- element: string (containsNull = true)\n",
            " |-- currentState: string (nullable = true)\n",
            " |-- previousState: string (nullable = true)\n",
            "\n",
            "+----------------+------------------+---------------+------------+-------------+\n",
            "|            name| languagesAtSchool|languagesAtWork|currentState|previousState|\n",
            "+----------------+------------------+---------------+------------+-------------+\n",
            "|    James,,Smith|[Java, Scala, C++]|  [Spark, Java]|          OH|           CA|\n",
            "|   Michael,Rose,|[Spark, Java, C++]|  [Spark, Java]|          NY|           NJ|\n",
            "|Robert,,Williams|      [CSharp, VB]|[Spark, Python]|          UT|           NV|\n",
            "+----------------+------------------+---------------+------------+-------------+\n",
            "\n",
            "+----------------+------+\n",
            "|            name|   col|\n",
            "+----------------+------+\n",
            "|    James,,Smith|  Java|\n",
            "|    James,,Smith| Scala|\n",
            "|    James,,Smith|   C++|\n",
            "|   Michael,Rose,| Spark|\n",
            "|   Michael,Rose,|  Java|\n",
            "|   Michael,Rose,|   C++|\n",
            "|Robert,,Williams|CSharp|\n",
            "|Robert,,Williams|    VB|\n",
            "+----------------+------+\n",
            "\n",
            "+--------------------+\n",
            "|         nameAsArray|\n",
            "+--------------------+\n",
            "|    [James, , Smith]|\n",
            "|   [Michael, Rose, ]|\n",
            "|[Robert, , Williams]|\n",
            "+--------------------+\n",
            "\n",
            "+----------------+--------+\n",
            "|            name|  States|\n",
            "+----------------+--------+\n",
            "|    James,,Smith|[OH, CA]|\n",
            "|   Michael,Rose,|[NY, NJ]|\n",
            "|Robert,,Williams|[UT, NV]|\n",
            "+----------------+--------+\n",
            "\n",
            "+----------------+--------------+\n",
            "|            name|array_contains|\n",
            "+----------------+--------------+\n",
            "|    James,,Smith|          true|\n",
            "|   Michael,Rose,|          true|\n",
            "|Robert,,Williams|         false|\n",
            "+----------------+--------------+\n",
            "\n"
          ]
        }
      ]
    },
    {
      "cell_type": "code",
      "source": [
        "import pyspark\n",
        "from pyspark.sql import SparkSession\n",
        "\n",
        "\n",
        "spark = SparkSession.builder.appName('SparkByExamples.com').getOrCreate()\n",
        "\n",
        "states = {\"NY\":\"New York\", \"CA\":\"California\", \"FL\":\"Florida\"}\n",
        "broadcastStates = spark.sparkContext.broadcast(states)\n",
        "\n",
        "data = [(\"James\",\"Smith\",\"USA\",\"CA\"),\n",
        "    (\"Michael\",\"Rose\",\"USA\",\"NY\"),\n",
        "    (\"Robert\",\"Williams\",\"USA\",\"CA\"),\n",
        "    (\"Maria\",\"Jones\",\"USA\",\"FL\")\n",
        "  ]\n",
        "\n",
        "columns = [\"firstname\",\"lastname\",\"country\",\"state\"]\n",
        "df = spark.createDataFrame(data = data, schema = columns)\n",
        "df.printSchema()\n",
        "df.show(truncate=False)\n",
        "\n",
        "def state_convert(code):\n",
        "    return broadcastStates.value[code]\n",
        "\n",
        "result = df.rdd.map(lambda x: (x[0],x[1],x[2],state_convert(x[3]))).toDF(columns)\n",
        "result.show(truncate=False)\n",
        "\n",
        "# Broadcast variable on filter\n",
        "\n",
        "filteDf= df.where((df['state'].isin(broadcastStates.value)))\n",
        "\n"
      ],
      "metadata": {
        "colab": {
          "base_uri": "https://localhost:8080/",
          "height": 1000
        },
        "id": "sRg_gc5DRcLS",
        "outputId": "895d3fb1-d610-4f42-9b92-0397c2ab81b0"
      },
      "execution_count": null,
      "outputs": [
        {
          "output_type": "stream",
          "name": "stdout",
          "text": [
            "root\n",
            " |-- firstname: string (nullable = true)\n",
            " |-- lastname: string (nullable = true)\n",
            " |-- country: string (nullable = true)\n",
            " |-- state: string (nullable = true)\n",
            "\n",
            "+---------+--------+-------+-----+\n",
            "|firstname|lastname|country|state|\n",
            "+---------+--------+-------+-----+\n",
            "|James    |Smith   |USA    |CA   |\n",
            "|Michael  |Rose    |USA    |NY   |\n",
            "|Robert   |Williams|USA    |CA   |\n",
            "|Maria    |Jones   |USA    |FL   |\n",
            "+---------+--------+-------+-----+\n",
            "\n",
            "+---------+--------+-------+----------+\n",
            "|firstname|lastname|country|state     |\n",
            "+---------+--------+-------+----------+\n",
            "|James    |Smith   |USA    |California|\n",
            "|Michael  |Rose    |USA    |New York  |\n",
            "|Robert   |Williams|USA    |California|\n",
            "|Maria    |Jones   |USA    |Florida   |\n",
            "+---------+--------+-------+----------+\n",
            "\n"
          ]
        },
        {
          "output_type": "error",
          "ename": "Py4JJavaError",
          "evalue": "ignored",
          "traceback": [
            "\u001b[0;31m---------------------------------------------------------------------------\u001b[0m",
            "\u001b[0;31mPy4JJavaError\u001b[0m                             Traceback (most recent call last)",
            "\u001b[0;32m<ipython-input-14-b1c835338087>\u001b[0m in \u001b[0;36m<module>\u001b[0;34m\u001b[0m\n\u001b[1;32m     27\u001b[0m \u001b[0;31m# Broadcast variable on filter\u001b[0m\u001b[0;34m\u001b[0m\u001b[0;34m\u001b[0m\u001b[0;34m\u001b[0m\u001b[0m\n\u001b[1;32m     28\u001b[0m \u001b[0;34m\u001b[0m\u001b[0m\n\u001b[0;32m---> 29\u001b[0;31m \u001b[0mfilteDf\u001b[0m\u001b[0;34m=\u001b[0m \u001b[0mdf\u001b[0m\u001b[0;34m.\u001b[0m\u001b[0mwhere\u001b[0m\u001b[0;34m(\u001b[0m\u001b[0;34m(\u001b[0m\u001b[0mdf\u001b[0m\u001b[0;34m[\u001b[0m\u001b[0;34m'state'\u001b[0m\u001b[0;34m]\u001b[0m\u001b[0;34m.\u001b[0m\u001b[0misin\u001b[0m\u001b[0;34m(\u001b[0m\u001b[0mbroadcastStates\u001b[0m\u001b[0;34m.\u001b[0m\u001b[0mvalue\u001b[0m\u001b[0;34m)\u001b[0m\u001b[0;34m)\u001b[0m\u001b[0;34m)\u001b[0m\u001b[0;34m\u001b[0m\u001b[0;34m\u001b[0m\u001b[0m\n\u001b[0m\u001b[1;32m     30\u001b[0m \u001b[0;34m\u001b[0m\u001b[0m\n",
            "\u001b[0;32m/content/spark-3.3.0-bin-hadoop3/python/pyspark/sql/column.py\u001b[0m in \u001b[0;36misin\u001b[0;34m(self, *cols)\u001b[0m\n\u001b[1;32m    723\u001b[0m         cols = cast(\n\u001b[1;32m    724\u001b[0m             \u001b[0mTuple\u001b[0m\u001b[0;34m,\u001b[0m\u001b[0;34m\u001b[0m\u001b[0;34m\u001b[0m\u001b[0m\n\u001b[0;32m--> 725\u001b[0;31m             \u001b[0;34m[\u001b[0m\u001b[0mc\u001b[0m\u001b[0;34m.\u001b[0m\u001b[0m_jc\u001b[0m \u001b[0;32mif\u001b[0m \u001b[0misinstance\u001b[0m\u001b[0;34m(\u001b[0m\u001b[0mc\u001b[0m\u001b[0;34m,\u001b[0m \u001b[0mColumn\u001b[0m\u001b[0;34m)\u001b[0m \u001b[0;32melse\u001b[0m \u001b[0m_create_column_from_literal\u001b[0m\u001b[0;34m(\u001b[0m\u001b[0mc\u001b[0m\u001b[0;34m)\u001b[0m \u001b[0;32mfor\u001b[0m \u001b[0mc\u001b[0m \u001b[0;32min\u001b[0m \u001b[0mcols\u001b[0m\u001b[0;34m]\u001b[0m\u001b[0;34m,\u001b[0m\u001b[0;34m\u001b[0m\u001b[0;34m\u001b[0m\u001b[0m\n\u001b[0m\u001b[1;32m    726\u001b[0m         )\n\u001b[1;32m    727\u001b[0m         \u001b[0msc\u001b[0m \u001b[0;34m=\u001b[0m \u001b[0mSparkContext\u001b[0m\u001b[0;34m.\u001b[0m\u001b[0m_active_spark_context\u001b[0m\u001b[0;34m\u001b[0m\u001b[0;34m\u001b[0m\u001b[0m\n",
            "\u001b[0;32m/content/spark-3.3.0-bin-hadoop3/python/pyspark/sql/column.py\u001b[0m in \u001b[0;36m<listcomp>\u001b[0;34m(.0)\u001b[0m\n\u001b[1;32m    723\u001b[0m         cols = cast(\n\u001b[1;32m    724\u001b[0m             \u001b[0mTuple\u001b[0m\u001b[0;34m,\u001b[0m\u001b[0;34m\u001b[0m\u001b[0;34m\u001b[0m\u001b[0m\n\u001b[0;32m--> 725\u001b[0;31m             \u001b[0;34m[\u001b[0m\u001b[0mc\u001b[0m\u001b[0;34m.\u001b[0m\u001b[0m_jc\u001b[0m \u001b[0;32mif\u001b[0m \u001b[0misinstance\u001b[0m\u001b[0;34m(\u001b[0m\u001b[0mc\u001b[0m\u001b[0;34m,\u001b[0m \u001b[0mColumn\u001b[0m\u001b[0;34m)\u001b[0m \u001b[0;32melse\u001b[0m \u001b[0m_create_column_from_literal\u001b[0m\u001b[0;34m(\u001b[0m\u001b[0mc\u001b[0m\u001b[0;34m)\u001b[0m \u001b[0;32mfor\u001b[0m \u001b[0mc\u001b[0m \u001b[0;32min\u001b[0m \u001b[0mcols\u001b[0m\u001b[0;34m]\u001b[0m\u001b[0;34m,\u001b[0m\u001b[0;34m\u001b[0m\u001b[0;34m\u001b[0m\u001b[0m\n\u001b[0m\u001b[1;32m    726\u001b[0m         )\n\u001b[1;32m    727\u001b[0m         \u001b[0msc\u001b[0m \u001b[0;34m=\u001b[0m \u001b[0mSparkContext\u001b[0m\u001b[0;34m.\u001b[0m\u001b[0m_active_spark_context\u001b[0m\u001b[0;34m\u001b[0m\u001b[0;34m\u001b[0m\u001b[0m\n",
            "\u001b[0;32m/content/spark-3.3.0-bin-hadoop3/python/pyspark/sql/column.py\u001b[0m in \u001b[0;36m_create_column_from_literal\u001b[0;34m(literal)\u001b[0m\n\u001b[1;32m     48\u001b[0m     \u001b[0msc\u001b[0m \u001b[0;34m=\u001b[0m \u001b[0mSparkContext\u001b[0m\u001b[0;34m.\u001b[0m\u001b[0m_active_spark_context\u001b[0m\u001b[0;34m\u001b[0m\u001b[0;34m\u001b[0m\u001b[0m\n\u001b[1;32m     49\u001b[0m     \u001b[0;32massert\u001b[0m \u001b[0msc\u001b[0m \u001b[0;32mis\u001b[0m \u001b[0;32mnot\u001b[0m \u001b[0;32mNone\u001b[0m \u001b[0;32mand\u001b[0m \u001b[0msc\u001b[0m\u001b[0;34m.\u001b[0m\u001b[0m_jvm\u001b[0m \u001b[0;32mis\u001b[0m \u001b[0;32mnot\u001b[0m \u001b[0;32mNone\u001b[0m\u001b[0;34m\u001b[0m\u001b[0;34m\u001b[0m\u001b[0m\n\u001b[0;32m---> 50\u001b[0;31m     \u001b[0;32mreturn\u001b[0m \u001b[0msc\u001b[0m\u001b[0;34m.\u001b[0m\u001b[0m_jvm\u001b[0m\u001b[0;34m.\u001b[0m\u001b[0mfunctions\u001b[0m\u001b[0;34m.\u001b[0m\u001b[0mlit\u001b[0m\u001b[0;34m(\u001b[0m\u001b[0mliteral\u001b[0m\u001b[0;34m)\u001b[0m\u001b[0;34m\u001b[0m\u001b[0;34m\u001b[0m\u001b[0m\n\u001b[0m\u001b[1;32m     51\u001b[0m \u001b[0;34m\u001b[0m\u001b[0m\n\u001b[1;32m     52\u001b[0m \u001b[0;34m\u001b[0m\u001b[0m\n",
            "\u001b[0;32m/content/spark-3.3.0-bin-hadoop3/python/lib/py4j-0.10.9.5-src.zip/py4j/java_gateway.py\u001b[0m in \u001b[0;36m__call__\u001b[0;34m(self, *args)\u001b[0m\n\u001b[1;32m   1320\u001b[0m         \u001b[0manswer\u001b[0m \u001b[0;34m=\u001b[0m \u001b[0mself\u001b[0m\u001b[0;34m.\u001b[0m\u001b[0mgateway_client\u001b[0m\u001b[0;34m.\u001b[0m\u001b[0msend_command\u001b[0m\u001b[0;34m(\u001b[0m\u001b[0mcommand\u001b[0m\u001b[0;34m)\u001b[0m\u001b[0;34m\u001b[0m\u001b[0;34m\u001b[0m\u001b[0m\n\u001b[1;32m   1321\u001b[0m         return_value = get_return_value(\n\u001b[0;32m-> 1322\u001b[0;31m             answer, self.gateway_client, self.target_id, self.name)\n\u001b[0m\u001b[1;32m   1323\u001b[0m \u001b[0;34m\u001b[0m\u001b[0m\n\u001b[1;32m   1324\u001b[0m         \u001b[0;32mfor\u001b[0m \u001b[0mtemp_arg\u001b[0m \u001b[0;32min\u001b[0m \u001b[0mtemp_args\u001b[0m\u001b[0;34m:\u001b[0m\u001b[0;34m\u001b[0m\u001b[0;34m\u001b[0m\u001b[0m\n",
            "\u001b[0;32m/content/spark-3.3.0-bin-hadoop3/python/pyspark/sql/utils.py\u001b[0m in \u001b[0;36mdeco\u001b[0;34m(*a, **kw)\u001b[0m\n\u001b[1;32m    188\u001b[0m     \u001b[0;32mdef\u001b[0m \u001b[0mdeco\u001b[0m\u001b[0;34m(\u001b[0m\u001b[0;34m*\u001b[0m\u001b[0ma\u001b[0m\u001b[0;34m:\u001b[0m \u001b[0mAny\u001b[0m\u001b[0;34m,\u001b[0m \u001b[0;34m**\u001b[0m\u001b[0mkw\u001b[0m\u001b[0;34m:\u001b[0m \u001b[0mAny\u001b[0m\u001b[0;34m)\u001b[0m \u001b[0;34m->\u001b[0m \u001b[0mAny\u001b[0m\u001b[0;34m:\u001b[0m\u001b[0;34m\u001b[0m\u001b[0;34m\u001b[0m\u001b[0m\n\u001b[1;32m    189\u001b[0m         \u001b[0;32mtry\u001b[0m\u001b[0;34m:\u001b[0m\u001b[0;34m\u001b[0m\u001b[0;34m\u001b[0m\u001b[0m\n\u001b[0;32m--> 190\u001b[0;31m             \u001b[0;32mreturn\u001b[0m \u001b[0mf\u001b[0m\u001b[0;34m(\u001b[0m\u001b[0;34m*\u001b[0m\u001b[0ma\u001b[0m\u001b[0;34m,\u001b[0m \u001b[0;34m**\u001b[0m\u001b[0mkw\u001b[0m\u001b[0;34m)\u001b[0m\u001b[0;34m\u001b[0m\u001b[0;34m\u001b[0m\u001b[0m\n\u001b[0m\u001b[1;32m    191\u001b[0m         \u001b[0;32mexcept\u001b[0m \u001b[0mPy4JJavaError\u001b[0m \u001b[0;32mas\u001b[0m \u001b[0me\u001b[0m\u001b[0;34m:\u001b[0m\u001b[0;34m\u001b[0m\u001b[0;34m\u001b[0m\u001b[0m\n\u001b[1;32m    192\u001b[0m             \u001b[0mconverted\u001b[0m \u001b[0;34m=\u001b[0m \u001b[0mconvert_exception\u001b[0m\u001b[0;34m(\u001b[0m\u001b[0me\u001b[0m\u001b[0;34m.\u001b[0m\u001b[0mjava_exception\u001b[0m\u001b[0;34m)\u001b[0m\u001b[0;34m\u001b[0m\u001b[0;34m\u001b[0m\u001b[0m\n",
            "\u001b[0;32m/content/spark-3.3.0-bin-hadoop3/python/lib/py4j-0.10.9.5-src.zip/py4j/protocol.py\u001b[0m in \u001b[0;36mget_return_value\u001b[0;34m(answer, gateway_client, target_id, name)\u001b[0m\n\u001b[1;32m    326\u001b[0m                 raise Py4JJavaError(\n\u001b[1;32m    327\u001b[0m                     \u001b[0;34m\"An error occurred while calling {0}{1}{2}.\\n\"\u001b[0m\u001b[0;34m.\u001b[0m\u001b[0;34m\u001b[0m\u001b[0;34m\u001b[0m\u001b[0m\n\u001b[0;32m--> 328\u001b[0;31m                     format(target_id, \".\", name), value)\n\u001b[0m\u001b[1;32m    329\u001b[0m             \u001b[0;32melse\u001b[0m\u001b[0;34m:\u001b[0m\u001b[0;34m\u001b[0m\u001b[0;34m\u001b[0m\u001b[0m\n\u001b[1;32m    330\u001b[0m                 raise Py4JError(\n",
            "\u001b[0;31mPy4JJavaError\u001b[0m: An error occurred while calling z:org.apache.spark.sql.functions.lit.\n: org.apache.spark.SparkRuntimeException: The feature is not supported: literal for '{FL=Florida, NY=New York, CA=California}' of class java.util.HashMap.\n\tat org.apache.spark.sql.errors.QueryExecutionErrors$.literalTypeUnsupportedError(QueryExecutionErrors.scala:283)\n\tat org.apache.spark.sql.catalyst.expressions.Literal$.apply(literals.scala:101)\n\tat org.apache.spark.sql.functions$.lit(functions.scala:125)\n\tat org.apache.spark.sql.functions.lit(functions.scala)\n\tat sun.reflect.NativeMethodAccessorImpl.invoke0(Native Method)\n\tat sun.reflect.NativeMethodAccessorImpl.invoke(NativeMethodAccessorImpl.java:62)\n\tat sun.reflect.DelegatingMethodAccessorImpl.invoke(DelegatingMethodAccessorImpl.java:43)\n\tat java.lang.reflect.Method.invoke(Method.java:498)\n\tat py4j.reflection.MethodInvoker.invoke(MethodInvoker.java:244)\n\tat py4j.reflection.ReflectionEngine.invoke(ReflectionEngine.java:357)\n\tat py4j.Gateway.invoke(Gateway.java:282)\n\tat py4j.commands.AbstractCommand.invokeMethod(AbstractCommand.java:132)\n\tat py4j.commands.CallCommand.execute(CallCommand.java:79)\n\tat py4j.ClientServerConnection.waitForCommands(ClientServerConnection.java:182)\n\tat py4j.ClientServerConnection.run(ClientServerConnection.java:106)\n\tat java.lang.Thread.run(Thread.java:750)\n"
          ]
        }
      ]
    },
    {
      "cell_type": "code",
      "source": [
        "import pyspark\n",
        "from pyspark.sql import SparkSession\n",
        "\n",
        "spark = SparkSession.builder.appName('SparkByExamples.com').getOrCreate()\n",
        "\n",
        "simpleData = [(\"James\",34,\"2006-01-01\",\"true\",\"M\",3000.60),\n",
        "    (\"Michael\",33,\"1980-01-10\",\"true\",\"F\",3300.80),\n",
        "    (\"Robert\",37,\"06-01-1992\",\"false\",\"M\",5000.50)\n",
        "  ]\n",
        "\n",
        "columns = [\"firstname\",\"age\",\"jobStartDate\",\"isGraduated\",\"gender\",\"salary\"]\n",
        "df = spark.createDataFrame(data = simpleData, schema = columns)\n",
        "df.printSchema()\n",
        "df.show(truncate=False)\n",
        "\n",
        "from pyspark.sql.functions import col\n",
        "from pyspark.sql.types import StringType,BooleanType,DateType\n",
        "df2 = df.withColumn(\"age\",col(\"age\").cast(StringType())) \\\n",
        "    .withColumn(\"isGraduated\",col(\"isGraduated\").cast(BooleanType())) \\\n",
        "    .withColumn(\"jobStartDate\",col(\"jobStartDate\").cast(DateType()))\n",
        "df2.printSchema()\n",
        "\n",
        "df3 = df2.selectExpr(\"cast(age as int) age\",\n",
        "    \"cast(isGraduated as string) isGraduated\",\n",
        "    \"cast(jobStartDate as string) jobStartDate\")\n",
        "df3.printSchema()\n",
        "df3.show(truncate=False)\n",
        "\n",
        "df3.createOrReplaceTempView(\"CastExample\")\n",
        "df4 = spark.sql(\"SELECT STRING(age),BOOLEAN(isGraduated),DATE(jobStartDate) from CastExample\")\n",
        "df4.printSchema()\n",
        "df4.show(truncate=False)"
      ],
      "metadata": {
        "colab": {
          "base_uri": "https://localhost:8080/"
        },
        "id": "LiGJXX6pRcOv",
        "outputId": "df810b2e-295b-43a2-934e-0c480344c63b"
      },
      "execution_count": null,
      "outputs": [
        {
          "output_type": "stream",
          "name": "stdout",
          "text": [
            "root\n",
            " |-- firstname: string (nullable = true)\n",
            " |-- age: long (nullable = true)\n",
            " |-- jobStartDate: string (nullable = true)\n",
            " |-- isGraduated: string (nullable = true)\n",
            " |-- gender: string (nullable = true)\n",
            " |-- salary: double (nullable = true)\n",
            "\n",
            "+---------+---+------------+-----------+------+------+\n",
            "|firstname|age|jobStartDate|isGraduated|gender|salary|\n",
            "+---------+---+------------+-----------+------+------+\n",
            "|James    |34 |2006-01-01  |true       |M     |3000.6|\n",
            "|Michael  |33 |1980-01-10  |true       |F     |3300.8|\n",
            "|Robert   |37 |06-01-1992  |false      |M     |5000.5|\n",
            "+---------+---+------------+-----------+------+------+\n",
            "\n",
            "root\n",
            " |-- firstname: string (nullable = true)\n",
            " |-- age: string (nullable = true)\n",
            " |-- jobStartDate: date (nullable = true)\n",
            " |-- isGraduated: boolean (nullable = true)\n",
            " |-- gender: string (nullable = true)\n",
            " |-- salary: double (nullable = true)\n",
            "\n",
            "root\n",
            " |-- age: integer (nullable = true)\n",
            " |-- isGraduated: string (nullable = true)\n",
            " |-- jobStartDate: string (nullable = true)\n",
            "\n",
            "+---+-----------+------------+\n",
            "|age|isGraduated|jobStartDate|\n",
            "+---+-----------+------------+\n",
            "|34 |true       |2006-01-01  |\n",
            "|33 |true       |1980-01-10  |\n",
            "|37 |false      |null        |\n",
            "+---+-----------+------------+\n",
            "\n",
            "root\n",
            " |-- age: string (nullable = true)\n",
            " |-- isGraduated: boolean (nullable = true)\n",
            " |-- jobStartDate: date (nullable = true)\n",
            "\n",
            "+---+-----------+------------+\n",
            "|age|isGraduated|jobStartDate|\n",
            "+---+-----------+------------+\n",
            "|34 |true       |2006-01-01  |\n",
            "|33 |true       |1980-01-10  |\n",
            "|37 |false      |null        |\n",
            "+---+-----------+------------+\n",
            "\n"
          ]
        }
      ]
    },
    {
      "cell_type": "code",
      "source": [
        "df = spark.read.csv(\"Flipkart.csv\", header=True, inferSchema=True)\n",
        "df.show()"
      ],
      "metadata": {
        "colab": {
          "base_uri": "https://localhost:8080/"
        },
        "id": "dLhdoyNORcR8",
        "outputId": "8ed85cd8-4917-45fe-afe4-6bf8cabfac56"
      },
      "execution_count": null,
      "outputs": [
        {
          "output_type": "stream",
          "name": "stdout",
          "text": [
            "+------+--------------+--------+----------+-------------+-----------+--------------------+--------------+----------------+----------------+--------------------+-----------------+--------------------+-------------------+-------------+-------+-----------------+-------------+-----------+----------+---------+---------+--------------------+-------+--------+\n",
            "|Row ID|Order Priority|Discount|Unit Price|Shipping Cost|Customer ID|       Customer Name|     Ship Mode|Customer Segment|Product Category|Product Sub-Category|Product Container|        Product Name|Product Base Margin|      Country| Region|State or Province|         City|Postal Code|Order Date|Ship Date|   Profit|Quantity ordered new|  Sales|Order ID|\n",
            "+------+--------------+--------+----------+-------------+-----------+--------------------+--------------+----------------+----------------+--------------------+-----------------+--------------------+-------------------+-------------+-------+-----------------+-------------+-----------+----------+---------+---------+--------------------+-------+--------+\n",
            "| 20847|          High|    0.01|      2.84|         0.93|          3|       Bonnie Potter|   Express Air|       Corporate| Office Supplies| Pens & Art Supplies|         Wrap Bag|SANFORD Liquid Ac...|               0.54|United States|   West|       Washington|    Anacortes|      98221|  07-01-15| 08-01-15|     4.56|                   4|  13.01| 88522.0|\n",
            "| 20228| Not Specified|    0.02|    500.98|         26.0|          5|      Ronnie Proctor|Delivery Truck|     Home Office|       Furniture|  Chairs & Chairmats|       Jumbo Drum|Global Troy� Exec...|                0.6|United States|   West|       California|  San Gabriel|      91776|  13-06-15| 15-06-15|4390.3665|                  12|6362.85| 90193.0|\n",
            "| 21776|      Critical|    0.06|      9.48|         7.29|         11|       Marcus Dunlap|   Regular Air|     Home Office|       Furniture|  Office Furnishings|       Small Pack|DAX Two-Tone Rose...|               0.45|United States|   East|       New Jersey|      Roselle|       7203|  15-02-15| 17-02-15| -53.8096|                  22| 211.15| 90192.0|\n",
            "| 24844|        Medium|    0.09|     78.69|        19.99|         14|   Gwendolyn F Tyson|   Regular Air|  Small Business|       Furniture|  Office Furnishings|        Small Box|Howard Miller 12-...|               0.43|United States|Central|        Minnesota|   Prior Lake|      55372|  12-05-15| 14-05-15| 803.4705|                  16|1164.45| 86838.0|\n",
            "| 24846|        Medium|    0.08|      3.28|         2.31|         14|   Gwendolyn F Tyson|   Regular Air|  Small Business| Office Supplies| Pens & Art Supplies|         Wrap Bag|          Newell 321|               0.56|United States|Central|        Minnesota|   Prior Lake|      55372|  12-05-15| 13-05-15|   -24.03|                   7|  22.23| 86838.0|\n",
            "| 24847|        Medium|    0.05|      3.28|          4.2|         14|   Gwendolyn F Tyson|   Regular Air|  Small Business| Office Supplies| Pens & Art Supplies|         Wrap Bag|          Newell 351|               0.56|United States|Central|        Minnesota|   Prior Lake|      55372|  12-05-15| 13-05-15|   -37.03|                   4|  13.99| 86838.0|\n",
            "| 24848|        Medium|    0.05|      3.58|         1.63|         14|   Gwendolyn F Tyson|   Regular Air|  Small Business| Office Supplies|        Rubber Bands|         Wrap Bag|OIC Colored Binde...|               0.36|United States|Central|        Minnesota|   Prior Lake|      55372|  12-05-15| 13-05-15|    -0.71|                   4|  14.26| 86838.0|\n",
            "| 18181|      Critical|     0.0|      4.42|         4.99|         15|       Timothy Reese|   Regular Air|  Small Business| Office Supplies|           Envelopes|        Small Box| Grip Seal Envelopes|               0.38|United States|   East|         New York|    Smithtown|      11787|  08-04-15| 09-04-15|   -59.82|                   7|  33.47| 86837.0|\n",
            "| 20925|        Medium|    0.01|     35.94|         6.66|         15|       Timothy Reese|   Regular Air|  Small Business| Office Supplies|           Envelopes|        Small Box|Tyvek � Top-Openi...|                0.4|United States|   East|         New York|    Smithtown|      11787|  28-05-15| 28-05-15| 261.8757|                  10| 379.53| 86839.0|\n",
            "| 26267|          High|    0.04|      2.98|         1.58|         16|        Sarah Ramsey|   Regular Air|  Small Business| Office Supplies|        Rubber Bands|         Wrap Bag|Staples Gold Pape...|               0.39|United States|   East|         New York|     Syracuse|      13210|  12-02-15| 15-02-15|     2.63|                   6|   18.8| 86836.0|\n",
            "| 26268|          High|    0.05|    115.99|          2.5|         16|        Sarah Ramsey|   Regular Air|  Small Business|      Technology|Telephones and Co...|        Small Box|        StarTAC 7797|               0.55|United States|   East|         New York|     Syracuse|      13210|  12-02-15| 14-02-15| 652.7331|                  10| 945.99| 86836.0|\n",
            "| 23890|          High|    0.05|     26.48|         6.93|         18|        Laurie Hanna|   Regular Air|  Small Business|       Furniture|  Office Furnishings|        Small Box|DAX Natural Wood-...|               0.49|United States|   West|          Montana|       Helena|      59601|  15-05-15| 16-05-15| 314.4813|                  17| 455.77| 90031.0|\n",
            "| 24063| Not Specified|    0.07|     12.99|         9.44|         19|         Jim Rodgers|   Regular Air|  Small Business|      Technology|     Office Machines|       Medium Box|Hewlett Packard 6...|               0.39|United States|   West|          Montana|     Missoula|      59801|  21-05-15| 23-05-15|-114.6399|                  18| 231.79| 90032.0|\n",
            "|  5890|          High|    0.05|     26.48|         6.93|         21|Tony Wilkins Winters|   Regular Air|  Small Business|       Furniture|  Office Furnishings|        Small Box|DAX Natural Wood-...|               0.49|United States|   East|         New York|New York City|      10012|  15-05-15| 16-05-15|   384.38|                  70|1876.69| 41793.0|\n",
            "|  6062| Not Specified|    0.08|       5.0|         3.39|         21|Tony Wilkins Winters|   Regular Air|  Small Business| Office Supplies|        Rubber Bands|         Wrap Bag|Advantus Plastic ...|               0.37|United States|   East|         New York|New York City|      10012|  21-05-15| 22-05-15|   -17.49|                  58| 293.06| 42949.0|\n",
            "|  6063| Not Specified|    0.07|     12.99|         9.44|         21|Tony Wilkins Winters|   Regular Air|  Small Business|      Technology|     Office Machines|       Medium Box|Hewlett Packard 6...|               0.39|United States|   East|         New York|New York City|      10012|  21-05-15| 23-05-15|-114.6399|                  71| 914.29| 42949.0|\n",
            "| 20631|          High|    0.06|     55.48|         14.3|         24|         Edna Thomas|   Regular Air|       Corporate| Office Supplies|               Paper|        Small Box|           Xerox 194|               0.37|United States|   West|       California|Laguna Niguel|      92677|  28-01-15| 29-01-15| -28.2968|                   1|  67.49| 87651.0|\n",
            "| 20632|          High|    0.02|      1.68|         1.57|         24|         Edna Thomas|   Regular Air|       Corporate| Office Supplies| Pens & Art Supplies|         Wrap Bag|          Newell 323|               0.59|United States|   West|       California|Laguna Niguel|      92677|  28-01-15| 30-01-15|  -5.3072|                   1|   2.25| 87651.0|\n",
            "| 23967| Not Specified|    0.04|      4.14|          6.6|         27|       Guy Gallagher|   Regular Air|       Corporate|       Furniture|  Office Furnishings|        Small Box|Eldon Image Serie...|               0.49|United States|   West|       California|     Lakewood|      90712|  02-05-15| 04-05-15|    8.894|                  12|  54.78| 87652.0|\n",
            "| 23509|          High|    0.08|     34.99|         7.73|         32|      Matthew Berman|   Regular Air|       Corporate| Office Supplies| Pens & Art Supplies|        Small Box|Hunt Boston� Vacu...|               0.59|United States|   West|           Oregon|  Grants Pass|      97526|  22-02-15| 23-02-15|   144.69|                  13| 424.68| 89199.0|\n",
            "+------+--------------+--------+----------+-------------+-----------+--------------------+--------------+----------------+----------------+--------------------+-----------------+--------------------+-------------------+-------------+-------+-----------------+-------------+-----------+----------+---------+---------+--------------------+-------+--------+\n",
            "only showing top 20 rows\n",
            "\n"
          ]
        }
      ]
    },
    {
      "cell_type": "code",
      "source": [
        "df.groupBy(\"Ship Mode\").sum(\"Shipping Cost\").show(truncate=False)"
      ],
      "metadata": {
        "colab": {
          "base_uri": "https://localhost:8080/"
        },
        "id": "TkwDym-MRcVI",
        "outputId": "d7923767-5026-4d2e-f7ab-6071814f3b8a"
      },
      "execution_count": null,
      "outputs": [
        {
          "output_type": "stream",
          "name": "stdout",
          "text": [
            "+--------------+------------------+\n",
            "|Ship Mode     |sum(Shipping Cost)|\n",
            "+--------------+------------------+\n",
            "|Delivery Truck|12137.800000000007|\n",
            "|Regular Air   |10984.569999999962|\n",
            "|Express Air   |2191.459999999999 |\n",
            "+--------------+------------------+\n",
            "\n"
          ]
        }
      ]
    },
    {
      "cell_type": "code",
      "source": [
        "import pyspark\n",
        "from pyspark.sql import SparkSession\n",
        "spark = SparkSession.builder.appName('LRmodel').getOrCreate()\n",
        "df = spark.read.csv( 'cruise_ship_info.csv',inferSchema = True ,header = True )\n",
        "df.show( 10 )"
      ],
      "metadata": {
        "id": "_bextVDxRcYg",
        "colab": {
          "base_uri": "https://localhost:8080/"
        },
        "outputId": "06c2c998-b407-402a-8a9c-29799897d25f"
      },
      "execution_count": null,
      "outputs": [
        {
          "output_type": "stream",
          "name": "stdout",
          "text": [
            "+-----------+-----------+---+------------------+----------+------+------+-----------------+----+\n",
            "|  Ship_name|Cruise_line|Age|           Tonnage|passengers|length|cabins|passenger_density|crew|\n",
            "+-----------+-----------+---+------------------+----------+------+------+-----------------+----+\n",
            "|    Journey|    Azamara|  6|30.276999999999997|      6.94|  5.94|  3.55|            42.64|3.55|\n",
            "|      Quest|    Azamara|  6|30.276999999999997|      6.94|  5.94|  3.55|            42.64|3.55|\n",
            "|Celebration|   Carnival| 26|            47.262|     14.86|  7.22|  7.43|             31.8| 6.7|\n",
            "|   Conquest|   Carnival| 11|             110.0|     29.74|  9.53| 14.88|            36.99|19.1|\n",
            "|    Destiny|   Carnival| 17|           101.353|     26.42|  8.92| 13.21|            38.36|10.0|\n",
            "|    Ecstasy|   Carnival| 22|            70.367|     20.52|  8.55|  10.2|            34.29| 9.2|\n",
            "|    Elation|   Carnival| 15|            70.367|     20.52|  8.55|  10.2|            34.29| 9.2|\n",
            "|    Fantasy|   Carnival| 23|            70.367|     20.56|  8.55| 10.22|            34.23| 9.2|\n",
            "|Fascination|   Carnival| 19|            70.367|     20.52|  8.55|  10.2|            34.29| 9.2|\n",
            "|    Freedom|   Carnival|  6|110.23899999999999|      37.0|  9.51| 14.87|            29.79|11.5|\n",
            "+-----------+-----------+---+------------------+----------+------+------+-----------------+----+\n",
            "only showing top 10 rows\n",
            "\n"
          ]
        }
      ]
    },
    {
      "cell_type": "code",
      "source": [
        "from pyspark.ml.feature import StringIndexer\n",
        "indexer = StringIndexer(inputCol = 'Cruise_line' ,outputCol = 'cruise_cat' )\n",
        "indexed = indexer.fit(df).transform(df)\n",
        "indexed.show(5)"
      ],
      "metadata": {
        "id": "ueBEJj7BRcb3",
        "colab": {
          "base_uri": "https://localhost:8080/"
        },
        "outputId": "252bd08d-b544-4b64-b70c-d88d583dc635"
      },
      "execution_count": null,
      "outputs": [
        {
          "output_type": "stream",
          "name": "stdout",
          "text": [
            "+-----------+-----------+---+------------------+----------+------+------+-----------------+----+----------+\n",
            "|  Ship_name|Cruise_line|Age|           Tonnage|passengers|length|cabins|passenger_density|crew|cruise_cat|\n",
            "+-----------+-----------+---+------------------+----------+------+------+-----------------+----+----------+\n",
            "|    Journey|    Azamara|  6|30.276999999999997|      6.94|  5.94|  3.55|            42.64|3.55|      16.0|\n",
            "|      Quest|    Azamara|  6|30.276999999999997|      6.94|  5.94|  3.55|            42.64|3.55|      16.0|\n",
            "|Celebration|   Carnival| 26|            47.262|     14.86|  7.22|  7.43|             31.8| 6.7|       1.0|\n",
            "|   Conquest|   Carnival| 11|             110.0|     29.74|  9.53| 14.88|            36.99|19.1|       1.0|\n",
            "|    Destiny|   Carnival| 17|           101.353|     26.42|  8.92| 13.21|            38.36|10.0|       1.0|\n",
            "+-----------+-----------+---+------------------+----------+------+------+-----------------+----+----------+\n",
            "only showing top 5 rows\n",
            "\n"
          ]
        }
      ]
    },
    {
      "cell_type": "code",
      "source": [
        "from pyspark.ml.linalg import Vectors\n",
        "from pyspark.ml.feature import VectorAssembler\n",
        "\n",
        "assembler = VectorAssembler(inputCols = [ 'Age' ,'cruise_cat' ],outputCol = 'features' )\n",
        "output = assembler.transform(indexed)\n",
        "output.select( 'features' , 'crew' ).show( 5 )"
      ],
      "metadata": {
        "id": "7OoPrjR2Rcem",
        "colab": {
          "base_uri": "https://localhost:8080/"
        },
        "outputId": "40bf1be6-c6fd-45db-9ff3-1342439d8590"
      },
      "execution_count": null,
      "outputs": [
        {
          "output_type": "stream",
          "name": "stdout",
          "text": [
            "+----------+----+\n",
            "|  features|crew|\n",
            "+----------+----+\n",
            "|[6.0,16.0]|3.55|\n",
            "|[6.0,16.0]|3.55|\n",
            "|[26.0,1.0]| 6.7|\n",
            "|[11.0,1.0]|19.1|\n",
            "|[17.0,1.0]|10.0|\n",
            "+----------+----+\n",
            "only showing top 5 rows\n",
            "\n"
          ]
        }
      ]
    },
    {
      "cell_type": "code",
      "source": [
        "final_data = output.select( 'features' , 'crew' )\n",
        "\n",
        "train_data,test_data = final_data.randomSplit([ 0.8 , 0.2 ])"
      ],
      "metadata": {
        "id": "ZZLz0yXDRchz"
      },
      "execution_count": null,
      "outputs": []
    },
    {
      "cell_type": "code",
      "source": [
        "test_data.show()"
      ],
      "metadata": {
        "id": "DsjcFcSxRckw",
        "colab": {
          "base_uri": "https://localhost:8080/"
        },
        "outputId": "5c49fef9-0e44-4172-8f69-c49ce47a7de7"
      },
      "execution_count": null,
      "outputs": [
        {
          "output_type": "stream",
          "name": "stdout",
          "text": [
            "+-----------+-----+\n",
            "|   features| crew|\n",
            "+-----------+-----+\n",
            "|  [4.0,0.0]| 21.0|\n",
            "|  [5.0,3.0]|  8.0|\n",
            "|  [5.0,7.0]|13.13|\n",
            "|  [5.0,8.0]| 12.2|\n",
            "|  [9.0,2.0]|12.38|\n",
            "|  [9.0,7.0]|  7.4|\n",
            "| [10.0,0.0]| 8.58|\n",
            "| [10.0,2.0]|  9.0|\n",
            "| [10.0,3.0]| 8.42|\n",
            "|[10.0,12.0]|12.53|\n",
            "| [11.0,0.0]| 8.48|\n",
            "| [11.0,1.0]|  9.3|\n",
            "| [11.0,4.0]| 11.0|\n",
            "| [12.0,1.0]|  9.3|\n",
            "| [12.0,6.0]| 9.99|\n",
            "| [12.0,9.0]|  6.8|\n",
            "|[12.0,10.0]| 4.45|\n",
            "| [13.0,5.0]|  9.2|\n",
            "|[13.0,11.0]| 2.95|\n",
            "| [14.0,3.0]| 5.61|\n",
            "+-----------+-----+\n",
            "only showing top 20 rows\n",
            "\n"
          ]
        }
      ]
    },
    {
      "cell_type": "code",
      "source": [
        "from pyspark.ml.regression import LinearRegression\n",
        "\n",
        "ship_lr = LinearRegression(featuresCol = 'features' ,labelCol = 'crew' )\n",
        "\n",
        "trained_ship_model = ship_lr.fit(train_data)\n",
        "\n",
        "ship_results = trained_ship_model.evaluate(train_data)\n",
        "print ( 'Rsquared Error :' ,ship_results.r2)"
      ],
      "metadata": {
        "id": "fTpAM-6DRcn7",
        "colab": {
          "base_uri": "https://localhost:8080/"
        },
        "outputId": "0f338fd1-ad16-4632-f866-3a4094be3512"
      },
      "execution_count": null,
      "outputs": [
        {
          "output_type": "stream",
          "name": "stdout",
          "text": [
            "Rsquared Error : 0.43971313591126016\n"
          ]
        }
      ]
    },
    {
      "cell_type": "code",
      "source": [
        "predictions = trained_ship_model.transform(test_data)\n",
        "predictions.show()"
      ],
      "metadata": {
        "id": "5M17mW8NRcq2",
        "colab": {
          "base_uri": "https://localhost:8080/"
        },
        "outputId": "ce3a5886-a225-42ac-e765-49adaccc6959"
      },
      "execution_count": null,
      "outputs": [
        {
          "output_type": "stream",
          "name": "stdout",
          "text": [
            "+-----------+-----+------------------+\n",
            "|   features| crew|        prediction|\n",
            "+-----------+-----+------------------+\n",
            "|  [5.0,6.0]|  6.7|  9.57996113228704|\n",
            "|  [5.0,7.0]|13.13| 9.264216304558907|\n",
            "|  [6.0,0.0]| 13.6|11.279093245340189|\n",
            "| [6.0,16.0]| 3.55|  6.22717600169004|\n",
            "|  [8.0,4.0]| 11.0| 9.625440227796336|\n",
            "|  [9.0,0.0]| 8.69|10.693082685393215|\n",
            "|  [9.0,2.0]|12.38|10.061593029936947|\n",
            "|  [9.0,5.0]|10.68| 9.114358546752545|\n",
            "| [10.0,0.0]| 8.58|10.497745832077557|\n",
            "| [10.0,0.0]|11.85|10.497745832077557|\n",
            "| [10.0,1.0]| 11.6|10.182001004349424|\n",
            "| [10.0,2.0]|  9.0| 9.866256176621288|\n",
            "| [10.0,5.0]|10.68| 8.919021693436886|\n",
            "| [11.0,1.0]|  9.3| 9.986664151033764|\n",
            "| [11.0,4.0]| 11.0| 9.039429667849362|\n",
            "| [11.0,7.0]|  7.6|  8.09219518466496|\n",
            "| [12.0,0.0]| 8.68| 10.10707212544624|\n",
            "| [13.0,0.0]|11.76| 9.911735272130583|\n",
            "| [13.0,8.0]|  8.5| 7.385776650305509|\n",
            "|[14.0,10.0]| 3.24|6.5589501415335825|\n",
            "+-----------+-----+------------------+\n",
            "only showing top 20 rows\n",
            "\n"
          ]
        }
      ]
    },
    {
      "cell_type": "code",
      "source": [
        "import pyspark\n",
        "import findspark\n",
        "from pyspark.sql import SparkSession\n",
        "from pyspark.ml.stat import Correlation\n",
        "import pyspark.sql.functions as F\n",
        "spark = SparkSession.builder.getOrCreate()\n",
        "df = spark.read.csv(\"lwg.csv\",inferSchema = True,header = True)\n",
        "df.show()\n"
      ],
      "metadata": {
        "id": "NapHz6cgRcty",
        "colab": {
          "base_uri": "https://localhost:8080/"
        },
        "outputId": "8ea4ffa3-0998-49be-a96b-eb40a019d35f"
      },
      "execution_count": null,
      "outputs": [
        {
          "output_type": "stream",
          "name": "stdout",
          "text": [
            "+------+-------+------+\n",
            "|gender|hlength|weight|\n",
            "+------+-------+------+\n",
            "|Female|    155|    80|\n",
            "|  Male|    124|    90|\n",
            "|Female|    178|    50|\n",
            "|Female|    190|    55|\n",
            "|Female|    165|    69|\n",
            "|  Male|    100|   110|\n",
            "|  Male|     92|    99|\n",
            "|  Male|    114|    88|\n",
            "|Female|    188|    59|\n",
            "|  Male|    134|    88|\n",
            "+------+-------+------+\n",
            "\n"
          ]
        }
      ]
    },
    {
      "cell_type": "code",
      "source": [
        "from pyspark.ml.feature import StringIndexer\n",
        "from pyspark.ml.feature import VectorAssembler\n",
        "indexer = StringIndexer(inputCol = \"gender\",outputCol = \"gender_t\")\n",
        "indexed = indexer.fit(df).transform(df)\n",
        "indexed.show()"
      ],
      "metadata": {
        "id": "S3NqDxqURcwt",
        "colab": {
          "base_uri": "https://localhost:8080/"
        },
        "outputId": "bf312ad4-c2bd-4ac3-bca2-fe0857f3323c"
      },
      "execution_count": null,
      "outputs": [
        {
          "output_type": "stream",
          "name": "stdout",
          "text": [
            "+------+-------+------+--------+\n",
            "|gender|hlength|weight|gender_t|\n",
            "+------+-------+------+--------+\n",
            "|Female|    155|    80|     0.0|\n",
            "|  Male|    124|    90|     1.0|\n",
            "|Female|    178|    50|     0.0|\n",
            "|Female|    190|    55|     0.0|\n",
            "|Female|    165|    69|     0.0|\n",
            "|  Male|    100|   110|     1.0|\n",
            "|  Male|     92|    99|     1.0|\n",
            "|  Male|    114|    88|     1.0|\n",
            "|Female|    188|    59|     0.0|\n",
            "|  Male|    134|    88|     1.0|\n",
            "+------+-------+------+--------+\n",
            "\n"
          ]
        }
      ]
    },
    {
      "cell_type": "code",
      "source": [
        "assembler = VectorAssembler(inputCols=[\"hlength\",\"weight\"],outputCol = \"features\")\n",
        "output = assembler.transform(indexed)\n",
        "output.show()"
      ],
      "metadata": {
        "id": "mJGeWFLKRczp",
        "colab": {
          "base_uri": "https://localhost:8080/"
        },
        "outputId": "6006f6a2-b311-48c7-9763-bf9781bc9557"
      },
      "execution_count": null,
      "outputs": [
        {
          "output_type": "stream",
          "name": "stdout",
          "text": [
            "+------+-------+------+--------+-------------+\n",
            "|gender|hlength|weight|gender_t|     features|\n",
            "+------+-------+------+--------+-------------+\n",
            "|Female|    155|    80|     0.0| [155.0,80.0]|\n",
            "|  Male|    124|    90|     1.0| [124.0,90.0]|\n",
            "|Female|    178|    50|     0.0| [178.0,50.0]|\n",
            "|Female|    190|    55|     0.0| [190.0,55.0]|\n",
            "|Female|    165|    69|     0.0| [165.0,69.0]|\n",
            "|  Male|    100|   110|     1.0|[100.0,110.0]|\n",
            "|  Male|     92|    99|     1.0|  [92.0,99.0]|\n",
            "|  Male|    114|    88|     1.0| [114.0,88.0]|\n",
            "|Female|    188|    59|     0.0| [188.0,59.0]|\n",
            "|  Male|    134|    88|     1.0| [134.0,88.0]|\n",
            "+------+-------+------+--------+-------------+\n",
            "\n"
          ]
        }
      ]
    },
    {
      "cell_type": "code",
      "source": [
        "model_df = output.select(\"features\",\"gender_t\")\n",
        "model_df.show()"
      ],
      "metadata": {
        "id": "d2QMhxEnRc2e",
        "colab": {
          "base_uri": "https://localhost:8080/"
        },
        "outputId": "a472f782-1172-4221-b983-10698ff723bc"
      },
      "execution_count": null,
      "outputs": [
        {
          "output_type": "stream",
          "name": "stdout",
          "text": [
            "+-------------+--------+\n",
            "|     features|gender_t|\n",
            "+-------------+--------+\n",
            "| [155.0,80.0]|     0.0|\n",
            "| [124.0,90.0]|     1.0|\n",
            "| [178.0,50.0]|     0.0|\n",
            "| [190.0,55.0]|     0.0|\n",
            "| [165.0,69.0]|     0.0|\n",
            "|[100.0,110.0]|     1.0|\n",
            "|  [92.0,99.0]|     1.0|\n",
            "| [114.0,88.0]|     1.0|\n",
            "| [188.0,59.0]|     0.0|\n",
            "| [134.0,88.0]|     1.0|\n",
            "+-------------+--------+\n",
            "\n"
          ]
        }
      ]
    },
    {
      "cell_type": "code",
      "source": [
        "train_df,test_df = model_df.randomSplit([0.7,0.3])\n",
        "train_df.show()"
      ],
      "metadata": {
        "id": "NWA7U4v8Rc5Z",
        "colab": {
          "base_uri": "https://localhost:8080/"
        },
        "outputId": "eb947a43-914a-4a59-fab5-34ab1a5f5920"
      },
      "execution_count": null,
      "outputs": [
        {
          "output_type": "stream",
          "name": "stdout",
          "text": [
            "+------------+--------+\n",
            "|    features|gender_t|\n",
            "+------------+--------+\n",
            "|[114.0,88.0]|     1.0|\n",
            "|[124.0,90.0]|     1.0|\n",
            "|[165.0,69.0]|     0.0|\n",
            "|[178.0,50.0]|     0.0|\n",
            "|[188.0,59.0]|     0.0|\n",
            "+------------+--------+\n",
            "\n"
          ]
        }
      ]
    },
    {
      "cell_type": "code",
      "source": [
        "test_df.show()"
      ],
      "metadata": {
        "id": "5j0pB8NGRc8K",
        "colab": {
          "base_uri": "https://localhost:8080/"
        },
        "outputId": "9ddb5d45-2545-41ae-8f3e-3ebdf12dfc6f"
      },
      "execution_count": null,
      "outputs": [
        {
          "output_type": "stream",
          "name": "stdout",
          "text": [
            "+-------------+--------+\n",
            "|     features|gender_t|\n",
            "+-------------+--------+\n",
            "|  [92.0,99.0]|     1.0|\n",
            "|[100.0,110.0]|     1.0|\n",
            "| [134.0,88.0]|     1.0|\n",
            "| [155.0,80.0]|     0.0|\n",
            "| [190.0,55.0]|     0.0|\n",
            "+-------------+--------+\n",
            "\n"
          ]
        }
      ]
    },
    {
      "cell_type": "code",
      "source": [
        "from pyspark.ml.classification import LogisticRegression\n",
        "log_reg = LogisticRegression(labelCol = \"gender_t\").fit(train_df)\n",
        "train_result = log_reg.evaluate(train_df).predictions\n",
        "train_result.show()"
      ],
      "metadata": {
        "id": "n_Q03WJ1Rc_V",
        "colab": {
          "base_uri": "https://localhost:8080/"
        },
        "outputId": "db2ff7f8-f465-45f0-9962-77611ac54648"
      },
      "execution_count": null,
      "outputs": [
        {
          "output_type": "stream",
          "name": "stdout",
          "text": [
            "+------------+--------+--------------------+--------------------+----------+\n",
            "|    features|gender_t|       rawPrediction|         probability|prediction|\n",
            "+------------+--------+--------------------+--------------------+----------+\n",
            "|[114.0,88.0]|     1.0|[-21.439333373876...|[4.88670159563597...|       1.0|\n",
            "|[124.0,90.0]|     1.0|[-17.945315272454...|[1.60860196237091...|       1.0|\n",
            "|[165.0,69.0]|     0.0|[17.3358153627500...|[0.99999997040958...|       0.0|\n",
            "|[178.0,50.0]|     0.0|[37.3794833692052...|           [1.0,0.0]|       0.0|\n",
            "|[188.0,59.0]|     0.0|[35.8498852057077...|[0.99999999999999...|       0.0|\n",
            "+------------+--------+--------------------+--------------------+----------+\n",
            "\n"
          ]
        }
      ]
    },
    {
      "cell_type": "code",
      "source": [
        "results = log_reg.evaluate(test_df).predictions\n",
        "results.select([\"features\",\"gender_t\"]).show()\n",
        "results.select([\"gender_t\",\"prediction\"]).show()"
      ],
      "metadata": {
        "id": "UlhPgaSKRdCG",
        "colab": {
          "base_uri": "https://localhost:8080/"
        },
        "outputId": "5a47c063-7986-4741-9615-02550ba51f18"
      },
      "execution_count": null,
      "outputs": [
        {
          "output_type": "stream",
          "name": "stdout",
          "text": [
            "+-------------+--------+\n",
            "|     features|gender_t|\n",
            "+-------------+--------+\n",
            "|  [92.0,99.0]|     1.0|\n",
            "|[100.0,110.0]|     1.0|\n",
            "| [134.0,88.0]|     1.0|\n",
            "| [155.0,80.0]|     0.0|\n",
            "| [190.0,55.0]|     0.0|\n",
            "+-------------+--------+\n",
            "\n",
            "+--------+----------+\n",
            "|gender_t|prediction|\n",
            "+--------+----------+\n",
            "|     1.0|       1.0|\n",
            "|     1.0|       1.0|\n",
            "|     1.0|       1.0|\n",
            "|     0.0|       0.0|\n",
            "|     0.0|       0.0|\n",
            "+--------+----------+\n",
            "\n"
          ]
        }
      ]
    },
    {
      "cell_type": "code",
      "source": [
        "results.show()"
      ],
      "metadata": {
        "id": "w0gXCJiPRdFT",
        "colab": {
          "base_uri": "https://localhost:8080/"
        },
        "outputId": "b5988df7-1b91-4f90-a494-a44ae47b4720"
      },
      "execution_count": null,
      "outputs": [
        {
          "output_type": "stream",
          "name": "stdout",
          "text": [
            "+-------------+--------+--------------------+--------------------+----------+\n",
            "|     features|gender_t|       rawPrediction|         probability|prediction|\n",
            "+-------------+--------+--------------------+--------------------+----------+\n",
            "|  [92.0,99.0]|     1.0|[-40.178128979825...|[3.55516933157105...|       1.0|\n",
            "|[100.0,110.0]|     1.0|[-44.128913483007...|[6.84000441343396...|       1.0|\n",
            "| [134.0,88.0]|     1.0|[-11.580659305365...|[9.34500436078620...|       1.0|\n",
            "| [155.0,80.0]|     0.0|[4.51222419790752...|[0.98914509736015...|       0.0|\n",
            "| [190.0,55.0]|     0.0|[39.7063904782268...|           [1.0,0.0]|       0.0|\n",
            "+-------------+--------+--------------------+--------------------+----------+\n",
            "\n"
          ]
        }
      ]
    },
    {
      "cell_type": "markdown",
      "source": [
        "# **Machine learning with PySpark**"
      ],
      "metadata": {
        "id": "iVsRyVLLdvkc"
      }
    },
    {
      "cell_type": "code",
      "source": [
        "import numpy as np\n",
        "import seaborn as sns\n",
        "uniform_data = np.random.rand(2, 2)\n",
        "print(uniform_data)\n",
        "ax = sns.heatmap(uniform_data)"
      ],
      "metadata": {
        "id": "0-JDU_i8RdIG",
        "colab": {
          "base_uri": "https://localhost:8080/",
          "height": 300
        },
        "outputId": "50e5c51f-27c2-47c0-cb95-2c38213e2a90"
      },
      "execution_count": null,
      "outputs": [
        {
          "output_type": "stream",
          "name": "stdout",
          "text": [
            "[[0.88628652 0.41875537]\n",
            " [0.00554044 0.92289658]]\n"
          ]
        },
        {
          "output_type": "display_data",
          "data": {
            "text/plain": [
              "<Figure size 432x288 with 2 Axes>"
            ],
            "image/png": "[encoded data removed]"
          },
          "metadata": {
            "needs_background": "light"
          }
        }
      ]
    },
    {
      "cell_type": "code",
      "source": [
        "flights = sns.load_dataset(\"flights\")\n",
        "flights = flights.pivot(\"month\", \"year\", \"passengers\")\n",
        "print(flights)\n",
        "ax = sns.heatmap(flights)"
      ],
      "metadata": {
        "id": "Bj9NsdG8RdLD",
        "colab": {
          "base_uri": "https://localhost:8080/",
          "height": 538
        },
        "outputId": "3c17c84e-4795-4a21-c5f0-8baec12897cf"
      },
      "execution_count": null,
      "outputs": [
        {
          "output_type": "stream",
          "name": "stdout",
          "text": [
            "year   1949  1950  1951  1952  1953  1954  1955  1956  1957  1958  1959  1960\n",
            "month                                                                        \n",
            "Jan     112   115   145   171   196   204   242   284   315   340   360   417\n",
            "Feb     118   126   150   180   196   188   233   277   301   318   342   391\n",
            "Mar     132   141   178   193   236   235   267   317   356   362   406   419\n",
            "Apr     129   135   163   181   235   227   269   313   348   348   396   461\n",
            "May     121   125   172   183   229   234   270   318   355   363   420   472\n",
            "Jun     135   149   178   218   243   264   315   374   422   435   472   535\n",
            "Jul     148   170   199   230   264   302   364   413   465   491   548   622\n",
            "Aug     148   170   199   242   272   293   347   405   467   505   559   606\n",
            "Sep     136   158   184   209   237   259   312   355   404   404   463   508\n",
            "Oct     119   133   162   191   211   229   274   306   347   359   407   461\n",
            "Nov     104   114   146   172   180   203   237   271   305   310   362   390\n",
            "Dec     118   140   166   194   201   229   278   306   336   337   405   432\n"
          ]
        },
        {
          "output_type": "display_data",
          "data": {
            "text/plain": [
              "<Figure size 432x288 with 2 Axes>"
            ],
            "image/png": "[encoded data removed]"
          },
          "metadata": {
            "needs_background": "light"
          }
        }
      ]
    },
    {
      "cell_type": "code",
      "source": [
        "ax = sns.heatmap(flights, annot=True, fmt=\"d\")"
      ],
      "metadata": {
        "id": "p5sT2ca-RdOC",
        "colab": {
          "base_uri": "https://localhost:8080/",
          "height": 295
        },
        "outputId": "fb1eadca-d9dc-4bf9-dea2-a0778bcb0a5e"
      },
      "execution_count": null,
      "outputs": [
        {
          "output_type": "display_data",
          "data": {
            "text/plain": [
              "<Figure size 432x288 with 2 Axes>"
            ],
            "image/png": "[encoded data removed]"
          },
          "metadata": {
            "needs_background": "light"
          }
        }
      ]
    },
    {
      "cell_type": "code",
      "source": [
        "ax = sns.heatmap(flights, center=flights.loc[\"Jan\", 1955])"
      ],
      "metadata": {
        "id": "H8_2Pc-2RdRT",
        "colab": {
          "base_uri": "https://localhost:8080/",
          "height": 295
        },
        "outputId": "c32de13a-f05a-4c5a-c956-4232b430bc05"
      },
      "execution_count": null,
      "outputs": [
        {
          "output_type": "display_data",
          "data": {
            "text/plain": [
              "<Figure size 432x288 with 2 Axes>"
            ],
            "image/png": "[encoded data removed]"
          },
          "metadata": {
            "needs_background": "light"
          }
        }
      ]
    },
    {
      "cell_type": "code",
      "source": [
        "import pyspark\n",
        "from pyspark.sql import SparkSession\n",
        "spark = SparkSession.builder.appName('LRmodel').getOrCreate()\n",
        "df = spark.read.csv( 'cruise_ship_info.csv',inferSchema = True ,header = True )\n",
        "df.show( 10 )"
      ],
      "metadata": {
        "id": "rzED6tqkRdUm",
        "colab": {
          "base_uri": "https://localhost:8080/"
        },
        "outputId": "0646cc46-417c-40fb-ef7a-5b8901a5892b"
      },
      "execution_count": null,
      "outputs": [
        {
          "output_type": "stream",
          "name": "stdout",
          "text": [
            "+-----------+-----------+---+------------------+----------+------+------+-----------------+----+\n",
            "|  Ship_name|Cruise_line|Age|           Tonnage|passengers|length|cabins|passenger_density|crew|\n",
            "+-----------+-----------+---+------------------+----------+------+------+-----------------+----+\n",
            "|    Journey|    Azamara|  6|30.276999999999997|      6.94|  5.94|  3.55|            42.64|3.55|\n",
            "|      Quest|    Azamara|  6|30.276999999999997|      6.94|  5.94|  3.55|            42.64|3.55|\n",
            "|Celebration|   Carnival| 26|            47.262|     14.86|  7.22|  7.43|             31.8| 6.7|\n",
            "|   Conquest|   Carnival| 11|             110.0|     29.74|  9.53| 14.88|            36.99|19.1|\n",
            "|    Destiny|   Carnival| 17|           101.353|     26.42|  8.92| 13.21|            38.36|10.0|\n",
            "|    Ecstasy|   Carnival| 22|            70.367|     20.52|  8.55|  10.2|            34.29| 9.2|\n",
            "|    Elation|   Carnival| 15|            70.367|     20.52|  8.55|  10.2|            34.29| 9.2|\n",
            "|    Fantasy|   Carnival| 23|            70.367|     20.56|  8.55| 10.22|            34.23| 9.2|\n",
            "|Fascination|   Carnival| 19|            70.367|     20.52|  8.55|  10.2|            34.29| 9.2|\n",
            "|    Freedom|   Carnival|  6|110.23899999999999|      37.0|  9.51| 14.87|            29.79|11.5|\n",
            "+-----------+-----------+---+------------------+----------+------+------+-----------------+----+\n",
            "only showing top 10 rows\n",
            "\n"
          ]
        }
      ]
    },
    {
      "cell_type": "code",
      "source": [
        "from pyspark.ml.feature import StringIndexer\n",
        "indexer = StringIndexer(inputCol = 'Cruise_line' ,outputCol = 'cruise_cat' )\n",
        "indexed = indexer.fit(df).transform(df)\n",
        "indexed.show(5)"
      ],
      "metadata": {
        "id": "LopUkRtRRdX2",
        "colab": {
          "base_uri": "https://localhost:8080/"
        },
        "outputId": "95dcd25f-4ab7-4e30-de2a-2f1d627977c9"
      },
      "execution_count": null,
      "outputs": [
        {
          "output_type": "stream",
          "name": "stdout",
          "text": [
            "+-----------+-----------+---+------------------+----------+------+------+-----------------+----+----------+\n",
            "|  Ship_name|Cruise_line|Age|           Tonnage|passengers|length|cabins|passenger_density|crew|cruise_cat|\n",
            "+-----------+-----------+---+------------------+----------+------+------+-----------------+----+----------+\n",
            "|    Journey|    Azamara|  6|30.276999999999997|      6.94|  5.94|  3.55|            42.64|3.55|      16.0|\n",
            "|      Quest|    Azamara|  6|30.276999999999997|      6.94|  5.94|  3.55|            42.64|3.55|      16.0|\n",
            "|Celebration|   Carnival| 26|            47.262|     14.86|  7.22|  7.43|             31.8| 6.7|       1.0|\n",
            "|   Conquest|   Carnival| 11|             110.0|     29.74|  9.53| 14.88|            36.99|19.1|       1.0|\n",
            "|    Destiny|   Carnival| 17|           101.353|     26.42|  8.92| 13.21|            38.36|10.0|       1.0|\n",
            "+-----------+-----------+---+------------------+----------+------+------+-----------------+----+----------+\n",
            "only showing top 5 rows\n",
            "\n"
          ]
        }
      ]
    },
    {
      "cell_type": "code",
      "source": [
        "from pyspark.ml.linalg import Vectors\n",
        "from pyspark.ml.feature import VectorAssembler\n",
        "#creating vectors from features\n",
        "#Apache MLlib takes input if vector form\n",
        "assembler = VectorAssembler(inputCols = [ 'Age' ,\n",
        "'cruise_cat' ],outputCol = 'features' )\n",
        "output = assembler.transform(indexed)\n",
        "output.select( 'features' , 'crew' ).show( 5 )"
      ],
      "metadata": {
        "id": "Ucg4W5oFRdaz",
        "colab": {
          "base_uri": "https://localhost:8080/"
        },
        "outputId": "c54f7a5e-a392-4e56-a9fb-6b51cd9bc1ae"
      },
      "execution_count": null,
      "outputs": [
        {
          "output_type": "stream",
          "name": "stdout",
          "text": [
            "+----------+----+\n",
            "|  features|crew|\n",
            "+----------+----+\n",
            "|[6.0,16.0]|3.55|\n",
            "|[6.0,16.0]|3.55|\n",
            "|[26.0,1.0]| 6.7|\n",
            "|[11.0,1.0]|19.1|\n",
            "|[17.0,1.0]|10.0|\n",
            "+----------+----+\n",
            "only showing top 5 rows\n",
            "\n"
          ]
        }
      ]
    },
    {
      "cell_type": "code",
      "source": [],
      "metadata": {
        "id": "eolURGIURdd1"
      },
      "execution_count": null,
      "outputs": []
    },
    {
      "cell_type": "code",
      "source": [],
      "metadata": {
        "id": "gDe_ioHTRdgp"
      },
      "execution_count": null,
      "outputs": []
    }
  ]
}