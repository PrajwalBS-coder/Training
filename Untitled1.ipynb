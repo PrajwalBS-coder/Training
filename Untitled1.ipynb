{
 "cells": [
  {
   "cell_type": "code",
   "execution_count": null,
   "id": "535020e2",
   "metadata": {},
   "outputs": [
    {
     "name": "stdout",
     "output_type": "stream",
     "text": [
      "X =  [1672. 1750. 1750. ...  880. 1000. 1400.]\n",
      "Y =  [150. 149. 150. ...  48.  55.  78.]\n",
      "[121.72147981  43.89379968 150.16726933 ...   3.9559112   61.07505655\n",
      " 106.47453663]\n"
     ]
    }
   ],
   "source": [
    "# Import Libary\n",
    "import numpy as np\n",
    "import pandas as pd\n",
    "import matplotlib.pyplot as plt\n",
    "\n",
    "from sklearn.linear_model import LinearRegression\n",
    "from sklearn.model_selection import train_test_split\n",
    "\n",
    "# read data\n",
    "df=pd.read_csv('C:/Users/Prajwal Amin/Desktop/MCA/3RD SEM/AI & ML/LAB/hprice.csv')\n",
    "\n",
    "df.head()\n",
    "\n",
    "# Declare dependent variable(Y) and independent variable(X)\n",
    "X = df['total_sqft_int'].values\n",
    "Y = df['price'].values\n",
    "X_train, X_test, y_train, y_test = train_test_split(X, Y, test_size=0.2, random_state=51)\n",
    "\n",
    "print(\"X = \",X)\n",
    "print(\"Y = \",Y)\n",
    "\n",
    "lr = LinearRegression()\n",
    "n=len(X_train)\n",
    "\n",
    "X_train=np.asarray(X_train).reshape(n,1)\n",
    "lr.fit(X_train, y_train)\n",
    "\n",
    "lr.coef_\n",
    "\n",
    "lr.intercept_\n",
    "\n",
    "n=len(X_test)\n",
    "\n",
    "X_test=np.array(X_test).reshape(-1, 1)\n",
    "\n",
    "print(lr.predict(X_test))\n",
    "\n",
    "xy = int(input())\n",
    "a =np.array(xy).reshape(-1, 1)\n",
    "print(lr.predict(a))"
   ]
  },
  {
   "cell_type": "code",
   "execution_count": null,
   "id": "214cbbb0",
   "metadata": {},
   "outputs": [],
   "source": []
  }
 ],
 "metadata": {
  "kernelspec": {
   "display_name": "Python 3",
   "language": "python",
   "name": "python3"
  },
  "language_info": {
   "codemirror_mode": {
    "name": "ipython",
    "version": 3
   },
   "file_extension": ".py",
   "mimetype": "text/x-python",
   "name": "python",
   "nbconvert_exporter": "python",
   "pygments_lexer": "ipython3",
   "version": "3.8.8"
  }
 },
 "nbformat": 4,
 "nbformat_minor": 5
}
