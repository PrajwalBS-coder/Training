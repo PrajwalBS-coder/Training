{
 "cells": [
  {
   "cell_type": "code",
   "execution_count": 1,
   "id": "7969f2ec",
   "metadata": {},
   "outputs": [
    {
     "data": {
      "text/plain": [
       "[30, 45, 68, 46, 66, 36]"
      ]
     },
     "execution_count": 1,
     "metadata": {},
     "output_type": "execute_result"
    }
   ],
   "source": [
    "import pandas as pd\n",
    "import numpy as np\n",
    "\n",
    "data = pd.read_csv('C:/Users/Prajwal Amin/Desktop/MCA/3RD SEM/AI & ML/LAB/MyData.csv')\n",
    "x1 = data['X1'].tolist()\n",
    "x1"
   ]
  },
  {
   "cell_type": "code",
   "execution_count": 3,
   "id": "3e8c4f83",
   "metadata": {},
   "outputs": [
    {
     "data": {
      "text/plain": [
       "[63, 47, 67, 83, 84, 50]"
      ]
     },
     "execution_count": 3,
     "metadata": {},
     "output_type": "execute_result"
    }
   ],
   "source": [
    "x2=data['X2'].tolist()\n",
    "x2"
   ]
  },
  {
   "cell_type": "code",
   "execution_count": 4,
   "id": "7798a327",
   "metadata": {},
   "outputs": [
    {
     "data": {
      "text/plain": [
       "[33, 52, 62, 42, 42, 66]"
      ]
     },
     "execution_count": 4,
     "metadata": {},
     "output_type": "execute_result"
    }
   ],
   "source": [
    "x3 = data['X3'].tolist()\n",
    "x3"
   ]
  },
  {
   "cell_type": "code",
   "execution_count": 5,
   "id": "8cd120e2",
   "metadata": {},
   "outputs": [
    {
     "data": {
      "text/plain": [
       "[43, 63, 71, 61, 81, 43]"
      ]
     },
     "execution_count": 5,
     "metadata": {},
     "output_type": "execute_result"
    }
   ],
   "source": [
    "y=data['Y'].tolist()\n",
    "y"
   ]
  },
  {
   "cell_type": "code",
   "execution_count": 17,
   "id": "8e10e5f4",
   "metadata": {},
   "outputs": [],
   "source": [
    "x = [1]*len(x1)"
   ]
  },
  {
   "cell_type": "code",
   "execution_count": 18,
   "id": "4463f647",
   "metadata": {},
   "outputs": [
    {
     "name": "stdout",
     "output_type": "stream",
     "text": [
      "[[ 1 30 63 33]\n",
      " [ 1 45 47 52]\n",
      " [ 1 68 67 62]\n",
      " [ 1 46 83 42]\n",
      " [ 1 66 84 42]\n",
      " [ 1 36 50 66]]\n"
     ]
    }
   ],
   "source": [
    "x=np.transpose([x,x1,x2,x3])\n",
    "print(x)"
   ]
  },
  {
   "cell_type": "code",
   "execution_count": 19,
   "id": "c59dc1aa",
   "metadata": {},
   "outputs": [
    {
     "data": {
      "text/plain": [
       "array([[ 1,  1,  1,  1,  1,  1],\n",
       "       [30, 45, 68, 46, 66, 36],\n",
       "       [63, 47, 67, 83, 84, 50],\n",
       "       [33, 52, 62, 42, 42, 66]])"
      ]
     },
     "execution_count": 19,
     "metadata": {},
     "output_type": "execute_result"
    }
   ],
   "source": [
    "xt=np.transpose(xt)\n",
    "xt\n"
   ]
  },
  {
   "cell_type": "code",
   "execution_count": 20,
   "id": "1defccdf",
   "metadata": {},
   "outputs": [
    {
     "data": {
      "text/plain": [
       "array([[    6,   291,   394,   297],\n",
       "       [  291, 15317, 19723, 14626],\n",
       "       [  394, 19723, 27112, 18991],\n",
       "       [  297, 14626, 18991, 15521]])"
      ]
     },
     "execution_count": 20,
     "metadata": {},
     "output_type": "execute_result"
    }
   ],
   "source": [
    "xtx=np.dot(xt,x)\n",
    "xtx"
   ]
  },
  {
   "cell_type": "code",
   "execution_count": 21,
   "id": "1377dac5",
   "metadata": {},
   "outputs": [
    {
     "data": {
      "text/plain": [
       "array([[ 1.69580230e+01,  8.31914459e-02, -1.73130574e-01,\n",
       "        -1.91055228e-01],\n",
       "       [ 8.31914459e-02,  1.89410821e-03, -1.54994977e-03,\n",
       "        -1.48031635e-03],\n",
       "       [-1.73130574e-01, -1.54994977e-03,  2.35593088e-03,\n",
       "         1.89084867e-03],\n",
       "       [-1.91055228e-01, -1.48031635e-03,  1.89084867e-03,\n",
       "         2.80171396e-03]])"
      ]
     },
     "execution_count": 21,
     "metadata": {},
     "output_type": "execute_result"
    }
   ],
   "source": [
    "xtxi=np.linalg.inv(xtx)\n",
    "xtxi"
   ]
  },
  {
   "cell_type": "code",
   "execution_count": 22,
   "id": "18665d3d",
   "metadata": {},
   "outputs": [
    {
     "data": {
      "text/plain": [
       "array([  362, 18653, 24444, 17899])"
      ]
     },
     "execution_count": 22,
     "metadata": {},
     "output_type": "execute_result"
    }
   ],
   "source": [
    "xty=np.dot(xt,y)\n",
    "xty"
   ]
  },
  {
   "cell_type": "code",
   "execution_count": 23,
   "id": "82f99a59",
   "metadata": {},
   "outputs": [
    {
     "data": {
      "text/plain": [
       "array([38.8730967 ,  1.06294938, -0.15180574, -0.40655013])"
      ]
     },
     "execution_count": 23,
     "metadata": {},
     "output_type": "execute_result"
    }
   ],
   "source": [
    "bh=np.dot(xtxi,xty)\n",
    "bh"
   ]
  },
  {
   "cell_type": "code",
   "execution_count": 24,
   "id": "c13b1d9e",
   "metadata": {},
   "outputs": [
    {
     "name": "stdout",
     "output_type": "stream",
     "text": [
      "50\n",
      "70\n",
      "80\n"
     ]
    },
    {
     "data": {
      "text/plain": [
       "48.87015369722906"
      ]
     },
     "execution_count": 24,
     "metadata": {},
     "output_type": "execute_result"
    }
   ],
   "source": [
    "v1=int(input())\n",
    "v2=int(input())\n",
    "v3=int(input())\n",
    "ans=bh[0]+v1*bh[1]+v2*bh[2]+v3*bh[3]\n",
    "ans"
   ]
  },
  {
   "cell_type": "code",
   "execution_count": null,
   "id": "c648afe1",
   "metadata": {},
   "outputs": [],
   "source": []
  }
 ],
 "metadata": {
  "kernelspec": {
   "display_name": "Python 3",
   "language": "python",
   "name": "python3"
  },
  "language_info": {
   "codemirror_mode": {
    "name": "ipython",
    "version": 3
   },
   "file_extension": ".py",
   "mimetype": "text/x-python",
   "name": "python",
   "nbconvert_exporter": "python",
   "pygments_lexer": "ipython3",
   "version": "3.8.8"
  }
 },
 "nbformat": 4,
 "nbformat_minor": 5
}
