{
 "cells": [
  {
   "cell_type": "code",
   "execution_count": 1,
   "id": "4795741d",
   "metadata": {},
   "outputs": [],
   "source": [
    "import pandas as pd\n",
    "import numpy as np"
   ]
  },
  {
   "cell_type": "code",
   "execution_count": 2,
   "id": "33904d1e",
   "metadata": {},
   "outputs": [
    {
     "data": {
      "text/html": [
       "<div>\n",
       "<style scoped>\n",
       "    .dataframe tbody tr th:only-of-type {\n",
       "        vertical-align: middle;\n",
       "    }\n",
       "\n",
       "    .dataframe tbody tr th {\n",
       "        vertical-align: top;\n",
       "    }\n",
       "\n",
       "    .dataframe thead th {\n",
       "        text-align: right;\n",
       "    }\n",
       "</style>\n",
       "<table border=\"1\" class=\"dataframe\">\n",
       "  <thead>\n",
       "    <tr style=\"text-align: right;\">\n",
       "      <th></th>\n",
       "      <th>Sepal Length</th>\n",
       "      <th>Sepal Width</th>\n",
       "      <th>Species</th>\n",
       "    </tr>\n",
       "  </thead>\n",
       "  <tbody>\n",
       "    <tr>\n",
       "      <th>0</th>\n",
       "      <td>5.3</td>\n",
       "      <td>3.7</td>\n",
       "      <td>Setosa</td>\n",
       "    </tr>\n",
       "    <tr>\n",
       "      <th>1</th>\n",
       "      <td>5.1</td>\n",
       "      <td>3.8</td>\n",
       "      <td>Setosa</td>\n",
       "    </tr>\n",
       "    <tr>\n",
       "      <th>2</th>\n",
       "      <td>7.2</td>\n",
       "      <td>3.0</td>\n",
       "      <td>Virginica</td>\n",
       "    </tr>\n",
       "    <tr>\n",
       "      <th>3</th>\n",
       "      <td>5.4</td>\n",
       "      <td>3.4</td>\n",
       "      <td>Setosa</td>\n",
       "    </tr>\n",
       "    <tr>\n",
       "      <th>4</th>\n",
       "      <td>5.1</td>\n",
       "      <td>3.3</td>\n",
       "      <td>Setosa</td>\n",
       "    </tr>\n",
       "    <tr>\n",
       "      <th>5</th>\n",
       "      <td>5.4</td>\n",
       "      <td>3.9</td>\n",
       "      <td>Setosa</td>\n",
       "    </tr>\n",
       "    <tr>\n",
       "      <th>6</th>\n",
       "      <td>7.4</td>\n",
       "      <td>2.8</td>\n",
       "      <td>Virginica</td>\n",
       "    </tr>\n",
       "    <tr>\n",
       "      <th>7</th>\n",
       "      <td>6.1</td>\n",
       "      <td>2.8</td>\n",
       "      <td>Verscicolor</td>\n",
       "    </tr>\n",
       "    <tr>\n",
       "      <th>8</th>\n",
       "      <td>7.3</td>\n",
       "      <td>2.9</td>\n",
       "      <td>Virginica</td>\n",
       "    </tr>\n",
       "    <tr>\n",
       "      <th>9</th>\n",
       "      <td>6.0</td>\n",
       "      <td>2.7</td>\n",
       "      <td>Verscicolor</td>\n",
       "    </tr>\n",
       "    <tr>\n",
       "      <th>10</th>\n",
       "      <td>5.8</td>\n",
       "      <td>2.8</td>\n",
       "      <td>Virginica</td>\n",
       "    </tr>\n",
       "    <tr>\n",
       "      <th>11</th>\n",
       "      <td>6.3</td>\n",
       "      <td>2.3</td>\n",
       "      <td>Verscicolor</td>\n",
       "    </tr>\n",
       "    <tr>\n",
       "      <th>12</th>\n",
       "      <td>5.1</td>\n",
       "      <td>2.5</td>\n",
       "      <td>Verscicolor</td>\n",
       "    </tr>\n",
       "    <tr>\n",
       "      <th>13</th>\n",
       "      <td>6.3</td>\n",
       "      <td>2.5</td>\n",
       "      <td>Verscicolor</td>\n",
       "    </tr>\n",
       "    <tr>\n",
       "      <th>14</th>\n",
       "      <td>5.5</td>\n",
       "      <td>2.4</td>\n",
       "      <td>Verscicolor</td>\n",
       "    </tr>\n",
       "  </tbody>\n",
       "</table>\n",
       "</div>"
      ],
      "text/plain": [
       "    Sepal Length  Sepal Width      Species\n",
       "0            5.3          3.7       Setosa\n",
       "1            5.1          3.8       Setosa\n",
       "2            7.2          3.0    Virginica\n",
       "3            5.4          3.4       Setosa\n",
       "4            5.1          3.3       Setosa\n",
       "5            5.4          3.9       Setosa\n",
       "6            7.4          2.8    Virginica\n",
       "7            6.1          2.8  Verscicolor\n",
       "8            7.3          2.9    Virginica\n",
       "9            6.0          2.7  Verscicolor\n",
       "10           5.8          2.8    Virginica\n",
       "11           6.3          2.3  Verscicolor\n",
       "12           5.1          2.5  Verscicolor\n",
       "13           6.3          2.5  Verscicolor\n",
       "14           5.5          2.4  Verscicolor"
      ]
     },
     "execution_count": 2,
     "metadata": {},
     "output_type": "execute_result"
    }
   ],
   "source": [
    "df=pd.read_csv(\"C:/Users/Prajwal Amin/Desktop/MCA/3RD SEM/AI & ML/LAB/knn.csv\")\n",
    "df"
   ]
  },
  {
   "cell_type": "code",
   "execution_count": 3,
   "id": "a83e850e",
   "metadata": {},
   "outputs": [
    {
     "data": {
      "text/plain": [
       "array([5.3, 5.1, 7.2, 5.4, 5.1, 5.4, 7.4, 6.1, 7.3, 6. , 5.8, 6.3, 5.1,\n",
       "       6.3, 5.5])"
      ]
     },
     "execution_count": 3,
     "metadata": {},
     "output_type": "execute_result"
    }
   ],
   "source": [
    "x=df['Sepal Length'].values\n",
    "x"
   ]
  },
  {
   "cell_type": "code",
   "execution_count": 4,
   "id": "6ce25789",
   "metadata": {},
   "outputs": [
    {
     "data": {
      "text/plain": [
       "array([3.7, 3.8, 3. , 3.4, 3.3, 3.9, 2.8, 2.8, 2.9, 2.7, 2.8, 2.3, 2.5,\n",
       "       2.5, 2.4])"
      ]
     },
     "execution_count": 4,
     "metadata": {},
     "output_type": "execute_result"
    }
   ],
   "source": [
    "y=df['Sepal Width'].values\n",
    "y"
   ]
  },
  {
   "cell_type": "code",
   "execution_count": 5,
   "id": "1ecbf130",
   "metadata": {},
   "outputs": [
    {
     "data": {
      "text/plain": [
       "array(['Setosa', 'Setosa', 'Virginica', 'Setosa', 'Setosa', 'Setosa',\n",
       "       'Virginica', 'Verscicolor', 'Virginica', 'Verscicolor',\n",
       "       'Virginica', 'Verscicolor', 'Verscicolor', 'Verscicolor',\n",
       "       'Verscicolor'], dtype=object)"
      ]
     },
     "execution_count": 5,
     "metadata": {},
     "output_type": "execute_result"
    }
   ],
   "source": [
    "z=df['Species'].values\n",
    "z"
   ]
  },
  {
   "cell_type": "code",
   "execution_count": 6,
   "id": "86fb2db1",
   "metadata": {},
   "outputs": [
    {
     "data": {
      "text/plain": [
       "5"
      ]
     },
     "execution_count": 6,
     "metadata": {},
     "output_type": "execute_result"
    }
   ],
   "source": [
    "import math \n",
    "k=math.sqrt(len(x))\n",
    "round(k+1)"
   ]
  },
  {
   "cell_type": "code",
   "execution_count": 10,
   "id": "333360e9",
   "metadata": {},
   "outputs": [
    {
     "name": "stdout",
     "output_type": "stream",
     "text": [
      "Enter sepal Length5.1\n",
      "Enter sepal Width3.1\n"
     ]
    }
   ],
   "source": [
    "sl=float(input(\"Enter sepal Length\"))\n",
    "sw=float(input(\"Enter sepal Width\"))"
   ]
  },
  {
   "cell_type": "code",
   "execution_count": 11,
   "id": "81ada9bc",
   "metadata": {},
   "outputs": [
    {
     "data": {
      "text/plain": [
       "15"
      ]
     },
     "execution_count": 11,
     "metadata": {},
     "output_type": "execute_result"
    }
   ],
   "source": [
    "n=len(x)\n",
    "n"
   ]
  },
  {
   "cell_type": "code",
   "execution_count": 12,
   "id": "33a0265c",
   "metadata": {},
   "outputs": [
    {
     "data": {
      "text/plain": [
       "[0.632455532033676,\n",
       " 0.6999999999999997,\n",
       " 2.102379604162864,\n",
       " 0.4242640687119289,\n",
       " 0.19999999999999973,\n",
       " 0.8544003745317532,\n",
       " 2.319482700948641,\n",
       " 1.044030650891055,\n",
       " 2.209072203437452,\n",
       " 0.9848857801796107,\n",
       " 0.7615773105863911,\n",
       " 1.442220510185596,\n",
       " 0.6000000000000001,\n",
       " 1.341640786499874,\n",
       " 0.8062257748298554]"
      ]
     },
     "execution_count": 12,
     "metadata": {},
     "output_type": "execute_result"
    }
   ],
   "source": [
    "ls=[]\n",
    "for i in range(15):\n",
    "    v1=((x[i]-sl)**2)\n",
    "    v2=((y[i]-sw)**2)\n",
    "    d=math.sqrt(v1+v2)\n",
    "    ls.append(d)\n",
    "    #print(d)   \n",
    "\n",
    "ls    "
   ]
  },
  {
   "cell_type": "code",
   "execution_count": 13,
   "id": "57cc2019",
   "metadata": {},
   "outputs": [
    {
     "data": {
      "text/plain": [
       "15"
      ]
     },
     "execution_count": 13,
     "metadata": {},
     "output_type": "execute_result"
    }
   ],
   "source": [
    "ls\n",
    "len(ls)"
   ]
  },
  {
   "cell_type": "code",
   "execution_count": 14,
   "id": "fe87de71",
   "metadata": {},
   "outputs": [
    {
     "name": "stdout",
     "output_type": "stream",
     "text": [
      "Verscicolor\n",
      "14\n"
     ]
    }
   ],
   "source": [
    "for i in range(n):\n",
    "    ls[i]==0.2236\n",
    "\n",
    "print(z[i])    \n",
    "print(i)   "
   ]
  },
  {
   "cell_type": "code",
   "execution_count": 15,
   "id": "fa3d3858",
   "metadata": {},
   "outputs": [],
   "source": [
    "pair=zip(z,ls)"
   ]
  },
  {
   "cell_type": "code",
   "execution_count": 16,
   "id": "3db677a0",
   "metadata": {},
   "outputs": [
    {
     "name": "stdout",
     "output_type": "stream",
     "text": [
      "[('Setosa', 0.19999999999999973), ('Setosa', 0.4242640687119289), ('Verscicolor', 0.6000000000000001), ('Setosa', 0.632455532033676), ('Setosa', 0.6999999999999997)]\n"
     ]
    }
   ],
   "source": [
    "from operator import itemgetter\n",
    "from heapq import nsmallest\n",
    "\n",
    "result = nsmallest(5, pair, key=itemgetter(1))\n",
    "print(result)"
   ]
  },
  {
   "cell_type": "code",
   "execution_count": 17,
   "id": "e19a9c4e",
   "metadata": {},
   "outputs": [],
   "source": [
    "def Extract(lst):\n",
    "    return list(list(zip(*lst))[0])"
   ]
  },
  {
   "cell_type": "code",
   "execution_count": 18,
   "id": "fdc5e46b",
   "metadata": {},
   "outputs": [
    {
     "data": {
      "text/plain": [
       "['Setosa', 'Setosa', 'Verscicolor', 'Setosa', 'Setosa']"
      ]
     },
     "execution_count": 18,
     "metadata": {},
     "output_type": "execute_result"
    }
   ],
   "source": [
    "k=[]\n",
    "k=Extract(result)\n",
    "k"
   ]
  },
  {
   "cell_type": "code",
   "execution_count": 19,
   "id": "a45ce01d",
   "metadata": {},
   "outputs": [],
   "source": [
    "s=0\n",
    "vir=0\n",
    "ver=0\n",
    "ll=len(k)\n",
    "for i in range(ll):\n",
    "    if k[i]=='Setosa':\n",
    "        s+=1\n",
    "    elif k[i]==\"Virginica\":\n",
    "        vir+=1\n",
    "    elif k[i]==\"Verscicolor\":\n",
    "        ver+=1"
   ]
  },
  {
   "cell_type": "code",
   "execution_count": 20,
   "id": "bb210d68",
   "metadata": {},
   "outputs": [
    {
     "data": {
      "text/plain": [
       "4"
      ]
     },
     "execution_count": 20,
     "metadata": {},
     "output_type": "execute_result"
    }
   ],
   "source": [
    "p=max(s,vir,ver)\n",
    "p"
   ]
  },
  {
   "cell_type": "code",
   "execution_count": 21,
   "id": "2ea976d3",
   "metadata": {},
   "outputs": [
    {
     "name": "stdout",
     "output_type": "stream",
     "text": [
      "Belongs to Setosa\n"
     ]
    }
   ],
   "source": [
    "if s>vir:\n",
    "    if s>vir:\n",
    "        print(\"Belongs to Setosa\")\n",
    "    else:\n",
    "        print(\"Belongs to Virginica\")\n",
    "else:\n",
    "    if vir>ver:\n",
    "        print(\"Belongs to Virginica\")\n",
    "    else:\n",
    "        print(\"Belongs to Verscicolor\")"
   ]
  }
 ],
 "metadata": {
  "kernelspec": {
   "display_name": "Python 3",
   "language": "python",
   "name": "python3"
  },
  "language_info": {
   "codemirror_mode": {
    "name": "ipython",
    "version": 3
   },
   "file_extension": ".py",
   "mimetype": "text/x-python",
   "name": "python",
   "nbconvert_exporter": "python",
   "pygments_lexer": "ipython3",
   "version": "3.8.8"
  }
 },
 "nbformat": 4,
 "nbformat_minor": 5
}
