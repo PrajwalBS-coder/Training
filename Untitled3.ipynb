{
 "cells": [
  {
   "cell_type": "code",
   "execution_count": 10,
   "id": "560c4f9f",
   "metadata": {},
   "outputs": [
    {
     "name": "stdout",
     "output_type": "stream",
     "text": [
      "-203256416\n",
      "861256\n",
      "83.66583685284056 -71753662.98453005\n",
      "Enter the new head size44\n",
      "71749.98168770852\n"
     ]
    }
   ],
   "source": [
    "import pandas as pd\n",
    "import numpy as np\n",
    "data = pd.read_csv('C:/Users/Prajwal Amin/Desktop/MCA/3RD SEM/AI & ML/LAB/headbrain.csv')\n",
    "\n",
    "x = data['Head Size(cm^3)'].tolist()\n",
    "y = data['Brain Weight(grams)'].tolist()\n",
    "\n",
    "xt = 0\n",
    "yt = 0\n",
    "for i, j in zip(x,y):\n",
    "    xt = xt+i\n",
    "    yt = yt+j\n",
    "xneg = []\n",
    "xnegsq = []\n",
    "yneg = []\n",
    "for i, j in zip(x,y):\n",
    "     xneg.append(i-xt)\n",
    "     xnegsq.append((i-xt)*(i-xt))\n",
    "     yneg.append(j-yt)\n",
    "\n",
    "sumxneg = 0 \n",
    "sumyneg = 0\n",
    "sumxnegsq = 0\n",
    "for i, j, k in zip(xneg, yneg, xnegsq):\n",
    "    sumxneg = sumxneg+i\n",
    "    sumyneg = sumyneg+j\n",
    "    sumxnegsq = sumxnegsq+k\n",
    "print(sumxneg)    \n",
    "m = (sumxneg*sumyneg)/sumxnegsq\n",
    "print(xt)\n",
    "c = yt - (m*xt)\n",
    "print(m,c)\n",
    "ypred = []\n",
    "for i in x:\n",
    "    res = (m*i)+ c\n",
    "    ypred.append(res)\n",
    "# ypred\n",
    "\n",
    "cal = int(input(\"Enter the new head size\"))\n",
    "res = (m*cal)+ c\n",
    "print(abs(res/1000))"
   ]
  },
  {
   "cell_type": "code",
   "execution_count": null,
   "id": "67337c99",
   "metadata": {},
   "outputs": [],
   "source": []
  },
  {
   "cell_type": "code",
   "execution_count": null,
   "id": "f0615b32",
   "metadata": {},
   "outputs": [],
   "source": []
  }
 ],
 "metadata": {
  "kernelspec": {
   "display_name": "Python 3",
   "language": "python",
   "name": "python3"
  },
  "language_info": {
   "codemirror_mode": {
    "name": "ipython",
    "version": 3
   },
   "file_extension": ".py",
   "mimetype": "text/x-python",
   "name": "python",
   "nbconvert_exporter": "python",
   "pygments_lexer": "ipython3",
   "version": "3.8.8"
  }
 },
 "nbformat": 4,
 "nbformat_minor": 5
}
