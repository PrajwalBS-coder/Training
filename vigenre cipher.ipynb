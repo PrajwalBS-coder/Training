{
 "cells": [
  {
   "cell_type": "code",
   "execution_count": 1,
   "id": "ccc43b1a",
   "metadata": {},
   "outputs": [
    {
     "data": {
      "image/png": "[encoded data removed]",
      "text/plain": [
       "<Figure size 432x288 with 1 Axes>"
      ]
     },
     "metadata": {
      "needs_background": "light"
     },
     "output_type": "display_data"
    },
    {
     "name": "stdout",
     "output_type": "stream",
     "text": [
      "3.749271303710821\n"
     ]
    }
   ],
   "source": [
    "import numpy as np\n",
    "import matplotlib.pyplot as plt\n",
    "import pandas as pd\n",
    "\n",
    "\n",
    "np.random.seed(0)\n",
    "x = 2 - 3 * np.random.normal(0, 1, 20)\n",
    "y = x - 2 * (x * 2) + 0.5 * (x * 3) + np.random.normal(-3, 3, 20)\n",
    "\n",
    "plt.scatter(x,y, s=10)\n",
    "plt.show()\n",
    "x1=[1]*len(x)\n",
    "x2 =[]\n",
    "for i in x:\n",
    "    x2.append(i**2)\n",
    "xx = []\n",
    "xx=pd.DataFrame(xx)\n",
    "xx.insert(0,\"b1\",x1)\n",
    "xx.insert(1,\"b2\",x)\n",
    "xx.insert(2,\"b3\",x2)\n",
    "xt=xx.transpose()\n",
    "xtx=xt.dot(xx)\n",
    "xtxin=np.linalg.inv(xtx)\n",
    "xty=xt.dot(y)\n",
    "bhat=xtxin.dot(xty)\n",
    "y=bhat[0]+bhat[1]-3.29216+bhat[2]-3.29216*-3.29216\n",
    "print(y)"
   ]
  },
  {
   "cell_type": "code",
   "execution_count": 2,
   "id": "449e1ba5",
   "metadata": {},
   "outputs": [
    {
     "name": "stdout",
     "output_type": "stream",
     "text": [
      "Ciphertext : GCYCZFMLYLEIM\n",
      "Original/Decrypted Text : GEEKSFORGEEKS\n"
     ]
    }
   ],
   "source": [
    "# Python code to implement\n",
    "# Vigenere Cipher\n",
    "\n",
    "# This function generates the\n",
    "# key in a cyclic manner until\n",
    "# it's length isn't equal to\n",
    "# the length of original text\n",
    "def generateKey(string, key):\n",
    "\tkey = list(key)\n",
    "\tif len(string) == len(key):\n",
    "\t\treturn(key)\n",
    "\telse:\n",
    "\t\tfor i in range(len(string) -\n",
    "\t\t\t\t\tlen(key)):\n",
    "\t\t\tkey.append(key[i % len(key)])\n",
    "\treturn(\"\" . join(key))\n",
    "\t\n",
    "# This function returns the\n",
    "# encrypted text generated\n",
    "# with the help of the key\n",
    "def cipherText(string, key):\n",
    "\tcipher_text = []\n",
    "\tfor i in range(len(string)):\n",
    "\t\tx = (ord(string[i]) +\n",
    "\t\t\tord(key[i])) % 26\n",
    "\t\tx += ord('A')\n",
    "\t\tcipher_text.append(chr(x))\n",
    "\treturn(\"\" . join(cipher_text))\n",
    "\t\n",
    "# This function decrypts the\n",
    "# encrypted text and returns\n",
    "# the original text\n",
    "def originalText(cipher_text, key):\n",
    "\torig_text = []\n",
    "\tfor i in range(len(cipher_text)):\n",
    "\t\tx = (ord(cipher_text[i]) -\n",
    "\t\t\tord(key[i]) + 26) % 26\n",
    "\t\tx += ord('A')\n",
    "\t\torig_text.append(chr(x))\n",
    "\treturn(\"\" . join(orig_text))\n",
    "\t\n",
    "# Driver code\n",
    "if __name__ == \"__main__\":\n",
    "\tstring = \"GEEKSFORGEEKS\"\n",
    "\tkeyword = \"AYUSH\"\n",
    "\tkey = generateKey(string, keyword)\n",
    "\tcipher_text = cipherText(string,key)\n",
    "\tprint(\"Ciphertext :\", cipher_text)\n",
    "\tprint(\"Original/Decrypted Text :\",\n",
    "\t\toriginalText(cipher_text, key))\n",
    "\n",
    "# This code is contributed\n",
    "# by Pratik Somwanshi\n"
   ]
  },
  {
   "cell_type": "code",
   "execution_count": 3,
   "id": "ed7441a4",
   "metadata": {},
   "outputs": [
    {
     "name": "stdout",
     "output_type": "stream",
     "text": [
      "32749607.546157464\n"
     ]
    }
   ],
   "source": [
    "import numpy as np\n",
    "import matplotlib.pyplot as plt\n",
    "import pandas as pd\n",
    "\n",
    "x1=[1,2,3,4,5]\n",
    "y=np.array([100,200,300,400,500])\n",
    "x0=[1]*len(x1)\n",
    "x=[]\n",
    "for i in x0:\n",
    "    x.append(i)\n",
    "for i in x1:\n",
    "    x.append(i)\n",
    "for i in x1:\n",
    "    x.append(i*i)\n",
    "xx=np.array(x)\n",
    "x=xx.reshape(len(x1),3)\n",
    "xtrans = x.T\n",
    "xtransmul = np.dot(xtrans,x)\n",
    "xinverse = np.linalg.inv(xtransmul)\n",
    "xtymul = xtrans.dot(y)\n",
    "bhat = xtransmul.dot(xtymul)\n",
    "y=bhat[0]+bhat[1]-3.29216+bhat[2]-3.29216*-3.29216\n",
    "print(y)"
   ]
  },
  {
   "cell_type": "code",
   "execution_count": 4,
   "id": "bfb8ff03",
   "metadata": {},
   "outputs": [
    {
     "name": "stdout",
     "output_type": "stream",
     "text": [
      "AMIN\n",
      "Ciphertext : AKCF\n",
      "Original/Decrypted Text : AMIN\n"
     ]
    }
   ],
   "source": [
    "# Python code to implement\n",
    "# Vigenere Cipher\n",
    "\n",
    "# This function generates the\n",
    "# key in a cyclic manner until\n",
    "# it's length isn't equal to\n",
    "# the length of original text\n",
    "def generateKey(string, key):\n",
    "\tkey = list(key)\n",
    "\tif len(string) == len(key):\n",
    "\t\treturn(key)\n",
    "\telse:\n",
    "\t\tfor i in range(len(string) -\n",
    "\t\t\t\t\tlen(key)):\n",
    "\t\t\tkey.append(key[i % len(key)])\n",
    "\treturn(\"\" . join(key))\n",
    "\t\n",
    "# This function returns the\n",
    "# encrypted text generated\n",
    "# with the help of the key\n",
    "def cipherText(string, key):\n",
    "\tcipher_text = []\n",
    "\tfor i in range(len(string)):\n",
    "\t\tx = (ord(string[i]) +\n",
    "\t\t\tord(key[i])) % 26\n",
    "\t\tx += ord('A')\n",
    "\t\tcipher_text.append(chr(x))\n",
    "\treturn(\"\" . join(cipher_text))\n",
    "\t\n",
    "# This function decrypts the\n",
    "# encrypted text and returns\n",
    "# the original text\n",
    "def originalText(cipher_text, key):\n",
    "\torig_text = []\n",
    "\tfor i in range(len(cipher_text)):\n",
    "\t\tx = (ord(cipher_text[i]) -\n",
    "\t\t\tord(key[i]) + 26) % 26\n",
    "\t\tx += ord('A')\n",
    "\t\torig_text.append(chr(x))\n",
    "\treturn(\"\" . join(orig_text))\n",
    "\t\n",
    "# Driver code\n",
    "if __name__ == \"__main__\":\n",
    "\tstring = input()\n",
    "\tkeyword = \"AYUSH\"\n",
    "\tkey = generateKey(string, keyword)\n",
    "\tcipher_text = cipherText(string,key)\n",
    "\tprint(\"Ciphertext :\", cipher_text)\n",
    "\tprint(\"Original/Decrypted Text :\",\n",
    "\t\toriginalText(cipher_text, key))\n",
    "\n",
    "# This code is contributed\n",
    "# by Pratik Somwanshi\n"
   ]
  },
  {
   "cell_type": "code",
   "execution_count": null,
   "id": "60d07d89",
   "metadata": {},
   "outputs": [],
   "source": []
  }
 ],
 "metadata": {
  "kernelspec": {
   "display_name": "Python 3",
   "language": "python",
   "name": "python3"
  },
  "language_info": {
   "codemirror_mode": {
    "name": "ipython",
    "version": 3
   },
   "file_extension": ".py",
   "mimetype": "text/x-python",
   "name": "python",
   "nbconvert_exporter": "python",
   "pygments_lexer": "ipython3",
   "version": "3.8.8"
  }
 },
 "nbformat": 4,
 "nbformat_minor": 5
}
