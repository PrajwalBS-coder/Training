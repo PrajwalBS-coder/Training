{
 "cells": [
  {
   "cell_type": "code",
   "execution_count": 5,
   "id": "c0208115",
   "metadata": {},
   "outputs": [
    {
     "name": "stdout",
     "output_type": "stream",
     "text": [
      "[[ 1 30 63 33]\n",
      " [ 1 45 47 52]\n",
      " [ 1 68 67 62]\n",
      " [ 1 46 83 42]\n",
      " [ 1 66 84 42]\n",
      " [ 1 36 50 66]]\n",
      "[[ 1  1  1  1  1  1]\n",
      " [30 45 68 46 66 36]\n",
      " [63 47 67 83 84 50]\n",
      " [33 52 62 42 42 66]]\n"
     ]
    },
    {
     "data": {
      "text/plain": [
       "array([38.8730967 ,  1.06294938, -0.15180574, -0.40655013])"
      ]
     },
     "execution_count": 5,
     "metadata": {},
     "output_type": "execute_result"
    }
   ],
   "source": [
    "import pandas as pd\n",
    "import numpy as np\n",
    "\n",
    "data = pd.read_csv('C:/Users/Prajwal Amin/Desktop/MCA/3RD SEM/AI & ML/LAB/MyData.csv')\n",
    "x1 = data['X1'].tolist()\n",
    "x1\n",
    "x2=data['X2'].tolist()\n",
    "x2\n",
    "x3 = data['X3'].tolist()\n",
    "x3\n",
    "y=data['Y'].tolist()\n",
    "y\n",
    "x = [1]*len(x1)\n",
    "x=np.transpose([x,x1,x2,x3])\n",
    "print(x)\n",
    "xt=np.transpose(x)\n",
    "x\n",
    "print(xt)\n",
    "xtx=np.dot(xt,x)\n",
    "xtx\n",
    "xtxi=np.linalg.inv(xtx)\n",
    "xtxi\n",
    "xty=np.dot(xt,y)\n",
    "xty\n",
    "bh=np.dot(xtxi,xty)\n",
    "bh"
   ]
  },
  {
   "cell_type": "code",
   "execution_count": 3,
   "id": "6bfcd71a",
   "metadata": {},
   "outputs": [
    {
     "name": "stdout",
     "output_type": "stream",
     "text": [
      "[[ 1 30 63 33]\n",
      " [ 1 45 47 52]\n",
      " [ 1 68 67 62]\n",
      " [ 1 46 83 42]\n",
      " [ 1 66 84 42]\n",
      " [ 1 36 50 66]]\n",
      "[[ 1  1  1  1  1  1]\n",
      " [30 45 68 46 66 36]\n",
      " [63 47 67 83 84 50]\n",
      " [33 52 62 42 42 66]]\n"
     ]
    },
    {
     "data": {
      "text/plain": [
       "48.87015369722906"
      ]
     },
     "execution_count": 3,
     "metadata": {},
     "output_type": "execute_result"
    }
   ],
   "source": [
    "import pandas as pd\n",
    "import numpy as np\n",
    "\n",
    "data = pd.read_csv('C:/Users/Prajwal Amin/Desktop/MCA/3RD SEM/AI & ML/LAB/MyData.csv')\n",
    "x1 = data['X1'].tolist()\n",
    "x2 = data['X2'].tolist()\n",
    "x3 = data['X3'].tolist()\n",
    "\n",
    "y = data['Y'].tolist()\n",
    "\n",
    "x = [1]*len(x1)\n",
    "\n",
    "x=np.transpose([x,x1,x2,x3])\n",
    "xt = np.transpose(x)\n",
    "print(x)\n",
    "print(xt)\n",
    "xtx = np.dot(xt,x)\n",
    "\n",
    "xtxi=np.linalg.inv(xtx)\n",
    "\n",
    "xty = np.dot(xt,y)\n",
    "\n",
    "bh = np.dot(xtxi,xty)\n",
    "\n",
    "yp = bh[0]+bh[1]*50+bh[2]*70+bh[3]*80\n",
    "yp"
   ]
  },
  {
   "cell_type": "code",
   "execution_count": 22,
   "id": "31e8c29f",
   "metadata": {},
   "outputs": [
    {
     "name": "stdout",
     "output_type": "stream",
     "text": [
      "    B0           Y         X         X2\n",
      "0    1  -53.468412 -3.292157  10.838298\n",
      "1    1   -1.262560  0.799528   0.639246\n",
      "2    1   -3.506193 -0.936214   0.876497\n",
      "3    1 -107.223200 -4.722680  22.303703\n",
      "4    1  -49.131950 -3.602674  12.979260\n",
      "5    1    8.901224  4.931834  24.322983\n",
      "6    1   -5.466242 -0.850265   0.722951\n",
      "7    1   -5.762632  2.454072   6.022468\n",
      "8    1   -0.600586  2.309657   5.334513\n",
      "9    1    1.222678  0.768204   0.590138\n",
      "10   1   -3.956637  1.567869   2.458214\n",
      "11   1  -21.989895 -2.362821   5.582921\n",
      "12   1   -6.118123 -0.283113   0.080153\n",
      "13   1  -10.468440  1.634975   2.673143\n",
      "14   1   -4.119557  0.668410   0.446772\n",
      "15   1   -3.029419  0.998977   0.997955\n",
      "16   1  -21.761523 -2.482237   6.161502\n",
      "17   1   -1.512952  2.615475   6.840708\n",
      "18   1   -4.754912  1.060797   1.125290\n",
      "19   1    6.507233  4.562287  20.814465\n",
      "[[  20.            5.83992442  131.8111788 ]\n",
      " [   5.83992442  131.8111788    53.87063017]\n",
      " [ 131.8111788    53.87063017 2006.59455998]]\n",
      "[-6.11973959  8.48492679 -1.62853134]\n"
     ]
    },
    {
     "data": {
      "image/png": "[encoded data removed]",
      "text/plain": [
       "<Figure size 432x288 with 1 Axes>"
      ]
     },
     "metadata": {
      "needs_background": "light"
     },
     "output_type": "display_data"
    },
    {
     "name": "stdout",
     "output_type": "stream",
     "text": [
      "Root Mean Square Error is\n",
      " 0     45.758538\n",
      "1     29.939140\n",
      "2     26.488588\n",
      "3     73.097580\n",
      "4     50.875530\n",
      "5     28.468559\n",
      "6     26.465431\n",
      "7     32.737460\n",
      "8     32.675766\n",
      "9     29.852716\n",
      "10    31.758314\n",
      "11    33.713229\n",
      "12    27.076725\n",
      "13    31.880100\n",
      "14    29.573961\n",
      "15    30.473006\n",
      "16    34.958345\n",
      "17    32.759231\n",
      "18    30.631474\n",
      "19    29.516097\n",
      "dtype: float64\n",
      "R2 Score\n",
      " 0    -1.989495\n",
      "1    -0.279771\n",
      "2    -0.001777\n",
      "3    -6.628859\n",
      "4    -2.695485\n",
      "5    -0.157136\n",
      "6    -0.000027\n",
      "7    -0.530184\n",
      "8    -0.524422\n",
      "9    -0.272393\n",
      "10   -0.440020\n",
      "11   -0.622760\n",
      "12   -0.046757\n",
      "13   -0.451085\n",
      "14   -0.248742\n",
      "15   -0.325819\n",
      "16   -0.744839\n",
      "17   -0.532220\n",
      "18   -0.339644\n",
      "19   -0.243860\n",
      "dtype: float64\n",
      "Enter the value of X:1.22\n",
      "1.8079650368123326\n"
     ]
    }
   ],
   "source": [
    "import numpy as np\n",
    "import matplotlib.pyplot as plt\n",
    "import pandas as pd\n",
    "\n",
    "np.random.seed(0)\n",
    "x = 2 - 3 * np.random.normal(0, 1, 20)\n",
    "y = x - 2 * (x ** 2) + 0.5 * (x ** 3) + np.random.normal(-3, 3, 20)\n",
    "y_pred=[]\n",
    "\n",
    "df = pd.DataFrame({'Y':y,'X':x})\n",
    "df.insert(0,'B0',1)\n",
    "df.insert(3,'X2',x*x)\n",
    "print(df)\n",
    "\n",
    "X=df.drop('Y',axis=1)\n",
    "X=X.values\n",
    "y=df['Y']\n",
    "y=y.values\n",
    "\n",
    "xt = X.T\n",
    "xtx = np.dot(xt,X)\n",
    "print(xtx)\n",
    "xtxinv = np.linalg.inv(xtx)\n",
    "xty = np.dot(xt,y)\n",
    "bhat = np.dot(xtxinv,xty)\n",
    "print(bhat)\n",
    "\n",
    "n = len(x)\n",
    "\n",
    "plt.scatter(df['X'],y, s=10)\n",
    "plt.scatter(df['X2'],y, s=10)\n",
    "plt.show()\n",
    "\n",
    "rmse = 0\n",
    "for i in range(n):\n",
    "    y_pred = bhat[0]+bhat[1]*df['X']+bhat[2]*df['X2']\n",
    "    rmse += (y[i] - y_pred) ** 2\n",
    "    \n",
    "rmse = np.sqrt(rmse/n)\n",
    "print(\"Root Mean Square Error is\\n\",rmse)\n",
    "\n",
    "mean_y=np.mean(y)\n",
    "ss_tot = 0\n",
    "ss_res = 0\n",
    "for i in range(n):\n",
    "    y_pred = bhat[0]+bhat[1]*df['X']+bhat[2]*df['X2']\n",
    "    ss_tot += (y[i] - mean_y) ** 2\n",
    "    ss_res += (y[i] - y_pred) ** 2\n",
    "r2 = 1 - (ss_res/ss_tot)\n",
    "print(\"R2 Score\\n\",r2)\n",
    "\n",
    "x_new=float(input(\"Enter the value of X:\"))\n",
    "print(bhat[0]+bhat[1]*x_new+bhat[2]*(x_new**2))"
   ]
  },
  {
   "cell_type": "code",
   "execution_count": 11,
   "id": "add863ab",
   "metadata": {},
   "outputs": [],
   "source": [
    "import numpy as np\n",
    "import matplotlib.pyplot as plt\n",
    "\n",
    "np.random.seed(0)\n",
    "x = 2 - 3 * np.random.normal(0, 1, 20)\n",
    "y = x - 2 * (x ** 2) + 0.5 * (x ** 3) + np.random.normal(-3, 3, 20)\n",
    "#plt.scatter(x,y, s=5)\n",
    "#plt.show()"
   ]
  },
  {
   "cell_type": "code",
   "execution_count": 12,
   "id": "987b897c",
   "metadata": {},
   "outputs": [
    {
     "name": "stdout",
     "output_type": "stream",
     "text": [
      "    B0           Y         X         X2\n",
      "0    1  -53.468412 -3.292157  10.838298\n",
      "1    1   -1.262560  0.799528   0.639246\n",
      "2    1   -3.506193 -0.936214   0.876497\n",
      "3    1 -107.223200 -4.722680  22.303703\n",
      "4    1  -49.131950 -3.602674  12.979260\n",
      "5    1    8.901224  4.931834  24.322983\n",
      "6    1   -5.466242 -0.850265   0.722951\n",
      "7    1   -5.762632  2.454072   6.022468\n",
      "8    1   -0.600586  2.309657   5.334513\n",
      "9    1    1.222678  0.768204   0.590138\n",
      "10   1   -3.956637  1.567869   2.458214\n",
      "11   1  -21.989895 -2.362821   5.582921\n",
      "12   1   -6.118123 -0.283113   0.080153\n",
      "13   1  -10.468440  1.634975   2.673143\n",
      "14   1   -4.119557  0.668410   0.446772\n",
      "15   1   -3.029419  0.998977   0.997955\n",
      "16   1  -21.761523 -2.482237   6.161502\n",
      "17   1   -1.512952  2.615475   6.840708\n",
      "18   1   -4.754912  1.060797   1.125290\n",
      "19   1    6.507233  4.562287  20.814465\n"
     ]
    }
   ],
   "source": [
    "df = pd.DataFrame({'Y':y,'X':x})\n",
    "df.insert(0,'B0',1)\n",
    "df.insert(3,'X2',x*x)\n",
    "print(df)"
   ]
  },
  {
   "cell_type": "code",
   "execution_count": 28,
   "id": "5037de0c",
   "metadata": {},
   "outputs": [],
   "source": [
    "X=df.drop('Y',axis=1)\n",
    "X=X.values\n",
    "y=df['Y']\n",
    "y=y.values"
   ]
  },
  {
   "cell_type": "code",
   "execution_count": 29,
   "id": "f41ee176",
   "metadata": {},
   "outputs": [
    {
     "data": {
      "text/plain": [
       "array([[ 1.        ,  1.        ,  1.        ,  1.        ,  1.        ,\n",
       "         1.        ,  1.        ,  1.        ,  1.        ,  1.        ,\n",
       "         1.        ,  1.        ,  1.        ,  1.        ,  1.        ,\n",
       "         1.        ,  1.        ,  1.        ,  1.        ,  1.        ],\n",
       "       [-3.29215704,  0.79952837, -0.93621395, -4.7226796 , -3.60267397,\n",
       "         4.93183364, -0.85026525,  2.45407162,  2.30965656,  0.76820449,\n",
       "         1.56786929, -2.36282052, -0.28311318,  1.63497495,  0.6684103 ,\n",
       "         0.99897702, -2.48223722,  2.61547479,  1.0607969 ,  4.56228722],\n",
       "       [10.83829796,  0.63924562,  0.87649656, 22.30370258, 12.97925974,\n",
       "        24.32298305,  0.722951  ,  6.02246754,  5.3345134 ,  0.59013814,\n",
       "         2.4582141 ,  5.58292081,  0.08015307,  2.67314309,  0.44677233,\n",
       "         0.99795508,  6.16150161,  6.84070838,  1.12529005, 20.81446466]])"
      ]
     },
     "execution_count": 29,
     "metadata": {},
     "output_type": "execute_result"
    }
   ],
   "source": [
    "xt = X.T\n",
    "xt"
   ]
  },
  {
   "cell_type": "code",
   "execution_count": 30,
   "id": "31b6c5d3",
   "metadata": {},
   "outputs": [
    {
     "data": {
      "text/plain": [
       "array([[  20.        ,    5.83992442,  131.8111788 ],\n",
       "       [   5.83992442,  131.8111788 ,   53.87063017],\n",
       "       [ 131.8111788 ,   53.87063017, 2006.59455998]])"
      ]
     },
     "execution_count": 30,
     "metadata": {},
     "output_type": "execute_result"
    }
   ],
   "source": [
    "xtx = np.dot(xt,X)\n",
    "xtx"
   ]
  },
  {
   "cell_type": "code",
   "execution_count": 31,
   "id": "eaa1b8ef",
   "metadata": {},
   "outputs": [
    {
     "data": {
      "text/plain": [
       "array([[ 0.08848904, -0.00156202, -0.00577082],\n",
       "       [-0.00156202,  0.00769835, -0.00010407],\n",
       "       [-0.00577082, -0.00010407,  0.00088023]])"
      ]
     },
     "execution_count": 31,
     "metadata": {},
     "output_type": "execute_result"
    }
   ],
   "source": [
    "xtxinv = np.linalg.inv(xtx)\n",
    "xtxinv"
   ]
  },
  {
   "cell_type": "code",
   "execution_count": 32,
   "id": "a4662098",
   "metadata": {},
   "outputs": [
    {
     "data": {
      "text/plain": [
       "array([ -287.50209689,   994.93937573, -3617.36387279])"
      ]
     },
     "execution_count": 32,
     "metadata": {},
     "output_type": "execute_result"
    }
   ],
   "source": [
    "xty = np.dot(xt,y)\n",
    "xty"
   ]
  },
  {
   "cell_type": "code",
   "execution_count": 35,
   "id": "b8113d37",
   "metadata": {},
   "outputs": [
    {
     "data": {
      "text/plain": [
       "array([-6.11973959,  8.48492679, -1.62853134])"
      ]
     },
     "execution_count": 35,
     "metadata": {},
     "output_type": "execute_result"
    }
   ],
   "source": [
    "bh = np.dot(xtxinv,xty)\n",
    "bh"
   ]
  },
  {
   "cell_type": "code",
   "execution_count": 36,
   "id": "e169dc05",
   "metadata": {},
   "outputs": [
    {
     "data": {
      "text/plain": [
       "20"
      ]
     },
     "execution_count": 36,
     "metadata": {},
     "output_type": "execute_result"
    }
   ],
   "source": [
    "n = len(x)\n",
    "n"
   ]
  },
  {
   "cell_type": "code",
   "execution_count": 40,
   "id": "cf4d931a",
   "metadata": {},
   "outputs": [
    {
     "name": "stdout",
     "output_type": "stream",
     "text": [
      "0      15570.937543\n",
      "1      18924.347465\n",
      "2      14036.242731\n",
      "3      15817.770289\n",
      "4      15750.404898\n",
      "5     124788.417303\n",
      "6      14070.233787\n",
      "7      38648.841505\n",
      "8      36035.740931\n",
      "9      18728.850865\n",
      "10     25544.176199\n",
      "11     14779.308638\n",
      "12     14712.095102\n",
      "13     26309.950402\n",
      "14     18139.987312\n",
      "15     20294.759544\n",
      "16     14891.058343\n",
      "17     41816.184431\n",
      "18     20765.554699\n",
      "19    105891.940082\n",
      "dtype: float64\n"
     ]
    },
    {
     "data": {
      "text/plain": [
       "0     27.902453\n",
       "1     30.760647\n",
       "2     26.491737\n",
       "3     28.122740\n",
       "4     28.062791\n",
       "5     78.990005\n",
       "6     26.523795\n",
       "7     43.959550\n",
       "8     42.447462\n",
       "9     30.601349\n",
       "10    35.738058\n",
       "11    27.183919\n",
       "12    27.122034\n",
       "13    36.269788\n",
       "14    30.116430\n",
       "15    31.854952\n",
       "16    27.286497\n",
       "17    45.725367\n",
       "18    32.222317\n",
       "19    72.763982\n",
       "dtype: float64"
      ]
     },
     "execution_count": 40,
     "metadata": {},
     "output_type": "execute_result"
    }
   ],
   "source": [
    "rmse=0\n",
    "mse=0\n",
    "for i in range(n):\n",
    "    yp=bh[0]+bh[1]*df['X']+df['X2']\n",
    "    mse+=(y[i]-yp)**2\n",
    "print(mse)\n",
    "rmse=np.sqrt(mse/n)  \n",
    "rmse"
   ]
  },
  {
   "cell_type": "code",
   "execution_count": 5,
   "id": "01df3f17",
   "metadata": {},
   "outputs": [
    {
     "name": "stdout",
     "output_type": "stream",
     "text": [
      "[1, 0, 1]\n",
      "[1 0 1]\n",
      "[3 1 1]\n",
      "[ 3 -1  1]\n",
      "[[ 2  4  4]\n",
      " [ 4 11  9]\n",
      " [ 4  9 11]]\n",
      "[[ 2  4  4]\n",
      " [ 4 11  9]\n",
      " [ 4  9 11]]\n",
      "[[ 36  88  88]\n",
      " [ 88 218 214]\n",
      " [ 88 214 218]]\n",
      "[[ 6.75    -1.375   -1.375  ]\n",
      " [-1.375    0.40625  0.15625]\n",
      " [-1.375    0.15625  0.40625]]\n",
      "[ 6 16 16]\n",
      "[-3.5   0.75  0.75]\n",
      "w is [ 1.  0. -2.]\n",
      "4\n"
     ]
    }
   ],
   "source": [
    "import numpy as np\n",
    "import pandas as pd\n",
    "\n",
    "\n",
    "s1 = [1,0]\n",
    "s2 = [3,1]\n",
    "s3 = [3,-1]\n",
    "\n",
    "s1.append(1)\n",
    "s2.append(1)\n",
    "s3.append(1)\n",
    "\n",
    "print(s1)\n",
    "\n",
    "s1t=np.transpose(s1)\n",
    "s2t=np.transpose(s2)\n",
    "s3t=np.transpose(s3)\n",
    "\n",
    "print(s1t)\n",
    "print(s2t)\n",
    "print(s3t)\n",
    "\n",
    "s1ts1=np.dot(s1t,s1)\n",
    "s1ts2=np.dot(s1t,s2)\n",
    "s1ts3=np.dot(s1t,s3)\n",
    "s2ts1=np.dot(s2t,s1)\n",
    "s2ts2=np.dot(s2t,s2)\n",
    "s2ts3=np.dot(s2t,s3)\n",
    "s3ts1=np.dot(s3t,s1)\n",
    "s3ts2=np.dot(s3t,s2)\n",
    "s3ts3=np.dot(s3t,s3)\n",
    "\n",
    "x=np.array([[s1ts1,s1ts2,s1ts3],[s2ts1,s2ts2,s2ts3],[s3ts1,s3ts2,s3ts3]])\n",
    "\n",
    "print(x)\n",
    "\n",
    "xt=np.transpose(x)\n",
    "print(xt)\n",
    "xtx=np.dot(xt,x)\n",
    "print(xtx)\n",
    "\n",
    "xtxi=np.linalg.inv(xtx)\n",
    "print(xtxi)\n",
    "\n",
    "y=np.array([-1,1,1])\n",
    "xty=np.dot(xt,y)\n",
    "print(xty)\n",
    "\n",
    "bhat=np.dot(xtxi,xty)\n",
    "print(bhat)\n",
    "w=np.array([])\n",
    "w=bhat[0] *s1t+bhat[1]*s2t+bhat[2]*s3t\n",
    "print(\"w is\",w)\n",
    "w=np.array([1,0])\n",
    "p=np.array([4,2])\n",
    "res=np.dot(w,p)\n",
    "print(res)"
   ]
  },
  {
   "cell_type": "code",
   "execution_count": 3,
   "id": "39b2f9d1",
   "metadata": {},
   "outputs": [
    {
     "name": "stdout",
     "output_type": "stream",
     "text": [
      "0.26342933948939945 325.57342104944223\n",
      "[1514.16660083 1310.27229206 1448.04583661 1320.5460363  1425.9177721\n",
      " 1269.96760312 1322.65347102 1263.11844029 1277.34362462 1374.5490509\n",
      " 1232.56063691 1377.44677363 1284.45621679 1434.08408162 1335.03464997\n",
      " 1346.62554091 1246.78582124 1238.61951172 1140.88722677 1490.98481895\n",
      " 1347.15239959 1391.40852862 1327.65862847 1302.89627056 1576.07249561\n",
      " 1490.72138961 1388.77423523 1385.08622448 1235.45835965 1425.39091342\n",
      " 1323.1803297  1325.55119375 1406.42400097 1421.70290266 1420.91261465\n",
      " 1330.29292186 1254.68870143 1312.90658546 1203.84683891 1245.46867455\n",
      " 1369.28046411 1248.89325596 1462.27102095 1327.65862847 1343.2009595\n",
      " 1388.24737655 1460.42701557 1159.32728053 1284.71964613 1285.50993415\n",
      " 1350.576981   1324.76090573 1450.41670067 1395.88682739 1382.45193108\n",
      " 1236.512077   1350.31355166 1423.02004936 1362.16787194 1292.09566764\n",
      " 1343.99124752 1219.38916994 1495.72654706 1445.9384019  1307.37456933\n",
      " 1202.52969221 1225.18461541 1213.85715381 1492.56539499 1479.65735735\n",
      " 1381.39821372 1341.8838128  1411.16572909 1394.30625136 1332.92721526\n",
      " 1219.65259928 1262.85501095 1211.22286041 1360.85072524 1335.82493799\n",
      " 1334.50779129 1341.35695412 1181.45534505 1267.8601684  1361.64101326\n",
      " 1339.77637808 1197.26110542 1222.81375135 1249.1566853  1354.79185043\n",
      " 1421.43947333 1199.63196948 1290.25166226 1352.68441572 1300.26197716\n",
      " 1321.07289498 1240.4635171  1244.94181587 1288.14422754 1241.78066379\n",
      " 1246.25896256 1335.56150865 1346.62554091 1289.98823292 1278.66077132\n",
      " 1286.56365151 1387.72051787 1220.96974597 1357.16271449 1492.56539499\n",
      " 1298.94483046 1253.89841341 1266.27959237 1272.33846717 1216.75487654\n",
      " 1247.31267992 1271.02132048 1352.94784506 1409.32172371 1362.69473062\n",
      " 1220.96974597 1431.9766469  1507.84429668 1277.60705396 1392.72567532\n",
      " 1321.863183   1218.86231126 1148.52667761 1393.252534   1269.1773151\n",
      " 1291.30537962 1256.00584813 1391.40852862 1291.56880896 1078.19104397\n",
      " 1230.71663154 1324.23404705 1195.41710004 1143.25809082 1160.90785657\n",
      " 1266.54302171 1255.47898945 1161.96157393 1231.24349021 1353.73813308\n",
      " 1352.68441572 1221.49660465 1186.19707316 1234.66807163 1139.57008007\n",
      " 1224.65775673 1200.94911617 1294.99339037 1231.50691955 1340.5666661\n",
      " 1156.95641648 1189.35822524 1302.10598254 1380.87135504 1186.72393184\n",
      " 1134.56492262 1321.07289498 1260.22071756 1192.78280665 1246.78582124\n",
      " 1137.46264536 1181.19191571 1210.16914305 1327.39519913 1264.96244567\n",
      " 1154.05869374 1248.36639728 1266.27959237 1306.58428131 1277.8704833\n",
      " 1169.33759543 1276.28990727 1263.64529897 1373.75876288 1256.26927747\n",
      " 1297.36425443 1157.48327516 1380.6079257  1163.54214997 1242.04409313\n",
      " 1284.98307547 1282.34878207 1134.03806394 1219.65259928 1301.05226518\n",
      " 1159.32728053 1209.1154257  1115.86143952 1296.83739575 1262.32815227\n",
      " 1056.06297945 1131.14034121 1206.4811323  1245.73210389 1194.09995335\n",
      " 1210.69600173 1175.92332892 1188.83136656 1340.03980742 1133.51120526\n",
      " 1298.15454244 1221.76003399 1377.97363231 1199.63196948 1042.10122446\n",
      " 1099.26539113 1268.65045642 1099.79224981 1112.96371678 1270.23103246\n",
      " 1156.95641648 1180.66505703 1160.64442723 1186.4605025  1218.33545258\n",
      " 1216.22801786 1080.03504935 1310.79915074 1242.04409313 1286.30022217\n",
      " 1304.47684659 1190.67537193 1433.03036426 1309.48200404 1173.28903553\n",
      " 1296.31053707 1301.31569452 1172.23531817 1219.65259928 1177.24047562\n",
      " 1208.58856702 1218.86231126]\n",
      "Enter the new Price\n",
      "1452\n",
      "708.0728219880502\n"
     ]
    },
    {
     "data": {
      "image/png": "[encoded data removed]",
      "text/plain": [
       "<Figure size 720x360 with 1 Axes>"
      ]
     },
     "metadata": {
      "needs_background": "light"
     },
     "output_type": "display_data"
    },
    {
     "name": "stdout",
     "output_type": "stream",
     "text": [
      "1232728.0146365522\n",
      "Root Mean Square Error is 72.1206213783709\n",
      "R2 Score 0.6393117199570003\n"
     ]
    }
   ],
   "source": [
    "# -*- coding: utf-8 -*-\n",
    "\"\"\"\n",
    "Created on Wed Nov 10 07:51:54 2021\n",
    "\n",
    "@author: NITTE Admin\n",
    "\"\"\"\n",
    "\n",
    "import numpy as np\n",
    "import pandas as pd\n",
    "import matplotlib.pyplot as plt\n",
    "\n",
    "plt.rcParams['figure.figsize']=(20.0,10.0)\n",
    "df=pd.read_csv('C:/Users/Prajwal Amin/Desktop/MCA/3RD SEM/AI & ML/LAB/headbrain.csv')\n",
    "\n",
    "df.head()\n",
    "X=df['Head Size(cm^3)'].values\n",
    "Y = df['Brain Weight(grams)'].values\n",
    "mean_x=np.mean(X)\n",
    "mean_y=np.mean(Y)\n",
    "n=len(X)\n",
    "numer=0\n",
    "denom=0\n",
    "for i in range(n):\n",
    "    numer+=(X[i]-mean_x)*(Y[i]-mean_y)\n",
    "    denom+=(X[i]-mean_x)**2\n",
    "m=numer/denom\n",
    "c=mean_y-(m*mean_x)\n",
    "print(m,c)\n",
    "\n",
    "%matplotlib inline\n",
    "\n",
    "plt.rcParams['figure.figsize'] = (10.0, 5.0)\n",
    "# max_x = np.max(X) + 100\n",
    "# min_x = np.min(X) - 100\n",
    "\n",
    "y = m * X + c\n",
    "print(y)\n",
    "\n",
    "X_i = int(input(\"Enter the new Price\\n\"))\n",
    "Y_n = m*X_i+c\n",
    "print(Y_n)\n",
    "# Ploting Line\n",
    "plt.plot(X, y, color='blue', label='Regression Line')\n",
    "# Ploting Scatter Points\n",
    "plt.scatter(X, Y, c='green', label='Scatter data')\n",
    "\n",
    "plt.xlabel('Head Size in cm3')\n",
    "plt.ylabel('Brain Weight in grams')\n",
    "plt.legend()\n",
    "plt.show()\n",
    "\n",
    "rmse = 0\n",
    "for i in range(n):\n",
    "    y_pred = c + m * X[i]\n",
    "    rmse += (Y[i] - y_pred) ** 2\n",
    "print(rmse)   \n",
    "rmse = np.sqrt(rmse/n)\n",
    "print(\"Root Mean Square Error is\",rmse)\n",
    "\n",
    "ss_tot = 0\n",
    "ss_res = 0\n",
    "for i in range(n):\n",
    "    y_pred = c + m * X[i]\n",
    "    ss_tot += (Y[i] - mean_y) ** 2\n",
    "    ss_res += (Y[i] - y_pred) ** 2\n",
    "r2 = 1 - (ss_res/ss_tot)\n",
    "print(\"R2 Score\",r2)"
   ]
  },
  {
   "cell_type": "code",
   "execution_count": null,
   "id": "a7158ac9",
   "metadata": {},
   "outputs": [],
   "source": []
  }
 ],
 "metadata": {
  "kernelspec": {
   "display_name": "Python 3",
   "language": "python",
   "name": "python3"
  },
  "language_info": {
   "codemirror_mode": {
    "name": "ipython",
    "version": 3
   },
   "file_extension": ".py",
   "mimetype": "text/x-python",
   "name": "python",
   "nbconvert_exporter": "python",
   "pygments_lexer": "ipython3",
   "version": "3.8.8"
  }
 },
 "nbformat": 4,
 "nbformat_minor": 5
}
