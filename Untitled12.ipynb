{
 "cells": [
  {
   "cell_type": "code",
   "execution_count": 1,
   "id": "ad12ca57",
   "metadata": {},
   "outputs": [
    {
     "name": "stdout",
     "output_type": "stream",
     "text": [
      "[0.15 0.2  0.25]\n",
      "Outputs after training\n",
      "[0.5621765  0.64565631 0.59868766 0.61063923]\n"
     ]
    }
   ],
   "source": [
    "import numpy as np\n",
    "def sigmoid(x):\n",
    "    return (1/(1+np.exp(-x)))\n",
    "trainX=np.array([[0,0,1],\n",
    "                [1,1,1],\n",
    "                [1,0,1],\n",
    "                 [0,1,1]])\n",
    "trainY=np.array([[0,1,1,0]]).T\n",
    "weights=np.array([0.15,0.20,0.25])\n",
    "print(weights)\n",
    "for i in range(1):\n",
    "    input_layer=trainX\n",
    "    output=sigmoid(np.dot(input_layer,weights))\n",
    "print(\"Outputs after training\")\n",
    "print(output)"
   ]
  },
  {
   "cell_type": "code",
   "execution_count": null,
   "id": "c20057f1",
   "metadata": {},
   "outputs": [],
   "source": [
    "# calculate mean squared error\n",
    "def mean_squared_error(actual, predicted):\n",
    "\tsum_square_error = 0.0\n",
    "\tfor i in range(len(actual)):\n",
    "\t\tsum_square_error += (actual[i] - predicted[i])**2.0\n",
    "\tmean_square_error = 1.0 / len(actual) * sum_square_error\n",
    "\treturn mean_square_error"
   ]
  }
 ],
 "metadata": {
  "kernelspec": {
   "display_name": "Python 3",
   "language": "python",
   "name": "python3"
  },
  "language_info": {
   "codemirror_mode": {
    "name": "ipython",
    "version": 3
   },
   "file_extension": ".py",
   "mimetype": "text/x-python",
   "name": "python",
   "nbconvert_exporter": "python",
   "pygments_lexer": "ipython3",
   "version": "3.8.8"
  }
 },
 "nbformat": 4,
 "nbformat_minor": 5
}
