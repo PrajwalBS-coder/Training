{
 "cells": [
  {
   "cell_type": "code",
   "execution_count": 1,
   "id": "e24a44ad",
   "metadata": {},
   "outputs": [
    {
     "name": "stdout",
     "output_type": "stream",
     "text": [
      "[1, 0, 1]\n",
      "[1 0 1]\n",
      "[3 1 1]\n",
      "[ 3 -1  1]\n",
      "[[ 2  4  4]\n",
      " [ 4 11  9]\n",
      " [ 4  9 11]]\n",
      "[[ 2  4  4]\n",
      " [ 4 11  9]\n",
      " [ 4  9 11]]\n",
      "[[ 36  88  88]\n",
      " [ 88 218 214]\n",
      " [ 88 214 218]]\n",
      "[[ 6.75    -1.375   -1.375  ]\n",
      " [-1.375    0.40625  0.15625]\n",
      " [-1.375    0.15625  0.40625]]\n",
      "[ 6 16 16]\n",
      "[-3.5   0.75  0.75]\n",
      "[ 1.  0. -2.]\n",
      "4\n"
     ]
    }
   ],
   "source": [
    "\n",
    "import numpy as np\n",
    "import pandas as pd\n",
    "\n",
    "s1=[1,0]\n",
    "s2=[3,1]\n",
    "s3=[3,-1]\n",
    "s1.append(1)\n",
    "s2.append(1)\n",
    "s3.append(1)\n",
    "print(s1)\n",
    "s1t=np.transpose(s1)\n",
    "s2t=np.transpose(s2)\n",
    "s3t=np.transpose(s3)\n",
    "print(s1t)\n",
    "print(s2t)\n",
    "print(s3t)\n",
    "s1ts1=np.dot(s1t,s1)           \n",
    "s1ts2=np.dot(s1t,s2)\n",
    "s1ts3=np.dot(s1t,s3)\n",
    "s2ts1=np.dot(s2t,s1)\n",
    "s2ts2=np.dot(s2t,s2)\n",
    "s2ts3=np.dot(s2t,s3)\n",
    "s3ts1=np.dot(s3t,s1)\n",
    "s3ts2=np.dot(s3t,s2)\n",
    "s3ts3=np.dot(s3t,s3)\n",
    "x=np.array([[s1ts1,s1ts2,s1ts3],[s2ts1,s2ts2,s2ts3],[s3ts1,s3ts2,s3ts3]])\n",
    "print(x)\n",
    "xt=np.transpose(x)\n",
    "print(xt)\n",
    "xtx=np.dot(xt,x)\n",
    "print(xtx)\n",
    "xtxi=np.linalg.inv(xtx)\n",
    "print(xtxi)\n",
    "y=np.array([-1,1,1])\n",
    "xty=np.dot(xt,y)\n",
    "print(xty)\n",
    "bhat=np.dot(xtxi,xty)\n",
    "print(bhat)\n",
    "w=np.array([])\n",
    "w=bhat[0]*s1t+bhat[1]*s2t+bhat[2]*s3t\n",
    "print(w)\n",
    "w=np.array([1,0])\n",
    "p=np.array([4,2])\n",
    "res=np.dot(w,p)\n",
    "print(res)\n",
    "                                                          \n",
    "\n"
   ]
  },
  {
   "cell_type": "code",
   "execution_count": null,
   "id": "cf92986a",
   "metadata": {},
   "outputs": [],
   "source": []
  }
 ],
 "metadata": {
  "kernelspec": {
   "display_name": "Python 3",
   "language": "python",
   "name": "python3"
  },
  "language_info": {
   "codemirror_mode": {
    "name": "ipython",
    "version": 3
   },
   "file_extension": ".py",
   "mimetype": "text/x-python",
   "name": "python",
   "nbconvert_exporter": "python",
   "pygments_lexer": "ipython3",
   "version": "3.8.8"
  }
 },
 "nbformat": 4,
 "nbformat_minor": 5
}
