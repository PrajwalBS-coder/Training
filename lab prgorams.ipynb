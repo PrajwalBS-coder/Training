{
 "cells": [
  {
   "cell_type": "code",
   "execution_count": 1,
   "id": "c216de57",
   "metadata": {},
   "outputs": [
    {
     "data": {
      "text/html": [
       "<div>\n",
       "<style scoped>\n",
       "    .dataframe tbody tr th:only-of-type {\n",
       "        vertical-align: middle;\n",
       "    }\n",
       "\n",
       "    .dataframe tbody tr th {\n",
       "        vertical-align: top;\n",
       "    }\n",
       "\n",
       "    .dataframe thead th {\n",
       "        text-align: right;\n",
       "    }\n",
       "</style>\n",
       "<table border=\"1\" class=\"dataframe\">\n",
       "  <thead>\n",
       "    <tr style=\"text-align: right;\">\n",
       "      <th></th>\n",
       "      <th>Outlook</th>\n",
       "      <th>Temperature</th>\n",
       "      <th>Humidity</th>\n",
       "      <th>Wind</th>\n",
       "      <th>Play</th>\n",
       "    </tr>\n",
       "  </thead>\n",
       "  <tbody>\n",
       "    <tr>\n",
       "      <th>0</th>\n",
       "      <td>sunny</td>\n",
       "      <td>hot</td>\n",
       "      <td>high</td>\n",
       "      <td>weak</td>\n",
       "      <td>no</td>\n",
       "    </tr>\n",
       "    <tr>\n",
       "      <th>1</th>\n",
       "      <td>sunny</td>\n",
       "      <td>hot</td>\n",
       "      <td>high</td>\n",
       "      <td>strong</td>\n",
       "      <td>no</td>\n",
       "    </tr>\n",
       "    <tr>\n",
       "      <th>2</th>\n",
       "      <td>overcast</td>\n",
       "      <td>hot</td>\n",
       "      <td>high</td>\n",
       "      <td>weak</td>\n",
       "      <td>yes</td>\n",
       "    </tr>\n",
       "    <tr>\n",
       "      <th>3</th>\n",
       "      <td>rain</td>\n",
       "      <td>mild</td>\n",
       "      <td>high</td>\n",
       "      <td>weak</td>\n",
       "      <td>yes</td>\n",
       "    </tr>\n",
       "    <tr>\n",
       "      <th>4</th>\n",
       "      <td>rain</td>\n",
       "      <td>cool</td>\n",
       "      <td>normal</td>\n",
       "      <td>weak</td>\n",
       "      <td>yes</td>\n",
       "    </tr>\n",
       "    <tr>\n",
       "      <th>5</th>\n",
       "      <td>rain</td>\n",
       "      <td>cool</td>\n",
       "      <td>normal</td>\n",
       "      <td>strong</td>\n",
       "      <td>no</td>\n",
       "    </tr>\n",
       "    <tr>\n",
       "      <th>6</th>\n",
       "      <td>overcast</td>\n",
       "      <td>cool</td>\n",
       "      <td>normal</td>\n",
       "      <td>strong</td>\n",
       "      <td>yes</td>\n",
       "    </tr>\n",
       "    <tr>\n",
       "      <th>7</th>\n",
       "      <td>sunny</td>\n",
       "      <td>mild</td>\n",
       "      <td>high</td>\n",
       "      <td>weak</td>\n",
       "      <td>no</td>\n",
       "    </tr>\n",
       "    <tr>\n",
       "      <th>8</th>\n",
       "      <td>sunny</td>\n",
       "      <td>cool</td>\n",
       "      <td>normal</td>\n",
       "      <td>weak</td>\n",
       "      <td>yes</td>\n",
       "    </tr>\n",
       "    <tr>\n",
       "      <th>9</th>\n",
       "      <td>rain</td>\n",
       "      <td>mild</td>\n",
       "      <td>normal</td>\n",
       "      <td>weak</td>\n",
       "      <td>yes</td>\n",
       "    </tr>\n",
       "    <tr>\n",
       "      <th>10</th>\n",
       "      <td>sunny</td>\n",
       "      <td>mild</td>\n",
       "      <td>normal</td>\n",
       "      <td>strong</td>\n",
       "      <td>yes</td>\n",
       "    </tr>\n",
       "    <tr>\n",
       "      <th>11</th>\n",
       "      <td>overcast</td>\n",
       "      <td>mild</td>\n",
       "      <td>high</td>\n",
       "      <td>strong</td>\n",
       "      <td>yes</td>\n",
       "    </tr>\n",
       "    <tr>\n",
       "      <th>12</th>\n",
       "      <td>overcast</td>\n",
       "      <td>hot</td>\n",
       "      <td>normal</td>\n",
       "      <td>weak</td>\n",
       "      <td>yes</td>\n",
       "    </tr>\n",
       "    <tr>\n",
       "      <th>13</th>\n",
       "      <td>rain</td>\n",
       "      <td>mild</td>\n",
       "      <td>high</td>\n",
       "      <td>strong</td>\n",
       "      <td>no</td>\n",
       "    </tr>\n",
       "  </tbody>\n",
       "</table>\n",
       "</div>"
      ],
      "text/plain": [
       "     Outlook Temperature Humidity    Wind Play\n",
       "0      sunny         hot     high    weak   no\n",
       "1      sunny         hot     high  strong   no\n",
       "2   overcast         hot     high    weak  yes\n",
       "3       rain        mild     high    weak  yes\n",
       "4       rain        cool   normal    weak  yes\n",
       "5       rain        cool   normal  strong   no\n",
       "6   overcast        cool   normal  strong  yes\n",
       "7      sunny        mild     high    weak   no\n",
       "8      sunny        cool   normal    weak  yes\n",
       "9       rain        mild   normal    weak  yes\n",
       "10     sunny        mild   normal  strong  yes\n",
       "11  overcast        mild     high  strong  yes\n",
       "12  overcast         hot   normal    weak  yes\n",
       "13      rain        mild     high  strong   no"
      ]
     },
     "execution_count": 1,
     "metadata": {},
     "output_type": "execute_result"
    }
   ],
   "source": [
    "import numpy as np\n",
    "import pandas as pd\n",
    "import math\n",
    "\n",
    "df = pd.read_csv(\"C:/Users/Prajwal Amin/Desktop/MCA/3RD SEM/AI & ML/LAB/temp.csv\")\n",
    "df"
   ]
  },
  {
   "cell_type": "code",
   "execution_count": 2,
   "id": "0a3e020b",
   "metadata": {},
   "outputs": [
    {
     "data": {
      "text/plain": [
       "array(['sunny', 'sunny', 'overcast', 'rain', 'rain', 'rain', 'overcast',\n",
       "       'sunny', 'sunny', 'rain', 'sunny', 'overcast', 'overcast', 'rain'],\n",
       "      dtype=object)"
      ]
     },
     "execution_count": 2,
     "metadata": {},
     "output_type": "execute_result"
    }
   ],
   "source": [
    "ol=df['Outlook'].values\n",
    "ol"
   ]
  },
  {
   "cell_type": "code",
   "execution_count": 3,
   "id": "ebbeb79d",
   "metadata": {},
   "outputs": [
    {
     "data": {
      "text/plain": [
       "array(['no', 'no', 'yes', 'yes', 'yes', 'no', 'yes', 'no', 'yes', 'yes',\n",
       "       'yes', 'yes', 'yes', 'no'], dtype=object)"
      ]
     },
     "execution_count": 3,
     "metadata": {},
     "output_type": "execute_result"
    }
   ],
   "source": [
    "pl=df['Play'].values\n",
    "pl"
   ]
  },
  {
   "cell_type": "code",
   "execution_count": 7,
   "id": "1cc8f54d",
   "metadata": {},
   "outputs": [
    {
     "name": "stdout",
     "output_type": "stream",
     "text": [
      "9 5\n"
     ]
    },
    {
     "data": {
      "text/plain": [
       "14"
      ]
     },
     "execution_count": 7,
     "metadata": {},
     "output_type": "execute_result"
    }
   ],
   "source": [
    "yc=0\n",
    "nc=0\n",
    "for i in pl:\n",
    "    if i==\"yes\":\n",
    "        yc+=1\n",
    "    else:\n",
    "        nc+=1\n",
    "       \n",
    "print(yc,nc)\n",
    "tc=yc+nc\n",
    "tc"
   ]
  },
  {
   "cell_type": "code",
   "execution_count": 9,
   "id": "17a921c7",
   "metadata": {},
   "outputs": [
    {
     "name": "stdout",
     "output_type": "stream",
     "text": [
      "5 5 4\n"
     ]
    }
   ],
   "source": [
    "sc=0\n",
    "rc=0\n",
    "oc=0\n",
    "for i in ol:\n",
    "    if i=='sunny':\n",
    "        sc+=1\n",
    "    elif i=='rain':\n",
    "        rc+=1\n",
    "    else:\n",
    "        oc+=1\n",
    "        \n",
    "print(sc,rc,oc)        "
   ]
  },
  {
   "cell_type": "code",
   "execution_count": 11,
   "id": "bb5da97a",
   "metadata": {},
   "outputs": [
    {
     "name": "stdout",
     "output_type": "stream",
     "text": [
      "2 3\n",
      "3 2\n",
      "4 0\n"
     ]
    }
   ],
   "source": [
    "ssc=0\n",
    "snc=0\n",
    "rsc=0\n",
    "rnc=0\n",
    "osc=0\n",
    "onc=0\n",
    "for i,j in zip(ol,pl):\n",
    "    if i=='sunny' and j=='yes':\n",
    "        ssc+=1\n",
    "    if i=='sunny' and j=='no':\n",
    "        snc+=1\n",
    "    if i=='rain' and j=='yes':\n",
    "        rsc+=1\n",
    "    if i=='rain' and j=='no':\n",
    "        rnc+=1\n",
    "    if i=='overcast' and j=='yes':\n",
    "        osc+=1\n",
    "    if i=='overcast' and j=='no':\n",
    "        onc+=1\n",
    "\n",
    "print(ssc,snc)\n",
    "print(rsc,rnc)   \n",
    "print(osc,onc)   "
   ]
  },
  {
   "cell_type": "code",
   "execution_count": 18,
   "id": "578d5d60",
   "metadata": {},
   "outputs": [],
   "source": [
    "en=-((yc/tc)*math.log2(yc/tc))-(((nc/tc)*math.log2(nc/tc)))"
   ]
  },
  {
   "cell_type": "code",
   "execution_count": 19,
   "id": "5ccb92e0",
   "metadata": {},
   "outputs": [
    {
     "name": "stdout",
     "output_type": "stream",
     "text": [
      "0.9402859586706311\n"
     ]
    }
   ],
   "source": [
    "print(en)"
   ]
  },
  {
   "cell_type": "code",
   "execution_count": 20,
   "id": "83090995",
   "metadata": {},
   "outputs": [
    {
     "data": {
      "text/plain": [
       "0.9709505944546686"
      ]
     },
     "execution_count": 20,
     "metadata": {},
     "output_type": "execute_result"
    }
   ],
   "source": [
    "sen=-((ssc/sc)*math.log2(ssc/sc))-((snc/sc)*math.log2(snc/sc))\n",
    "sen"
   ]
  },
  {
   "cell_type": "code",
   "execution_count": 23,
   "id": "5a29dc5a",
   "metadata": {},
   "outputs": [
    {
     "data": {
      "text/plain": [
       "0.9709505944546686"
      ]
     },
     "execution_count": 23,
     "metadata": {},
     "output_type": "execute_result"
    }
   ],
   "source": [
    "ren=-((rsc/rc)*math.log2(rsc/rc))-((rnc/rc)*math.log2(rnc/rc))\n",
    "ren"
   ]
  },
  {
   "cell_type": "code",
   "execution_count": 27,
   "id": "abac9b43",
   "metadata": {},
   "outputs": [
    {
     "name": "stdout",
     "output_type": "stream",
     "text": [
      "0\n"
     ]
    }
   ],
   "source": [
    "try:oen=-((osc/oc)*math.log2(osc/oc))-((onc/oc)*math.log2(onc/oc))\n",
    "except:oen=0\n",
    "print(oen)    "
   ]
  },
  {
   "cell_type": "code",
   "execution_count": 29,
   "id": "a4c28a86",
   "metadata": {},
   "outputs": [
    {
     "data": {
      "text/plain": [
       "0.24674981977443933"
      ]
     },
     "execution_count": 29,
     "metadata": {},
     "output_type": "execute_result"
    }
   ],
   "source": [
    "gen=en-(sc/tc)*sen-(rc/tc)*ren-(oc/tc)*oen\n",
    "gen"
   ]
  },
  {
   "cell_type": "code",
   "execution_count": null,
   "id": "15cd6cf1",
   "metadata": {},
   "outputs": [],
   "source": []
  }
 ],
 "metadata": {
  "kernelspec": {
   "display_name": "Python 3",
   "language": "python",
   "name": "python3"
  },
  "language_info": {
   "codemirror_mode": {
    "name": "ipython",
    "version": 3
   },
   "file_extension": ".py",
   "mimetype": "text/x-python",
   "name": "python",
   "nbconvert_exporter": "python",
   "pygments_lexer": "ipython3",
   "version": "3.8.8"
  }
 },
 "nbformat": 4,
 "nbformat_minor": 5
}
