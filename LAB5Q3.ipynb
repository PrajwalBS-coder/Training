{
 "cells": [
  {
   "cell_type": "code",
   "execution_count": 3,
   "id": "ed07f498",
   "metadata": {},
   "outputs": [
    {
     "name": "stdout",
     "output_type": "stream",
     "text": [
      "0.10145818551992836 -53.675710323968744\n",
      "[115.96237587 123.87611434 123.87611434 ...  35.60749293  47.7824752\n",
      "  88.3657494 ]\n"
     ]
    },
    {
     "data": {
      "image/png": "[encoded data removed]",
      "text/plain": [
       "<Figure size 432x288 with 1 Axes>"
      ]
     },
     "metadata": {
      "needs_background": "light"
     },
     "output_type": "display_data"
    },
    {
     "name": "stdout",
     "output_type": "stream",
     "text": [
      "Root Mean Square Error is 70.02176909392135\n",
      "R2 Score 0.6367323019884783\n"
     ]
    }
   ],
   "source": [
    "import numpy as np\n",
    "import pandas as pd\n",
    "import matplotlib.pyplot as plt\n",
    "\n",
    "#plt.rcParams['figure.figsize']=(20.0,10.0)\n",
    "\n",
    "# read data\n",
    "df=pd.read_csv('C:/Users/Prajwal Amin/Desktop/MCA/3RD SEM/AI & ML/LAB/hprice.csv')\n",
    "\n",
    "df.head()\n",
    "\n",
    "# Declare dependent variable(Y) and independent variable(X)\n",
    "X = df['total_sqft_int'].values\n",
    "Y = df['price'].values\n",
    "\n",
    "#Mean of X and Y\n",
    "mean_x=np.mean(X)\n",
    "mean_y=np.mean(Y)\n",
    "\n",
    "#Total Number of values\n",
    "n=len(X)\n",
    "\n",
    "#Using the formula to calculate m and c\n",
    "numer=0\n",
    "denom=0\n",
    "for i in range(n):\n",
    "    numer+=(X[i]-mean_x)*(Y[i]-mean_y)\n",
    "    denom+=(X[i]-mean_x)**2\n",
    "m=numer/denom\n",
    "c=mean_y-(m*mean_x)\n",
    "\n",
    "#print coeffecients\n",
    "print(m,c)\n",
    "\n",
    "# Plotting Values and Regression Line\n",
    "%matplotlib inline\n",
    "\n",
    "#plt.rcParams['figure.figsize'] = (10.0, 5.0)\n",
    "\n",
    "y = m * X + c\n",
    "print(y)\n",
    "\n",
    "# Ploting Line\n",
    "plt.plot(X, y, color='blue', label='Regression Line')\n",
    "# Ploting Scatter Points\n",
    "plt.scatter(X, Y, c='green', label='Scatter data')\n",
    "\n",
    "plt.xlabel('Total sqft')\n",
    "plt.ylabel('Price')\n",
    "plt.legend()\n",
    "plt.show()\n",
    "\n",
    "# Calculating Root Mean Squares Error\n",
    "rmse = 0\n",
    "for i in range(n):\n",
    "    y_pred = c + m * X[i]\n",
    "    rmse += (Y[i] - y_pred) ** 2\n",
    "    \n",
    "rmse = np.sqrt(rmse/n)\n",
    "print(\"Root Mean Square Error is\",rmse)\n",
    "\n",
    "# Calculating R2 Score\n",
    "ss_tot = 0\n",
    "ss_res = 0\n",
    "for i in range(n):\n",
    "    y_pred = c + m * X[i]\n",
    "    ss_tot += (Y[i] - mean_y) ** 2\n",
    "    ss_res += (Y[i] - y_pred) ** 2\n",
    "r2 = 1 - (ss_res/ss_tot)\n",
    "print(\"R2 Score\",r2)"
   ]
  },
  {
   "cell_type": "code",
   "execution_count": null,
   "id": "6f32df6d",
   "metadata": {},
   "outputs": [],
   "source": []
  }
 ],
 "metadata": {
  "kernelspec": {
   "display_name": "Python 3",
   "language": "python",
   "name": "python3"
  },
  "language_info": {
   "codemirror_mode": {
    "name": "ipython",
    "version": 3
   },
   "file_extension": ".py",
   "mimetype": "text/x-python",
   "name": "python",
   "nbconvert_exporter": "python",
   "pygments_lexer": "ipython3",
   "version": "3.8.8"
  }
 },
 "nbformat": 4,
 "nbformat_minor": 5
}
