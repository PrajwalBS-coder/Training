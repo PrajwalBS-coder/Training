{
 "cells": [
  {
   "cell_type": "code",
   "execution_count": 1,
   "id": "b4867439",
   "metadata": {},
   "outputs": [],
   "source": [
    "# import the necessary packages\n",
    "from skimage.segmentation import clear_border\n",
    "import pytesseract\n",
    "import numpy as np\n",
    "import imutils\n",
    "import cv2\n",
    "class PyImageSearchANPR:\n",
    "    def __init__(self, minAR=4, maxAR=5, debug=False):\n",
    "        self.minAR = minAR\n",
    "        self.maxAR = maxAR\n",
    "        self.debug = debug"
   ]
  },
  {
   "cell_type": "code",
   "execution_count": 2,
   "id": "e1018620",
   "metadata": {},
   "outputs": [],
   "source": [
    "def debug_imshow(self, title, image, waitKey=False):\n",
    "    if self.debug:\n",
    "        cv2.imshow(title, image)\n",
    "        if waitKey:\n",
    "            cv2.waitKey(0)"
   ]
  },
  {
   "cell_type": "code",
   "execution_count": 13,
   "id": "87cff376",
   "metadata": {},
   "outputs": [],
   "source": [
    "def locate_license_plate_candidates(self, gray, keep=5):\n",
    "    rectKern = cv2.getStructuringElement(cv2.MORPH_RECT, (13, 5))\n",
    "    blackhat = cv2.morphologyEx(gray, cv2.MORPH_BLACKHAT, rectKern)\n",
    "    self.debug_imshow(\"Blackhat\", blackhat)\n",
    "    squareKern = cv2.getStructuringElement(cv2.MORPH_RECT, (3, 3))\n",
    "    light = cv2.morphologyEx(gray, cv2.MORPH_CLOSE, squareKern)\n",
    "    light = cv2.threshold(light, 0, 255,cv2.THRESH_BINARY | cv2.THRESH_OTSU)[1]\n",
    "    self.debug_imshow(\"Light Regions\", light)\n",
    "    gradX = cv2.Sobel(blackhat, ddepth=cv2.CV_32F,dx=1, dy=0, ksize=-1)\n",
    "    gradX = np.absolute(gradX)\n",
    "    (minVal, maxVal) = (np.min(gradX), np.max(gradX))\n",
    "    gradX = 255 * ((gradX - minVal) / (maxVal - minVal))\n",
    "    gradX = gradX.astype(\"uint8\")\n",
    "    self.debug_imshow(\"Scharr\", gradX)\n",
    "    gradX = cv2.GaussianBlur(gradX, (5, 5), 0)\n",
    "    gradX = cv2.morphologyEx(gradX, cv2.MORPH_CLOSE, rectKern)\n",
    "    thresh = cv2.threshold(gradX, 0, 255,cv2.THRESH_BINARY | cv2.THRESH_OTSU)[1]\n",
    "    self.debug_imshow(\"Grad Thresh\", thresh)\n",
    "    thresh = cv2.erode(thresh, None, iterations=2)\n",
    "    thresh = cv2.dilate(thresh, None, iterations=2)\n",
    "    self.debug_imshow(\"Grad Erode/Dilate\", thresh)\n",
    "    thresh = cv2.bitwise_and(thresh, thresh, mask=light)\n",
    "    thresh = cv2.dilate(thresh, None, iterations=2)\n",
    "    thresh = cv2.erode(thresh, None, iterations=1)\n",
    "    self.debug_imshow(\"Final\", thresh, waitKey=True)\n",
    "    cnts = cv2.findContours(thresh.copy(), cv2.RETR_EXTERNAL,cv2.CHAIN_APPROX_SIMPLE)\n",
    "    cnts = imutils.grab_contours(cnts)\n",
    "    cnts = sorted(cnts, key=cv2.contourArea, reverse=True)[:keep]\n",
    "    return cnts"
   ]
  },
  {
   "cell_type": "code",
   "execution_count": 15,
   "id": "c6744607",
   "metadata": {},
   "outputs": [],
   "source": [
    "def locate_license_plate(self, gray, candidates,clearBorder=False):\n",
    "    lpCnt = None\n",
    "    roi = None\n",
    "    for c in candidates:\n",
    "        (x, y, w, h) = cv2.boundingRect(c)\n",
    "        ar = w / float(h)\n",
    "        if ar >= self.minAR and ar <= self.maxAR:\n",
    "            lpCnt = c\n",
    "            licensePlate = gray[y:y + h, x:x + w]\n",
    "            roi = cv2.threshold(licensePlate, 0, 255,cv2.THRESH_BINARY_INV | cv2.THRESH_OTSU)[1]\n",
    "            if clearBorder:\n",
    "                roi = clear_border(roi)\n",
    "                self.debug_imshow(\"License Plate\", licensePlate)\n",
    "                self.debug_imshow(\"ROI\", roi, waitKey=True)\n",
    "                break\n",
    "                return (roi, lpCnt)"
   ]
  },
  {
   "cell_type": "code",
   "execution_count": 16,
   "id": "8d7bae49",
   "metadata": {},
   "outputs": [],
   "source": [
    "def build_tesseract_options(self, psm=7):\n",
    "    alphanumeric = \"ABCDEFGHIJKLMNOPQRSTUVWXYZ0123456789\"\n",
    "    options = \"-c tessedit_char_whitelist={}\".format(alphanumeric)\n",
    "    options += \" --psm {}\".format(psm)\n",
    "    return options"
   ]
  },
  {
   "cell_type": "code",
   "execution_count": 18,
   "id": "7d3b722e",
   "metadata": {},
   "outputs": [],
   "source": [
    "def find_and_ocr(self, image, psm=7, clearBorder=False):\n",
    "    lpText = None\n",
    "    gray = cv2.cvtColor(image, cv2.COLOR_BGR2GRAY)\n",
    "    candidates = self.locate_license_plate_candidates(gray)\n",
    "    (lp, lpCnt) = self.locate_license_plate(gray, candidates,clearBorder=clearBorder)\n",
    "    if lp is not None:\n",
    "        options = self.build_tesseract_options(psm=psm)\n",
    "        lpText = pytesseract.image_to_string(lp, config=options)\n",
    "        self.debug_imshow(\"License Plate\", lp)\n",
    "        return (lpText, lpCnt)"
   ]
  },
  {
   "cell_type": "code",
   "execution_count": 21,
   "id": "1d535217",
   "metadata": {},
   "outputs": [
    {
     "ename": "ModuleNotFoundError",
     "evalue": "No module named 'pyimagesearch'",
     "output_type": "error",
     "traceback": [
      "\u001b[1;31m---------------------------------------------------------------------------\u001b[0m",
      "\u001b[1;31mModuleNotFoundError\u001b[0m                       Traceback (most recent call last)",
      "\u001b[1;32m<ipython-input-21-689c33dbe2e9>\u001b[0m in \u001b[0;36m<module>\u001b[1;34m\u001b[0m\n\u001b[1;32m----> 1\u001b[1;33m \u001b[1;32mfrom\u001b[0m \u001b[0mpyimagesearch\u001b[0m\u001b[1;33m.\u001b[0m\u001b[0manpr\u001b[0m \u001b[1;32mimport\u001b[0m \u001b[0mPyImageSearchANPR\u001b[0m\u001b[1;33m\u001b[0m\u001b[1;33m\u001b[0m\u001b[0m\n\u001b[0m\u001b[0;32m      2\u001b[0m \u001b[1;32mfrom\u001b[0m \u001b[0mimutils\u001b[0m \u001b[1;32mimport\u001b[0m \u001b[0mpaths\u001b[0m\u001b[1;33m\u001b[0m\u001b[1;33m\u001b[0m\u001b[0m\n\u001b[0;32m      3\u001b[0m \u001b[1;32mimport\u001b[0m \u001b[0margparse\u001b[0m\u001b[1;33m\u001b[0m\u001b[1;33m\u001b[0m\u001b[0m\n\u001b[0;32m      4\u001b[0m \u001b[1;32mimport\u001b[0m \u001b[0mimutils\u001b[0m\u001b[1;33m\u001b[0m\u001b[1;33m\u001b[0m\u001b[0m\n\u001b[0;32m      5\u001b[0m \u001b[1;32mimport\u001b[0m \u001b[0mcv2\u001b[0m\u001b[1;33m\u001b[0m\u001b[1;33m\u001b[0m\u001b[0m\n",
      "\u001b[1;31mModuleNotFoundError\u001b[0m: No module named 'pyimagesearch'"
     ]
    }
   ],
   "source": [
    "from pyimagesearch.anpr import PyImageSearchANPR\n",
    "from imutils import paths\n",
    "import argparse\n",
    "import imutils\n",
    "import cv2"
   ]
  }
 ],
 "metadata": {
  "kernelspec": {
   "display_name": "Python 3",
   "language": "python",
   "name": "python3"
  },
  "language_info": {
   "codemirror_mode": {
    "name": "ipython",
    "version": 3
   },
   "file_extension": ".py",
   "mimetype": "text/x-python",
   "name": "python",
   "nbconvert_exporter": "python",
   "pygments_lexer": "ipython3",
   "version": "3.8.8"
  }
 },
 "nbformat": 4,
 "nbformat_minor": 5
}
