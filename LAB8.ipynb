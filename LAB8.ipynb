{
 "cells": [
  {
   "cell_type": "code",
   "execution_count": 2,
   "id": "d2765599",
   "metadata": {},
   "outputs": [
    {
     "name": "stdout",
     "output_type": "stream",
     "text": [
      "out_array :  0.02922256565895487\n"
     ]
    }
   ],
   "source": [
    "import numpy as np\n",
    "import pandas as pd\n",
    "import math\n",
    "\n",
    "\n",
    "data = pd.read_csv(\"C:/Users/Prajwal Amin/Desktop/MCA/3RD SEM/AI & ML/LAB/temp.csv\")\n",
    " \n",
    "# converting column data to list\n",
    "outlook = data['outlook'].tolist()\n",
    "temp = data['temp'].tolist()\n",
    "humidity = data['humidity'].tolist()\n",
    "humidity = data['humidity'].tolist()\n",
    "windy = data['windy'].tolist()\n",
    "play = data['play'].tolist()\n",
    "agee = [1]*len(outlook)\n",
    "temp1 = np.array(temp)\n",
    "temp2 = np.array(play)\n",
    "\n",
    "totrowcount = len(outlook)\n",
    "\n",
    "ycount = 0\n",
    "ncount = 0\n",
    "\n",
    "for i in play:\n",
    "    if i == \"yes\":\n",
    "        ycount+= 1\n",
    "    else:\n",
    "        ncount+= 1 \n",
    "totalcount = ycount+ncount\n",
    "\n",
    "entropys = -((ycount/totalcount)*math.log2(ycount/totalcount))-((ncount/totalcount)*math.log2(ncount/totalcount))\n",
    "hcount=0\n",
    "coolcount = 0\n",
    "mildcount=0\n",
    "for i in temp:\n",
    "    if i==\"Hot\":\n",
    "        hcount+= 1\n",
    "    elif i==\"Cool\":\n",
    "        coolcount+= 1\n",
    "    else:\n",
    "        mildcount+= 1\n",
    "tempval = [\"Hot\",\"Cool\",\"Mild\"]\n",
    "hscount = 0\n",
    "hncount = 0\n",
    "cscount = 0\n",
    "cncount = 0\n",
    "mscount = 0\n",
    "mncount = 0\n",
    "for i, j in zip(temp, play):\n",
    "    if i == \"hot\" and j == \"yes\":\n",
    "        hscount+= 1\n",
    "    elif i == \"hot\" and j == \"no\":\n",
    "        hncount+= 1\n",
    "    elif i == \"cool\" and j == \"yes\":\n",
    "        cscount+= 1\n",
    "    elif i == \"cool\" and j == \"no\":\n",
    "        cncount+= 1\n",
    "    elif i == \"mild\" and j == \"yes\":\n",
    "        mscount+= 1\n",
    "    else:\n",
    "        mncount+= 1\n",
    "tothotcount = hscount+hncount\n",
    "totcoolcount = cscount+cncount\n",
    "totmildcount = mscount+mncount\n",
    "\n",
    "hotentropy = -((hscount/tothotcount)*math.log2(hscount/tothotcount))-((hncount/tothotcount)*math.log2(hncount/tothotcount))\n",
    "coolentropy = -((cscount/totcoolcount)*math.log2(cscount/totcoolcount))-((cncount/totcoolcount)*math.log2(cncount/totcoolcount))    \n",
    "milentropy = -((mscount/totmildcount)*math.log2(mscount/totmildcount))-((mncount/totmildcount)*math.log2(mncount/totmildcount))   \n",
    "gaintemp = entropys- (tothotcount/totrowcount)*hotentropy - (totcoolcount/totrowcount)*coolentropy - (totmildcount/totrowcount)*milentropy \n",
    "\n",
    "print (\"out_array : \", gaintemp)"
   ]
  },
  {
   "cell_type": "code",
   "execution_count": null,
   "id": "b1746256",
   "metadata": {},
   "outputs": [],
   "source": []
  }
 ],
 "metadata": {
  "kernelspec": {
   "display_name": "Python 3",
   "language": "python",
   "name": "python3"
  },
  "language_info": {
   "codemirror_mode": {
    "name": "ipython",
    "version": 3
   },
   "file_extension": ".py",
   "mimetype": "text/x-python",
   "name": "python",
   "nbconvert_exporter": "python",
   "pygments_lexer": "ipython3",
   "version": "3.8.8"
  }
 },
 "nbformat": 4,
 "nbformat_minor": 5
}
