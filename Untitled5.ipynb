{
 "cells": [
  {
   "cell_type": "code",
   "execution_count": 5,
   "id": "deb09dbd",
   "metadata": {},
   "outputs": [
    {
     "name": "stdout",
     "output_type": "stream",
     "text": [
      "[0.]\n",
      "[0.]\n",
      "data2.jpg is more similar to test.jpg as compare to data1.jpg\n",
      "data2.jpg data1  is more similar to test.jpg as \n"
     ]
    }
   ],
   "source": [
    "import cv2\n",
    "\n",
    "\t\n",
    "# test image\n",
    "image = cv2.imread('C:/Users/Prajwal Amin/Desktop/MCA/3RD SEM/AI & ML/project/cat.jpg')\n",
    "gray_image = cv2.cvtColor(image, cv2.COLOR_BGR2GRAY)\n",
    "histogram = cv2.calcHist([gray_image], [0],\n",
    "\t\t\t\t\t\tNone, [256], [0, 256])\n",
    "\n",
    "# data1 image\n",
    "image = cv2.imread('C:/Users/Prajwal Amin/Desktop/MCA/3RD SEM/AI & ML/project/cat.jpg')\n",
    "gray_image1 = cv2.cvtColor(image, cv2.COLOR_BGR2GRAY)\n",
    "histogram1 = cv2.calcHist([gray_image1], [0],\n",
    "\t\t\t\t\t\tNone, [256], [0, 256])\n",
    "\n",
    "# data2 image\n",
    "image = cv2.imread('C:/Users/Prajwal Amin/Desktop/MCA/3RD SEM/AI & ML/project/cat.jpg')\n",
    "gray_image2 = cv2.cvtColor(image, cv2.COLOR_BGR2GRAY)\n",
    "histogram2 = cv2.calcHist([gray_image2], [0],\n",
    "\t\t\t\t\t\tNone, [256], [0, 256])\n",
    "\n",
    "\n",
    "c1, c2 = 0, 0\n",
    "\n",
    "# Euclidean Distance between data1 and test\n",
    "i = 0\n",
    "while i<len(histogram) and i<len(histogram1):\n",
    "\tc1+=(histogram[i]-histogram1[i])**2\n",
    "\ti+= 1\n",
    "c1 = c1**(1 / 2)\n",
    "\n",
    "\n",
    "# Euclidean Distance between data2 and test\n",
    "i = 0\n",
    "while i<len(histogram) and i<len(histogram2):\n",
    "\tc2+=(histogram[i]-histogram2[i])**2\n",
    "\ti+= 1\n",
    "c2 = c2**(1 / 2)\n",
    "print(c1)\n",
    "print(c2)\n",
    "if(c1<c2):\n",
    "\tprint(\"data1.jpg is more similar to test.jpg as compare to data2.jpg\")\n",
    "else:\n",
    "\tprint(\"data2.jpg is more similar to test.jpg as compare to data1.jpg\")\n",
    "\n",
    "    \n",
    "if(c1==c2):\n",
    "    print(\"data2.jpg data1  is more similar to test.jpg as \")"
   ]
  },
  {
   "cell_type": "code",
   "execution_count": null,
   "id": "2b180e07",
   "metadata": {},
   "outputs": [],
   "source": []
  }
 ],
 "metadata": {
  "kernelspec": {
   "display_name": "Python 3",
   "language": "python",
   "name": "python3"
  },
  "language_info": {
   "codemirror_mode": {
    "name": "ipython",
    "version": 3
   },
   "file_extension": ".py",
   "mimetype": "text/x-python",
   "name": "python",
   "nbconvert_exporter": "python",
   "pygments_lexer": "ipython3",
   "version": "3.8.8"
  }
 },
 "nbformat": 4,
 "nbformat_minor": 5
}
